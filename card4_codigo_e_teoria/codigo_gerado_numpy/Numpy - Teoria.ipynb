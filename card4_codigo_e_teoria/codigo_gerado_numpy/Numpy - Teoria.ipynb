{
 "cells": [
  {
   "cell_type": "markdown",
   "id": "0d732ff8-8bcc-4c0d-bd85-be936d5e7f4d",
   "metadata": {},
   "source": [
    "# AULA 21"
   ]
  },
  {
   "cell_type": "markdown",
   "id": "0e5a192a-aa97-4384-a0ae-b06eedccfce3",
   "metadata": {},
   "source": [
    "## Criação de arrays"
   ]
  },
  {
   "cell_type": "code",
   "execution_count": 2,
   "id": "e4cb51de-b6cc-4426-99a5-cf413f8c8306",
   "metadata": {},
   "outputs": [],
   "source": [
    "import numpy as np"
   ]
  },
  {
   "cell_type": "code",
   "execution_count": 2,
   "id": "2deba553-df94-4d73-a9f1-26021fa78b03",
   "metadata": {},
   "outputs": [],
   "source": [
    "lista0 = [1,2,3]"
   ]
  },
  {
   "cell_type": "code",
   "execution_count": 27,
   "id": "8309889f-4b40-40bd-b467-9834779c8f3b",
   "metadata": {},
   "outputs": [],
   "source": [
    "vetor0 = np.array(lista0) #transforma a lista0 em vetor (array 1-d) e põe na variável vetor0"
   ]
  },
  {
   "cell_type": "code",
   "execution_count": 26,
   "id": "4f8621f3-b1ac-4514-ab1f-741b9037da3e",
   "metadata": {},
   "outputs": [
    {
     "data": {
      "text/plain": [
       "array([1, 2, 3])"
      ]
     },
     "execution_count": 26,
     "metadata": {},
     "output_type": "execute_result"
    }
   ],
   "source": [
    "vetor0"
   ]
  },
  {
   "cell_type": "code",
   "execution_count": 16,
   "id": "bb71b942-d5dc-4b16-a8fb-e596033145eb",
   "metadata": {},
   "outputs": [],
   "source": [
    "lst_de_lst0 = [[1,2,3],[4,5,6],[7,8,9]] #cria uma lista de listas (matriz 2-d)"
   ]
  },
  {
   "cell_type": "code",
   "execution_count": 17,
   "id": "4b9e6c5a-c7c2-40d4-b3a8-8fd92e4d8677",
   "metadata": {},
   "outputs": [],
   "source": [
    "matriz0 = np.array(lst_de_lst0) #cria uma matriz de Numpy a partir da lista de listas"
   ]
  },
  {
   "cell_type": "code",
   "execution_count": 18,
   "id": "860f745e-68d5-4547-83d3-297afa7c1d55",
   "metadata": {},
   "outputs": [
    {
     "data": {
      "text/plain": [
       "array([[1, 2, 3],\n",
       "       [4, 5, 6],\n",
       "       [7, 8, 9]])"
      ]
     },
     "execution_count": 18,
     "metadata": {},
     "output_type": "execute_result"
    }
   ],
   "source": [
    "matriz0"
   ]
  },
  {
   "cell_type": "code",
   "execution_count": 63,
   "id": "8b9fdea5-c5a6-4bce-9a2a-b31cc917c873",
   "metadata": {},
   "outputs": [],
   "source": [
    "vetor1 = np.arange(0, 10, 2.5) #função arange cria um vetor a partir de parâmetros de range"
   ]
  },
  {
   "cell_type": "code",
   "execution_count": 29,
   "id": "c66ac7f0-1cf7-4ab6-950c-ed9be1e69db9",
   "metadata": {},
   "outputs": [
    {
     "data": {
      "text/plain": [
       "array([0. , 2.5, 5. , 7.5])"
      ]
     },
     "execution_count": 29,
     "metadata": {},
     "output_type": "execute_result"
    }
   ],
   "source": [
    "vetor1"
   ]
  },
  {
   "cell_type": "code",
   "execution_count": 30,
   "id": "70d30379-7e09-4576-b4c4-709d46b70e39",
   "metadata": {},
   "outputs": [],
   "source": [
    "vetor2 = np.zeros(5) #cria um vetor com 5 elementos zerados"
   ]
  },
  {
   "cell_type": "code",
   "execution_count": 31,
   "id": "751f0733-7d9c-4f51-a5ea-d1b41ece40b2",
   "metadata": {},
   "outputs": [
    {
     "data": {
      "text/plain": [
       "array([0., 0., 0., 0., 0.])"
      ]
     },
     "execution_count": 31,
     "metadata": {},
     "output_type": "execute_result"
    }
   ],
   "source": [
    "vetor2"
   ]
  },
  {
   "cell_type": "code",
   "execution_count": 19,
   "id": "6b85d2db-befa-41d6-b443-5741323b6292",
   "metadata": {},
   "outputs": [],
   "source": [
    "matriz1 = np.zeros((3,3)) #cria uma matriz 3x3 com elementos nulos"
   ]
  },
  {
   "cell_type": "code",
   "execution_count": 20,
   "id": "a7557ace-8129-457c-bc3b-07fb6f63f3f6",
   "metadata": {},
   "outputs": [
    {
     "data": {
      "text/plain": [
       "array([[0., 0., 0.],\n",
       "       [0., 0., 0.],\n",
       "       [0., 0., 0.]])"
      ]
     },
     "execution_count": 20,
     "metadata": {},
     "output_type": "execute_result"
    }
   ],
   "source": [
    "matriz1"
   ]
  },
  {
   "cell_type": "code",
   "execution_count": 21,
   "id": "1e1fb3c6-8dc9-4a75-b35c-94ec5a2a9350",
   "metadata": {},
   "outputs": [],
   "source": [
    "matriz2 = np.ones((4,4)) #cria uma matriz 4x4 com elementos unitários"
   ]
  },
  {
   "cell_type": "code",
   "execution_count": 22,
   "id": "714bcee1-806f-4aa3-8519-42ec00d3617a",
   "metadata": {},
   "outputs": [
    {
     "data": {
      "text/plain": [
       "array([[1., 1., 1., 1.],\n",
       "       [1., 1., 1., 1.],\n",
       "       [1., 1., 1., 1.],\n",
       "       [1., 1., 1., 1.]])"
      ]
     },
     "execution_count": 22,
     "metadata": {},
     "output_type": "execute_result"
    }
   ],
   "source": [
    "matriz2"
   ]
  },
  {
   "cell_type": "code",
   "execution_count": 23,
   "id": "d658d164-dee3-47c6-a068-7725c884c4a5",
   "metadata": {},
   "outputs": [],
   "source": [
    "matriz3 = np.eye(5) #cria uma matriz identidade 5x5"
   ]
  },
  {
   "cell_type": "code",
   "execution_count": 24,
   "id": "25ee3a3c-e4f2-4cfd-b169-21de1323d148",
   "metadata": {},
   "outputs": [
    {
     "data": {
      "text/plain": [
       "array([[1., 0., 0., 0., 0.],\n",
       "       [0., 1., 0., 0., 0.],\n",
       "       [0., 0., 1., 0., 0.],\n",
       "       [0., 0., 0., 1., 0.],\n",
       "       [0., 0., 0., 0., 1.]])"
      ]
     },
     "execution_count": 24,
     "metadata": {},
     "output_type": "execute_result"
    }
   ],
   "source": [
    "matriz3"
   ]
  },
  {
   "cell_type": "code",
   "execution_count": 48,
   "id": "a2d965e9-7405-47a3-992c-295a14849502",
   "metadata": {},
   "outputs": [],
   "source": [
    "vetor3 = np.linspace(0, 10, 3) #cria um vetor com 3 numeros de 0 a 10 igualmente espaçados (dist uniforme)"
   ]
  },
  {
   "cell_type": "code",
   "execution_count": 33,
   "id": "8b730c33-a110-4fbd-ba8a-d3df09a0e9f1",
   "metadata": {},
   "outputs": [
    {
     "data": {
      "text/plain": [
       "array([ 0.,  5., 10.])"
      ]
     },
     "execution_count": 33,
     "metadata": {},
     "output_type": "execute_result"
    }
   ],
   "source": [
    "vetor3"
   ]
  },
  {
   "cell_type": "code",
   "execution_count": 71,
   "id": "df5144f8-70d0-42a6-ae1b-13d1e491355d",
   "metadata": {},
   "outputs": [],
   "source": [
    "vetor4 = np.random.rand(4) #função rand da sub biblioteca random cria vetor com 4 floats aleatórios entre 0 e 1"
   ]
  },
  {
   "cell_type": "code",
   "execution_count": 42,
   "id": "38834064-c808-429d-b778-91e1b6fc2966",
   "metadata": {},
   "outputs": [
    {
     "data": {
      "text/plain": [
       "array([0.23343104, 0.50538296, 0.87791251, 0.68936542])"
      ]
     },
     "execution_count": 42,
     "metadata": {},
     "output_type": "execute_result"
    }
   ],
   "source": [
    "vetor4"
   ]
  },
  {
   "cell_type": "code",
   "execution_count": 43,
   "id": "386e2fca-7ca9-4eed-8a11-f688d98caa79",
   "metadata": {},
   "outputs": [],
   "source": [
    "matriz4 = np.random.rand(3,6) #aqui, rand foi usado para criar uma matriz 3x6 com floats aleatórios entre 0 e 1"
   ]
  },
  {
   "cell_type": "code",
   "execution_count": 44,
   "id": "b39a247c-7462-4f34-a2c6-6b11c60b3a4d",
   "metadata": {},
   "outputs": [
    {
     "data": {
      "text/plain": [
       "array([[0.46737717, 0.6714632 , 0.2494883 , 0.36224233, 0.23568814,\n",
       "        0.03483292],\n",
       "       [0.92468593, 0.346204  , 0.06399789, 0.91623935, 0.54235248,\n",
       "        0.55844617],\n",
       "       [0.04417353, 0.41885957, 0.58079249, 0.35632324, 0.73829439,\n",
       "        0.97669907]])"
      ]
     },
     "execution_count": 44,
     "metadata": {},
     "output_type": "execute_result"
    }
   ],
   "source": [
    "matriz4"
   ]
  },
  {
   "cell_type": "code",
   "execution_count": 47,
   "id": "da6c7eeb-cd70-43a1-8f51-fec3e470ca09",
   "metadata": {},
   "outputs": [],
   "source": [
    "vetor5 = np.random.rand(9) * 100 #cria vetor com 9 floats de 0 a 100"
   ]
  },
  {
   "cell_type": "code",
   "execution_count": 46,
   "id": "461b6a87-ad32-4522-9d66-07a3f91e9c2f",
   "metadata": {},
   "outputs": [
    {
     "data": {
      "text/plain": [
       "array([60.13750526, 92.46749307, 23.33264955, 73.89408899, 92.01898325,\n",
       "        9.97230358, 10.0993406 , 11.95305508, 20.33322773])"
      ]
     },
     "execution_count": 46,
     "metadata": {},
     "output_type": "execute_result"
    }
   ],
   "source": [
    "vetor5"
   ]
  },
  {
   "cell_type": "code",
   "execution_count": 62,
   "id": "c4def4d5-2b3d-4614-b48b-adddc661b628",
   "metadata": {},
   "outputs": [],
   "source": [
    "vetor6 = np.random.randn(4) #função que cria um vetor com 4 floats de 0 a 1 com média 0 e desvio padrão 1 (dist gaussiana)"
   ]
  },
  {
   "cell_type": "code",
   "execution_count": 50,
   "id": "1dcbbbf1-4df7-483c-b853-6a5ce3562d20",
   "metadata": {},
   "outputs": [
    {
     "data": {
      "text/plain": [
       "array([ 0.0425265 , -1.06400799, -0.07108308,  0.98680721])"
      ]
     },
     "execution_count": 50,
     "metadata": {},
     "output_type": "execute_result"
    }
   ],
   "source": [
    "vetor6"
   ]
  },
  {
   "cell_type": "code",
   "execution_count": 51,
   "id": "421586e4-ef5c-4250-8fc0-e4e2aa68d896",
   "metadata": {},
   "outputs": [],
   "source": [
    "matriz5 = np.random.randn(3,4) #cria matriz 3x4 com floats de 0 a 1 com dist gaussiana"
   ]
  },
  {
   "cell_type": "code",
   "execution_count": 52,
   "id": "d2e58379-97b2-4aa2-b625-8e81b7e11800",
   "metadata": {},
   "outputs": [
    {
     "data": {
      "text/plain": [
       "array([[-1.15050254,  0.27367573, -0.67338791, -1.41469515],\n",
       "       [-1.62729428, -0.09508694, -0.18763319,  0.10509135],\n",
       "       [ 1.64466061, -1.19811276, -0.61065314,  0.84740673]])"
      ]
     },
     "execution_count": 52,
     "metadata": {},
     "output_type": "execute_result"
    }
   ],
   "source": [
    "matriz5"
   ]
  },
  {
   "cell_type": "code",
   "execution_count": 61,
   "id": "39f706e6-3440-48d7-aae7-dbf66f782852",
   "metadata": {},
   "outputs": [],
   "source": [
    "vetor7 = np.random.randint(2, 89, 21) #função cria um vetor com 21 inteiros aleatórios entre 2 e 89"
   ]
  },
  {
   "cell_type": "code",
   "execution_count": 56,
   "id": "8a30b274-9bc1-495f-941c-422df045bee4",
   "metadata": {},
   "outputs": [
    {
     "data": {
      "text/plain": [
       "array([80, 81, 28, 61, 81, 81, 83, 15, 56,  8, 57, 29, 44, 38, 19, 72, 45,\n",
       "       43,  8, 84, 37])"
      ]
     },
     "execution_count": 56,
     "metadata": {},
     "output_type": "execute_result"
    }
   ],
   "source": [
    "vetor7"
   ]
  },
  {
   "cell_type": "code",
   "execution_count": 59,
   "id": "57a6dca6-eba8-4747-9707-af798c58e2c0",
   "metadata": {},
   "outputs": [],
   "source": [
    "vetor8 = np.round(np.random.rand(8)*100, 0) #arredonda os resultados da rand para 0 casas decimais"
   ]
  },
  {
   "cell_type": "code",
   "execution_count": 60,
   "id": "81a1db80-d13f-4dd5-991e-511a0a8cea99",
   "metadata": {},
   "outputs": [
    {
     "data": {
      "text/plain": [
       "array([55., 26., 52., 63., 79., 19., 18.,  5.])"
      ]
     },
     "execution_count": 60,
     "metadata": {},
     "output_type": "execute_result"
    }
   ],
   "source": [
    "vetor8"
   ]
  },
  {
   "cell_type": "markdown",
   "id": "ebec2392-4fa4-4f66-831d-50decaf6a453",
   "metadata": {},
   "source": [
    "#### Modificando dimensões de arrays"
   ]
  },
  {
   "cell_type": "code",
   "execution_count": 64,
   "id": "ff37b8fe-855b-4efd-9d90-9ff4ad23cbb0",
   "metadata": {},
   "outputs": [],
   "source": [
    "vetor8 = vetor8.reshape(2,4) #método que altera as dimensões de um array"
   ]
  },
  {
   "cell_type": "code",
   "execution_count": 65,
   "id": "cf837a78-8697-497e-9955-a28f2c87eaa4",
   "metadata": {},
   "outputs": [
    {
     "data": {
      "text/plain": [
       "array([[55., 26., 52., 63.],\n",
       "       [79., 19., 18.,  5.]])"
      ]
     },
     "execution_count": 65,
     "metadata": {},
     "output_type": "execute_result"
    }
   ],
   "source": [
    "vetor8"
   ]
  },
  {
   "cell_type": "code",
   "execution_count": 66,
   "id": "a4e1be04-dd2b-44ff-8e71-d13c317122d9",
   "metadata": {},
   "outputs": [
    {
     "data": {
      "text/plain": [
       "(2, 4)"
      ]
     },
     "execution_count": 66,
     "metadata": {},
     "output_type": "execute_result"
    }
   ],
   "source": [
    "vetor8.shape #atributo que contém a dimensão do array para consulta"
   ]
  },
  {
   "cell_type": "markdown",
   "id": "0b387fe7-1456-40e1-b3bc-17e2661837fe",
   "metadata": {},
   "source": [
    "#### Máximos e mínimos"
   ]
  },
  {
   "cell_type": "code",
   "execution_count": 67,
   "id": "b9023aac-9202-4174-830c-91955f1efbbd",
   "metadata": {},
   "outputs": [
    {
     "data": {
      "text/plain": [
       "79.0"
      ]
     },
     "execution_count": 67,
     "metadata": {},
     "output_type": "execute_result"
    }
   ],
   "source": [
    "vetor8.max() #método que retorna o maior valor contido no array"
   ]
  },
  {
   "cell_type": "code",
   "execution_count": 68,
   "id": "dff4378f-a9f7-4dd2-b99c-6aca8d18af5d",
   "metadata": {},
   "outputs": [
    {
     "data": {
      "text/plain": [
       "5.0"
      ]
     },
     "execution_count": 68,
     "metadata": {},
     "output_type": "execute_result"
    }
   ],
   "source": [
    "vetor8.min() #método que retorna o menor valor contido no array"
   ]
  },
  {
   "cell_type": "code",
   "execution_count": 69,
   "id": "270350c6-8c64-40b8-b6b5-f6e04f25bbff",
   "metadata": {},
   "outputs": [
    {
     "data": {
      "text/plain": [
       "4"
      ]
     },
     "execution_count": 69,
     "metadata": {},
     "output_type": "execute_result"
    }
   ],
   "source": [
    "vetor8.argmax() #método que retorna o índice do maior elemento do array"
   ]
  },
  {
   "cell_type": "code",
   "execution_count": 73,
   "id": "6babda5b-e101-45e4-8855-f1935d63d40f",
   "metadata": {},
   "outputs": [
    {
     "data": {
      "text/plain": [
       "7"
      ]
     },
     "execution_count": 73,
     "metadata": {},
     "output_type": "execute_result"
    }
   ],
   "source": [
    "vetor8.argmin() #método que retorna o índice do menor elemetno do array"
   ]
  },
  {
   "cell_type": "markdown",
   "id": "558e46b9-3e73-48cb-8f37-5d591fa78704",
   "metadata": {},
   "source": [
    "# AULA 22"
   ]
  },
  {
   "cell_type": "markdown",
   "id": "b8a6406a-3fc1-4de5-84a1-7854bb46dcae",
   "metadata": {},
   "source": [
    "## Obtendo e manipulando slices de arrays"
   ]
  },
  {
   "cell_type": "markdown",
   "id": "27e9b483-b636-4773-a1b0-26e335f96365",
   "metadata": {},
   "source": [
    "### Vetores"
   ]
  },
  {
   "cell_type": "code",
   "execution_count": 74,
   "id": "391f9712-b58b-476c-bc1f-23ba6a293616",
   "metadata": {},
   "outputs": [],
   "source": [
    "vetor0 = np.arange(0, 50, 3)"
   ]
  },
  {
   "cell_type": "code",
   "execution_count": 75,
   "id": "96a57eeb-dcbf-4000-b7e7-05349df1a804",
   "metadata": {},
   "outputs": [
    {
     "data": {
      "text/plain": [
       "array([ 0,  3,  6,  9, 12, 15, 18, 21, 24, 27, 30, 33, 36, 39, 42, 45, 48])"
      ]
     },
     "execution_count": 75,
     "metadata": {},
     "output_type": "execute_result"
    }
   ],
   "source": [
    "vetor0"
   ]
  },
  {
   "cell_type": "code",
   "execution_count": 76,
   "id": "3696c316-ca96-4210-aa39-9acd7528317f",
   "metadata": {},
   "outputs": [
    {
     "data": {
      "text/plain": [
       "array([12, 15, 18, 21, 24])"
      ]
     },
     "execution_count": 76,
     "metadata": {},
     "output_type": "execute_result"
    }
   ],
   "source": [
    "vetor0[4:9] #retorna um subarray com os elementos e índice 4 até 9 (sem incluir o de 9)"
   ]
  },
  {
   "cell_type": "code",
   "execution_count": 77,
   "id": "19852fe9-08cf-433f-bdb8-bcd945da2e5e",
   "metadata": {},
   "outputs": [
    {
     "data": {
      "text/plain": [
       "array([0, 3, 6, 9])"
      ]
     },
     "execution_count": 77,
     "metadata": {},
     "output_type": "execute_result"
    }
   ],
   "source": [
    "vetor0[:4] #se o limite inferior é deixado vazio, o interpretador começa no 0"
   ]
  },
  {
   "cell_type": "code",
   "execution_count": 78,
   "id": "75cd9a4a-0892-4b29-bba6-9b5627e1cfbf",
   "metadata": {},
   "outputs": [
    {
     "data": {
      "text/plain": [
       "array([18, 21, 24, 27, 30, 33, 36, 39, 42, 45, 48])"
      ]
     },
     "execution_count": 78,
     "metadata": {},
     "output_type": "execute_result"
    }
   ],
   "source": [
    "vetor0[6:] #se o limite superior é deixado vazio, o interpretador vai até o final"
   ]
  },
  {
   "cell_type": "code",
   "execution_count": 79,
   "id": "e44ddcef-b92d-430c-a754-31ca84bce8e4",
   "metadata": {},
   "outputs": [],
   "source": [
    "vetor0[4:7] = 1000 #os elementos no range de 4 a 7 são alterados para 1000"
   ]
  },
  {
   "cell_type": "code",
   "execution_count": 80,
   "id": "95c38ab0-f012-4166-b1d0-a2c46d59f9f0",
   "metadata": {},
   "outputs": [
    {
     "data": {
      "text/plain": [
       "array([   0,    3,    6,    9, 1000, 1000, 1000,   21,   24,   27,   30,\n",
       "         33,   36,   39,   42,   45,   48])"
      ]
     },
     "execution_count": 80,
     "metadata": {},
     "output_type": "execute_result"
    }
   ],
   "source": [
    "vetor0"
   ]
  },
  {
   "cell_type": "markdown",
   "id": "af00ecc7-98b0-4124-b416-9785ea706c3b",
   "metadata": {},
   "source": [
    "### Matrizes"
   ]
  },
  {
   "cell_type": "code",
   "execution_count": 84,
   "id": "666382e1-54ff-47d5-9633-fbb7fb028294",
   "metadata": {},
   "outputs": [],
   "source": [
    "matriz0 = np.random.randint(0, 50, 30).reshape(5, 6)"
   ]
  },
  {
   "cell_type": "code",
   "execution_count": 85,
   "id": "147e5241-dbcd-4057-98aa-7aae4d8e51ca",
   "metadata": {},
   "outputs": [
    {
     "data": {
      "text/plain": [
       "array([[ 3, 38, 10, 40, 42, 40],\n",
       "       [ 4,  0, 23, 39, 47,  1],\n",
       "       [34,  0, 14, 20, 30, 37],\n",
       "       [32, 36, 34, 46,  4, 18],\n",
       "       [39, 20,  0, 43,  5, 39]])"
      ]
     },
     "execution_count": 85,
     "metadata": {},
     "output_type": "execute_result"
    }
   ],
   "source": [
    "matriz0"
   ]
  },
  {
   "cell_type": "code",
   "execution_count": 95,
   "id": "4d2df7a5-95bc-4f25-bcf6-a821d613258c",
   "metadata": {},
   "outputs": [
    {
     "data": {
      "text/plain": [
       "array([[ 3, 38],\n",
       "       [ 4,  0],\n",
       "       [34,  0],\n",
       "       [32, 36]])"
      ]
     },
     "execution_count": 95,
     "metadata": {},
     "output_type": "execute_result"
    }
   ],
   "source": [
    "matriz0[0:4, 0:2] #o primeiro colchetes determina o range das linhas e o segundo das colunas"
   ]
  },
  {
   "cell_type": "code",
   "execution_count": 97,
   "id": "1ddaf84f-16d8-4f79-8b0a-b7c5cd068510",
   "metadata": {},
   "outputs": [
    {
     "data": {
      "text/plain": [
       "array([[ 3, 38, 10],\n",
       "       [ 4,  0, 23],\n",
       "       [34,  0, 14],\n",
       "       [32, 36, 34],\n",
       "       [39, 20,  0]])"
      ]
     },
     "execution_count": 97,
     "metadata": {},
     "output_type": "execute_result"
    }
   ],
   "source": [
    "matriz0[:, 0: 3]"
   ]
  },
  {
   "cell_type": "code",
   "execution_count": 98,
   "id": "f0c853e0-33b0-4fb6-813b-06407fa94143",
   "metadata": {},
   "outputs": [],
   "source": [
    "matriz0[2:4, :3] = -1 #modifica os elementos especificados no range para -1"
   ]
  },
  {
   "cell_type": "code",
   "execution_count": 99,
   "id": "f511c4a6-be16-46a2-8fb6-7e3492d013f3",
   "metadata": {},
   "outputs": [
    {
     "data": {
      "text/plain": [
       "array([[ 3, 38, 10, 40, 42, 40],\n",
       "       [ 4,  0, 23, 39, 47,  1],\n",
       "       [-1, -1, -1, 20, 30, 37],\n",
       "       [-1, -1, -1, 46,  4, 18],\n",
       "       [39, 20,  0, 43,  5, 39]])"
      ]
     },
     "execution_count": 99,
     "metadata": {},
     "output_type": "execute_result"
    }
   ],
   "source": [
    "matriz0"
   ]
  },
  {
   "cell_type": "code",
   "execution_count": 100,
   "id": "0314477b-219e-42df-aa9d-7e206973151c",
   "metadata": {},
   "outputs": [],
   "source": [
    "matriz1 = matriz0[:3, 4:] #cria um novo array usando o anterior como blueprint"
   ]
  },
  {
   "cell_type": "code",
   "execution_count": 101,
   "id": "f89f57af-25e3-464d-b613-7810dce25696",
   "metadata": {},
   "outputs": [
    {
     "data": {
      "text/plain": [
       "array([[42, 40],\n",
       "       [47,  1],\n",
       "       [30, 37]])"
      ]
     },
     "execution_count": 101,
     "metadata": {},
     "output_type": "execute_result"
    }
   ],
   "source": [
    "matriz1"
   ]
  },
  {
   "cell_type": "code",
   "execution_count": 102,
   "id": "4a8ff39b-5bab-4d90-b1e5-6c122f375f1a",
   "metadata": {},
   "outputs": [],
   "source": [
    "matriz1[:,:] = -1"
   ]
  },
  {
   "cell_type": "markdown",
   "id": "744b7861-9b3e-4bf7-a75c-2aa9aa3305d6",
   "metadata": {},
   "source": [
    "matriz0"
   ]
  },
  {
   "cell_type": "markdown",
   "id": "07998191-56ca-4c49-8cd8-f05d7d73e2fc",
   "metadata": {},
   "source": [
    "A alteração na matriz1 afetou a matriz0, pois matriz1 é apenas uma referência a uma parte de matriz0\n",
    "Para criar uma matriz independente a partir de outra, usa-se o método copy:"
   ]
  },
  {
   "cell_type": "code",
   "execution_count": 105,
   "id": "b2997ce3-7928-434c-9fd9-43cff7b290b2",
   "metadata": {},
   "outputs": [],
   "source": [
    "matriz2 = matriz0[2:, :4].copy()"
   ]
  },
  {
   "cell_type": "code",
   "execution_count": 106,
   "id": "d6c5982b-891c-4bb8-aa3d-95ee6bb60a2b",
   "metadata": {},
   "outputs": [],
   "source": [
    "matriz2[:,:] = -2"
   ]
  },
  {
   "cell_type": "code",
   "execution_count": 107,
   "id": "ad7070ec-644f-4c0e-b03e-84829c632b8c",
   "metadata": {
    "scrolled": true
   },
   "outputs": [
    {
     "data": {
      "text/plain": [
       "array([[ 3, 38, 10, 40, -1, -1],\n",
       "       [ 4,  0, 23, 39, -1, -1],\n",
       "       [-1, -1, -1, 20, -1, -1],\n",
       "       [-1, -1, -1, 46,  4, 18],\n",
       "       [39, 20,  0, 43,  5, 39]])"
      ]
     },
     "execution_count": 107,
     "metadata": {},
     "output_type": "execute_result"
    }
   ],
   "source": [
    "matriz0"
   ]
  },
  {
   "cell_type": "markdown",
   "id": "434d4e44-e919-4aba-9822-f1b725627a53",
   "metadata": {},
   "source": [
    "Percebe-se que os valores da submatriz matriz0[2:, :4] não foram alterados para -2"
   ]
  },
  {
   "cell_type": "markdown",
   "id": "928ca1b7-ffbe-4b0a-a042-e5f2d2311bbd",
   "metadata": {},
   "source": [
    "Essa mesma lógica vale para vetores."
   ]
  },
  {
   "cell_type": "markdown",
   "id": "e3abcb3f-6a26-485c-bcd9-5a9e487c68c1",
   "metadata": {},
   "source": [
    "### Utilizando valores booleanos como regra"
   ]
  },
  {
   "cell_type": "code",
   "execution_count": 109,
   "id": "84b116fd-002e-4dc9-abc7-f661d1d344e4",
   "metadata": {},
   "outputs": [],
   "source": [
    "matriz3 = np.random.randint(0, 100, 50).reshape(5, 10)"
   ]
  },
  {
   "cell_type": "code",
   "execution_count": 110,
   "id": "1193fa0e-d86c-458c-9f57-50dd0448fac6",
   "metadata": {},
   "outputs": [
    {
     "data": {
      "text/plain": [
       "array([[58, 43,  0, 44, 87, 27, 76,  9, 93, 71],\n",
       "       [10, 64, 85, 14, 78, 99, 88, 51, 80, 95],\n",
       "       [43, 10, 27, 78, 78, 51, 47, 28, 13, 96],\n",
       "       [69, 16, 33, 20, 87,  2, 84, 73, 25, 57],\n",
       "       [ 4,  6, 56, 20, 88, 18, 23, 26, 18, 68]])"
      ]
     },
     "execution_count": 110,
     "metadata": {},
     "output_type": "execute_result"
    }
   ],
   "source": [
    "matriz3"
   ]
  },
  {
   "cell_type": "code",
   "execution_count": 112,
   "id": "5efa4fe3-d684-4479-b680-6055108e52b0",
   "metadata": {},
   "outputs": [],
   "source": [
    "matriz4 = matriz3 > 30 #matriz 4 será uma matriz de booleanos indicando se cada elemento de matriz3 é > 30"
   ]
  },
  {
   "cell_type": "code",
   "execution_count": 113,
   "id": "f46bf64a-559e-496f-af1d-086bcf89b7e5",
   "metadata": {},
   "outputs": [
    {
     "data": {
      "text/plain": [
       "array([[ True,  True, False,  True,  True, False,  True, False,  True,\n",
       "         True],\n",
       "       [False,  True,  True, False,  True,  True,  True,  True,  True,\n",
       "         True],\n",
       "       [ True, False, False,  True,  True,  True,  True, False, False,\n",
       "         True],\n",
       "       [ True, False,  True, False,  True, False,  True,  True, False,\n",
       "         True],\n",
       "       [False, False,  True, False,  True, False, False, False, False,\n",
       "         True]])"
      ]
     },
     "execution_count": 113,
     "metadata": {},
     "output_type": "execute_result"
    }
   ],
   "source": [
    "matriz4"
   ]
  },
  {
   "cell_type": "code",
   "execution_count": 114,
   "id": "bf81d36b-758c-4cd5-8010-f699702cccc3",
   "metadata": {},
   "outputs": [],
   "source": [
    "vetor0 = matriz3[matriz4]"
   ]
  },
  {
   "cell_type": "markdown",
   "id": "2fe6362f-bb7a-42d6-8c3b-77482e2f220d",
   "metadata": {},
   "source": [
    "A matriz4 (de booleanos) é usada como regra para criar um vetor com valores de matriz3 com correspondentes True em matriz4.\n",
    "\n",
    "Repare que ambas as matrizes precisam ter as mesmas dimensões, o mesmo vale para vetores."
   ]
  },
  {
   "cell_type": "code",
   "execution_count": 115,
   "id": "1f03074d-9e25-4dd4-80f2-4ad1577037b9",
   "metadata": {},
   "outputs": [
    {
     "data": {
      "text/plain": [
       "array([58, 43, 44, 87, 76, 93, 71, 64, 85, 78, 99, 88, 51, 80, 95, 43, 78,\n",
       "       78, 51, 47, 96, 69, 33, 87, 84, 73, 57, 56, 88, 68])"
      ]
     },
     "execution_count": 115,
     "metadata": {},
     "output_type": "execute_result"
    }
   ],
   "source": [
    "vetor0"
   ]
  },
  {
   "cell_type": "code",
   "execution_count": 117,
   "id": "f676bc14-4775-43e5-b775-9a71b365b2a0",
   "metadata": {},
   "outputs": [],
   "source": [
    "vetor1 = matriz3[matriz3 % 2 == 0] #vetor1 terá os elementos pares da matriz3"
   ]
  },
  {
   "cell_type": "code",
   "execution_count": 118,
   "id": "10d40da2-466c-44eb-8613-4a429807927d",
   "metadata": {},
   "outputs": [
    {
     "data": {
      "text/plain": [
       "array([58,  0, 44, 76, 10, 64, 14, 78, 88, 80, 10, 78, 78, 28, 96, 16, 20,\n",
       "        2, 84,  4,  6, 56, 20, 88, 18, 26, 18, 68])"
      ]
     },
     "execution_count": 118,
     "metadata": {},
     "output_type": "execute_result"
    }
   ],
   "source": [
    "vetor1"
   ]
  },
  {
   "cell_type": "markdown",
   "id": "b7e4ecb1-8085-4e5e-a6ac-5d359fd0f4b4",
   "metadata": {},
   "source": [
    "# AULA 22"
   ]
  },
  {
   "cell_type": "markdown",
   "id": "ffba6965-d5a1-4be6-8eac-513c98553974",
   "metadata": {},
   "source": [
    "### Operações array com array"
   ]
  },
  {
   "cell_type": "code",
   "execution_count": 15,
   "id": "5d85c7b4-5bae-4e91-8807-ac02467f39b5",
   "metadata": {},
   "outputs": [],
   "source": [
    "vetor0 = np.random.randint(0, 100, 10)"
   ]
  },
  {
   "cell_type": "code",
   "execution_count": 4,
   "id": "5a2fd6cf-bfe5-48cf-83cd-df6efacd7ebe",
   "metadata": {},
   "outputs": [],
   "source": [
    "vetor1 = np.random.randint(0, 100, 10)"
   ]
  },
  {
   "cell_type": "code",
   "execution_count": 16,
   "id": "3b635955-1a09-4e97-9311-7d4c62765804",
   "metadata": {},
   "outputs": [
    {
     "data": {
      "text/plain": [
       "array([81, 20, 79, 84,  0, 64,  8, 11, 92, 19])"
      ]
     },
     "execution_count": 16,
     "metadata": {},
     "output_type": "execute_result"
    }
   ],
   "source": [
    "vetor0"
   ]
  },
  {
   "cell_type": "code",
   "execution_count": 17,
   "id": "a7ca7e8f-6126-4628-a645-77ea74a161b9",
   "metadata": {},
   "outputs": [
    {
     "data": {
      "text/plain": [
       "array([41,  7, 37, 37, 14, 73, 67, 82, 30, 90])"
      ]
     },
     "execution_count": 17,
     "metadata": {},
     "output_type": "execute_result"
    }
   ],
   "source": [
    "vetor1"
   ]
  },
  {
   "cell_type": "code",
   "execution_count": 18,
   "id": "775362e7-9cfa-4114-9963-92e34f56890b",
   "metadata": {},
   "outputs": [
    {
     "data": {
      "text/plain": [
       "array([1.97560976, 2.85714286, 2.13513514, 2.27027027, 0.        ,\n",
       "       0.87671233, 0.11940299, 0.13414634, 3.06666667, 0.21111111])"
      ]
     },
     "execution_count": 18,
     "metadata": {},
     "output_type": "execute_result"
    }
   ],
   "source": [
    "vetor0 / vetor1 #vai dividir os elementos de vetor0 pelos indexamente correspondentes em vetor1"
   ]
  },
  {
   "cell_type": "markdown",
   "id": "161c59bb-be07-49cd-b7d9-6a39585360ef",
   "metadata": {},
   "source": [
    "Repare que ambos os arrays precisam ser da mesma dimensão"
   ]
  },
  {
   "cell_type": "code",
   "execution_count": 19,
   "id": "d7416295-985f-4cba-baba-7122e49e73a6",
   "metadata": {},
   "outputs": [],
   "source": [
    "vetor1[0] = 0"
   ]
  },
  {
   "cell_type": "code",
   "execution_count": 20,
   "id": "7f8fdc7e-4483-43cb-b11f-5c5ba5631434",
   "metadata": {},
   "outputs": [
    {
     "name": "stderr",
     "output_type": "stream",
     "text": [
      "/tmp/ipykernel_5083/2638117183.py:1: RuntimeWarning: divide by zero encountered in divide\n",
      "  vetor0 / vetor1\n"
     ]
    },
    {
     "data": {
      "text/plain": [
       "array([       inf, 2.85714286, 2.13513514, 2.27027027, 0.        ,\n",
       "       0.87671233, 0.11940299, 0.13414634, 3.06666667, 0.21111111])"
      ]
     },
     "execution_count": 20,
     "metadata": {},
     "output_type": "execute_result"
    }
   ],
   "source": [
    "vetor0 / vetor1"
   ]
  },
  {
   "cell_type": "markdown",
   "id": "41b9e9e6-467b-458d-9dc3-cd433304f51f",
   "metadata": {},
   "source": [
    "Na operação dos elementos de index 0, uma divisão por 0 retorna o limite (infinito). Se fosse uma operação pura de Python, retornaria um erro."
   ]
  },
  {
   "cell_type": "code",
   "execution_count": 21,
   "id": "7433e95f-a5d2-4a67-98ce-e9dbe0d77da5",
   "metadata": {},
   "outputs": [],
   "source": [
    "vetor0[0] = 0"
   ]
  },
  {
   "cell_type": "code",
   "execution_count": 22,
   "id": "b87767fb-0b5f-4770-b3bf-3a097c403a71",
   "metadata": {},
   "outputs": [
    {
     "name": "stderr",
     "output_type": "stream",
     "text": [
      "/tmp/ipykernel_5083/2120413327.py:1: RuntimeWarning: invalid value encountered in divide\n",
      "  vetor0/vetor1\n"
     ]
    },
    {
     "data": {
      "text/plain": [
       "array([       nan, 2.85714286, 2.13513514, 2.27027027, 0.        ,\n",
       "       0.87671233, 0.11940299, 0.13414634, 3.06666667, 0.21111111])"
      ]
     },
     "execution_count": 22,
     "metadata": {},
     "output_type": "execute_result"
    }
   ],
   "source": [
    "vetor0/vetor1"
   ]
  },
  {
   "cell_type": "markdown",
   "id": "945c9109-c186-4d09-b06a-215338e3f94c",
   "metadata": {},
   "source": [
    "Agora, como é uma divisão de 0 por 0, o limite não é definido, então o valor retornado é NaN (not a number)"
   ]
  },
  {
   "cell_type": "markdown",
   "id": "f57ca00f-f5ea-4bb1-a312-6949af3a224b",
   "metadata": {},
   "source": [
    "#### Além da divisão, as outras operações aritméticas também podem ser realizadas entre arrays de mesma dimensão:"
   ]
  },
  {
   "cell_type": "code",
   "execution_count": 23,
   "id": "a6656221-1eb1-45c3-a1c0-7f60eb59c4be",
   "metadata": {},
   "outputs": [
    {
     "data": {
      "text/plain": [
       "array([   0,  140, 2923, 3108,    0, 4672,  536,  902, 2760, 1710])"
      ]
     },
     "execution_count": 23,
     "metadata": {},
     "output_type": "execute_result"
    }
   ],
   "source": [
    "vetor0 * vetor1"
   ]
  },
  {
   "cell_type": "code",
   "execution_count": 24,
   "id": "e42cfbf4-fafa-442a-be31-d11a552ebe5e",
   "metadata": {},
   "outputs": [
    {
     "data": {
      "text/plain": [
       "array([  0,  27, 116, 121,  14, 137,  75,  93, 122, 109])"
      ]
     },
     "execution_count": 24,
     "metadata": {},
     "output_type": "execute_result"
    }
   ],
   "source": [
    "vetor0 + vetor1"
   ]
  },
  {
   "cell_type": "code",
   "execution_count": 26,
   "id": "c61cbbf9-2482-4629-af87-9cbe30c9744c",
   "metadata": {},
   "outputs": [
    {
     "data": {
      "text/plain": [
       "array([  0,  13,  42,  47, -14,  -9, -59, -71,  62, -71])"
      ]
     },
     "execution_count": 26,
     "metadata": {},
     "output_type": "execute_result"
    }
   ],
   "source": [
    "vetor0 - vetor1"
   ]
  },
  {
   "cell_type": "code",
   "execution_count": 27,
   "id": "fcf2fde0-a37e-44a7-b985-24b8222d8e46",
   "metadata": {},
   "outputs": [
    {
     "data": {
      "text/plain": [
       "array([                   1,           1280000000,  2364181474413977999,\n",
       "                          0,                    0,                    0,\n",
       "                          0,  7505899001923557433,  1152921504606846976,\n",
       "       -7248465516859801911])"
      ]
     },
     "execution_count": 27,
     "metadata": {},
     "output_type": "execute_result"
    }
   ],
   "source": [
    "vetor0 ** vetor1"
   ]
  },
  {
   "cell_type": "markdown",
   "id": "2c7b2466-6e84-4872-9d9a-1b594688e156",
   "metadata": {},
   "source": [
    "### Operações array com escalar"
   ]
  },
  {
   "cell_type": "code",
   "execution_count": 29,
   "id": "3075d363-d0f1-4edf-9dce-43ad4e3c43bf",
   "metadata": {},
   "outputs": [
    {
     "data": {
      "text/plain": [
       "array([0. , 2. , 7.9, 8.4, 0. , 6.4, 0.8, 1.1, 9.2, 1.9])"
      ]
     },
     "execution_count": 29,
     "metadata": {},
     "output_type": "execute_result"
    }
   ],
   "source": [
    "vetor0 / 10 #vai retornar um array com os elementos de vetor0 divididos por 10"
   ]
  },
  {
   "cell_type": "code",
   "execution_count": 30,
   "id": "3c1b1014-08af-4e9b-bb6d-0f38dcf1d394",
   "metadata": {},
   "outputs": [
    {
     "name": "stderr",
     "output_type": "stream",
     "text": [
      "/tmp/ipykernel_5083/4110624827.py:1: RuntimeWarning: divide by zero encountered in divide\n",
      "  10 / vetor0 #vai retornar um array com 10 dividido por cada elemento de vetor0\n"
     ]
    },
    {
     "data": {
      "text/plain": [
       "array([       inf, 0.5       , 0.12658228, 0.11904762,        inf,\n",
       "       0.15625   , 1.25      , 0.90909091, 0.10869565, 0.52631579])"
      ]
     },
     "execution_count": 30,
     "metadata": {},
     "output_type": "execute_result"
    }
   ],
   "source": [
    "10 / vetor0 #vai retornar um array com 10 dividido por cada elemento de vetor0"
   ]
  },
  {
   "cell_type": "markdown",
   "id": "2f4cc839-0581-4ac6-b541-110950b09085",
   "metadata": {},
   "source": [
    "O mesmo que antes acontece na divisão por 0"
   ]
  },
  {
   "cell_type": "markdown",
   "id": "220279bc-81cf-4b59-89f4-e0ac8c841606",
   "metadata": {},
   "source": [
    "#### Todas as outras operações aritméticas também podem ser realizadas entre array e escalar, em qualquer ordem:"
   ]
  },
  {
   "cell_type": "code",
   "execution_count": 31,
   "id": "8badf670-b745-4841-b8e0-bab926298ddc",
   "metadata": {},
   "outputs": [
    {
     "data": {
      "text/plain": [
       "array([  0, 200, 790, 840,   0, 640,  80, 110, 920, 190])"
      ]
     },
     "execution_count": 31,
     "metadata": {},
     "output_type": "execute_result"
    }
   ],
   "source": [
    "vetor0 * 10"
   ]
  },
  {
   "cell_type": "code",
   "execution_count": 32,
   "id": "e2c675f5-62fb-4e87-a7e7-6569aa975777",
   "metadata": {},
   "outputs": [
    {
     "data": {
      "text/plain": [
       "array([                   1,  7766279631452241920,                    0,\n",
       "                          0,                    1,                    0,\n",
       "                  100000000,         100000000000,                    0,\n",
       "       -8446744073709551616])"
      ]
     },
     "execution_count": 32,
     "metadata": {},
     "output_type": "execute_result"
    }
   ],
   "source": [
    "10 ** vetor0"
   ]
  },
  {
   "cell_type": "code",
   "execution_count": 33,
   "id": "699f819c-a772-48b6-915f-2b159abee4e9",
   "metadata": {},
   "outputs": [
    {
     "data": {
      "text/plain": [
       "array([-10,  10,  69,  74, -10,  54,  -2,   1,  82,   9])"
      ]
     },
     "execution_count": 33,
     "metadata": {},
     "output_type": "execute_result"
    }
   ],
   "source": [
    "vetor0 - 10"
   ]
  },
  {
   "cell_type": "markdown",
   "id": "702f65e7-12de-47f8-a5e8-41b7c65e6630",
   "metadata": {},
   "source": [
    "### Outras operações matemáticas disponível para arrays Numpy:"
   ]
  },
  {
   "cell_type": "code",
   "execution_count": 34,
   "id": "4d316496-f561-412a-b127-da78a62d3fe2",
   "metadata": {},
   "outputs": [
    {
     "data": {
      "text/plain": [
       "array([0.        , 4.47213595, 8.88819442, 9.16515139, 0.        ,\n",
       "       8.        , 2.82842712, 3.31662479, 9.59166305, 4.35889894])"
      ]
     },
     "execution_count": 34,
     "metadata": {},
     "output_type": "execute_result"
    }
   ],
   "source": [
    "np.sqrt(vetor0) #retorna um array com as raízes quadradas dos elementos de vetor0"
   ]
  },
  {
   "cell_type": "code",
   "execution_count": 35,
   "id": "356b1a9e-4427-48a0-85cd-0d1e43145c4b",
   "metadata": {},
   "outputs": [
    {
     "data": {
      "text/plain": [
       "array([1.00000000e+00, 4.85165195e+08, 2.03828107e+34, 3.02507732e+36,\n",
       "       1.00000000e+00, 6.23514908e+27, 2.98095799e+03, 5.98741417e+04,\n",
       "       9.01762841e+39, 1.78482301e+08])"
      ]
     },
     "execution_count": 35,
     "metadata": {},
     "output_type": "execute_result"
    }
   ],
   "source": [
    "np.exp(vetor0) #retorna o número Euler elevado a cada elementos de vetor0"
   ]
  },
  {
   "cell_type": "code",
   "execution_count": 36,
   "id": "ca33b963-87d3-4b27-a018-6ce3ca7a13bd",
   "metadata": {},
   "outputs": [
    {
     "data": {
      "text/plain": [
       "37.7"
      ]
     },
     "execution_count": 36,
     "metadata": {},
     "output_type": "execute_result"
    }
   ],
   "source": [
    "np.mean(vetor0) #retorna a média aritmética dos elementos de vetor0"
   ]
  },
  {
   "cell_type": "code",
   "execution_count": 37,
   "id": "cdef999b-4240-4a1f-8182-b3e8cfa16668",
   "metadata": {},
   "outputs": [
    {
     "data": {
      "text/plain": [
       "35.48253091311272"
      ]
     },
     "execution_count": 37,
     "metadata": {},
     "output_type": "execute_result"
    }
   ],
   "source": [
    "np.std(vetor0) #retorna o desvio padrão dos elementos de vetor0"
   ]
  },
  {
   "cell_type": "code",
   "execution_count": 38,
   "id": "99ea46d0-3494-4027-ba6a-1cacad818249",
   "metadata": {},
   "outputs": [
    {
     "data": {
      "text/plain": [
       "array([ 0.        ,  0.91294525, -0.44411267,  0.73319032,  0.        ,\n",
       "        0.92002604,  0.98935825, -0.99999021, -0.77946607,  0.14987721])"
      ]
     },
     "execution_count": 38,
     "metadata": {},
     "output_type": "execute_result"
    }
   ],
   "source": [
    "np.sin(vetor0) #retorna o seno de cada elemento de vetor0"
   ]
  },
  {
   "cell_type": "code",
   "execution_count": 39,
   "id": "a9cc5658-8938-410e-a31b-a888b7209af1",
   "metadata": {},
   "outputs": [
    {
     "data": {
      "text/plain": [
       "array([ 1.        ,  0.40808206, -0.89597095, -0.6800235 ,  1.        ,\n",
       "        0.39185723, -0.14550003,  0.0044257 , -0.62644445,  0.98870462])"
      ]
     },
     "execution_count": 39,
     "metadata": {},
     "output_type": "execute_result"
    }
   ],
   "source": [
    "np.cos(vetor0) #retorna o cosseno de cada elemento de vetor0"
   ]
  },
  {
   "cell_type": "code",
   "execution_count": 40,
   "id": "8a1c55e9-7215-4922-8083-2a8d0e81a729",
   "metadata": {},
   "outputs": [
    {
     "data": {
      "text/plain": [
       "92"
      ]
     },
     "execution_count": 40,
     "metadata": {},
     "output_type": "execute_result"
    }
   ],
   "source": [
    "np.max(vetor0) #outra forma de obter o maior elemento num array"
   ]
  },
  {
   "cell_type": "code",
   "execution_count": 41,
   "id": "65645889-7991-4899-9e6a-b3cc32d97f10",
   "metadata": {},
   "outputs": [
    {
     "data": {
      "text/plain": [
       "0"
      ]
     },
     "execution_count": 41,
     "metadata": {},
     "output_type": "execute_result"
    }
   ],
   "source": [
    "np.min(vetor0) #outra forma de obter o menor elemento num array"
   ]
  },
  {
   "cell_type": "markdown",
   "id": "94671927-15a2-4e17-9f3a-9d98f6daa0eb",
   "metadata": {},
   "source": [
    "#### Há dezenas de outras funções lógicas e matemáticas disponíveis para arrays Numpy, que podem ser verificadas na documentação da biblioteca."
   ]
  },
  {
   "cell_type": "code",
   "execution_count": null,
   "id": "2f2d4adf-c8f8-486e-a98e-981f3d001799",
   "metadata": {},
   "outputs": [],
   "source": []
  }
 ],
 "metadata": {
  "kernelspec": {
   "display_name": "Python 3 (ipykernel)",
   "language": "python",
   "name": "python3"
  },
  "language_info": {
   "codemirror_mode": {
    "name": "ipython",
    "version": 3
   },
   "file_extension": ".py",
   "mimetype": "text/x-python",
   "name": "python",
   "nbconvert_exporter": "python",
   "pygments_lexer": "ipython3",
   "version": "3.11.5"
  }
 },
 "nbformat": 4,
 "nbformat_minor": 5
}
