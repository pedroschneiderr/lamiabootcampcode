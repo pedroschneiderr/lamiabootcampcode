{
 "cells": [
  {
   "cell_type": "markdown",
   "id": "338caaa4-047e-4245-b9ed-34e72bf57cd8",
   "metadata": {},
   "source": [
    "# Series"
   ]
  },
  {
   "cell_type": "markdown",
   "id": "3928d15c-5bbd-4f89-9d8b-ac1675c49ef6",
   "metadata": {},
   "source": [
    "Objeto básico do Pandas."
   ]
  },
  {
   "cell_type": "markdown",
   "id": "4efd65bd-cfee-4c2a-8987-fcdc3960204b",
   "metadata": {},
   "source": [
    "Análogo a um dicionário (índice/chaves e valores)"
   ]
  },
  {
   "cell_type": "code",
   "execution_count": 1,
   "id": "aa8c9178-c09b-42a2-a08b-5a4409b154f4",
   "metadata": {},
   "outputs": [],
   "source": [
    "import numpy as np\n",
    "import pandas as pd"
   ]
  },
  {
   "cell_type": "code",
   "execution_count": 4,
   "id": "262b691a-be94-4d3e-80de-6159ff1e8631",
   "metadata": {},
   "outputs": [
    {
     "data": {
      "text/plain": [
       "a    1\n",
       "b    2\n",
       "c    3\n",
       "dtype: int64"
      ]
     },
     "execution_count": 4,
     "metadata": {},
     "output_type": "execute_result"
    }
   ],
   "source": [
    "índice = np.array(['a', 'b', 'c'])\n",
    "dados = np.array([1,2,3])\n",
    "series0 = pd.Series(dados, índice)\n",
    "series0"
   ]
  },
  {
   "cell_type": "markdown",
   "id": "bed1e9cc-0d04-4b67-ae54-3d9e04f48f9c",
   "metadata": {},
   "source": [
    "Aceita qualquer tipo de dados tanto como índice quanto como dado. Por exemplo, funções:"
   ]
  },
  {
   "cell_type": "code",
   "execution_count": 6,
   "id": "acdb0b47-5434-4af0-a6b5-e3191b435200",
   "metadata": {},
   "outputs": [
    {
     "data": {
      "text/plain": [
       "1      <built-in function sum>\n",
       "2      <built-in function max>\n",
       "3    <built-in function print>\n",
       "dtype: object"
      ]
     },
     "execution_count": 6,
     "metadata": {},
     "output_type": "execute_result"
    }
   ],
   "source": [
    "series1 = pd.Series([sum, max, print], [1,2,3])\n",
    "series1"
   ]
  },
  {
   "cell_type": "markdown",
   "id": "9ada19a7-331a-4221-9509-d6701e33067f",
   "metadata": {},
   "source": [
    "## Operações aritméticas com series"
   ]
  },
  {
   "cell_type": "code",
   "execution_count": 10,
   "id": "15dc08c4-18c8-41dc-ae23-22271da0ca9b",
   "metadata": {},
   "outputs": [
    {
     "data": {
      "text/plain": [
       "Arsenal vs Tottenham      8.56\n",
       "Liverpool vs Man City    10.10\n",
       "Luton Town vs Burnley      NaN\n",
       "West Ham vs Man Utd        NaN\n",
       "dtype: float64"
      ]
     },
     "execution_count": 10,
     "metadata": {},
     "output_type": "execute_result"
    }
   ],
   "source": [
    "matches0 = ['Liverpool vs Man City', 'Luton Town vs Burnley', 'Arsenal vs Tottenham']\n",
    "xG0 = [5.76, 1.53, 3.89]\n",
    "matches1 = ['Liverpool vs Man City', 'West Ham vs Man Utd', 'Arsenal vs Tottenham']\n",
    "xG1 = [4.34, 1.98, 4.67]\n",
    "\n",
    "season0 = pd.Series(xG0, matches0)\n",
    "season1 = pd.Series(xG1, matches1)\n",
    "season0 + season1"
   ]
  },
  {
   "cell_type": "markdown",
   "id": "484de9dd-6567-4206-8a84-5a8306b50ef9",
   "metadata": {},
   "source": [
    "Foram somados os valores de mesmo índice em ambos os operandos e, para os índices que não estavam presentem em todos os operandos, o resultado ficou NaN."
   ]
  },
  {
   "cell_type": "markdown",
   "id": "ad631b4f-8a7c-44a1-905a-71067b59bcf9",
   "metadata": {},
   "source": [
    "A principal ideia do Pandas é fazer operações baseadas nos índices, como essa."
   ]
  },
  {
   "cell_type": "markdown",
   "id": "596a5593-d401-4928-8a47-e0cf6179f858",
   "metadata": {},
   "source": [
    "# Data Frames"
   ]
  },
  {
   "cell_type": "markdown",
   "id": "0889248f-5a4c-41ec-9b2c-1af89bc3e942",
   "metadata": {},
   "source": [
    "Principal objeto do Pandas."
   ]
  },
  {
   "cell_type": "markdown",
   "id": "6487452f-d07f-45f1-b137-d2c00abdaddc",
   "metadata": {},
   "source": [
    "Basicamente um conjunto de series."
   ]
  },
  {
   "cell_type": "markdown",
   "id": "06eb03b3-ab35-4df6-af4f-a681893a5164",
   "metadata": {},
   "source": [
    "Muito semelhante à uma tabela do Excel."
   ]
  },
  {
   "cell_type": "code",
   "execution_count": 39,
   "id": "72d695dc-bc59-4336-af60-e3d566ee034b",
   "metadata": {},
   "outputs": [
    {
     "data": {
      "text/html": [
       "<div>\n",
       "<style scoped>\n",
       "    .dataframe tbody tr th:only-of-type {\n",
       "        vertical-align: middle;\n",
       "    }\n",
       "\n",
       "    .dataframe tbody tr th {\n",
       "        vertical-align: top;\n",
       "    }\n",
       "\n",
       "    .dataframe thead th {\n",
       "        text-align: right;\n",
       "    }\n",
       "</style>\n",
       "<table border=\"1\" class=\"dataframe\">\n",
       "  <thead>\n",
       "    <tr style=\"text-align: right;\">\n",
       "      <th></th>\n",
       "      <th>A</th>\n",
       "      <th>B</th>\n",
       "      <th>C</th>\n",
       "      <th>D</th>\n",
       "      <th>E</th>\n",
       "      <th>F</th>\n",
       "      <th>G</th>\n",
       "    </tr>\n",
       "  </thead>\n",
       "  <tbody>\n",
       "    <tr>\n",
       "      <th>1</th>\n",
       "      <td>-0.513578</td>\n",
       "      <td>-2.280642</td>\n",
       "      <td>0.176946</td>\n",
       "      <td>-0.885264</td>\n",
       "      <td>-0.240493</td>\n",
       "      <td>0.296436</td>\n",
       "      <td>-0.512543</td>\n",
       "    </tr>\n",
       "    <tr>\n",
       "      <th>2</th>\n",
       "      <td>0.664333</td>\n",
       "      <td>0.414440</td>\n",
       "      <td>1.096201</td>\n",
       "      <td>-0.390138</td>\n",
       "      <td>-0.461409</td>\n",
       "      <td>-0.456621</td>\n",
       "      <td>-0.524396</td>\n",
       "    </tr>\n",
       "    <tr>\n",
       "      <th>3</th>\n",
       "      <td>0.729420</td>\n",
       "      <td>0.291071</td>\n",
       "      <td>-0.233774</td>\n",
       "      <td>0.347071</td>\n",
       "      <td>-1.023211</td>\n",
       "      <td>1.174574</td>\n",
       "      <td>-1.426170</td>\n",
       "    </tr>\n",
       "    <tr>\n",
       "      <th>4</th>\n",
       "      <td>-1.140624</td>\n",
       "      <td>0.327971</td>\n",
       "      <td>-0.196065</td>\n",
       "      <td>-0.511918</td>\n",
       "      <td>-0.960672</td>\n",
       "      <td>0.869374</td>\n",
       "      <td>-0.052482</td>\n",
       "    </tr>\n",
       "    <tr>\n",
       "      <th>5</th>\n",
       "      <td>-0.986853</td>\n",
       "      <td>-0.183727</td>\n",
       "      <td>-0.353851</td>\n",
       "      <td>1.158218</td>\n",
       "      <td>-0.439221</td>\n",
       "      <td>0.004605</td>\n",
       "      <td>-1.548726</td>\n",
       "    </tr>\n",
       "    <tr>\n",
       "      <th>6</th>\n",
       "      <td>0.443604</td>\n",
       "      <td>-1.381404</td>\n",
       "      <td>0.376131</td>\n",
       "      <td>-0.258115</td>\n",
       "      <td>0.965624</td>\n",
       "      <td>-1.808706</td>\n",
       "      <td>-0.426380</td>\n",
       "    </tr>\n",
       "  </tbody>\n",
       "</table>\n",
       "</div>"
      ],
      "text/plain": [
       "          A         B         C         D         E         F         G\n",
       "1 -0.513578 -2.280642  0.176946 -0.885264 -0.240493  0.296436 -0.512543\n",
       "2  0.664333  0.414440  1.096201 -0.390138 -0.461409 -0.456621 -0.524396\n",
       "3  0.729420  0.291071 -0.233774  0.347071 -1.023211  1.174574 -1.426170\n",
       "4 -1.140624  0.327971 -0.196065 -0.511918 -0.960672  0.869374 -0.052482\n",
       "5 -0.986853 -0.183727 -0.353851  1.158218 -0.439221  0.004605 -1.548726\n",
       "6  0.443604 -1.381404  0.376131 -0.258115  0.965624 -1.808706 -0.426380"
      ]
     },
     "execution_count": 39,
     "metadata": {},
     "output_type": "execute_result"
    }
   ],
   "source": [
    "dados = np.random.randn(6,7)\n",
    "linhas = np.arange(1, 7)\n",
    "colunas = 'A B C D E F G'.split()\n",
    "\n",
    "df0 = pd.DataFrame(dados, linhas, colunas)\n",
    "df0"
   ]
  },
  {
   "cell_type": "markdown",
   "id": "691d18d5-0ba2-4b0d-b47a-7352ee0a5465",
   "metadata": {},
   "source": [
    "### Acessando as linhas e colunas"
   ]
  },
  {
   "cell_type": "code",
   "execution_count": 40,
   "id": "1b2086f1-82e4-4b08-9435-510530432450",
   "metadata": {},
   "outputs": [
    {
     "data": {
      "text/plain": [
       "1   -0.885264\n",
       "2   -0.390138\n",
       "3    0.347071\n",
       "4   -0.511918\n",
       "5    1.158218\n",
       "6   -0.258115\n",
       "Name: D, dtype: float64"
      ]
     },
     "execution_count": 40,
     "metadata": {},
     "output_type": "execute_result"
    }
   ],
   "source": [
    "df0['D'] #irá retornar a coluna D"
   ]
  },
  {
   "cell_type": "code",
   "execution_count": 41,
   "id": "f713a905-c93a-45a2-b43a-19d242684be2",
   "metadata": {},
   "outputs": [
    {
     "data": {
      "text/plain": [
       "pandas.core.series.Series"
      ]
     },
     "execution_count": 41,
     "metadata": {},
     "output_type": "execute_result"
    }
   ],
   "source": [
    "type(df0['B'])"
   ]
  },
  {
   "cell_type": "markdown",
   "id": "b65a540b-f0e2-440d-99b1-e141f91efd71",
   "metadata": {},
   "source": [
    "Repare que as colunas são series, assim como as linhas."
   ]
  },
  {
   "cell_type": "code",
   "execution_count": 42,
   "id": "fe7dc8f7-4690-45f0-b243-42c40482e50b",
   "metadata": {},
   "outputs": [
    {
     "data": {
      "text/html": [
       "<div>\n",
       "<style scoped>\n",
       "    .dataframe tbody tr th:only-of-type {\n",
       "        vertical-align: middle;\n",
       "    }\n",
       "\n",
       "    .dataframe tbody tr th {\n",
       "        vertical-align: top;\n",
       "    }\n",
       "\n",
       "    .dataframe thead th {\n",
       "        text-align: right;\n",
       "    }\n",
       "</style>\n",
       "<table border=\"1\" class=\"dataframe\">\n",
       "  <thead>\n",
       "    <tr style=\"text-align: right;\">\n",
       "      <th></th>\n",
       "      <th>B</th>\n",
       "      <th>D</th>\n",
       "      <th>G</th>\n",
       "    </tr>\n",
       "  </thead>\n",
       "  <tbody>\n",
       "    <tr>\n",
       "      <th>1</th>\n",
       "      <td>-2.280642</td>\n",
       "      <td>-0.885264</td>\n",
       "      <td>-0.512543</td>\n",
       "    </tr>\n",
       "    <tr>\n",
       "      <th>2</th>\n",
       "      <td>0.414440</td>\n",
       "      <td>-0.390138</td>\n",
       "      <td>-0.524396</td>\n",
       "    </tr>\n",
       "    <tr>\n",
       "      <th>3</th>\n",
       "      <td>0.291071</td>\n",
       "      <td>0.347071</td>\n",
       "      <td>-1.426170</td>\n",
       "    </tr>\n",
       "    <tr>\n",
       "      <th>4</th>\n",
       "      <td>0.327971</td>\n",
       "      <td>-0.511918</td>\n",
       "      <td>-0.052482</td>\n",
       "    </tr>\n",
       "    <tr>\n",
       "      <th>5</th>\n",
       "      <td>-0.183727</td>\n",
       "      <td>1.158218</td>\n",
       "      <td>-1.548726</td>\n",
       "    </tr>\n",
       "    <tr>\n",
       "      <th>6</th>\n",
       "      <td>-1.381404</td>\n",
       "      <td>-0.258115</td>\n",
       "      <td>-0.426380</td>\n",
       "    </tr>\n",
       "  </tbody>\n",
       "</table>\n",
       "</div>"
      ],
      "text/plain": [
       "          B         D         G\n",
       "1 -2.280642 -0.885264 -0.512543\n",
       "2  0.414440 -0.390138 -0.524396\n",
       "3  0.291071  0.347071 -1.426170\n",
       "4  0.327971 -0.511918 -0.052482\n",
       "5 -0.183727  1.158218 -1.548726\n",
       "6 -1.381404 -0.258115 -0.426380"
      ]
     },
     "execution_count": 42,
     "metadata": {},
     "output_type": "execute_result"
    }
   ],
   "source": [
    "df0[['B', 'D', 'G']] #acesso a múltiplas colunas"
   ]
  },
  {
   "cell_type": "code",
   "execution_count": 43,
   "id": "82dc1e1b-10cb-4e2f-b673-840d6fdf45ec",
   "metadata": {},
   "outputs": [
    {
     "data": {
      "text/plain": [
       "-0.9868525553788156"
      ]
     },
     "execution_count": 43,
     "metadata": {},
     "output_type": "execute_result"
    }
   ],
   "source": [
    "df0['A'][5] #acesso a um valor específico"
   ]
  },
  {
   "cell_type": "code",
   "execution_count": 44,
   "id": "0e9bfd45-b772-42ee-98d5-c20ee5edd234",
   "metadata": {},
   "outputs": [
    {
     "data": {
      "text/plain": [
       "0.2910707572337753"
      ]
     },
     "execution_count": 44,
     "metadata": {},
     "output_type": "execute_result"
    }
   ],
   "source": [
    "df0.loc[3, 'B'] #forma alternativa"
   ]
  },
  {
   "cell_type": "code",
   "execution_count": 46,
   "id": "ffc72456-e190-4ab9-b30e-ed8d41f8dcf9",
   "metadata": {},
   "outputs": [
    {
     "data": {
      "text/html": [
       "<div>\n",
       "<style scoped>\n",
       "    .dataframe tbody tr th:only-of-type {\n",
       "        vertical-align: middle;\n",
       "    }\n",
       "\n",
       "    .dataframe tbody tr th {\n",
       "        vertical-align: top;\n",
       "    }\n",
       "\n",
       "    .dataframe thead th {\n",
       "        text-align: right;\n",
       "    }\n",
       "</style>\n",
       "<table border=\"1\" class=\"dataframe\">\n",
       "  <thead>\n",
       "    <tr style=\"text-align: right;\">\n",
       "      <th></th>\n",
       "      <th>C</th>\n",
       "      <th>D</th>\n",
       "      <th>G</th>\n",
       "    </tr>\n",
       "  </thead>\n",
       "  <tbody>\n",
       "    <tr>\n",
       "      <th>1</th>\n",
       "      <td>0.176946</td>\n",
       "      <td>-0.885264</td>\n",
       "      <td>-0.512543</td>\n",
       "    </tr>\n",
       "    <tr>\n",
       "      <th>3</th>\n",
       "      <td>-0.233774</td>\n",
       "      <td>0.347071</td>\n",
       "      <td>-1.426170</td>\n",
       "    </tr>\n",
       "    <tr>\n",
       "      <th>5</th>\n",
       "      <td>-0.353851</td>\n",
       "      <td>1.158218</td>\n",
       "      <td>-1.548726</td>\n",
       "    </tr>\n",
       "  </tbody>\n",
       "</table>\n",
       "</div>"
      ],
      "text/plain": [
       "          C         D         G\n",
       "1  0.176946 -0.885264 -0.512543\n",
       "3 -0.233774  0.347071 -1.426170\n",
       "5 -0.353851  1.158218 -1.548726"
      ]
     },
     "execution_count": 46,
     "metadata": {},
     "output_type": "execute_result"
    }
   ],
   "source": [
    "df0.loc[[1, 3, 5], 'C D G'.split()] #seleção de uma fração do DF"
   ]
  },
  {
   "cell_type": "code",
   "execution_count": 47,
   "id": "8bacdda8-cb36-4459-83dd-abc023eaff34",
   "metadata": {},
   "outputs": [
    {
     "data": {
      "text/html": [
       "<div>\n",
       "<style scoped>\n",
       "    .dataframe tbody tr th:only-of-type {\n",
       "        vertical-align: middle;\n",
       "    }\n",
       "\n",
       "    .dataframe tbody tr th {\n",
       "        vertical-align: top;\n",
       "    }\n",
       "\n",
       "    .dataframe thead th {\n",
       "        text-align: right;\n",
       "    }\n",
       "</style>\n",
       "<table border=\"1\" class=\"dataframe\">\n",
       "  <thead>\n",
       "    <tr style=\"text-align: right;\">\n",
       "      <th></th>\n",
       "      <th>A</th>\n",
       "      <th>B</th>\n",
       "    </tr>\n",
       "  </thead>\n",
       "  <tbody>\n",
       "    <tr>\n",
       "      <th>2</th>\n",
       "      <td>0.664333</td>\n",
       "      <td>0.414440</td>\n",
       "    </tr>\n",
       "    <tr>\n",
       "      <th>3</th>\n",
       "      <td>0.729420</td>\n",
       "      <td>0.291071</td>\n",
       "    </tr>\n",
       "    <tr>\n",
       "      <th>4</th>\n",
       "      <td>-1.140624</td>\n",
       "      <td>0.327971</td>\n",
       "    </tr>\n",
       "    <tr>\n",
       "      <th>5</th>\n",
       "      <td>-0.986853</td>\n",
       "      <td>-0.183727</td>\n",
       "    </tr>\n",
       "  </tbody>\n",
       "</table>\n",
       "</div>"
      ],
      "text/plain": [
       "          A         B\n",
       "2  0.664333  0.414440\n",
       "3  0.729420  0.291071\n",
       "4 -1.140624  0.327971\n",
       "5 -0.986853 -0.183727"
      ]
     },
     "execution_count": 47,
     "metadata": {},
     "output_type": "execute_result"
    }
   ],
   "source": [
    "df0.iloc[1:5, 0:2] #iloc permite-se usar índices posicionais"
   ]
  },
  {
   "cell_type": "markdown",
   "id": "0434f1dd-19f4-4da0-b44c-513bb00b64bb",
   "metadata": {},
   "source": [
    "### Definição de uma nova coluna"
   ]
  },
  {
   "cell_type": "code",
   "execution_count": 27,
   "id": "0efb72be-2c45-420e-8f79-71a25f53875c",
   "metadata": {},
   "outputs": [
    {
     "data": {
      "text/html": [
       "<div>\n",
       "<style scoped>\n",
       "    .dataframe tbody tr th:only-of-type {\n",
       "        vertical-align: middle;\n",
       "    }\n",
       "\n",
       "    .dataframe tbody tr th {\n",
       "        vertical-align: top;\n",
       "    }\n",
       "\n",
       "    .dataframe thead th {\n",
       "        text-align: right;\n",
       "    }\n",
       "</style>\n",
       "<table border=\"1\" class=\"dataframe\">\n",
       "  <thead>\n",
       "    <tr style=\"text-align: right;\">\n",
       "      <th></th>\n",
       "      <th>A</th>\n",
       "      <th>B</th>\n",
       "      <th>C</th>\n",
       "      <th>D</th>\n",
       "      <th>E</th>\n",
       "      <th>F</th>\n",
       "      <th>G</th>\n",
       "      <th>H</th>\n",
       "    </tr>\n",
       "  </thead>\n",
       "  <tbody>\n",
       "    <tr>\n",
       "      <th>1</th>\n",
       "      <td>1.481590</td>\n",
       "      <td>1.969031</td>\n",
       "      <td>-1.562609</td>\n",
       "      <td>0.660918</td>\n",
       "      <td>-0.245025</td>\n",
       "      <td>-1.024508</td>\n",
       "      <td>0.692690</td>\n",
       "      <td>8</td>\n",
       "    </tr>\n",
       "    <tr>\n",
       "      <th>2</th>\n",
       "      <td>-1.410155</td>\n",
       "      <td>-0.862282</td>\n",
       "      <td>0.660701</td>\n",
       "      <td>1.364336</td>\n",
       "      <td>0.359741</td>\n",
       "      <td>0.182681</td>\n",
       "      <td>-1.206179</td>\n",
       "      <td>14</td>\n",
       "    </tr>\n",
       "    <tr>\n",
       "      <th>3</th>\n",
       "      <td>-0.402238</td>\n",
       "      <td>-0.999434</td>\n",
       "      <td>-1.575302</td>\n",
       "      <td>-0.445132</td>\n",
       "      <td>-0.509585</td>\n",
       "      <td>0.002012</td>\n",
       "      <td>-1.097855</td>\n",
       "      <td>4</td>\n",
       "    </tr>\n",
       "    <tr>\n",
       "      <th>4</th>\n",
       "      <td>-0.740087</td>\n",
       "      <td>-0.996299</td>\n",
       "      <td>-0.251916</td>\n",
       "      <td>-0.797560</td>\n",
       "      <td>0.997484</td>\n",
       "      <td>2.468255</td>\n",
       "      <td>-0.416426</td>\n",
       "      <td>34</td>\n",
       "    </tr>\n",
       "    <tr>\n",
       "      <th>5</th>\n",
       "      <td>0.652998</td>\n",
       "      <td>1.522702</td>\n",
       "      <td>1.008412</td>\n",
       "      <td>1.314283</td>\n",
       "      <td>-0.496594</td>\n",
       "      <td>-0.552968</td>\n",
       "      <td>-0.252362</td>\n",
       "      <td>28</td>\n",
       "    </tr>\n",
       "    <tr>\n",
       "      <th>6</th>\n",
       "      <td>-0.016693</td>\n",
       "      <td>0.609687</td>\n",
       "      <td>0.735745</td>\n",
       "      <td>-0.641789</td>\n",
       "      <td>0.636975</td>\n",
       "      <td>-1.856851</td>\n",
       "      <td>-0.914444</td>\n",
       "      <td>45</td>\n",
       "    </tr>\n",
       "  </tbody>\n",
       "</table>\n",
       "</div>"
      ],
      "text/plain": [
       "          A         B         C         D         E         F         G   H\n",
       "1  1.481590  1.969031 -1.562609  0.660918 -0.245025 -1.024508  0.692690   8\n",
       "2 -1.410155 -0.862282  0.660701  1.364336  0.359741  0.182681 -1.206179  14\n",
       "3 -0.402238 -0.999434 -1.575302 -0.445132 -0.509585  0.002012 -1.097855   4\n",
       "4 -0.740087 -0.996299 -0.251916 -0.797560  0.997484  2.468255 -0.416426  34\n",
       "5  0.652998  1.522702  1.008412  1.314283 -0.496594 -0.552968 -0.252362  28\n",
       "6 -0.016693  0.609687  0.735745 -0.641789  0.636975 -1.856851 -0.914444  45"
      ]
     },
     "execution_count": 27,
     "metadata": {},
     "output_type": "execute_result"
    }
   ],
   "source": [
    "df0['H'] = np.random.randint(0, 100, 6) #deve respeitar as dimensões do DF já existente\n",
    "df0"
   ]
  },
  {
   "cell_type": "markdown",
   "id": "40f86a28-92f8-4575-93d6-c260caf1f1d8",
   "metadata": {},
   "source": [
    "### Deletando linhas e colunas"
   ]
  },
  {
   "cell_type": "code",
   "execution_count": 36,
   "id": "10dfe4a0-6d72-4876-a19a-db38390ac3ce",
   "metadata": {},
   "outputs": [
    {
     "data": {
      "text/html": [
       "<div>\n",
       "<style scoped>\n",
       "    .dataframe tbody tr th:only-of-type {\n",
       "        vertical-align: middle;\n",
       "    }\n",
       "\n",
       "    .dataframe tbody tr th {\n",
       "        vertical-align: top;\n",
       "    }\n",
       "\n",
       "    .dataframe thead th {\n",
       "        text-align: right;\n",
       "    }\n",
       "</style>\n",
       "<table border=\"1\" class=\"dataframe\">\n",
       "  <thead>\n",
       "    <tr style=\"text-align: right;\">\n",
       "      <th></th>\n",
       "      <th>A</th>\n",
       "      <th>B</th>\n",
       "      <th>C</th>\n",
       "      <th>D</th>\n",
       "      <th>E</th>\n",
       "      <th>F</th>\n",
       "      <th>G</th>\n",
       "    </tr>\n",
       "  </thead>\n",
       "  <tbody>\n",
       "    <tr>\n",
       "      <th>1</th>\n",
       "      <td>2.112972</td>\n",
       "      <td>-0.524794</td>\n",
       "      <td>0.378813</td>\n",
       "      <td>1.571393</td>\n",
       "      <td>0.484992</td>\n",
       "      <td>-0.062870</td>\n",
       "      <td>1.329515</td>\n",
       "    </tr>\n",
       "    <tr>\n",
       "      <th>2</th>\n",
       "      <td>-1.392032</td>\n",
       "      <td>1.749623</td>\n",
       "      <td>-1.797409</td>\n",
       "      <td>1.069238</td>\n",
       "      <td>1.846337</td>\n",
       "      <td>-0.649699</td>\n",
       "      <td>-0.836691</td>\n",
       "    </tr>\n",
       "    <tr>\n",
       "      <th>3</th>\n",
       "      <td>-0.565516</td>\n",
       "      <td>-0.897866</td>\n",
       "      <td>-2.038600</td>\n",
       "      <td>-0.116191</td>\n",
       "      <td>-1.566686</td>\n",
       "      <td>0.650690</td>\n",
       "      <td>0.706580</td>\n",
       "    </tr>\n",
       "    <tr>\n",
       "      <th>5</th>\n",
       "      <td>1.630562</td>\n",
       "      <td>-0.164614</td>\n",
       "      <td>0.340406</td>\n",
       "      <td>2.029252</td>\n",
       "      <td>-0.785929</td>\n",
       "      <td>-0.491308</td>\n",
       "      <td>-0.746148</td>\n",
       "    </tr>\n",
       "    <tr>\n",
       "      <th>6</th>\n",
       "      <td>0.647790</td>\n",
       "      <td>-0.408039</td>\n",
       "      <td>-0.633284</td>\n",
       "      <td>-1.221384</td>\n",
       "      <td>0.614792</td>\n",
       "      <td>-0.240898</td>\n",
       "      <td>-0.710083</td>\n",
       "    </tr>\n",
       "  </tbody>\n",
       "</table>\n",
       "</div>"
      ],
      "text/plain": [
       "          A         B         C         D         E         F         G\n",
       "1  2.112972 -0.524794  0.378813  1.571393  0.484992 -0.062870  1.329515\n",
       "2 -1.392032  1.749623 -1.797409  1.069238  1.846337 -0.649699 -0.836691\n",
       "3 -0.565516 -0.897866 -2.038600 -0.116191 -1.566686  0.650690  0.706580\n",
       "5  1.630562 -0.164614  0.340406  2.029252 -0.785929 -0.491308 -0.746148\n",
       "6  0.647790 -0.408039 -0.633284 -1.221384  0.614792 -0.240898 -0.710083"
      ]
     },
     "execution_count": 36,
     "metadata": {},
     "output_type": "execute_result"
    }
   ],
   "source": [
    "df0.drop(4, inplace=True) #deleta a linha de índice 4\n",
    "df0"
   ]
  },
  {
   "cell_type": "markdown",
   "id": "71ef2977-ba77-423d-86a1-04d2f9990147",
   "metadata": {},
   "source": [
    "Repare que o parâmetro inplace foi assinalado com True, para que a alteração fosse realizada no DF original em vez de só gerar uma cópia com a alteração."
   ]
  },
  {
   "cell_type": "code",
   "execution_count": 37,
   "id": "13bc99be-41b1-487a-8712-cab86585a53c",
   "metadata": {},
   "outputs": [
    {
     "data": {
      "text/html": [
       "<div>\n",
       "<style scoped>\n",
       "    .dataframe tbody tr th:only-of-type {\n",
       "        vertical-align: middle;\n",
       "    }\n",
       "\n",
       "    .dataframe tbody tr th {\n",
       "        vertical-align: top;\n",
       "    }\n",
       "\n",
       "    .dataframe thead th {\n",
       "        text-align: right;\n",
       "    }\n",
       "</style>\n",
       "<table border=\"1\" class=\"dataframe\">\n",
       "  <thead>\n",
       "    <tr style=\"text-align: right;\">\n",
       "      <th></th>\n",
       "      <th>A</th>\n",
       "      <th>B</th>\n",
       "      <th>D</th>\n",
       "      <th>E</th>\n",
       "      <th>F</th>\n",
       "      <th>G</th>\n",
       "    </tr>\n",
       "  </thead>\n",
       "  <tbody>\n",
       "    <tr>\n",
       "      <th>1</th>\n",
       "      <td>2.112972</td>\n",
       "      <td>-0.524794</td>\n",
       "      <td>1.571393</td>\n",
       "      <td>0.484992</td>\n",
       "      <td>-0.062870</td>\n",
       "      <td>1.329515</td>\n",
       "    </tr>\n",
       "    <tr>\n",
       "      <th>2</th>\n",
       "      <td>-1.392032</td>\n",
       "      <td>1.749623</td>\n",
       "      <td>1.069238</td>\n",
       "      <td>1.846337</td>\n",
       "      <td>-0.649699</td>\n",
       "      <td>-0.836691</td>\n",
       "    </tr>\n",
       "    <tr>\n",
       "      <th>3</th>\n",
       "      <td>-0.565516</td>\n",
       "      <td>-0.897866</td>\n",
       "      <td>-0.116191</td>\n",
       "      <td>-1.566686</td>\n",
       "      <td>0.650690</td>\n",
       "      <td>0.706580</td>\n",
       "    </tr>\n",
       "    <tr>\n",
       "      <th>5</th>\n",
       "      <td>1.630562</td>\n",
       "      <td>-0.164614</td>\n",
       "      <td>2.029252</td>\n",
       "      <td>-0.785929</td>\n",
       "      <td>-0.491308</td>\n",
       "      <td>-0.746148</td>\n",
       "    </tr>\n",
       "    <tr>\n",
       "      <th>6</th>\n",
       "      <td>0.647790</td>\n",
       "      <td>-0.408039</td>\n",
       "      <td>-1.221384</td>\n",
       "      <td>0.614792</td>\n",
       "      <td>-0.240898</td>\n",
       "      <td>-0.710083</td>\n",
       "    </tr>\n",
       "  </tbody>\n",
       "</table>\n",
       "</div>"
      ],
      "text/plain": [
       "          A         B         D         E         F         G\n",
       "1  2.112972 -0.524794  1.571393  0.484992 -0.062870  1.329515\n",
       "2 -1.392032  1.749623  1.069238  1.846337 -0.649699 -0.836691\n",
       "3 -0.565516 -0.897866 -0.116191 -1.566686  0.650690  0.706580\n",
       "5  1.630562 -0.164614  2.029252 -0.785929 -0.491308 -0.746148\n",
       "6  0.647790 -0.408039 -1.221384  0.614792 -0.240898 -0.710083"
      ]
     },
     "execution_count": 37,
     "metadata": {},
     "output_type": "execute_result"
    }
   ],
   "source": [
    "df0.drop('C', axis=1, inplace=True) #deleta a coluna C\n",
    "df0"
   ]
  },
  {
   "cell_type": "markdown",
   "id": "ff189f6c-adb8-44dc-a905-de65e9b5637e",
   "metadata": {},
   "source": [
    "Repare que o parâmetro axis foi ajustado para 1, indicando ao interpretador que a operação seria feita numa coluna."
   ]
  },
  {
   "cell_type": "markdown",
   "id": "0e98c2c2-b890-4e37-aa3c-d4286764f2f7",
   "metadata": {},
   "source": [
    "### Seleção condicional"
   ]
  },
  {
   "cell_type": "code",
   "execution_count": 50,
   "id": "2c46b5bf-dba6-4d44-97c8-35a8943219c6",
   "metadata": {},
   "outputs": [
    {
     "data": {
      "text/html": [
       "<div>\n",
       "<style scoped>\n",
       "    .dataframe tbody tr th:only-of-type {\n",
       "        vertical-align: middle;\n",
       "    }\n",
       "\n",
       "    .dataframe tbody tr th {\n",
       "        vertical-align: top;\n",
       "    }\n",
       "\n",
       "    .dataframe thead th {\n",
       "        text-align: right;\n",
       "    }\n",
       "</style>\n",
       "<table border=\"1\" class=\"dataframe\">\n",
       "  <thead>\n",
       "    <tr style=\"text-align: right;\">\n",
       "      <th></th>\n",
       "      <th>Real Madrid</th>\n",
       "      <th>Valência</th>\n",
       "      <th>Barcelona</th>\n",
       "    </tr>\n",
       "  </thead>\n",
       "  <tbody>\n",
       "    <tr>\n",
       "      <th>Liverpool</th>\n",
       "      <td>2.42</td>\n",
       "      <td>3.85</td>\n",
       "      <td>2.71</td>\n",
       "    </tr>\n",
       "    <tr>\n",
       "      <th>Arsenal</th>\n",
       "      <td>4.95</td>\n",
       "      <td>1.17</td>\n",
       "      <td>3.21</td>\n",
       "    </tr>\n",
       "    <tr>\n",
       "      <th>Tottenham</th>\n",
       "      <td>3.72</td>\n",
       "      <td>4.29</td>\n",
       "      <td>4.13</td>\n",
       "    </tr>\n",
       "    <tr>\n",
       "      <th>Man City</th>\n",
       "      <td>2.02</td>\n",
       "      <td>3.84</td>\n",
       "      <td>1.51</td>\n",
       "    </tr>\n",
       "  </tbody>\n",
       "</table>\n",
       "</div>"
      ],
      "text/plain": [
       "           Real Madrid  Valência  Barcelona\n",
       "Liverpool         2.42      3.85       2.71\n",
       "Arsenal           4.95      1.17       3.21\n",
       "Tottenham         3.72      4.29       4.13\n",
       "Man City          2.02      3.84       1.51"
      ]
     },
     "execution_count": 50,
     "metadata": {},
     "output_type": "execute_result"
    }
   ],
   "source": [
    "linhas = ['Liverpool', 'Arsenal', 'Tottenham', 'Man City']\n",
    "colunas = ['Real Madrid', 'Valência', 'Barcelona']\n",
    "xG = np.random.randint(50, 600, 12).reshape(4,3) / 100\n",
    "\n",
    "matchesxG = pd.DataFrame(xG, linhas, colunas)\n",
    "matchesxG"
   ]
  },
  {
   "cell_type": "code",
   "execution_count": 52,
   "id": "31919390-58a5-4f2c-b03a-1527accd6b70",
   "metadata": {},
   "outputs": [
    {
     "data": {
      "text/html": [
       "<div>\n",
       "<style scoped>\n",
       "    .dataframe tbody tr th:only-of-type {\n",
       "        vertical-align: middle;\n",
       "    }\n",
       "\n",
       "    .dataframe tbody tr th {\n",
       "        vertical-align: top;\n",
       "    }\n",
       "\n",
       "    .dataframe thead th {\n",
       "        text-align: right;\n",
       "    }\n",
       "</style>\n",
       "<table border=\"1\" class=\"dataframe\">\n",
       "  <thead>\n",
       "    <tr style=\"text-align: right;\">\n",
       "      <th></th>\n",
       "      <th>Real Madrid</th>\n",
       "      <th>Valência</th>\n",
       "      <th>Barcelona</th>\n",
       "    </tr>\n",
       "  </thead>\n",
       "  <tbody>\n",
       "    <tr>\n",
       "      <th>Liverpool</th>\n",
       "      <td>False</td>\n",
       "      <td>False</td>\n",
       "      <td>True</td>\n",
       "    </tr>\n",
       "    <tr>\n",
       "      <th>Arsenal</th>\n",
       "      <td>True</td>\n",
       "      <td>False</td>\n",
       "      <td>True</td>\n",
       "    </tr>\n",
       "    <tr>\n",
       "      <th>Tottenham</th>\n",
       "      <td>False</td>\n",
       "      <td>True</td>\n",
       "      <td>True</td>\n",
       "    </tr>\n",
       "    <tr>\n",
       "      <th>Man City</th>\n",
       "      <td>False</td>\n",
       "      <td>True</td>\n",
       "      <td>True</td>\n",
       "    </tr>\n",
       "  </tbody>\n",
       "</table>\n",
       "</div>"
      ],
      "text/plain": [
       "           Real Madrid  Valência  Barcelona\n",
       "Liverpool        False     False       True\n",
       "Arsenal           True     False       True\n",
       "Tottenham        False      True       True\n",
       "Man City         False      True       True"
      ]
     },
     "execution_count": 52,
     "metadata": {},
     "output_type": "execute_result"
    }
   ],
   "source": [
    "cond = df0 > 2\n",
    "cond"
   ]
  },
  {
   "cell_type": "markdown",
   "id": "34e7902e-e26e-4a6b-95f6-e75a7ab47fe8",
   "metadata": {},
   "source": [
    "É criado um Data Frame com dados booleanos indicando se o dado do DF original cumpre a condição."
   ]
  },
  {
   "cell_type": "code",
   "execution_count": 53,
   "id": "90f5b9b7-a3e5-4597-8161-b068caa31384",
   "metadata": {},
   "outputs": [
    {
     "data": {
      "text/html": [
       "<div>\n",
       "<style scoped>\n",
       "    .dataframe tbody tr th:only-of-type {\n",
       "        vertical-align: middle;\n",
       "    }\n",
       "\n",
       "    .dataframe tbody tr th {\n",
       "        vertical-align: top;\n",
       "    }\n",
       "\n",
       "    .dataframe thead th {\n",
       "        text-align: right;\n",
       "    }\n",
       "</style>\n",
       "<table border=\"1\" class=\"dataframe\">\n",
       "  <thead>\n",
       "    <tr style=\"text-align: right;\">\n",
       "      <th></th>\n",
       "      <th>Real Madrid</th>\n",
       "      <th>Valência</th>\n",
       "      <th>Barcelona</th>\n",
       "    </tr>\n",
       "  </thead>\n",
       "  <tbody>\n",
       "    <tr>\n",
       "      <th>Liverpool</th>\n",
       "      <td>NaN</td>\n",
       "      <td>NaN</td>\n",
       "      <td>2.71</td>\n",
       "    </tr>\n",
       "    <tr>\n",
       "      <th>Arsenal</th>\n",
       "      <td>4.95</td>\n",
       "      <td>NaN</td>\n",
       "      <td>3.21</td>\n",
       "    </tr>\n",
       "    <tr>\n",
       "      <th>Tottenham</th>\n",
       "      <td>NaN</td>\n",
       "      <td>4.29</td>\n",
       "      <td>4.13</td>\n",
       "    </tr>\n",
       "    <tr>\n",
       "      <th>Man City</th>\n",
       "      <td>NaN</td>\n",
       "      <td>3.84</td>\n",
       "      <td>1.51</td>\n",
       "    </tr>\n",
       "  </tbody>\n",
       "</table>\n",
       "</div>"
      ],
      "text/plain": [
       "           Real Madrid  Valência  Barcelona\n",
       "Liverpool          NaN       NaN       2.71\n",
       "Arsenal           4.95       NaN       3.21\n",
       "Tottenham          NaN      4.29       4.13\n",
       "Man City           NaN      3.84       1.51"
      ]
     },
     "execution_count": 53,
     "metadata": {},
     "output_type": "execute_result"
    }
   ],
   "source": [
    "matchesxG[cond]"
   ]
  },
  {
   "cell_type": "markdown",
   "id": "cbdf64c4-10d3-43dd-8c77-d9ea8a3ce790",
   "metadata": {},
   "source": [
    "Os valores que não cumprem a condição ficam com valores nulos."
   ]
  },
  {
   "cell_type": "code",
   "execution_count": 55,
   "id": "5bfdb0cf-9e39-4b35-952d-cb1d4b36ce1c",
   "metadata": {},
   "outputs": [
    {
     "data": {
      "text/html": [
       "<div>\n",
       "<style scoped>\n",
       "    .dataframe tbody tr th:only-of-type {\n",
       "        vertical-align: middle;\n",
       "    }\n",
       "\n",
       "    .dataframe tbody tr th {\n",
       "        vertical-align: top;\n",
       "    }\n",
       "\n",
       "    .dataframe thead th {\n",
       "        text-align: right;\n",
       "    }\n",
       "</style>\n",
       "<table border=\"1\" class=\"dataframe\">\n",
       "  <thead>\n",
       "    <tr style=\"text-align: right;\">\n",
       "      <th></th>\n",
       "      <th>Real Madrid</th>\n",
       "      <th>Valência</th>\n",
       "      <th>Barcelona</th>\n",
       "    </tr>\n",
       "  </thead>\n",
       "  <tbody>\n",
       "    <tr>\n",
       "      <th>Liverpool</th>\n",
       "      <td>2.42</td>\n",
       "      <td>3.85</td>\n",
       "      <td>2.71</td>\n",
       "    </tr>\n",
       "    <tr>\n",
       "      <th>Arsenal</th>\n",
       "      <td>4.95</td>\n",
       "      <td>1.17</td>\n",
       "      <td>3.21</td>\n",
       "    </tr>\n",
       "    <tr>\n",
       "      <th>Tottenham</th>\n",
       "      <td>3.72</td>\n",
       "      <td>4.29</td>\n",
       "      <td>4.13</td>\n",
       "    </tr>\n",
       "  </tbody>\n",
       "</table>\n",
       "</div>"
      ],
      "text/plain": [
       "           Real Madrid  Valência  Barcelona\n",
       "Liverpool         2.42      3.85       2.71\n",
       "Arsenal           4.95      1.17       3.21\n",
       "Tottenham         3.72      4.29       4.13"
      ]
     },
     "execution_count": 55,
     "metadata": {},
     "output_type": "execute_result"
    }
   ],
   "source": [
    "matchesxG[matchesxG['Barcelona'] > 2]"
   ]
  },
  {
   "cell_type": "markdown",
   "id": "d68dfcfe-be5a-4385-8258-6c44726054e3",
   "metadata": {},
   "source": [
    "Retornou um DF apenas com a linhas onde a coluna Barcelona é > 2."
   ]
  },
  {
   "cell_type": "code",
   "execution_count": 61,
   "id": "514d9e88-52f3-4bfa-ae13-6385cd23809a",
   "metadata": {},
   "outputs": [
    {
     "data": {
      "text/html": [
       "<div>\n",
       "<style scoped>\n",
       "    .dataframe tbody tr th:only-of-type {\n",
       "        vertical-align: middle;\n",
       "    }\n",
       "\n",
       "    .dataframe tbody tr th {\n",
       "        vertical-align: top;\n",
       "    }\n",
       "\n",
       "    .dataframe thead th {\n",
       "        text-align: right;\n",
       "    }\n",
       "</style>\n",
       "<table border=\"1\" class=\"dataframe\">\n",
       "  <thead>\n",
       "    <tr style=\"text-align: right;\">\n",
       "      <th></th>\n",
       "      <th>Real Madrid</th>\n",
       "      <th>Valência</th>\n",
       "      <th>Barcelona</th>\n",
       "    </tr>\n",
       "  </thead>\n",
       "  <tbody>\n",
       "    <tr>\n",
       "      <th>Arsenal</th>\n",
       "      <td>4.95</td>\n",
       "      <td>1.17</td>\n",
       "      <td>3.21</td>\n",
       "    </tr>\n",
       "  </tbody>\n",
       "</table>\n",
       "</div>"
      ],
      "text/plain": [
       "         Real Madrid  Valência  Barcelona\n",
       "Arsenal         4.95      1.17       3.21"
      ]
     },
     "execution_count": 61,
     "metadata": {},
     "output_type": "execute_result"
    }
   ],
   "source": [
    "matchesxG[(matchesxG['Real Madrid'] > 3) & (matchesxG['Barcelona'] < 4)]"
   ]
  },
  {
   "cell_type": "markdown",
   "id": "4472ae57-7d53-4a1a-abe8-700d76f92b8c",
   "metadata": {},
   "source": [
    "É possível utilizar mais de uma condição com operadores condicionais."
   ]
  },
  {
   "cell_type": "code",
   "execution_count": 64,
   "id": "f9356c39-f727-4b1f-a130-7639225eacdf",
   "metadata": {},
   "outputs": [
    {
     "data": {
      "text/plain": [
       "Arsenal    3.21\n",
       "Name: Barcelona, dtype: float64"
      ]
     },
     "execution_count": 64,
     "metadata": {},
     "output_type": "execute_result"
    }
   ],
   "source": [
    "matchesxG[matchesxG['Valência'] < 2]['Barcelona'] #seleciona a linha em Barcelona na qual Valência < 2"
   ]
  },
  {
   "cell_type": "code",
   "execution_count": 73,
   "id": "4d809b11-68a4-46da-8ed9-d59f3f713820",
   "metadata": {},
   "outputs": [
    {
     "data": {
      "text/html": [
       "<div>\n",
       "<style scoped>\n",
       "    .dataframe tbody tr th:only-of-type {\n",
       "        vertical-align: middle;\n",
       "    }\n",
       "\n",
       "    .dataframe tbody tr th {\n",
       "        vertical-align: top;\n",
       "    }\n",
       "\n",
       "    .dataframe thead th {\n",
       "        text-align: right;\n",
       "    }\n",
       "</style>\n",
       "<table border=\"1\" class=\"dataframe\">\n",
       "  <thead>\n",
       "    <tr style=\"text-align: right;\">\n",
       "      <th></th>\n",
       "      <th>Real Madrid</th>\n",
       "      <th>Valência</th>\n",
       "      <th>Barcelona</th>\n",
       "    </tr>\n",
       "  </thead>\n",
       "  <tbody>\n",
       "    <tr>\n",
       "      <th>Liverpool</th>\n",
       "      <td>2.42</td>\n",
       "      <td>3.85</td>\n",
       "      <td>2.71</td>\n",
       "    </tr>\n",
       "    <tr>\n",
       "      <th>Man City</th>\n",
       "      <td>2.02</td>\n",
       "      <td>3.84</td>\n",
       "      <td>1.51</td>\n",
       "    </tr>\n",
       "  </tbody>\n",
       "</table>\n",
       "</div>"
      ],
      "text/plain": [
       "           Real Madrid  Valência  Barcelona\n",
       "Liverpool         2.42      3.85       2.71\n",
       "Man City          2.02      3.84       1.51"
      ]
     },
     "execution_count": 73,
     "metadata": {},
     "output_type": "execute_result"
    }
   ],
   "source": [
    "matchesxG[(matchesxG['Real Madrid'] < 2.5) | (matchesxG['Barcelona'] < 3)] #condicional OU"
   ]
  },
  {
   "cell_type": "markdown",
   "id": "6b89fdf4-3a76-4959-9cfd-920b8a1202ba",
   "metadata": {},
   "source": [
    "### Set e Reset Índices"
   ]
  },
  {
   "cell_type": "code",
   "execution_count": 74,
   "id": "d2d19b81-9c2d-46e5-b486-2c22cec6be82",
   "metadata": {},
   "outputs": [
    {
     "data": {
      "text/html": [
       "<div>\n",
       "<style scoped>\n",
       "    .dataframe tbody tr th:only-of-type {\n",
       "        vertical-align: middle;\n",
       "    }\n",
       "\n",
       "    .dataframe tbody tr th {\n",
       "        vertical-align: top;\n",
       "    }\n",
       "\n",
       "    .dataframe thead th {\n",
       "        text-align: right;\n",
       "    }\n",
       "</style>\n",
       "<table border=\"1\" class=\"dataframe\">\n",
       "  <thead>\n",
       "    <tr style=\"text-align: right;\">\n",
       "      <th></th>\n",
       "      <th>index</th>\n",
       "      <th>Real Madrid</th>\n",
       "      <th>Valência</th>\n",
       "      <th>Barcelona</th>\n",
       "    </tr>\n",
       "  </thead>\n",
       "  <tbody>\n",
       "    <tr>\n",
       "      <th>0</th>\n",
       "      <td>Liverpool</td>\n",
       "      <td>2.42</td>\n",
       "      <td>3.85</td>\n",
       "      <td>2.71</td>\n",
       "    </tr>\n",
       "    <tr>\n",
       "      <th>1</th>\n",
       "      <td>Arsenal</td>\n",
       "      <td>4.95</td>\n",
       "      <td>1.17</td>\n",
       "      <td>3.21</td>\n",
       "    </tr>\n",
       "    <tr>\n",
       "      <th>2</th>\n",
       "      <td>Tottenham</td>\n",
       "      <td>3.72</td>\n",
       "      <td>4.29</td>\n",
       "      <td>4.13</td>\n",
       "    </tr>\n",
       "    <tr>\n",
       "      <th>3</th>\n",
       "      <td>Man City</td>\n",
       "      <td>2.02</td>\n",
       "      <td>3.84</td>\n",
       "      <td>1.51</td>\n",
       "    </tr>\n",
       "  </tbody>\n",
       "</table>\n",
       "</div>"
      ],
      "text/plain": [
       "       index  Real Madrid  Valência  Barcelona\n",
       "0  Liverpool         2.42      3.85       2.71\n",
       "1    Arsenal         4.95      1.17       3.21\n",
       "2  Tottenham         3.72      4.29       4.13\n",
       "3   Man City         2.02      3.84       1.51"
      ]
     },
     "execution_count": 74,
     "metadata": {},
     "output_type": "execute_result"
    }
   ],
   "source": [
    "matchesxG.reset_index(inplace=True)\n",
    "matchesxG"
   ]
  },
  {
   "cell_type": "markdown",
   "id": "1990006d-3e31-40ba-8ed6-be95f4270045",
   "metadata": {},
   "source": [
    "O índice é assinalado com o padrão e os antigos índices viram uma nova coluna."
   ]
  },
  {
   "cell_type": "code",
   "execution_count": 76,
   "id": "505db934-44b2-456a-8a63-183806f63ce5",
   "metadata": {},
   "outputs": [
    {
     "data": {
      "text/html": [
       "<div>\n",
       "<style scoped>\n",
       "    .dataframe tbody tr th:only-of-type {\n",
       "        vertical-align: middle;\n",
       "    }\n",
       "\n",
       "    .dataframe tbody tr th {\n",
       "        vertical-align: top;\n",
       "    }\n",
       "\n",
       "    .dataframe thead th {\n",
       "        text-align: right;\n",
       "    }\n",
       "</style>\n",
       "<table border=\"1\" class=\"dataframe\">\n",
       "  <thead>\n",
       "    <tr style=\"text-align: right;\">\n",
       "      <th></th>\n",
       "      <th>index</th>\n",
       "      <th>Real Madrid</th>\n",
       "      <th>Valência</th>\n",
       "      <th>Barcelona</th>\n",
       "    </tr>\n",
       "    <tr>\n",
       "      <th>new_index</th>\n",
       "      <th></th>\n",
       "      <th></th>\n",
       "      <th></th>\n",
       "      <th></th>\n",
       "    </tr>\n",
       "  </thead>\n",
       "  <tbody>\n",
       "    <tr>\n",
       "      <th>A</th>\n",
       "      <td>Liverpool</td>\n",
       "      <td>2.42</td>\n",
       "      <td>3.85</td>\n",
       "      <td>2.71</td>\n",
       "    </tr>\n",
       "    <tr>\n",
       "      <th>B</th>\n",
       "      <td>Arsenal</td>\n",
       "      <td>4.95</td>\n",
       "      <td>1.17</td>\n",
       "      <td>3.21</td>\n",
       "    </tr>\n",
       "    <tr>\n",
       "      <th>C</th>\n",
       "      <td>Tottenham</td>\n",
       "      <td>3.72</td>\n",
       "      <td>4.29</td>\n",
       "      <td>4.13</td>\n",
       "    </tr>\n",
       "    <tr>\n",
       "      <th>D</th>\n",
       "      <td>Man City</td>\n",
       "      <td>2.02</td>\n",
       "      <td>3.84</td>\n",
       "      <td>1.51</td>\n",
       "    </tr>\n",
       "  </tbody>\n",
       "</table>\n",
       "</div>"
      ],
      "text/plain": [
       "               index  Real Madrid  Valência  Barcelona\n",
       "new_index                                             \n",
       "A          Liverpool         2.42      3.85       2.71\n",
       "B            Arsenal         4.95      1.17       3.21\n",
       "C          Tottenham         3.72      4.29       4.13\n",
       "D           Man City         2.02      3.84       1.51"
      ]
     },
     "execution_count": 76,
     "metadata": {},
     "output_type": "execute_result"
    }
   ],
   "source": [
    "matchesxG['new_index'] = 'A B C D'.split()\n",
    "matchesxG.set_index('new_index', inplace=True)\n",
    "matchesxG"
   ]
  },
  {
   "cell_type": "markdown",
   "id": "d4896532-4755-4d93-abdf-96bef74722ab",
   "metadata": {},
   "source": [
    "É possível definir o índice como sendo uma das colunas"
   ]
  },
  {
   "cell_type": "markdown",
   "id": "ca220589-a468-4486-80d5-68347f1811d4",
   "metadata": {},
   "source": [
    "# Índices multiníveis"
   ]
  },
  {
   "cell_type": "code",
   "execution_count": 78,
   "id": "0b237ce3-2db2-43db-b4e1-c6d882e54b97",
   "metadata": {},
   "outputs": [],
   "source": [
    "outside = ['G1','G1','G1', 'G2', 'G2', 'G2']\n",
    "inside = [1,2,3,1,2,3]\n",
    "mult_index = list(zip(outside, inside))\n",
    "mult_index = pd.MultiIndex.from_tuples(mult_index)"
   ]
  },
  {
   "cell_type": "code",
   "execution_count": 79,
   "id": "92374eb0-f4ad-4c1d-82f2-7c96b2fba309",
   "metadata": {},
   "outputs": [
    {
     "data": {
      "text/html": [
       "<div>\n",
       "<style scoped>\n",
       "    .dataframe tbody tr th:only-of-type {\n",
       "        vertical-align: middle;\n",
       "    }\n",
       "\n",
       "    .dataframe tbody tr th {\n",
       "        vertical-align: top;\n",
       "    }\n",
       "\n",
       "    .dataframe thead th {\n",
       "        text-align: right;\n",
       "    }\n",
       "</style>\n",
       "<table border=\"1\" class=\"dataframe\">\n",
       "  <thead>\n",
       "    <tr style=\"text-align: right;\">\n",
       "      <th></th>\n",
       "      <th></th>\n",
       "      <th>A</th>\n",
       "      <th>B</th>\n",
       "      <th>C</th>\n",
       "      <th>D</th>\n",
       "    </tr>\n",
       "  </thead>\n",
       "  <tbody>\n",
       "    <tr>\n",
       "      <th rowspan=\"3\" valign=\"top\">G1</th>\n",
       "      <th>1</th>\n",
       "      <td>0.329978</td>\n",
       "      <td>-0.656507</td>\n",
       "      <td>0.730698</td>\n",
       "      <td>-0.201580</td>\n",
       "    </tr>\n",
       "    <tr>\n",
       "      <th>2</th>\n",
       "      <td>1.248446</td>\n",
       "      <td>-0.769487</td>\n",
       "      <td>0.582923</td>\n",
       "      <td>1.359677</td>\n",
       "    </tr>\n",
       "    <tr>\n",
       "      <th>3</th>\n",
       "      <td>1.341377</td>\n",
       "      <td>-0.825268</td>\n",
       "      <td>-0.874363</td>\n",
       "      <td>0.230298</td>\n",
       "    </tr>\n",
       "    <tr>\n",
       "      <th rowspan=\"3\" valign=\"top\">G2</th>\n",
       "      <th>1</th>\n",
       "      <td>-0.121380</td>\n",
       "      <td>0.067832</td>\n",
       "      <td>-0.493369</td>\n",
       "      <td>0.190043</td>\n",
       "    </tr>\n",
       "    <tr>\n",
       "      <th>2</th>\n",
       "      <td>0.898001</td>\n",
       "      <td>-1.251476</td>\n",
       "      <td>-0.079760</td>\n",
       "      <td>0.106813</td>\n",
       "    </tr>\n",
       "    <tr>\n",
       "      <th>3</th>\n",
       "      <td>-1.641031</td>\n",
       "      <td>0.142648</td>\n",
       "      <td>-0.549596</td>\n",
       "      <td>0.864095</td>\n",
       "    </tr>\n",
       "  </tbody>\n",
       "</table>\n",
       "</div>"
      ],
      "text/plain": [
       "             A         B         C         D\n",
       "G1 1  0.329978 -0.656507  0.730698 -0.201580\n",
       "   2  1.248446 -0.769487  0.582923  1.359677\n",
       "   3  1.341377 -0.825268 -0.874363  0.230298\n",
       "G2 1 -0.121380  0.067832 -0.493369  0.190043\n",
       "   2  0.898001 -1.251476 -0.079760  0.106813\n",
       "   3 -1.641031  0.142648 -0.549596  0.864095"
      ]
     },
     "execution_count": 79,
     "metadata": {},
     "output_type": "execute_result"
    }
   ],
   "source": [
    "dfm = pd.DataFrame(np.random.randn(6,4), mult_index, 'A B C D'.split())\n",
    "dfm"
   ]
  },
  {
   "cell_type": "markdown",
   "id": "72339e5e-6399-4f6b-9628-127ed0b31633",
   "metadata": {},
   "source": [
    "Gerou um Data Frame multinível (tem 2 níveis externos com 3 internos cada)."
   ]
  },
  {
   "cell_type": "code",
   "execution_count": 81,
   "id": "87a88481-37bf-47a4-8cbf-d246c21eb560",
   "metadata": {},
   "outputs": [
    {
     "data": {
      "text/html": [
       "<div>\n",
       "<style scoped>\n",
       "    .dataframe tbody tr th:only-of-type {\n",
       "        vertical-align: middle;\n",
       "    }\n",
       "\n",
       "    .dataframe tbody tr th {\n",
       "        vertical-align: top;\n",
       "    }\n",
       "\n",
       "    .dataframe thead th {\n",
       "        text-align: right;\n",
       "    }\n",
       "</style>\n",
       "<table border=\"1\" class=\"dataframe\">\n",
       "  <thead>\n",
       "    <tr style=\"text-align: right;\">\n",
       "      <th></th>\n",
       "      <th>A</th>\n",
       "      <th>B</th>\n",
       "      <th>C</th>\n",
       "      <th>D</th>\n",
       "    </tr>\n",
       "  </thead>\n",
       "  <tbody>\n",
       "    <tr>\n",
       "      <th>1</th>\n",
       "      <td>0.329978</td>\n",
       "      <td>-0.656507</td>\n",
       "      <td>0.730698</td>\n",
       "      <td>-0.201580</td>\n",
       "    </tr>\n",
       "    <tr>\n",
       "      <th>2</th>\n",
       "      <td>1.248446</td>\n",
       "      <td>-0.769487</td>\n",
       "      <td>0.582923</td>\n",
       "      <td>1.359677</td>\n",
       "    </tr>\n",
       "    <tr>\n",
       "      <th>3</th>\n",
       "      <td>1.341377</td>\n",
       "      <td>-0.825268</td>\n",
       "      <td>-0.874363</td>\n",
       "      <td>0.230298</td>\n",
       "    </tr>\n",
       "  </tbody>\n",
       "</table>\n",
       "</div>"
      ],
      "text/plain": [
       "          A         B         C         D\n",
       "1  0.329978 -0.656507  0.730698 -0.201580\n",
       "2  1.248446 -0.769487  0.582923  1.359677\n",
       "3  1.341377 -0.825268 -0.874363  0.230298"
      ]
     },
     "execution_count": 81,
     "metadata": {},
     "output_type": "execute_result"
    }
   ],
   "source": [
    "dfm.loc['G1'] #recorte com um dos índices externos, retorna outro DF"
   ]
  },
  {
   "cell_type": "code",
   "execution_count": 83,
   "id": "21e116f3-706d-4cc9-ad8c-b9015959a258",
   "metadata": {},
   "outputs": [
    {
     "data": {
      "text/plain": [
       "A    1.248446\n",
       "B   -0.769487\n",
       "C    0.582923\n",
       "D    1.359677\n",
       "Name: 2, dtype: float64"
      ]
     },
     "execution_count": 83,
     "metadata": {},
     "output_type": "execute_result"
    }
   ],
   "source": [
    "dfm.loc['G1'].loc[2] #como são dois níveis de índice, é necessário usar o loc em série para acessar uma linha"
   ]
  },
  {
   "cell_type": "code",
   "execution_count": 85,
   "id": "c4dfaaa3-3b85-4eed-b827-7d256363d0f1",
   "metadata": {},
   "outputs": [
    {
     "data": {
      "text/html": [
       "<div>\n",
       "<style scoped>\n",
       "    .dataframe tbody tr th:only-of-type {\n",
       "        vertical-align: middle;\n",
       "    }\n",
       "\n",
       "    .dataframe tbody tr th {\n",
       "        vertical-align: top;\n",
       "    }\n",
       "\n",
       "    .dataframe thead th {\n",
       "        text-align: right;\n",
       "    }\n",
       "</style>\n",
       "<table border=\"1\" class=\"dataframe\">\n",
       "  <thead>\n",
       "    <tr style=\"text-align: right;\">\n",
       "      <th></th>\n",
       "      <th></th>\n",
       "      <th>A</th>\n",
       "      <th>B</th>\n",
       "      <th>C</th>\n",
       "      <th>D</th>\n",
       "    </tr>\n",
       "    <tr>\n",
       "      <th>grupo</th>\n",
       "      <th>numero</th>\n",
       "      <th></th>\n",
       "      <th></th>\n",
       "      <th></th>\n",
       "      <th></th>\n",
       "    </tr>\n",
       "  </thead>\n",
       "  <tbody>\n",
       "    <tr>\n",
       "      <th rowspan=\"3\" valign=\"top\">G1</th>\n",
       "      <th>1</th>\n",
       "      <td>0.329978</td>\n",
       "      <td>-0.656507</td>\n",
       "      <td>0.730698</td>\n",
       "      <td>-0.201580</td>\n",
       "    </tr>\n",
       "    <tr>\n",
       "      <th>2</th>\n",
       "      <td>1.248446</td>\n",
       "      <td>-0.769487</td>\n",
       "      <td>0.582923</td>\n",
       "      <td>1.359677</td>\n",
       "    </tr>\n",
       "    <tr>\n",
       "      <th>3</th>\n",
       "      <td>1.341377</td>\n",
       "      <td>-0.825268</td>\n",
       "      <td>-0.874363</td>\n",
       "      <td>0.230298</td>\n",
       "    </tr>\n",
       "    <tr>\n",
       "      <th rowspan=\"3\" valign=\"top\">G2</th>\n",
       "      <th>1</th>\n",
       "      <td>-0.121380</td>\n",
       "      <td>0.067832</td>\n",
       "      <td>-0.493369</td>\n",
       "      <td>0.190043</td>\n",
       "    </tr>\n",
       "    <tr>\n",
       "      <th>2</th>\n",
       "      <td>0.898001</td>\n",
       "      <td>-1.251476</td>\n",
       "      <td>-0.079760</td>\n",
       "      <td>0.106813</td>\n",
       "    </tr>\n",
       "    <tr>\n",
       "      <th>3</th>\n",
       "      <td>-1.641031</td>\n",
       "      <td>0.142648</td>\n",
       "      <td>-0.549596</td>\n",
       "      <td>0.864095</td>\n",
       "    </tr>\n",
       "  </tbody>\n",
       "</table>\n",
       "</div>"
      ],
      "text/plain": [
       "                     A         B         C         D\n",
       "grupo numero                                        \n",
       "G1    1       0.329978 -0.656507  0.730698 -0.201580\n",
       "      2       1.248446 -0.769487  0.582923  1.359677\n",
       "      3       1.341377 -0.825268 -0.874363  0.230298\n",
       "G2    1      -0.121380  0.067832 -0.493369  0.190043\n",
       "      2       0.898001 -1.251476 -0.079760  0.106813\n",
       "      3      -1.641031  0.142648 -0.549596  0.864095"
      ]
     },
     "execution_count": 85,
     "metadata": {},
     "output_type": "execute_result"
    }
   ],
   "source": [
    "dfm.index.names = ['grupo', 'numero'] #define nomes para os níveis de índices\n",
    "dfm"
   ]
  },
  {
   "cell_type": "code",
   "execution_count": 86,
   "id": "0945b853-7267-4e69-b2e4-c96adc01abcb",
   "metadata": {},
   "outputs": [
    {
     "data": {
      "text/html": [
       "<div>\n",
       "<style scoped>\n",
       "    .dataframe tbody tr th:only-of-type {\n",
       "        vertical-align: middle;\n",
       "    }\n",
       "\n",
       "    .dataframe tbody tr th {\n",
       "        vertical-align: top;\n",
       "    }\n",
       "\n",
       "    .dataframe thead th {\n",
       "        text-align: right;\n",
       "    }\n",
       "</style>\n",
       "<table border=\"1\" class=\"dataframe\">\n",
       "  <thead>\n",
       "    <tr style=\"text-align: right;\">\n",
       "      <th></th>\n",
       "      <th>A</th>\n",
       "      <th>B</th>\n",
       "      <th>C</th>\n",
       "      <th>D</th>\n",
       "    </tr>\n",
       "    <tr>\n",
       "      <th>numero</th>\n",
       "      <th></th>\n",
       "      <th></th>\n",
       "      <th></th>\n",
       "      <th></th>\n",
       "    </tr>\n",
       "  </thead>\n",
       "  <tbody>\n",
       "    <tr>\n",
       "      <th>1</th>\n",
       "      <td>-0.121380</td>\n",
       "      <td>0.067832</td>\n",
       "      <td>-0.493369</td>\n",
       "      <td>0.190043</td>\n",
       "    </tr>\n",
       "    <tr>\n",
       "      <th>2</th>\n",
       "      <td>0.898001</td>\n",
       "      <td>-1.251476</td>\n",
       "      <td>-0.079760</td>\n",
       "      <td>0.106813</td>\n",
       "    </tr>\n",
       "    <tr>\n",
       "      <th>3</th>\n",
       "      <td>-1.641031</td>\n",
       "      <td>0.142648</td>\n",
       "      <td>-0.549596</td>\n",
       "      <td>0.864095</td>\n",
       "    </tr>\n",
       "  </tbody>\n",
       "</table>\n",
       "</div>"
      ],
      "text/plain": [
       "               A         B         C         D\n",
       "numero                                        \n",
       "1      -0.121380  0.067832 -0.493369  0.190043\n",
       "2       0.898001 -1.251476 -0.079760  0.106813\n",
       "3      -1.641031  0.142648 -0.549596  0.864095"
      ]
     },
     "execution_count": 86,
     "metadata": {},
     "output_type": "execute_result"
    }
   ],
   "source": [
    "dfm.xs('G2') #forma alternativa de acessar elementos do DF multinível"
   ]
  },
  {
   "cell_type": "code",
   "execution_count": 88,
   "id": "f58cc34d-7a93-4ef2-abd7-cc01a13d21a9",
   "metadata": {},
   "outputs": [
    {
     "data": {
      "text/html": [
       "<div>\n",
       "<style scoped>\n",
       "    .dataframe tbody tr th:only-of-type {\n",
       "        vertical-align: middle;\n",
       "    }\n",
       "\n",
       "    .dataframe tbody tr th {\n",
       "        vertical-align: top;\n",
       "    }\n",
       "\n",
       "    .dataframe thead th {\n",
       "        text-align: right;\n",
       "    }\n",
       "</style>\n",
       "<table border=\"1\" class=\"dataframe\">\n",
       "  <thead>\n",
       "    <tr style=\"text-align: right;\">\n",
       "      <th></th>\n",
       "      <th>A</th>\n",
       "      <th>B</th>\n",
       "      <th>C</th>\n",
       "      <th>D</th>\n",
       "    </tr>\n",
       "    <tr>\n",
       "      <th>grupo</th>\n",
       "      <th></th>\n",
       "      <th></th>\n",
       "      <th></th>\n",
       "      <th></th>\n",
       "    </tr>\n",
       "  </thead>\n",
       "  <tbody>\n",
       "    <tr>\n",
       "      <th>G1</th>\n",
       "      <td>1.248446</td>\n",
       "      <td>-0.769487</td>\n",
       "      <td>0.582923</td>\n",
       "      <td>1.359677</td>\n",
       "    </tr>\n",
       "    <tr>\n",
       "      <th>G2</th>\n",
       "      <td>0.898001</td>\n",
       "      <td>-1.251476</td>\n",
       "      <td>-0.079760</td>\n",
       "      <td>0.106813</td>\n",
       "    </tr>\n",
       "  </tbody>\n",
       "</table>\n",
       "</div>"
      ],
      "text/plain": [
       "              A         B         C         D\n",
       "grupo                                        \n",
       "G1     1.248446 -0.769487  0.582923  1.359677\n",
       "G2     0.898001 -1.251476 -0.079760  0.106813"
      ]
     },
     "execution_count": 88,
     "metadata": {},
     "output_type": "execute_result"
    }
   ],
   "source": [
    "dfm.xs(2, level='numero') #com o xs (cross-section) é possível acessar diretamente o nível interno"
   ]
  },
  {
   "cell_type": "markdown",
   "id": "ec50f3d8-ec86-49f4-9cea-5bf4cfb47ce6",
   "metadata": {},
   "source": [
    "Retornou todos os valores de índice interno 2 com seus respectivos grupos (níveis externos)."
   ]
  },
  {
   "cell_type": "code",
   "execution_count": 10,
   "id": "4178f6ce-3cdf-485d-a157-34497e7569bb",
   "metadata": {},
   "outputs": [
    {
     "data": {
      "text/html": [
       "<div>\n",
       "<style scoped>\n",
       "    .dataframe tbody tr th:only-of-type {\n",
       "        vertical-align: middle;\n",
       "    }\n",
       "\n",
       "    .dataframe tbody tr th {\n",
       "        vertical-align: top;\n",
       "    }\n",
       "\n",
       "    .dataframe thead th {\n",
       "        text-align: right;\n",
       "    }\n",
       "</style>\n",
       "<table border=\"1\" class=\"dataframe\">\n",
       "  <thead>\n",
       "    <tr style=\"text-align: right;\">\n",
       "      <th></th>\n",
       "      <th></th>\n",
       "      <th>Capital</th>\n",
       "      <th>Litoral</th>\n",
       "      <th>Fronteira</th>\n",
       "    </tr>\n",
       "    <tr>\n",
       "      <th>Estado</th>\n",
       "      <th>Métricas</th>\n",
       "      <th></th>\n",
       "      <th></th>\n",
       "      <th></th>\n",
       "    </tr>\n",
       "  </thead>\n",
       "  <tbody>\n",
       "    <tr>\n",
       "      <th rowspan=\"3\" valign=\"top\">PR</th>\n",
       "      <th>IDH</th>\n",
       "      <td>8.560000e-01</td>\n",
       "      <td>5.060000e-01</td>\n",
       "      <td>8.060000e-01</td>\n",
       "    </tr>\n",
       "    <tr>\n",
       "      <th>População</th>\n",
       "      <td>3.757910e+05</td>\n",
       "      <td>8.773120e+05</td>\n",
       "      <td>7.690620e+05</td>\n",
       "    </tr>\n",
       "    <tr>\n",
       "      <th>PIB</th>\n",
       "      <td>2.181807e+09</td>\n",
       "      <td>1.531303e+09</td>\n",
       "      <td>2.539823e+09</td>\n",
       "    </tr>\n",
       "    <tr>\n",
       "      <th rowspan=\"3\" valign=\"top\">RS</th>\n",
       "      <th>IDH</th>\n",
       "      <td>6.860000e-01</td>\n",
       "      <td>5.380000e-01</td>\n",
       "      <td>6.120000e-01</td>\n",
       "    </tr>\n",
       "    <tr>\n",
       "      <th>População</th>\n",
       "      <td>4.877820e+05</td>\n",
       "      <td>3.510420e+05</td>\n",
       "      <td>8.823910e+05</td>\n",
       "    </tr>\n",
       "    <tr>\n",
       "      <th>PIB</th>\n",
       "      <td>2.805094e+09</td>\n",
       "      <td>1.716979e+09</td>\n",
       "      <td>2.271103e+09</td>\n",
       "    </tr>\n",
       "  </tbody>\n",
       "</table>\n",
       "</div>"
      ],
      "text/plain": [
       "                       Capital       Litoral     Fronteira\n",
       "Estado Métricas                                           \n",
       "PR     IDH        8.560000e-01  5.060000e-01  8.060000e-01\n",
       "       População  3.757910e+05  8.773120e+05  7.690620e+05\n",
       "       PIB        2.181807e+09  1.531303e+09  2.539823e+09\n",
       "RS     IDH        6.860000e-01  5.380000e-01  6.120000e-01\n",
       "       População  4.877820e+05  3.510420e+05  8.823910e+05\n",
       "       PIB        2.805094e+09  1.716979e+09  2.271103e+09"
      ]
     },
     "execution_count": 10,
     "metadata": {},
     "output_type": "execute_result"
    }
   ],
   "source": [
    "outside = ['PR', 'PR', 'PR', 'RS', 'RS', 'RS']\n",
    "inside = ['IDH', 'População', 'PIB','IDH', 'População', 'PIB']\n",
    "mult_index2 = list(zip(outside, inside))\n",
    "mult_index2 = pd.MultiIndex.from_tuples(mult_index2)\n",
    "IDHs0 = np.random.randint(500, 900, 3) / 1000\n",
    "pop0 = np.random.randint(300000, 1000000, 3)\n",
    "PIB0 = np.random.randint(1000000000, 3000000000, 3)\n",
    "IDHs1 = np.random.randint(500, 900, 3) / 1000\n",
    "pop1 = np.random.randint(300000, 1000000, 3)\n",
    "PIB1 = np.random.randint(1000000000, 3000000000, 3)\n",
    "dados = np.concatenate((IDHs0, pop0, PIB0, IDHs1, pop1, PIB1)).reshape(6,3)\n",
    "pesquisa = pd.DataFrame(dados, mult_index2, ['Capital', 'Litoral', 'Fronteira'])\n",
    "pesquisa.index.names = ['Estado', 'Métricas']\n",
    "pesquisa"
   ]
  },
  {
   "cell_type": "code",
   "execution_count": 12,
   "id": "89228569-2807-4e17-ac82-8eb798f449d8",
   "metadata": {},
   "outputs": [
    {
     "data": {
      "text/plain": [
       "Estado  Métricas \n",
       "PR      IDH          8.560000e-01\n",
       "        População    3.757910e+05\n",
       "        PIB          2.181807e+09\n",
       "RS      IDH          6.860000e-01\n",
       "        População    4.877820e+05\n",
       "        PIB          2.805094e+09\n",
       "Name: Capital, dtype: float64"
      ]
     },
     "execution_count": 12,
     "metadata": {},
     "output_type": "execute_result"
    }
   ],
   "source": [
    "pesquisa['Capital']"
   ]
  },
  {
   "cell_type": "markdown",
   "id": "ace1bab8-701f-4dff-82e1-5735ab4b800b",
   "metadata": {},
   "source": [
    "Exibe as métricas das capitais."
   ]
  },
  {
   "cell_type": "code",
   "execution_count": 13,
   "id": "9d0d5787-80f3-48a1-8c17-3614e8e91359",
   "metadata": {},
   "outputs": [
    {
     "data": {
      "text/html": [
       "<div>\n",
       "<style scoped>\n",
       "    .dataframe tbody tr th:only-of-type {\n",
       "        vertical-align: middle;\n",
       "    }\n",
       "\n",
       "    .dataframe tbody tr th {\n",
       "        vertical-align: top;\n",
       "    }\n",
       "\n",
       "    .dataframe thead th {\n",
       "        text-align: right;\n",
       "    }\n",
       "</style>\n",
       "<table border=\"1\" class=\"dataframe\">\n",
       "  <thead>\n",
       "    <tr style=\"text-align: right;\">\n",
       "      <th></th>\n",
       "      <th>Capital</th>\n",
       "      <th>Litoral</th>\n",
       "      <th>Fronteira</th>\n",
       "    </tr>\n",
       "    <tr>\n",
       "      <th>Métricas</th>\n",
       "      <th></th>\n",
       "      <th></th>\n",
       "      <th></th>\n",
       "    </tr>\n",
       "  </thead>\n",
       "  <tbody>\n",
       "    <tr>\n",
       "      <th>IDH</th>\n",
       "      <td>8.560000e-01</td>\n",
       "      <td>5.060000e-01</td>\n",
       "      <td>8.060000e-01</td>\n",
       "    </tr>\n",
       "    <tr>\n",
       "      <th>População</th>\n",
       "      <td>3.757910e+05</td>\n",
       "      <td>8.773120e+05</td>\n",
       "      <td>7.690620e+05</td>\n",
       "    </tr>\n",
       "    <tr>\n",
       "      <th>PIB</th>\n",
       "      <td>2.181807e+09</td>\n",
       "      <td>1.531303e+09</td>\n",
       "      <td>2.539823e+09</td>\n",
       "    </tr>\n",
       "  </tbody>\n",
       "</table>\n",
       "</div>"
      ],
      "text/plain": [
       "                Capital       Litoral     Fronteira\n",
       "Métricas                                           \n",
       "IDH        8.560000e-01  5.060000e-01  8.060000e-01\n",
       "População  3.757910e+05  8.773120e+05  7.690620e+05\n",
       "PIB        2.181807e+09  1.531303e+09  2.539823e+09"
      ]
     },
     "execution_count": 13,
     "metadata": {},
     "output_type": "execute_result"
    }
   ],
   "source": [
    "pesquisa.loc['PR']"
   ]
  },
  {
   "cell_type": "markdown",
   "id": "80857294-3f30-4f14-b73b-b841e0f3d16e",
   "metadata": {},
   "source": [
    "Exibe as métricas das diferentes regiões e cidades do Paraná."
   ]
  },
  {
   "cell_type": "code",
   "execution_count": 14,
   "id": "8a0dbcda-47d1-4f87-82bd-01c40d262a33",
   "metadata": {},
   "outputs": [
    {
     "data": {
      "text/plain": [
       "Capital      0.686\n",
       "Litoral      0.538\n",
       "Fronteira    0.612\n",
       "Name: IDH, dtype: float64"
      ]
     },
     "execution_count": 14,
     "metadata": {},
     "output_type": "execute_result"
    }
   ],
   "source": [
    "pesquisa.loc['RS'].loc['IDH']"
   ]
  },
  {
   "cell_type": "markdown",
   "id": "cc119384-c4e3-449d-acab-6ae6c9043c6f",
   "metadata": {},
   "source": [
    "Exibe a linha de IDH do Rio Grande do Sul."
   ]
  },
  {
   "cell_type": "code",
   "execution_count": 15,
   "id": "95099de5-530b-44a3-b9c1-2c9a147b8b43",
   "metadata": {},
   "outputs": [
    {
     "data": {
      "text/html": [
       "<div>\n",
       "<style scoped>\n",
       "    .dataframe tbody tr th:only-of-type {\n",
       "        vertical-align: middle;\n",
       "    }\n",
       "\n",
       "    .dataframe tbody tr th {\n",
       "        vertical-align: top;\n",
       "    }\n",
       "\n",
       "    .dataframe thead th {\n",
       "        text-align: right;\n",
       "    }\n",
       "</style>\n",
       "<table border=\"1\" class=\"dataframe\">\n",
       "  <thead>\n",
       "    <tr style=\"text-align: right;\">\n",
       "      <th></th>\n",
       "      <th>Capital</th>\n",
       "      <th>Litoral</th>\n",
       "      <th>Fronteira</th>\n",
       "    </tr>\n",
       "    <tr>\n",
       "      <th>Métricas</th>\n",
       "      <th></th>\n",
       "      <th></th>\n",
       "      <th></th>\n",
       "    </tr>\n",
       "  </thead>\n",
       "  <tbody>\n",
       "    <tr>\n",
       "      <th>IDH</th>\n",
       "      <td>6.860000e-01</td>\n",
       "      <td>5.380000e-01</td>\n",
       "      <td>6.120000e-01</td>\n",
       "    </tr>\n",
       "    <tr>\n",
       "      <th>População</th>\n",
       "      <td>4.877820e+05</td>\n",
       "      <td>3.510420e+05</td>\n",
       "      <td>8.823910e+05</td>\n",
       "    </tr>\n",
       "    <tr>\n",
       "      <th>PIB</th>\n",
       "      <td>2.805094e+09</td>\n",
       "      <td>1.716979e+09</td>\n",
       "      <td>2.271103e+09</td>\n",
       "    </tr>\n",
       "  </tbody>\n",
       "</table>\n",
       "</div>"
      ],
      "text/plain": [
       "                Capital       Litoral     Fronteira\n",
       "Métricas                                           \n",
       "IDH        6.860000e-01  5.380000e-01  6.120000e-01\n",
       "População  4.877820e+05  3.510420e+05  8.823910e+05\n",
       "PIB        2.805094e+09  1.716979e+09  2.271103e+09"
      ]
     },
     "execution_count": 15,
     "metadata": {},
     "output_type": "execute_result"
    }
   ],
   "source": [
    "pesquisa.xs('RS')"
   ]
  },
  {
   "cell_type": "code",
   "execution_count": 16,
   "id": "e97e4155-cbe2-4e25-8802-b7c6fb017f9f",
   "metadata": {},
   "outputs": [
    {
     "data": {
      "text/html": [
       "<div>\n",
       "<style scoped>\n",
       "    .dataframe tbody tr th:only-of-type {\n",
       "        vertical-align: middle;\n",
       "    }\n",
       "\n",
       "    .dataframe tbody tr th {\n",
       "        vertical-align: top;\n",
       "    }\n",
       "\n",
       "    .dataframe thead th {\n",
       "        text-align: right;\n",
       "    }\n",
       "</style>\n",
       "<table border=\"1\" class=\"dataframe\">\n",
       "  <thead>\n",
       "    <tr style=\"text-align: right;\">\n",
       "      <th></th>\n",
       "      <th>Capital</th>\n",
       "      <th>Litoral</th>\n",
       "      <th>Fronteira</th>\n",
       "    </tr>\n",
       "    <tr>\n",
       "      <th>Estado</th>\n",
       "      <th></th>\n",
       "      <th></th>\n",
       "      <th></th>\n",
       "    </tr>\n",
       "  </thead>\n",
       "  <tbody>\n",
       "    <tr>\n",
       "      <th>PR</th>\n",
       "      <td>375791.0</td>\n",
       "      <td>877312.0</td>\n",
       "      <td>769062.0</td>\n",
       "    </tr>\n",
       "    <tr>\n",
       "      <th>RS</th>\n",
       "      <td>487782.0</td>\n",
       "      <td>351042.0</td>\n",
       "      <td>882391.0</td>\n",
       "    </tr>\n",
       "  </tbody>\n",
       "</table>\n",
       "</div>"
      ],
      "text/plain": [
       "         Capital   Litoral  Fronteira\n",
       "Estado                               \n",
       "PR      375791.0  877312.0   769062.0\n",
       "RS      487782.0  351042.0   882391.0"
      ]
     },
     "execution_count": 16,
     "metadata": {},
     "output_type": "execute_result"
    }
   ],
   "source": [
    "pesquisa.xs('População', level='Métricas')"
   ]
  },
  {
   "cell_type": "markdown",
   "id": "ee52b931-3d2a-4a4a-ab4d-df1a9e06894b",
   "metadata": {},
   "source": [
    "Recorta as populações de ambos os estados."
   ]
  },
  {
   "cell_type": "markdown",
   "id": "320ec971-60a6-4bac-94e5-4c2d4e6c9c1a",
   "metadata": {},
   "source": [
    "# Dados Ausentes"
   ]
  },
  {
   "cell_type": "code",
   "execution_count": 20,
   "id": "c3a0da50-6ea7-4095-9307-87d4df714c76",
   "metadata": {},
   "outputs": [
    {
     "data": {
      "text/html": [
       "<div>\n",
       "<style scoped>\n",
       "    .dataframe tbody tr th:only-of-type {\n",
       "        vertical-align: middle;\n",
       "    }\n",
       "\n",
       "    .dataframe tbody tr th {\n",
       "        vertical-align: top;\n",
       "    }\n",
       "\n",
       "    .dataframe thead th {\n",
       "        text-align: right;\n",
       "    }\n",
       "</style>\n",
       "<table border=\"1\" class=\"dataframe\">\n",
       "  <thead>\n",
       "    <tr style=\"text-align: right;\">\n",
       "      <th></th>\n",
       "      <th>CocaCola</th>\n",
       "      <th>Água</th>\n",
       "      <th>Pepsi</th>\n",
       "      <th>Fanta</th>\n",
       "      <th>CocaZero</th>\n",
       "    </tr>\n",
       "  </thead>\n",
       "  <tbody>\n",
       "    <tr>\n",
       "      <th>1</th>\n",
       "      <td>1.74</td>\n",
       "      <td>0.12</td>\n",
       "      <td>0.00</td>\n",
       "      <td>0.05</td>\n",
       "      <td>0.15</td>\n",
       "    </tr>\n",
       "    <tr>\n",
       "      <th>2</th>\n",
       "      <td>1.30</td>\n",
       "      <td>1.07</td>\n",
       "      <td>1.33</td>\n",
       "      <td>0.81</td>\n",
       "      <td>0.04</td>\n",
       "    </tr>\n",
       "    <tr>\n",
       "      <th>3</th>\n",
       "      <td>0.51</td>\n",
       "      <td>1.56</td>\n",
       "      <td>1.47</td>\n",
       "      <td>1.64</td>\n",
       "      <td>0.17</td>\n",
       "    </tr>\n",
       "    <tr>\n",
       "      <th>4</th>\n",
       "      <td>1.24</td>\n",
       "      <td>1.33</td>\n",
       "      <td>1.65</td>\n",
       "      <td>1.67</td>\n",
       "      <td>0.02</td>\n",
       "    </tr>\n",
       "  </tbody>\n",
       "</table>\n",
       "</div>"
      ],
      "text/plain": [
       "   CocaCola  Água  Pepsi  Fanta  CocaZero\n",
       "1      1.74  0.12   0.00   0.05      0.15\n",
       "2      1.30  1.07   1.33   0.81      0.04\n",
       "3      0.51  1.56   1.47   1.64      0.17\n",
       "4      1.24  1.33   1.65   1.67      0.02"
      ]
     },
     "execution_count": 20,
     "metadata": {},
     "output_type": "execute_result"
    }
   ],
   "source": [
    "dados = np.random.randint(0, 200, 20).reshape(4,5) / 100\n",
    "unidade = np.arange(1, 5)\n",
    "refris = 'CocaCola Água Pepsi Fanta CocaZero'.split()\n",
    "\n",
    "gas_no_refri = pd.DataFrame(dados, unidade, refris)\n",
    "gas_no_refri.index.names = ['Unidade']\n",
    "gas_no_refri"
   ]
  },
  {
   "cell_type": "code",
   "execution_count": 22,
   "id": "6b91ecb3-ddd5-4b09-9065-6ee4960db153",
   "metadata": {},
   "outputs": [
    {
     "data": {
      "text/html": [
       "<div>\n",
       "<style scoped>\n",
       "    .dataframe tbody tr th:only-of-type {\n",
       "        vertical-align: middle;\n",
       "    }\n",
       "\n",
       "    .dataframe tbody tr th {\n",
       "        vertical-align: top;\n",
       "    }\n",
       "\n",
       "    .dataframe thead th {\n",
       "        text-align: right;\n",
       "    }\n",
       "</style>\n",
       "<table border=\"1\" class=\"dataframe\">\n",
       "  <thead>\n",
       "    <tr style=\"text-align: right;\">\n",
       "      <th></th>\n",
       "      <th>CocaCola</th>\n",
       "      <th>Água</th>\n",
       "      <th>Pepsi</th>\n",
       "      <th>Fanta</th>\n",
       "      <th>CocaZero</th>\n",
       "    </tr>\n",
       "    <tr>\n",
       "      <th>Unidade</th>\n",
       "      <th></th>\n",
       "      <th></th>\n",
       "      <th></th>\n",
       "      <th></th>\n",
       "      <th></th>\n",
       "    </tr>\n",
       "  </thead>\n",
       "  <tbody>\n",
       "    <tr>\n",
       "      <th>1</th>\n",
       "      <td>1.74</td>\n",
       "      <td>0.12</td>\n",
       "      <td>0.00</td>\n",
       "      <td>0.05</td>\n",
       "      <td>0.15</td>\n",
       "    </tr>\n",
       "    <tr>\n",
       "      <th>2</th>\n",
       "      <td>1.30</td>\n",
       "      <td>1.07</td>\n",
       "      <td>1.33</td>\n",
       "      <td>0.81</td>\n",
       "      <td>0.04</td>\n",
       "    </tr>\n",
       "    <tr>\n",
       "      <th>3</th>\n",
       "      <td>0.51</td>\n",
       "      <td>1.56</td>\n",
       "      <td>1.47</td>\n",
       "      <td>1.64</td>\n",
       "      <td>0.17</td>\n",
       "    </tr>\n",
       "    <tr>\n",
       "      <th>4</th>\n",
       "      <td>1.24</td>\n",
       "      <td>1.33</td>\n",
       "      <td>1.65</td>\n",
       "      <td>1.67</td>\n",
       "      <td>0.02</td>\n",
       "    </tr>\n",
       "  </tbody>\n",
       "</table>\n",
       "</div>"
      ],
      "text/plain": [
       "         CocaCola  Água  Pepsi  Fanta  CocaZero\n",
       "Unidade                                        \n",
       "1            1.74  0.12   0.00   0.05      0.15\n",
       "2            1.30  1.07   1.33   0.81      0.04\n",
       "3            0.51  1.56   1.47   1.64      0.17\n",
       "4            1.24  1.33   1.65   1.67      0.02"
      ]
     },
     "execution_count": 22,
     "metadata": {},
     "output_type": "execute_result"
    }
   ],
   "source": []
  },
  {
   "cell_type": "code",
   "execution_count": null,
   "id": "a2b6eaa4-15de-4a04-b50b-5c85f56c5b1b",
   "metadata": {},
   "outputs": [],
   "source": []
  }
 ],
 "metadata": {
  "kernelspec": {
   "display_name": "Python 3 (ipykernel)",
   "language": "python",
   "name": "python3"
  },
  "language_info": {
   "codemirror_mode": {
    "name": "ipython",
    "version": 3
   },
   "file_extension": ".py",
   "mimetype": "text/x-python",
   "name": "python",
   "nbconvert_exporter": "python",
   "pygments_lexer": "ipython3",
   "version": "3.11.5"
  }
 },
 "nbformat": 4,
 "nbformat_minor": 5
}
