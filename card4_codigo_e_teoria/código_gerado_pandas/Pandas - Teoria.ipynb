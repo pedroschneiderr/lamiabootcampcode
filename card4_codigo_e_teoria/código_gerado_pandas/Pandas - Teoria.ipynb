{
 "cells": [
  {
   "cell_type": "markdown",
   "id": "c9b135e4-f2db-4425-8875-20ed8b9bddee",
   "metadata": {},
   "source": [
    "# Conceitos gerais"
   ]
  },
  {
   "cell_type": "markdown",
   "id": "d3d00b6b-8643-4fc8-8fde-4bc63a19b4a6",
   "metadata": {},
   "source": [
    "Pandas é uma biblioteca de código aberto implementada sobre a Numpy."
   ]
  },
  {
   "cell_type": "markdown",
   "id": "57affcec-2aa3-46cc-8221-c9d065cf0730",
   "metadata": {},
   "source": [
    "É de rápida visualização e processamento de dados, muito semelhante ao Excel."
   ]
  },
  {
   "cell_type": "markdown",
   "id": "2e0df443-1097-4339-bb35-bcd4d07c8a67",
   "metadata": {},
   "source": [
    "Apesar de implementada sobre a Numpy, possui métodos próprios."
   ]
  },
  {
   "cell_type": "markdown",
   "id": "63893c40-0e21-4e9b-96cc-375778b98e67",
   "metadata": {},
   "source": [
    "É possível trabalhar com praticamente qualquer tipo de dado, diferentemente da Numpy que "
   ]
  },
  {
   "cell_type": "markdown",
   "id": "338caaa4-047e-4245-b9ed-34e72bf57cd8",
   "metadata": {},
   "source": [
    "# Series"
   ]
  },
  {
   "cell_type": "markdown",
   "id": "3928d15c-5bbd-4f89-9d8b-ac1675c49ef6",
   "metadata": {},
   "source": [
    "Objeto básico do Pandas."
   ]
  },
  {
   "cell_type": "markdown",
   "id": "4efd65bd-cfee-4c2a-8987-fcdc3960204b",
   "metadata": {},
   "source": [
    "Análogo a um dicionário (índice/chaves e valores)"
   ]
  },
  {
   "cell_type": "code",
   "execution_count": 2,
   "id": "aa8c9178-c09b-42a2-a08b-5a4409b154f4",
   "metadata": {},
   "outputs": [],
   "source": [
    "import numpy as np\n",
    "import pandas as pd"
   ]
  },
  {
   "cell_type": "code",
   "execution_count": 4,
   "id": "262b691a-be94-4d3e-80de-6159ff1e8631",
   "metadata": {},
   "outputs": [
    {
     "data": {
      "text/plain": [
       "a    1\n",
       "b    2\n",
       "c    3\n",
       "dtype: int64"
      ]
     },
     "execution_count": 4,
     "metadata": {},
     "output_type": "execute_result"
    }
   ],
   "source": [
    "índice = np.array(['a', 'b', 'c'])\n",
    "dados = np.array([1,2,3])\n",
    "series0 = pd.Series(dados, índice)\n",
    "series0"
   ]
  },
  {
   "cell_type": "markdown",
   "id": "bed1e9cc-0d04-4b67-ae54-3d9e04f48f9c",
   "metadata": {},
   "source": [
    "Aceita qualquer tipo de dados tanto como índice quanto como dado. Por exemplo, funções:"
   ]
  },
  {
   "cell_type": "code",
   "execution_count": 6,
   "id": "acdb0b47-5434-4af0-a6b5-e3191b435200",
   "metadata": {},
   "outputs": [
    {
     "data": {
      "text/plain": [
       "1      <built-in function sum>\n",
       "2      <built-in function max>\n",
       "3    <built-in function print>\n",
       "dtype: object"
      ]
     },
     "execution_count": 6,
     "metadata": {},
     "output_type": "execute_result"
    }
   ],
   "source": [
    "series1 = pd.Series([sum, max, print], [1,2,3])\n",
    "series1"
   ]
  },
  {
   "cell_type": "markdown",
   "id": "9ada19a7-331a-4221-9509-d6701e33067f",
   "metadata": {},
   "source": [
    "## Operações aritméticas com series"
   ]
  },
  {
   "cell_type": "code",
   "execution_count": 10,
   "id": "15dc08c4-18c8-41dc-ae23-22271da0ca9b",
   "metadata": {},
   "outputs": [
    {
     "data": {
      "text/plain": [
       "Arsenal vs Tottenham      8.56\n",
       "Liverpool vs Man City    10.10\n",
       "Luton Town vs Burnley      NaN\n",
       "West Ham vs Man Utd        NaN\n",
       "dtype: float64"
      ]
     },
     "execution_count": 10,
     "metadata": {},
     "output_type": "execute_result"
    }
   ],
   "source": [
    "matches0 = ['Liverpool vs Man City', 'Luton Town vs Burnley', 'Arsenal vs Tottenham']\n",
    "xG0 = [5.76, 1.53, 3.89]\n",
    "matches1 = ['Liverpool vs Man City', 'West Ham vs Man Utd', 'Arsenal vs Tottenham']\n",
    "xG1 = [4.34, 1.98, 4.67]\n",
    "\n",
    "season0 = pd.Series(xG0, matches0)\n",
    "season1 = pd.Series(xG1, matches1)\n",
    "season0 + season1"
   ]
  },
  {
   "cell_type": "markdown",
   "id": "484de9dd-6567-4206-8a84-5a8306b50ef9",
   "metadata": {},
   "source": [
    "Foram somados os valores de mesmo índice em ambos os operandos e, para os índices que não estavam presentem em todos os operandos, o resultado ficou NaN."
   ]
  },
  {
   "cell_type": "markdown",
   "id": "ad631b4f-8a7c-44a1-905a-71067b59bcf9",
   "metadata": {},
   "source": [
    "A principal ideia do Pandas é fazer operações baseadas nos índices, como essa."
   ]
  },
  {
   "cell_type": "markdown",
   "id": "596a5593-d401-4928-8a47-e0cf6179f858",
   "metadata": {},
   "source": [
    "# Data Frames"
   ]
  },
  {
   "cell_type": "markdown",
   "id": "0889248f-5a4c-41ec-9b2c-1af89bc3e942",
   "metadata": {},
   "source": [
    "Principal objeto do Pandas."
   ]
  },
  {
   "cell_type": "markdown",
   "id": "6487452f-d07f-45f1-b137-d2c00abdaddc",
   "metadata": {},
   "source": [
    "Basicamente um conjunto de series."
   ]
  },
  {
   "cell_type": "markdown",
   "id": "06eb03b3-ab35-4df6-af4f-a681893a5164",
   "metadata": {},
   "source": [
    "Muito semelhante à uma tabela do Excel."
   ]
  },
  {
   "cell_type": "code",
   "execution_count": 39,
   "id": "72d695dc-bc59-4336-af60-e3d566ee034b",
   "metadata": {},
   "outputs": [
    {
     "data": {
      "text/html": [
       "<div>\n",
       "<style scoped>\n",
       "    .dataframe tbody tr th:only-of-type {\n",
       "        vertical-align: middle;\n",
       "    }\n",
       "\n",
       "    .dataframe tbody tr th {\n",
       "        vertical-align: top;\n",
       "    }\n",
       "\n",
       "    .dataframe thead th {\n",
       "        text-align: right;\n",
       "    }\n",
       "</style>\n",
       "<table border=\"1\" class=\"dataframe\">\n",
       "  <thead>\n",
       "    <tr style=\"text-align: right;\">\n",
       "      <th></th>\n",
       "      <th>A</th>\n",
       "      <th>B</th>\n",
       "      <th>C</th>\n",
       "      <th>D</th>\n",
       "      <th>E</th>\n",
       "      <th>F</th>\n",
       "      <th>G</th>\n",
       "    </tr>\n",
       "  </thead>\n",
       "  <tbody>\n",
       "    <tr>\n",
       "      <th>1</th>\n",
       "      <td>-0.513578</td>\n",
       "      <td>-2.280642</td>\n",
       "      <td>0.176946</td>\n",
       "      <td>-0.885264</td>\n",
       "      <td>-0.240493</td>\n",
       "      <td>0.296436</td>\n",
       "      <td>-0.512543</td>\n",
       "    </tr>\n",
       "    <tr>\n",
       "      <th>2</th>\n",
       "      <td>0.664333</td>\n",
       "      <td>0.414440</td>\n",
       "      <td>1.096201</td>\n",
       "      <td>-0.390138</td>\n",
       "      <td>-0.461409</td>\n",
       "      <td>-0.456621</td>\n",
       "      <td>-0.524396</td>\n",
       "    </tr>\n",
       "    <tr>\n",
       "      <th>3</th>\n",
       "      <td>0.729420</td>\n",
       "      <td>0.291071</td>\n",
       "      <td>-0.233774</td>\n",
       "      <td>0.347071</td>\n",
       "      <td>-1.023211</td>\n",
       "      <td>1.174574</td>\n",
       "      <td>-1.426170</td>\n",
       "    </tr>\n",
       "    <tr>\n",
       "      <th>4</th>\n",
       "      <td>-1.140624</td>\n",
       "      <td>0.327971</td>\n",
       "      <td>-0.196065</td>\n",
       "      <td>-0.511918</td>\n",
       "      <td>-0.960672</td>\n",
       "      <td>0.869374</td>\n",
       "      <td>-0.052482</td>\n",
       "    </tr>\n",
       "    <tr>\n",
       "      <th>5</th>\n",
       "      <td>-0.986853</td>\n",
       "      <td>-0.183727</td>\n",
       "      <td>-0.353851</td>\n",
       "      <td>1.158218</td>\n",
       "      <td>-0.439221</td>\n",
       "      <td>0.004605</td>\n",
       "      <td>-1.548726</td>\n",
       "    </tr>\n",
       "    <tr>\n",
       "      <th>6</th>\n",
       "      <td>0.443604</td>\n",
       "      <td>-1.381404</td>\n",
       "      <td>0.376131</td>\n",
       "      <td>-0.258115</td>\n",
       "      <td>0.965624</td>\n",
       "      <td>-1.808706</td>\n",
       "      <td>-0.426380</td>\n",
       "    </tr>\n",
       "  </tbody>\n",
       "</table>\n",
       "</div>"
      ],
      "text/plain": [
       "          A         B         C         D         E         F         G\n",
       "1 -0.513578 -2.280642  0.176946 -0.885264 -0.240493  0.296436 -0.512543\n",
       "2  0.664333  0.414440  1.096201 -0.390138 -0.461409 -0.456621 -0.524396\n",
       "3  0.729420  0.291071 -0.233774  0.347071 -1.023211  1.174574 -1.426170\n",
       "4 -1.140624  0.327971 -0.196065 -0.511918 -0.960672  0.869374 -0.052482\n",
       "5 -0.986853 -0.183727 -0.353851  1.158218 -0.439221  0.004605 -1.548726\n",
       "6  0.443604 -1.381404  0.376131 -0.258115  0.965624 -1.808706 -0.426380"
      ]
     },
     "execution_count": 39,
     "metadata": {},
     "output_type": "execute_result"
    }
   ],
   "source": [
    "dados = np.random.randn(6,7)\n",
    "linhas = np.arange(1, 7)\n",
    "colunas = 'A B C D E F G'.split()\n",
    "\n",
    "df0 = pd.DataFrame(dados, linhas, colunas)\n",
    "df0"
   ]
  },
  {
   "cell_type": "markdown",
   "id": "691d18d5-0ba2-4b0d-b47a-7352ee0a5465",
   "metadata": {},
   "source": [
    "### Acessando as linhas e colunas"
   ]
  },
  {
   "cell_type": "code",
   "execution_count": 40,
   "id": "1b2086f1-82e4-4b08-9435-510530432450",
   "metadata": {},
   "outputs": [
    {
     "data": {
      "text/plain": [
       "1   -0.885264\n",
       "2   -0.390138\n",
       "3    0.347071\n",
       "4   -0.511918\n",
       "5    1.158218\n",
       "6   -0.258115\n",
       "Name: D, dtype: float64"
      ]
     },
     "execution_count": 40,
     "metadata": {},
     "output_type": "execute_result"
    }
   ],
   "source": [
    "df0['D'] #irá retornar a coluna D"
   ]
  },
  {
   "cell_type": "code",
   "execution_count": 41,
   "id": "f713a905-c93a-45a2-b43a-19d242684be2",
   "metadata": {},
   "outputs": [
    {
     "data": {
      "text/plain": [
       "pandas.core.series.Series"
      ]
     },
     "execution_count": 41,
     "metadata": {},
     "output_type": "execute_result"
    }
   ],
   "source": [
    "type(df0['B'])"
   ]
  },
  {
   "cell_type": "markdown",
   "id": "b65a540b-f0e2-440d-99b1-e141f91efd71",
   "metadata": {},
   "source": [
    "Repare que as colunas são series, assim como as linhas."
   ]
  },
  {
   "cell_type": "code",
   "execution_count": 42,
   "id": "fe7dc8f7-4690-45f0-b243-42c40482e50b",
   "metadata": {},
   "outputs": [
    {
     "data": {
      "text/html": [
       "<div>\n",
       "<style scoped>\n",
       "    .dataframe tbody tr th:only-of-type {\n",
       "        vertical-align: middle;\n",
       "    }\n",
       "\n",
       "    .dataframe tbody tr th {\n",
       "        vertical-align: top;\n",
       "    }\n",
       "\n",
       "    .dataframe thead th {\n",
       "        text-align: right;\n",
       "    }\n",
       "</style>\n",
       "<table border=\"1\" class=\"dataframe\">\n",
       "  <thead>\n",
       "    <tr style=\"text-align: right;\">\n",
       "      <th></th>\n",
       "      <th>B</th>\n",
       "      <th>D</th>\n",
       "      <th>G</th>\n",
       "    </tr>\n",
       "  </thead>\n",
       "  <tbody>\n",
       "    <tr>\n",
       "      <th>1</th>\n",
       "      <td>-2.280642</td>\n",
       "      <td>-0.885264</td>\n",
       "      <td>-0.512543</td>\n",
       "    </tr>\n",
       "    <tr>\n",
       "      <th>2</th>\n",
       "      <td>0.414440</td>\n",
       "      <td>-0.390138</td>\n",
       "      <td>-0.524396</td>\n",
       "    </tr>\n",
       "    <tr>\n",
       "      <th>3</th>\n",
       "      <td>0.291071</td>\n",
       "      <td>0.347071</td>\n",
       "      <td>-1.426170</td>\n",
       "    </tr>\n",
       "    <tr>\n",
       "      <th>4</th>\n",
       "      <td>0.327971</td>\n",
       "      <td>-0.511918</td>\n",
       "      <td>-0.052482</td>\n",
       "    </tr>\n",
       "    <tr>\n",
       "      <th>5</th>\n",
       "      <td>-0.183727</td>\n",
       "      <td>1.158218</td>\n",
       "      <td>-1.548726</td>\n",
       "    </tr>\n",
       "    <tr>\n",
       "      <th>6</th>\n",
       "      <td>-1.381404</td>\n",
       "      <td>-0.258115</td>\n",
       "      <td>-0.426380</td>\n",
       "    </tr>\n",
       "  </tbody>\n",
       "</table>\n",
       "</div>"
      ],
      "text/plain": [
       "          B         D         G\n",
       "1 -2.280642 -0.885264 -0.512543\n",
       "2  0.414440 -0.390138 -0.524396\n",
       "3  0.291071  0.347071 -1.426170\n",
       "4  0.327971 -0.511918 -0.052482\n",
       "5 -0.183727  1.158218 -1.548726\n",
       "6 -1.381404 -0.258115 -0.426380"
      ]
     },
     "execution_count": 42,
     "metadata": {},
     "output_type": "execute_result"
    }
   ],
   "source": [
    "df0[['B', 'D', 'G']] #acesso a múltiplas colunas"
   ]
  },
  {
   "cell_type": "code",
   "execution_count": 43,
   "id": "82dc1e1b-10cb-4e2f-b673-840d6fdf45ec",
   "metadata": {},
   "outputs": [
    {
     "data": {
      "text/plain": [
       "-0.9868525553788156"
      ]
     },
     "execution_count": 43,
     "metadata": {},
     "output_type": "execute_result"
    }
   ],
   "source": [
    "df0['A'][5] #acesso a um valor específico"
   ]
  },
  {
   "cell_type": "code",
   "execution_count": 44,
   "id": "0e9bfd45-b772-42ee-98d5-c20ee5edd234",
   "metadata": {},
   "outputs": [
    {
     "data": {
      "text/plain": [
       "0.2910707572337753"
      ]
     },
     "execution_count": 44,
     "metadata": {},
     "output_type": "execute_result"
    }
   ],
   "source": [
    "df0.loc[3, 'B'] #forma alternativa"
   ]
  },
  {
   "cell_type": "code",
   "execution_count": 46,
   "id": "ffc72456-e190-4ab9-b30e-ed8d41f8dcf9",
   "metadata": {},
   "outputs": [
    {
     "data": {
      "text/html": [
       "<div>\n",
       "<style scoped>\n",
       "    .dataframe tbody tr th:only-of-type {\n",
       "        vertical-align: middle;\n",
       "    }\n",
       "\n",
       "    .dataframe tbody tr th {\n",
       "        vertical-align: top;\n",
       "    }\n",
       "\n",
       "    .dataframe thead th {\n",
       "        text-align: right;\n",
       "    }\n",
       "</style>\n",
       "<table border=\"1\" class=\"dataframe\">\n",
       "  <thead>\n",
       "    <tr style=\"text-align: right;\">\n",
       "      <th></th>\n",
       "      <th>C</th>\n",
       "      <th>D</th>\n",
       "      <th>G</th>\n",
       "    </tr>\n",
       "  </thead>\n",
       "  <tbody>\n",
       "    <tr>\n",
       "      <th>1</th>\n",
       "      <td>0.176946</td>\n",
       "      <td>-0.885264</td>\n",
       "      <td>-0.512543</td>\n",
       "    </tr>\n",
       "    <tr>\n",
       "      <th>3</th>\n",
       "      <td>-0.233774</td>\n",
       "      <td>0.347071</td>\n",
       "      <td>-1.426170</td>\n",
       "    </tr>\n",
       "    <tr>\n",
       "      <th>5</th>\n",
       "      <td>-0.353851</td>\n",
       "      <td>1.158218</td>\n",
       "      <td>-1.548726</td>\n",
       "    </tr>\n",
       "  </tbody>\n",
       "</table>\n",
       "</div>"
      ],
      "text/plain": [
       "          C         D         G\n",
       "1  0.176946 -0.885264 -0.512543\n",
       "3 -0.233774  0.347071 -1.426170\n",
       "5 -0.353851  1.158218 -1.548726"
      ]
     },
     "execution_count": 46,
     "metadata": {},
     "output_type": "execute_result"
    }
   ],
   "source": [
    "df0.loc[[1, 3, 5], 'C D G'.split()] #seleção de uma fração do DF"
   ]
  },
  {
   "cell_type": "code",
   "execution_count": 47,
   "id": "8bacdda8-cb36-4459-83dd-abc023eaff34",
   "metadata": {},
   "outputs": [
    {
     "data": {
      "text/html": [
       "<div>\n",
       "<style scoped>\n",
       "    .dataframe tbody tr th:only-of-type {\n",
       "        vertical-align: middle;\n",
       "    }\n",
       "\n",
       "    .dataframe tbody tr th {\n",
       "        vertical-align: top;\n",
       "    }\n",
       "\n",
       "    .dataframe thead th {\n",
       "        text-align: right;\n",
       "    }\n",
       "</style>\n",
       "<table border=\"1\" class=\"dataframe\">\n",
       "  <thead>\n",
       "    <tr style=\"text-align: right;\">\n",
       "      <th></th>\n",
       "      <th>A</th>\n",
       "      <th>B</th>\n",
       "    </tr>\n",
       "  </thead>\n",
       "  <tbody>\n",
       "    <tr>\n",
       "      <th>2</th>\n",
       "      <td>0.664333</td>\n",
       "      <td>0.414440</td>\n",
       "    </tr>\n",
       "    <tr>\n",
       "      <th>3</th>\n",
       "      <td>0.729420</td>\n",
       "      <td>0.291071</td>\n",
       "    </tr>\n",
       "    <tr>\n",
       "      <th>4</th>\n",
       "      <td>-1.140624</td>\n",
       "      <td>0.327971</td>\n",
       "    </tr>\n",
       "    <tr>\n",
       "      <th>5</th>\n",
       "      <td>-0.986853</td>\n",
       "      <td>-0.183727</td>\n",
       "    </tr>\n",
       "  </tbody>\n",
       "</table>\n",
       "</div>"
      ],
      "text/plain": [
       "          A         B\n",
       "2  0.664333  0.414440\n",
       "3  0.729420  0.291071\n",
       "4 -1.140624  0.327971\n",
       "5 -0.986853 -0.183727"
      ]
     },
     "execution_count": 47,
     "metadata": {},
     "output_type": "execute_result"
    }
   ],
   "source": [
    "df0.iloc[1:5, 0:2] #iloc permite-se usar índices posicionais"
   ]
  },
  {
   "cell_type": "markdown",
   "id": "0434f1dd-19f4-4da0-b44c-513bb00b64bb",
   "metadata": {},
   "source": [
    "### Definição de uma nova coluna"
   ]
  },
  {
   "cell_type": "code",
   "execution_count": 27,
   "id": "0efb72be-2c45-420e-8f79-71a25f53875c",
   "metadata": {},
   "outputs": [
    {
     "data": {
      "text/html": [
       "<div>\n",
       "<style scoped>\n",
       "    .dataframe tbody tr th:only-of-type {\n",
       "        vertical-align: middle;\n",
       "    }\n",
       "\n",
       "    .dataframe tbody tr th {\n",
       "        vertical-align: top;\n",
       "    }\n",
       "\n",
       "    .dataframe thead th {\n",
       "        text-align: right;\n",
       "    }\n",
       "</style>\n",
       "<table border=\"1\" class=\"dataframe\">\n",
       "  <thead>\n",
       "    <tr style=\"text-align: right;\">\n",
       "      <th></th>\n",
       "      <th>A</th>\n",
       "      <th>B</th>\n",
       "      <th>C</th>\n",
       "      <th>D</th>\n",
       "      <th>E</th>\n",
       "      <th>F</th>\n",
       "      <th>G</th>\n",
       "      <th>H</th>\n",
       "    </tr>\n",
       "  </thead>\n",
       "  <tbody>\n",
       "    <tr>\n",
       "      <th>1</th>\n",
       "      <td>1.481590</td>\n",
       "      <td>1.969031</td>\n",
       "      <td>-1.562609</td>\n",
       "      <td>0.660918</td>\n",
       "      <td>-0.245025</td>\n",
       "      <td>-1.024508</td>\n",
       "      <td>0.692690</td>\n",
       "      <td>8</td>\n",
       "    </tr>\n",
       "    <tr>\n",
       "      <th>2</th>\n",
       "      <td>-1.410155</td>\n",
       "      <td>-0.862282</td>\n",
       "      <td>0.660701</td>\n",
       "      <td>1.364336</td>\n",
       "      <td>0.359741</td>\n",
       "      <td>0.182681</td>\n",
       "      <td>-1.206179</td>\n",
       "      <td>14</td>\n",
       "    </tr>\n",
       "    <tr>\n",
       "      <th>3</th>\n",
       "      <td>-0.402238</td>\n",
       "      <td>-0.999434</td>\n",
       "      <td>-1.575302</td>\n",
       "      <td>-0.445132</td>\n",
       "      <td>-0.509585</td>\n",
       "      <td>0.002012</td>\n",
       "      <td>-1.097855</td>\n",
       "      <td>4</td>\n",
       "    </tr>\n",
       "    <tr>\n",
       "      <th>4</th>\n",
       "      <td>-0.740087</td>\n",
       "      <td>-0.996299</td>\n",
       "      <td>-0.251916</td>\n",
       "      <td>-0.797560</td>\n",
       "      <td>0.997484</td>\n",
       "      <td>2.468255</td>\n",
       "      <td>-0.416426</td>\n",
       "      <td>34</td>\n",
       "    </tr>\n",
       "    <tr>\n",
       "      <th>5</th>\n",
       "      <td>0.652998</td>\n",
       "      <td>1.522702</td>\n",
       "      <td>1.008412</td>\n",
       "      <td>1.314283</td>\n",
       "      <td>-0.496594</td>\n",
       "      <td>-0.552968</td>\n",
       "      <td>-0.252362</td>\n",
       "      <td>28</td>\n",
       "    </tr>\n",
       "    <tr>\n",
       "      <th>6</th>\n",
       "      <td>-0.016693</td>\n",
       "      <td>0.609687</td>\n",
       "      <td>0.735745</td>\n",
       "      <td>-0.641789</td>\n",
       "      <td>0.636975</td>\n",
       "      <td>-1.856851</td>\n",
       "      <td>-0.914444</td>\n",
       "      <td>45</td>\n",
       "    </tr>\n",
       "  </tbody>\n",
       "</table>\n",
       "</div>"
      ],
      "text/plain": [
       "          A         B         C         D         E         F         G   H\n",
       "1  1.481590  1.969031 -1.562609  0.660918 -0.245025 -1.024508  0.692690   8\n",
       "2 -1.410155 -0.862282  0.660701  1.364336  0.359741  0.182681 -1.206179  14\n",
       "3 -0.402238 -0.999434 -1.575302 -0.445132 -0.509585  0.002012 -1.097855   4\n",
       "4 -0.740087 -0.996299 -0.251916 -0.797560  0.997484  2.468255 -0.416426  34\n",
       "5  0.652998  1.522702  1.008412  1.314283 -0.496594 -0.552968 -0.252362  28\n",
       "6 -0.016693  0.609687  0.735745 -0.641789  0.636975 -1.856851 -0.914444  45"
      ]
     },
     "execution_count": 27,
     "metadata": {},
     "output_type": "execute_result"
    }
   ],
   "source": [
    "df0['H'] = np.random.randint(0, 100, 6) #deve respeitar as dimensões do DF já existente\n",
    "df0"
   ]
  },
  {
   "cell_type": "markdown",
   "id": "40f86a28-92f8-4575-93d6-c260caf1f1d8",
   "metadata": {},
   "source": [
    "### Deletando linhas e colunas"
   ]
  },
  {
   "cell_type": "code",
   "execution_count": 36,
   "id": "10dfe4a0-6d72-4876-a19a-db38390ac3ce",
   "metadata": {},
   "outputs": [
    {
     "data": {
      "text/html": [
       "<div>\n",
       "<style scoped>\n",
       "    .dataframe tbody tr th:only-of-type {\n",
       "        vertical-align: middle;\n",
       "    }\n",
       "\n",
       "    .dataframe tbody tr th {\n",
       "        vertical-align: top;\n",
       "    }\n",
       "\n",
       "    .dataframe thead th {\n",
       "        text-align: right;\n",
       "    }\n",
       "</style>\n",
       "<table border=\"1\" class=\"dataframe\">\n",
       "  <thead>\n",
       "    <tr style=\"text-align: right;\">\n",
       "      <th></th>\n",
       "      <th>A</th>\n",
       "      <th>B</th>\n",
       "      <th>C</th>\n",
       "      <th>D</th>\n",
       "      <th>E</th>\n",
       "      <th>F</th>\n",
       "      <th>G</th>\n",
       "    </tr>\n",
       "  </thead>\n",
       "  <tbody>\n",
       "    <tr>\n",
       "      <th>1</th>\n",
       "      <td>2.112972</td>\n",
       "      <td>-0.524794</td>\n",
       "      <td>0.378813</td>\n",
       "      <td>1.571393</td>\n",
       "      <td>0.484992</td>\n",
       "      <td>-0.062870</td>\n",
       "      <td>1.329515</td>\n",
       "    </tr>\n",
       "    <tr>\n",
       "      <th>2</th>\n",
       "      <td>-1.392032</td>\n",
       "      <td>1.749623</td>\n",
       "      <td>-1.797409</td>\n",
       "      <td>1.069238</td>\n",
       "      <td>1.846337</td>\n",
       "      <td>-0.649699</td>\n",
       "      <td>-0.836691</td>\n",
       "    </tr>\n",
       "    <tr>\n",
       "      <th>3</th>\n",
       "      <td>-0.565516</td>\n",
       "      <td>-0.897866</td>\n",
       "      <td>-2.038600</td>\n",
       "      <td>-0.116191</td>\n",
       "      <td>-1.566686</td>\n",
       "      <td>0.650690</td>\n",
       "      <td>0.706580</td>\n",
       "    </tr>\n",
       "    <tr>\n",
       "      <th>5</th>\n",
       "      <td>1.630562</td>\n",
       "      <td>-0.164614</td>\n",
       "      <td>0.340406</td>\n",
       "      <td>2.029252</td>\n",
       "      <td>-0.785929</td>\n",
       "      <td>-0.491308</td>\n",
       "      <td>-0.746148</td>\n",
       "    </tr>\n",
       "    <tr>\n",
       "      <th>6</th>\n",
       "      <td>0.647790</td>\n",
       "      <td>-0.408039</td>\n",
       "      <td>-0.633284</td>\n",
       "      <td>-1.221384</td>\n",
       "      <td>0.614792</td>\n",
       "      <td>-0.240898</td>\n",
       "      <td>-0.710083</td>\n",
       "    </tr>\n",
       "  </tbody>\n",
       "</table>\n",
       "</div>"
      ],
      "text/plain": [
       "          A         B         C         D         E         F         G\n",
       "1  2.112972 -0.524794  0.378813  1.571393  0.484992 -0.062870  1.329515\n",
       "2 -1.392032  1.749623 -1.797409  1.069238  1.846337 -0.649699 -0.836691\n",
       "3 -0.565516 -0.897866 -2.038600 -0.116191 -1.566686  0.650690  0.706580\n",
       "5  1.630562 -0.164614  0.340406  2.029252 -0.785929 -0.491308 -0.746148\n",
       "6  0.647790 -0.408039 -0.633284 -1.221384  0.614792 -0.240898 -0.710083"
      ]
     },
     "execution_count": 36,
     "metadata": {},
     "output_type": "execute_result"
    }
   ],
   "source": [
    "df0.drop(4, inplace=True) #deleta a linha de índice 4\n",
    "df0"
   ]
  },
  {
   "cell_type": "markdown",
   "id": "71ef2977-ba77-423d-86a1-04d2f9990147",
   "metadata": {},
   "source": [
    "Repare que o parâmetro inplace foi assinalado com True, para que a alteração fosse realizada no DF original em vez de só gerar uma cópia com a alteração."
   ]
  },
  {
   "cell_type": "code",
   "execution_count": 37,
   "id": "13bc99be-41b1-487a-8712-cab86585a53c",
   "metadata": {},
   "outputs": [
    {
     "data": {
      "text/html": [
       "<div>\n",
       "<style scoped>\n",
       "    .dataframe tbody tr th:only-of-type {\n",
       "        vertical-align: middle;\n",
       "    }\n",
       "\n",
       "    .dataframe tbody tr th {\n",
       "        vertical-align: top;\n",
       "    }\n",
       "\n",
       "    .dataframe thead th {\n",
       "        text-align: right;\n",
       "    }\n",
       "</style>\n",
       "<table border=\"1\" class=\"dataframe\">\n",
       "  <thead>\n",
       "    <tr style=\"text-align: right;\">\n",
       "      <th></th>\n",
       "      <th>A</th>\n",
       "      <th>B</th>\n",
       "      <th>D</th>\n",
       "      <th>E</th>\n",
       "      <th>F</th>\n",
       "      <th>G</th>\n",
       "    </tr>\n",
       "  </thead>\n",
       "  <tbody>\n",
       "    <tr>\n",
       "      <th>1</th>\n",
       "      <td>2.112972</td>\n",
       "      <td>-0.524794</td>\n",
       "      <td>1.571393</td>\n",
       "      <td>0.484992</td>\n",
       "      <td>-0.062870</td>\n",
       "      <td>1.329515</td>\n",
       "    </tr>\n",
       "    <tr>\n",
       "      <th>2</th>\n",
       "      <td>-1.392032</td>\n",
       "      <td>1.749623</td>\n",
       "      <td>1.069238</td>\n",
       "      <td>1.846337</td>\n",
       "      <td>-0.649699</td>\n",
       "      <td>-0.836691</td>\n",
       "    </tr>\n",
       "    <tr>\n",
       "      <th>3</th>\n",
       "      <td>-0.565516</td>\n",
       "      <td>-0.897866</td>\n",
       "      <td>-0.116191</td>\n",
       "      <td>-1.566686</td>\n",
       "      <td>0.650690</td>\n",
       "      <td>0.706580</td>\n",
       "    </tr>\n",
       "    <tr>\n",
       "      <th>5</th>\n",
       "      <td>1.630562</td>\n",
       "      <td>-0.164614</td>\n",
       "      <td>2.029252</td>\n",
       "      <td>-0.785929</td>\n",
       "      <td>-0.491308</td>\n",
       "      <td>-0.746148</td>\n",
       "    </tr>\n",
       "    <tr>\n",
       "      <th>6</th>\n",
       "      <td>0.647790</td>\n",
       "      <td>-0.408039</td>\n",
       "      <td>-1.221384</td>\n",
       "      <td>0.614792</td>\n",
       "      <td>-0.240898</td>\n",
       "      <td>-0.710083</td>\n",
       "    </tr>\n",
       "  </tbody>\n",
       "</table>\n",
       "</div>"
      ],
      "text/plain": [
       "          A         B         D         E         F         G\n",
       "1  2.112972 -0.524794  1.571393  0.484992 -0.062870  1.329515\n",
       "2 -1.392032  1.749623  1.069238  1.846337 -0.649699 -0.836691\n",
       "3 -0.565516 -0.897866 -0.116191 -1.566686  0.650690  0.706580\n",
       "5  1.630562 -0.164614  2.029252 -0.785929 -0.491308 -0.746148\n",
       "6  0.647790 -0.408039 -1.221384  0.614792 -0.240898 -0.710083"
      ]
     },
     "execution_count": 37,
     "metadata": {},
     "output_type": "execute_result"
    }
   ],
   "source": [
    "df0.drop('C', axis=1, inplace=True) #deleta a coluna C\n",
    "df0"
   ]
  },
  {
   "cell_type": "markdown",
   "id": "ff189f6c-adb8-44dc-a905-de65e9b5637e",
   "metadata": {},
   "source": [
    "Repare que o parâmetro axis foi ajustado para 1, indicando ao interpretador que a operação seria feita numa coluna."
   ]
  },
  {
   "cell_type": "markdown",
   "id": "0e98c2c2-b890-4e37-aa3c-d4286764f2f7",
   "metadata": {},
   "source": [
    "### Seleção condicional"
   ]
  },
  {
   "cell_type": "code",
   "execution_count": 50,
   "id": "2c46b5bf-dba6-4d44-97c8-35a8943219c6",
   "metadata": {},
   "outputs": [
    {
     "data": {
      "text/html": [
       "<div>\n",
       "<style scoped>\n",
       "    .dataframe tbody tr th:only-of-type {\n",
       "        vertical-align: middle;\n",
       "    }\n",
       "\n",
       "    .dataframe tbody tr th {\n",
       "        vertical-align: top;\n",
       "    }\n",
       "\n",
       "    .dataframe thead th {\n",
       "        text-align: right;\n",
       "    }\n",
       "</style>\n",
       "<table border=\"1\" class=\"dataframe\">\n",
       "  <thead>\n",
       "    <tr style=\"text-align: right;\">\n",
       "      <th></th>\n",
       "      <th>Real Madrid</th>\n",
       "      <th>Valência</th>\n",
       "      <th>Barcelona</th>\n",
       "    </tr>\n",
       "  </thead>\n",
       "  <tbody>\n",
       "    <tr>\n",
       "      <th>Liverpool</th>\n",
       "      <td>2.42</td>\n",
       "      <td>3.85</td>\n",
       "      <td>2.71</td>\n",
       "    </tr>\n",
       "    <tr>\n",
       "      <th>Arsenal</th>\n",
       "      <td>4.95</td>\n",
       "      <td>1.17</td>\n",
       "      <td>3.21</td>\n",
       "    </tr>\n",
       "    <tr>\n",
       "      <th>Tottenham</th>\n",
       "      <td>3.72</td>\n",
       "      <td>4.29</td>\n",
       "      <td>4.13</td>\n",
       "    </tr>\n",
       "    <tr>\n",
       "      <th>Man City</th>\n",
       "      <td>2.02</td>\n",
       "      <td>3.84</td>\n",
       "      <td>1.51</td>\n",
       "    </tr>\n",
       "  </tbody>\n",
       "</table>\n",
       "</div>"
      ],
      "text/plain": [
       "           Real Madrid  Valência  Barcelona\n",
       "Liverpool         2.42      3.85       2.71\n",
       "Arsenal           4.95      1.17       3.21\n",
       "Tottenham         3.72      4.29       4.13\n",
       "Man City          2.02      3.84       1.51"
      ]
     },
     "execution_count": 50,
     "metadata": {},
     "output_type": "execute_result"
    }
   ],
   "source": [
    "linhas = ['Liverpool', 'Arsenal', 'Tottenham', 'Man City']\n",
    "colunas = ['Real Madrid', 'Valência', 'Barcelona']\n",
    "xG = np.random.randint(50, 600, 12).reshape(4,3) / 100\n",
    "\n",
    "matchesxG = pd.DataFrame(xG, linhas, colunas)\n",
    "matchesxG"
   ]
  },
  {
   "cell_type": "code",
   "execution_count": 52,
   "id": "31919390-58a5-4f2c-b03a-1527accd6b70",
   "metadata": {},
   "outputs": [
    {
     "data": {
      "text/html": [
       "<div>\n",
       "<style scoped>\n",
       "    .dataframe tbody tr th:only-of-type {\n",
       "        vertical-align: middle;\n",
       "    }\n",
       "\n",
       "    .dataframe tbody tr th {\n",
       "        vertical-align: top;\n",
       "    }\n",
       "\n",
       "    .dataframe thead th {\n",
       "        text-align: right;\n",
       "    }\n",
       "</style>\n",
       "<table border=\"1\" class=\"dataframe\">\n",
       "  <thead>\n",
       "    <tr style=\"text-align: right;\">\n",
       "      <th></th>\n",
       "      <th>Real Madrid</th>\n",
       "      <th>Valência</th>\n",
       "      <th>Barcelona</th>\n",
       "    </tr>\n",
       "  </thead>\n",
       "  <tbody>\n",
       "    <tr>\n",
       "      <th>Liverpool</th>\n",
       "      <td>False</td>\n",
       "      <td>False</td>\n",
       "      <td>True</td>\n",
       "    </tr>\n",
       "    <tr>\n",
       "      <th>Arsenal</th>\n",
       "      <td>True</td>\n",
       "      <td>False</td>\n",
       "      <td>True</td>\n",
       "    </tr>\n",
       "    <tr>\n",
       "      <th>Tottenham</th>\n",
       "      <td>False</td>\n",
       "      <td>True</td>\n",
       "      <td>True</td>\n",
       "    </tr>\n",
       "    <tr>\n",
       "      <th>Man City</th>\n",
       "      <td>False</td>\n",
       "      <td>True</td>\n",
       "      <td>True</td>\n",
       "    </tr>\n",
       "  </tbody>\n",
       "</table>\n",
       "</div>"
      ],
      "text/plain": [
       "           Real Madrid  Valência  Barcelona\n",
       "Liverpool        False     False       True\n",
       "Arsenal           True     False       True\n",
       "Tottenham        False      True       True\n",
       "Man City         False      True       True"
      ]
     },
     "execution_count": 52,
     "metadata": {},
     "output_type": "execute_result"
    }
   ],
   "source": [
    "cond = df0 > 2\n",
    "cond"
   ]
  },
  {
   "cell_type": "markdown",
   "id": "34e7902e-e26e-4a6b-95f6-e75a7ab47fe8",
   "metadata": {},
   "source": [
    "É criado um Data Frame com dados booleanos indicando se o dado do DF original cumpre a condição."
   ]
  },
  {
   "cell_type": "code",
   "execution_count": 53,
   "id": "90f5b9b7-a3e5-4597-8161-b068caa31384",
   "metadata": {},
   "outputs": [
    {
     "data": {
      "text/html": [
       "<div>\n",
       "<style scoped>\n",
       "    .dataframe tbody tr th:only-of-type {\n",
       "        vertical-align: middle;\n",
       "    }\n",
       "\n",
       "    .dataframe tbody tr th {\n",
       "        vertical-align: top;\n",
       "    }\n",
       "\n",
       "    .dataframe thead th {\n",
       "        text-align: right;\n",
       "    }\n",
       "</style>\n",
       "<table border=\"1\" class=\"dataframe\">\n",
       "  <thead>\n",
       "    <tr style=\"text-align: right;\">\n",
       "      <th></th>\n",
       "      <th>Real Madrid</th>\n",
       "      <th>Valência</th>\n",
       "      <th>Barcelona</th>\n",
       "    </tr>\n",
       "  </thead>\n",
       "  <tbody>\n",
       "    <tr>\n",
       "      <th>Liverpool</th>\n",
       "      <td>NaN</td>\n",
       "      <td>NaN</td>\n",
       "      <td>2.71</td>\n",
       "    </tr>\n",
       "    <tr>\n",
       "      <th>Arsenal</th>\n",
       "      <td>4.95</td>\n",
       "      <td>NaN</td>\n",
       "      <td>3.21</td>\n",
       "    </tr>\n",
       "    <tr>\n",
       "      <th>Tottenham</th>\n",
       "      <td>NaN</td>\n",
       "      <td>4.29</td>\n",
       "      <td>4.13</td>\n",
       "    </tr>\n",
       "    <tr>\n",
       "      <th>Man City</th>\n",
       "      <td>NaN</td>\n",
       "      <td>3.84</td>\n",
       "      <td>1.51</td>\n",
       "    </tr>\n",
       "  </tbody>\n",
       "</table>\n",
       "</div>"
      ],
      "text/plain": [
       "           Real Madrid  Valência  Barcelona\n",
       "Liverpool          NaN       NaN       2.71\n",
       "Arsenal           4.95       NaN       3.21\n",
       "Tottenham          NaN      4.29       4.13\n",
       "Man City           NaN      3.84       1.51"
      ]
     },
     "execution_count": 53,
     "metadata": {},
     "output_type": "execute_result"
    }
   ],
   "source": [
    "matchesxG[cond]"
   ]
  },
  {
   "cell_type": "markdown",
   "id": "cbdf64c4-10d3-43dd-8c77-d9ea8a3ce790",
   "metadata": {},
   "source": [
    "Os valores que não cumprem a condição ficam com valores nulos."
   ]
  },
  {
   "cell_type": "code",
   "execution_count": 55,
   "id": "5bfdb0cf-9e39-4b35-952d-cb1d4b36ce1c",
   "metadata": {},
   "outputs": [
    {
     "data": {
      "text/html": [
       "<div>\n",
       "<style scoped>\n",
       "    .dataframe tbody tr th:only-of-type {\n",
       "        vertical-align: middle;\n",
       "    }\n",
       "\n",
       "    .dataframe tbody tr th {\n",
       "        vertical-align: top;\n",
       "    }\n",
       "\n",
       "    .dataframe thead th {\n",
       "        text-align: right;\n",
       "    }\n",
       "</style>\n",
       "<table border=\"1\" class=\"dataframe\">\n",
       "  <thead>\n",
       "    <tr style=\"text-align: right;\">\n",
       "      <th></th>\n",
       "      <th>Real Madrid</th>\n",
       "      <th>Valência</th>\n",
       "      <th>Barcelona</th>\n",
       "    </tr>\n",
       "  </thead>\n",
       "  <tbody>\n",
       "    <tr>\n",
       "      <th>Liverpool</th>\n",
       "      <td>2.42</td>\n",
       "      <td>3.85</td>\n",
       "      <td>2.71</td>\n",
       "    </tr>\n",
       "    <tr>\n",
       "      <th>Arsenal</th>\n",
       "      <td>4.95</td>\n",
       "      <td>1.17</td>\n",
       "      <td>3.21</td>\n",
       "    </tr>\n",
       "    <tr>\n",
       "      <th>Tottenham</th>\n",
       "      <td>3.72</td>\n",
       "      <td>4.29</td>\n",
       "      <td>4.13</td>\n",
       "    </tr>\n",
       "  </tbody>\n",
       "</table>\n",
       "</div>"
      ],
      "text/plain": [
       "           Real Madrid  Valência  Barcelona\n",
       "Liverpool         2.42      3.85       2.71\n",
       "Arsenal           4.95      1.17       3.21\n",
       "Tottenham         3.72      4.29       4.13"
      ]
     },
     "execution_count": 55,
     "metadata": {},
     "output_type": "execute_result"
    }
   ],
   "source": [
    "matchesxG[matchesxG['Barcelona'] > 2]"
   ]
  },
  {
   "cell_type": "markdown",
   "id": "d68dfcfe-be5a-4385-8258-6c44726054e3",
   "metadata": {},
   "source": [
    "Retornou um DF apenas com a linhas onde a coluna Barcelona é > 2."
   ]
  },
  {
   "cell_type": "code",
   "execution_count": 61,
   "id": "514d9e88-52f3-4bfa-ae13-6385cd23809a",
   "metadata": {},
   "outputs": [
    {
     "data": {
      "text/html": [
       "<div>\n",
       "<style scoped>\n",
       "    .dataframe tbody tr th:only-of-type {\n",
       "        vertical-align: middle;\n",
       "    }\n",
       "\n",
       "    .dataframe tbody tr th {\n",
       "        vertical-align: top;\n",
       "    }\n",
       "\n",
       "    .dataframe thead th {\n",
       "        text-align: right;\n",
       "    }\n",
       "</style>\n",
       "<table border=\"1\" class=\"dataframe\">\n",
       "  <thead>\n",
       "    <tr style=\"text-align: right;\">\n",
       "      <th></th>\n",
       "      <th>Real Madrid</th>\n",
       "      <th>Valência</th>\n",
       "      <th>Barcelona</th>\n",
       "    </tr>\n",
       "  </thead>\n",
       "  <tbody>\n",
       "    <tr>\n",
       "      <th>Arsenal</th>\n",
       "      <td>4.95</td>\n",
       "      <td>1.17</td>\n",
       "      <td>3.21</td>\n",
       "    </tr>\n",
       "  </tbody>\n",
       "</table>\n",
       "</div>"
      ],
      "text/plain": [
       "         Real Madrid  Valência  Barcelona\n",
       "Arsenal         4.95      1.17       3.21"
      ]
     },
     "execution_count": 61,
     "metadata": {},
     "output_type": "execute_result"
    }
   ],
   "source": [
    "matchesxG[(matchesxG['Real Madrid'] > 3) & (matchesxG['Barcelona'] < 4)]"
   ]
  },
  {
   "cell_type": "markdown",
   "id": "4472ae57-7d53-4a1a-abe8-700d76f92b8c",
   "metadata": {},
   "source": [
    "É possível utilizar mais de uma condição com operadores condicionais."
   ]
  },
  {
   "cell_type": "code",
   "execution_count": 64,
   "id": "f9356c39-f727-4b1f-a130-7639225eacdf",
   "metadata": {},
   "outputs": [
    {
     "data": {
      "text/plain": [
       "Arsenal    3.21\n",
       "Name: Barcelona, dtype: float64"
      ]
     },
     "execution_count": 64,
     "metadata": {},
     "output_type": "execute_result"
    }
   ],
   "source": [
    "matchesxG[matchesxG['Valência'] < 2]['Barcelona'] #seleciona a linha em Barcelona na qual Valência < 2"
   ]
  },
  {
   "cell_type": "code",
   "execution_count": 73,
   "id": "4d809b11-68a4-46da-8ed9-d59f3f713820",
   "metadata": {},
   "outputs": [
    {
     "data": {
      "text/html": [
       "<div>\n",
       "<style scoped>\n",
       "    .dataframe tbody tr th:only-of-type {\n",
       "        vertical-align: middle;\n",
       "    }\n",
       "\n",
       "    .dataframe tbody tr th {\n",
       "        vertical-align: top;\n",
       "    }\n",
       "\n",
       "    .dataframe thead th {\n",
       "        text-align: right;\n",
       "    }\n",
       "</style>\n",
       "<table border=\"1\" class=\"dataframe\">\n",
       "  <thead>\n",
       "    <tr style=\"text-align: right;\">\n",
       "      <th></th>\n",
       "      <th>Real Madrid</th>\n",
       "      <th>Valência</th>\n",
       "      <th>Barcelona</th>\n",
       "    </tr>\n",
       "  </thead>\n",
       "  <tbody>\n",
       "    <tr>\n",
       "      <th>Liverpool</th>\n",
       "      <td>2.42</td>\n",
       "      <td>3.85</td>\n",
       "      <td>2.71</td>\n",
       "    </tr>\n",
       "    <tr>\n",
       "      <th>Man City</th>\n",
       "      <td>2.02</td>\n",
       "      <td>3.84</td>\n",
       "      <td>1.51</td>\n",
       "    </tr>\n",
       "  </tbody>\n",
       "</table>\n",
       "</div>"
      ],
      "text/plain": [
       "           Real Madrid  Valência  Barcelona\n",
       "Liverpool         2.42      3.85       2.71\n",
       "Man City          2.02      3.84       1.51"
      ]
     },
     "execution_count": 73,
     "metadata": {},
     "output_type": "execute_result"
    }
   ],
   "source": [
    "matchesxG[(matchesxG['Real Madrid'] < 2.5) | (matchesxG['Barcelona'] < 3)] #condicional OU"
   ]
  },
  {
   "cell_type": "markdown",
   "id": "6b89fdf4-3a76-4959-9cfd-920b8a1202ba",
   "metadata": {},
   "source": [
    "### Set e Reset Índices"
   ]
  },
  {
   "cell_type": "code",
   "execution_count": 74,
   "id": "d2d19b81-9c2d-46e5-b486-2c22cec6be82",
   "metadata": {},
   "outputs": [
    {
     "data": {
      "text/html": [
       "<div>\n",
       "<style scoped>\n",
       "    .dataframe tbody tr th:only-of-type {\n",
       "        vertical-align: middle;\n",
       "    }\n",
       "\n",
       "    .dataframe tbody tr th {\n",
       "        vertical-align: top;\n",
       "    }\n",
       "\n",
       "    .dataframe thead th {\n",
       "        text-align: right;\n",
       "    }\n",
       "</style>\n",
       "<table border=\"1\" class=\"dataframe\">\n",
       "  <thead>\n",
       "    <tr style=\"text-align: right;\">\n",
       "      <th></th>\n",
       "      <th>index</th>\n",
       "      <th>Real Madrid</th>\n",
       "      <th>Valência</th>\n",
       "      <th>Barcelona</th>\n",
       "    </tr>\n",
       "  </thead>\n",
       "  <tbody>\n",
       "    <tr>\n",
       "      <th>0</th>\n",
       "      <td>Liverpool</td>\n",
       "      <td>2.42</td>\n",
       "      <td>3.85</td>\n",
       "      <td>2.71</td>\n",
       "    </tr>\n",
       "    <tr>\n",
       "      <th>1</th>\n",
       "      <td>Arsenal</td>\n",
       "      <td>4.95</td>\n",
       "      <td>1.17</td>\n",
       "      <td>3.21</td>\n",
       "    </tr>\n",
       "    <tr>\n",
       "      <th>2</th>\n",
       "      <td>Tottenham</td>\n",
       "      <td>3.72</td>\n",
       "      <td>4.29</td>\n",
       "      <td>4.13</td>\n",
       "    </tr>\n",
       "    <tr>\n",
       "      <th>3</th>\n",
       "      <td>Man City</td>\n",
       "      <td>2.02</td>\n",
       "      <td>3.84</td>\n",
       "      <td>1.51</td>\n",
       "    </tr>\n",
       "  </tbody>\n",
       "</table>\n",
       "</div>"
      ],
      "text/plain": [
       "       index  Real Madrid  Valência  Barcelona\n",
       "0  Liverpool         2.42      3.85       2.71\n",
       "1    Arsenal         4.95      1.17       3.21\n",
       "2  Tottenham         3.72      4.29       4.13\n",
       "3   Man City         2.02      3.84       1.51"
      ]
     },
     "execution_count": 74,
     "metadata": {},
     "output_type": "execute_result"
    }
   ],
   "source": [
    "matchesxG.reset_index(inplace=True)\n",
    "matchesxG"
   ]
  },
  {
   "cell_type": "markdown",
   "id": "1990006d-3e31-40ba-8ed6-be95f4270045",
   "metadata": {},
   "source": [
    "O índice é assinalado com o padrão e os antigos índices viram uma nova coluna."
   ]
  },
  {
   "cell_type": "code",
   "execution_count": 76,
   "id": "505db934-44b2-456a-8a63-183806f63ce5",
   "metadata": {},
   "outputs": [
    {
     "data": {
      "text/html": [
       "<div>\n",
       "<style scoped>\n",
       "    .dataframe tbody tr th:only-of-type {\n",
       "        vertical-align: middle;\n",
       "    }\n",
       "\n",
       "    .dataframe tbody tr th {\n",
       "        vertical-align: top;\n",
       "    }\n",
       "\n",
       "    .dataframe thead th {\n",
       "        text-align: right;\n",
       "    }\n",
       "</style>\n",
       "<table border=\"1\" class=\"dataframe\">\n",
       "  <thead>\n",
       "    <tr style=\"text-align: right;\">\n",
       "      <th></th>\n",
       "      <th>index</th>\n",
       "      <th>Real Madrid</th>\n",
       "      <th>Valência</th>\n",
       "      <th>Barcelona</th>\n",
       "    </tr>\n",
       "    <tr>\n",
       "      <th>new_index</th>\n",
       "      <th></th>\n",
       "      <th></th>\n",
       "      <th></th>\n",
       "      <th></th>\n",
       "    </tr>\n",
       "  </thead>\n",
       "  <tbody>\n",
       "    <tr>\n",
       "      <th>A</th>\n",
       "      <td>Liverpool</td>\n",
       "      <td>2.42</td>\n",
       "      <td>3.85</td>\n",
       "      <td>2.71</td>\n",
       "    </tr>\n",
       "    <tr>\n",
       "      <th>B</th>\n",
       "      <td>Arsenal</td>\n",
       "      <td>4.95</td>\n",
       "      <td>1.17</td>\n",
       "      <td>3.21</td>\n",
       "    </tr>\n",
       "    <tr>\n",
       "      <th>C</th>\n",
       "      <td>Tottenham</td>\n",
       "      <td>3.72</td>\n",
       "      <td>4.29</td>\n",
       "      <td>4.13</td>\n",
       "    </tr>\n",
       "    <tr>\n",
       "      <th>D</th>\n",
       "      <td>Man City</td>\n",
       "      <td>2.02</td>\n",
       "      <td>3.84</td>\n",
       "      <td>1.51</td>\n",
       "    </tr>\n",
       "  </tbody>\n",
       "</table>\n",
       "</div>"
      ],
      "text/plain": [
       "               index  Real Madrid  Valência  Barcelona\n",
       "new_index                                             \n",
       "A          Liverpool         2.42      3.85       2.71\n",
       "B            Arsenal         4.95      1.17       3.21\n",
       "C          Tottenham         3.72      4.29       4.13\n",
       "D           Man City         2.02      3.84       1.51"
      ]
     },
     "execution_count": 76,
     "metadata": {},
     "output_type": "execute_result"
    }
   ],
   "source": [
    "matchesxG['new_index'] = 'A B C D'.split()\n",
    "matchesxG.set_index('new_index', inplace=True)\n",
    "matchesxG"
   ]
  },
  {
   "cell_type": "markdown",
   "id": "d4896532-4755-4d93-abdf-96bef74722ab",
   "metadata": {},
   "source": [
    "É possível definir o índice como sendo uma das colunas"
   ]
  },
  {
   "cell_type": "markdown",
   "id": "ca220589-a468-4486-80d5-68347f1811d4",
   "metadata": {},
   "source": [
    "# Índices multiníveis"
   ]
  },
  {
   "cell_type": "code",
   "execution_count": 78,
   "id": "0b237ce3-2db2-43db-b4e1-c6d882e54b97",
   "metadata": {},
   "outputs": [],
   "source": [
    "outside = ['G1','G1','G1', 'G2', 'G2', 'G2']\n",
    "inside = [1,2,3,1,2,3]\n",
    "mult_index = list(zip(outside, inside))\n",
    "mult_index = pd.MultiIndex.from_tuples(mult_index)"
   ]
  },
  {
   "cell_type": "code",
   "execution_count": 79,
   "id": "92374eb0-f4ad-4c1d-82f2-7c96b2fba309",
   "metadata": {},
   "outputs": [
    {
     "data": {
      "text/html": [
       "<div>\n",
       "<style scoped>\n",
       "    .dataframe tbody tr th:only-of-type {\n",
       "        vertical-align: middle;\n",
       "    }\n",
       "\n",
       "    .dataframe tbody tr th {\n",
       "        vertical-align: top;\n",
       "    }\n",
       "\n",
       "    .dataframe thead th {\n",
       "        text-align: right;\n",
       "    }\n",
       "</style>\n",
       "<table border=\"1\" class=\"dataframe\">\n",
       "  <thead>\n",
       "    <tr style=\"text-align: right;\">\n",
       "      <th></th>\n",
       "      <th></th>\n",
       "      <th>A</th>\n",
       "      <th>B</th>\n",
       "      <th>C</th>\n",
       "      <th>D</th>\n",
       "    </tr>\n",
       "  </thead>\n",
       "  <tbody>\n",
       "    <tr>\n",
       "      <th rowspan=\"3\" valign=\"top\">G1</th>\n",
       "      <th>1</th>\n",
       "      <td>0.329978</td>\n",
       "      <td>-0.656507</td>\n",
       "      <td>0.730698</td>\n",
       "      <td>-0.201580</td>\n",
       "    </tr>\n",
       "    <tr>\n",
       "      <th>2</th>\n",
       "      <td>1.248446</td>\n",
       "      <td>-0.769487</td>\n",
       "      <td>0.582923</td>\n",
       "      <td>1.359677</td>\n",
       "    </tr>\n",
       "    <tr>\n",
       "      <th>3</th>\n",
       "      <td>1.341377</td>\n",
       "      <td>-0.825268</td>\n",
       "      <td>-0.874363</td>\n",
       "      <td>0.230298</td>\n",
       "    </tr>\n",
       "    <tr>\n",
       "      <th rowspan=\"3\" valign=\"top\">G2</th>\n",
       "      <th>1</th>\n",
       "      <td>-0.121380</td>\n",
       "      <td>0.067832</td>\n",
       "      <td>-0.493369</td>\n",
       "      <td>0.190043</td>\n",
       "    </tr>\n",
       "    <tr>\n",
       "      <th>2</th>\n",
       "      <td>0.898001</td>\n",
       "      <td>-1.251476</td>\n",
       "      <td>-0.079760</td>\n",
       "      <td>0.106813</td>\n",
       "    </tr>\n",
       "    <tr>\n",
       "      <th>3</th>\n",
       "      <td>-1.641031</td>\n",
       "      <td>0.142648</td>\n",
       "      <td>-0.549596</td>\n",
       "      <td>0.864095</td>\n",
       "    </tr>\n",
       "  </tbody>\n",
       "</table>\n",
       "</div>"
      ],
      "text/plain": [
       "             A         B         C         D\n",
       "G1 1  0.329978 -0.656507  0.730698 -0.201580\n",
       "   2  1.248446 -0.769487  0.582923  1.359677\n",
       "   3  1.341377 -0.825268 -0.874363  0.230298\n",
       "G2 1 -0.121380  0.067832 -0.493369  0.190043\n",
       "   2  0.898001 -1.251476 -0.079760  0.106813\n",
       "   3 -1.641031  0.142648 -0.549596  0.864095"
      ]
     },
     "execution_count": 79,
     "metadata": {},
     "output_type": "execute_result"
    }
   ],
   "source": [
    "dfm = pd.DataFrame(np.random.randn(6,4), mult_index, 'A B C D'.split())\n",
    "dfm"
   ]
  },
  {
   "cell_type": "markdown",
   "id": "72339e5e-6399-4f6b-9628-127ed0b31633",
   "metadata": {},
   "source": [
    "Gerou um Data Frame multinível (tem 2 níveis externos com 3 internos cada)."
   ]
  },
  {
   "cell_type": "code",
   "execution_count": 81,
   "id": "87a88481-37bf-47a4-8cbf-d246c21eb560",
   "metadata": {},
   "outputs": [
    {
     "data": {
      "text/html": [
       "<div>\n",
       "<style scoped>\n",
       "    .dataframe tbody tr th:only-of-type {\n",
       "        vertical-align: middle;\n",
       "    }\n",
       "\n",
       "    .dataframe tbody tr th {\n",
       "        vertical-align: top;\n",
       "    }\n",
       "\n",
       "    .dataframe thead th {\n",
       "        text-align: right;\n",
       "    }\n",
       "</style>\n",
       "<table border=\"1\" class=\"dataframe\">\n",
       "  <thead>\n",
       "    <tr style=\"text-align: right;\">\n",
       "      <th></th>\n",
       "      <th>A</th>\n",
       "      <th>B</th>\n",
       "      <th>C</th>\n",
       "      <th>D</th>\n",
       "    </tr>\n",
       "  </thead>\n",
       "  <tbody>\n",
       "    <tr>\n",
       "      <th>1</th>\n",
       "      <td>0.329978</td>\n",
       "      <td>-0.656507</td>\n",
       "      <td>0.730698</td>\n",
       "      <td>-0.201580</td>\n",
       "    </tr>\n",
       "    <tr>\n",
       "      <th>2</th>\n",
       "      <td>1.248446</td>\n",
       "      <td>-0.769487</td>\n",
       "      <td>0.582923</td>\n",
       "      <td>1.359677</td>\n",
       "    </tr>\n",
       "    <tr>\n",
       "      <th>3</th>\n",
       "      <td>1.341377</td>\n",
       "      <td>-0.825268</td>\n",
       "      <td>-0.874363</td>\n",
       "      <td>0.230298</td>\n",
       "    </tr>\n",
       "  </tbody>\n",
       "</table>\n",
       "</div>"
      ],
      "text/plain": [
       "          A         B         C         D\n",
       "1  0.329978 -0.656507  0.730698 -0.201580\n",
       "2  1.248446 -0.769487  0.582923  1.359677\n",
       "3  1.341377 -0.825268 -0.874363  0.230298"
      ]
     },
     "execution_count": 81,
     "metadata": {},
     "output_type": "execute_result"
    }
   ],
   "source": [
    "dfm.loc['G1'] #recorte com um dos índices externos, retorna outro DF"
   ]
  },
  {
   "cell_type": "code",
   "execution_count": 83,
   "id": "21e116f3-706d-4cc9-ad8c-b9015959a258",
   "metadata": {},
   "outputs": [
    {
     "data": {
      "text/plain": [
       "A    1.248446\n",
       "B   -0.769487\n",
       "C    0.582923\n",
       "D    1.359677\n",
       "Name: 2, dtype: float64"
      ]
     },
     "execution_count": 83,
     "metadata": {},
     "output_type": "execute_result"
    }
   ],
   "source": [
    "dfm.loc['G1'].loc[2] #como são dois níveis de índice, é necessário usar o loc em série para acessar uma linha"
   ]
  },
  {
   "cell_type": "code",
   "execution_count": 85,
   "id": "c4dfaaa3-3b85-4eed-b827-7d256363d0f1",
   "metadata": {},
   "outputs": [
    {
     "data": {
      "text/html": [
       "<div>\n",
       "<style scoped>\n",
       "    .dataframe tbody tr th:only-of-type {\n",
       "        vertical-align: middle;\n",
       "    }\n",
       "\n",
       "    .dataframe tbody tr th {\n",
       "        vertical-align: top;\n",
       "    }\n",
       "\n",
       "    .dataframe thead th {\n",
       "        text-align: right;\n",
       "    }\n",
       "</style>\n",
       "<table border=\"1\" class=\"dataframe\">\n",
       "  <thead>\n",
       "    <tr style=\"text-align: right;\">\n",
       "      <th></th>\n",
       "      <th></th>\n",
       "      <th>A</th>\n",
       "      <th>B</th>\n",
       "      <th>C</th>\n",
       "      <th>D</th>\n",
       "    </tr>\n",
       "    <tr>\n",
       "      <th>grupo</th>\n",
       "      <th>numero</th>\n",
       "      <th></th>\n",
       "      <th></th>\n",
       "      <th></th>\n",
       "      <th></th>\n",
       "    </tr>\n",
       "  </thead>\n",
       "  <tbody>\n",
       "    <tr>\n",
       "      <th rowspan=\"3\" valign=\"top\">G1</th>\n",
       "      <th>1</th>\n",
       "      <td>0.329978</td>\n",
       "      <td>-0.656507</td>\n",
       "      <td>0.730698</td>\n",
       "      <td>-0.201580</td>\n",
       "    </tr>\n",
       "    <tr>\n",
       "      <th>2</th>\n",
       "      <td>1.248446</td>\n",
       "      <td>-0.769487</td>\n",
       "      <td>0.582923</td>\n",
       "      <td>1.359677</td>\n",
       "    </tr>\n",
       "    <tr>\n",
       "      <th>3</th>\n",
       "      <td>1.341377</td>\n",
       "      <td>-0.825268</td>\n",
       "      <td>-0.874363</td>\n",
       "      <td>0.230298</td>\n",
       "    </tr>\n",
       "    <tr>\n",
       "      <th rowspan=\"3\" valign=\"top\">G2</th>\n",
       "      <th>1</th>\n",
       "      <td>-0.121380</td>\n",
       "      <td>0.067832</td>\n",
       "      <td>-0.493369</td>\n",
       "      <td>0.190043</td>\n",
       "    </tr>\n",
       "    <tr>\n",
       "      <th>2</th>\n",
       "      <td>0.898001</td>\n",
       "      <td>-1.251476</td>\n",
       "      <td>-0.079760</td>\n",
       "      <td>0.106813</td>\n",
       "    </tr>\n",
       "    <tr>\n",
       "      <th>3</th>\n",
       "      <td>-1.641031</td>\n",
       "      <td>0.142648</td>\n",
       "      <td>-0.549596</td>\n",
       "      <td>0.864095</td>\n",
       "    </tr>\n",
       "  </tbody>\n",
       "</table>\n",
       "</div>"
      ],
      "text/plain": [
       "                     A         B         C         D\n",
       "grupo numero                                        \n",
       "G1    1       0.329978 -0.656507  0.730698 -0.201580\n",
       "      2       1.248446 -0.769487  0.582923  1.359677\n",
       "      3       1.341377 -0.825268 -0.874363  0.230298\n",
       "G2    1      -0.121380  0.067832 -0.493369  0.190043\n",
       "      2       0.898001 -1.251476 -0.079760  0.106813\n",
       "      3      -1.641031  0.142648 -0.549596  0.864095"
      ]
     },
     "execution_count": 85,
     "metadata": {},
     "output_type": "execute_result"
    }
   ],
   "source": [
    "dfm.index.names = ['grupo', 'numero'] #define nomes para os níveis de índices\n",
    "dfm"
   ]
  },
  {
   "cell_type": "code",
   "execution_count": 86,
   "id": "0945b853-7267-4e69-b2e4-c96adc01abcb",
   "metadata": {},
   "outputs": [
    {
     "data": {
      "text/html": [
       "<div>\n",
       "<style scoped>\n",
       "    .dataframe tbody tr th:only-of-type {\n",
       "        vertical-align: middle;\n",
       "    }\n",
       "\n",
       "    .dataframe tbody tr th {\n",
       "        vertical-align: top;\n",
       "    }\n",
       "\n",
       "    .dataframe thead th {\n",
       "        text-align: right;\n",
       "    }\n",
       "</style>\n",
       "<table border=\"1\" class=\"dataframe\">\n",
       "  <thead>\n",
       "    <tr style=\"text-align: right;\">\n",
       "      <th></th>\n",
       "      <th>A</th>\n",
       "      <th>B</th>\n",
       "      <th>C</th>\n",
       "      <th>D</th>\n",
       "    </tr>\n",
       "    <tr>\n",
       "      <th>numero</th>\n",
       "      <th></th>\n",
       "      <th></th>\n",
       "      <th></th>\n",
       "      <th></th>\n",
       "    </tr>\n",
       "  </thead>\n",
       "  <tbody>\n",
       "    <tr>\n",
       "      <th>1</th>\n",
       "      <td>-0.121380</td>\n",
       "      <td>0.067832</td>\n",
       "      <td>-0.493369</td>\n",
       "      <td>0.190043</td>\n",
       "    </tr>\n",
       "    <tr>\n",
       "      <th>2</th>\n",
       "      <td>0.898001</td>\n",
       "      <td>-1.251476</td>\n",
       "      <td>-0.079760</td>\n",
       "      <td>0.106813</td>\n",
       "    </tr>\n",
       "    <tr>\n",
       "      <th>3</th>\n",
       "      <td>-1.641031</td>\n",
       "      <td>0.142648</td>\n",
       "      <td>-0.549596</td>\n",
       "      <td>0.864095</td>\n",
       "    </tr>\n",
       "  </tbody>\n",
       "</table>\n",
       "</div>"
      ],
      "text/plain": [
       "               A         B         C         D\n",
       "numero                                        \n",
       "1      -0.121380  0.067832 -0.493369  0.190043\n",
       "2       0.898001 -1.251476 -0.079760  0.106813\n",
       "3      -1.641031  0.142648 -0.549596  0.864095"
      ]
     },
     "execution_count": 86,
     "metadata": {},
     "output_type": "execute_result"
    }
   ],
   "source": [
    "dfm.xs('G2') #forma alternativa de acessar elementos do DF multinível"
   ]
  },
  {
   "cell_type": "code",
   "execution_count": 88,
   "id": "f58cc34d-7a93-4ef2-abd7-cc01a13d21a9",
   "metadata": {},
   "outputs": [
    {
     "data": {
      "text/html": [
       "<div>\n",
       "<style scoped>\n",
       "    .dataframe tbody tr th:only-of-type {\n",
       "        vertical-align: middle;\n",
       "    }\n",
       "\n",
       "    .dataframe tbody tr th {\n",
       "        vertical-align: top;\n",
       "    }\n",
       "\n",
       "    .dataframe thead th {\n",
       "        text-align: right;\n",
       "    }\n",
       "</style>\n",
       "<table border=\"1\" class=\"dataframe\">\n",
       "  <thead>\n",
       "    <tr style=\"text-align: right;\">\n",
       "      <th></th>\n",
       "      <th>A</th>\n",
       "      <th>B</th>\n",
       "      <th>C</th>\n",
       "      <th>D</th>\n",
       "    </tr>\n",
       "    <tr>\n",
       "      <th>grupo</th>\n",
       "      <th></th>\n",
       "      <th></th>\n",
       "      <th></th>\n",
       "      <th></th>\n",
       "    </tr>\n",
       "  </thead>\n",
       "  <tbody>\n",
       "    <tr>\n",
       "      <th>G1</th>\n",
       "      <td>1.248446</td>\n",
       "      <td>-0.769487</td>\n",
       "      <td>0.582923</td>\n",
       "      <td>1.359677</td>\n",
       "    </tr>\n",
       "    <tr>\n",
       "      <th>G2</th>\n",
       "      <td>0.898001</td>\n",
       "      <td>-1.251476</td>\n",
       "      <td>-0.079760</td>\n",
       "      <td>0.106813</td>\n",
       "    </tr>\n",
       "  </tbody>\n",
       "</table>\n",
       "</div>"
      ],
      "text/plain": [
       "              A         B         C         D\n",
       "grupo                                        \n",
       "G1     1.248446 -0.769487  0.582923  1.359677\n",
       "G2     0.898001 -1.251476 -0.079760  0.106813"
      ]
     },
     "execution_count": 88,
     "metadata": {},
     "output_type": "execute_result"
    }
   ],
   "source": [
    "dfm.xs(2, level='numero') #com o xs (cross-section) é possível acessar diretamente o nível interno"
   ]
  },
  {
   "cell_type": "markdown",
   "id": "ec50f3d8-ec86-49f4-9cea-5bf4cfb47ce6",
   "metadata": {},
   "source": [
    "Retornou todos os valores de índice interno 2 com seus respectivos grupos (níveis externos)."
   ]
  },
  {
   "cell_type": "code",
   "execution_count": 10,
   "id": "4178f6ce-3cdf-485d-a157-34497e7569bb",
   "metadata": {},
   "outputs": [
    {
     "data": {
      "text/html": [
       "<div>\n",
       "<style scoped>\n",
       "    .dataframe tbody tr th:only-of-type {\n",
       "        vertical-align: middle;\n",
       "    }\n",
       "\n",
       "    .dataframe tbody tr th {\n",
       "        vertical-align: top;\n",
       "    }\n",
       "\n",
       "    .dataframe thead th {\n",
       "        text-align: right;\n",
       "    }\n",
       "</style>\n",
       "<table border=\"1\" class=\"dataframe\">\n",
       "  <thead>\n",
       "    <tr style=\"text-align: right;\">\n",
       "      <th></th>\n",
       "      <th></th>\n",
       "      <th>Capital</th>\n",
       "      <th>Litoral</th>\n",
       "      <th>Fronteira</th>\n",
       "    </tr>\n",
       "    <tr>\n",
       "      <th>Estado</th>\n",
       "      <th>Métricas</th>\n",
       "      <th></th>\n",
       "      <th></th>\n",
       "      <th></th>\n",
       "    </tr>\n",
       "  </thead>\n",
       "  <tbody>\n",
       "    <tr>\n",
       "      <th rowspan=\"3\" valign=\"top\">PR</th>\n",
       "      <th>IDH</th>\n",
       "      <td>8.560000e-01</td>\n",
       "      <td>5.060000e-01</td>\n",
       "      <td>8.060000e-01</td>\n",
       "    </tr>\n",
       "    <tr>\n",
       "      <th>População</th>\n",
       "      <td>3.757910e+05</td>\n",
       "      <td>8.773120e+05</td>\n",
       "      <td>7.690620e+05</td>\n",
       "    </tr>\n",
       "    <tr>\n",
       "      <th>PIB</th>\n",
       "      <td>2.181807e+09</td>\n",
       "      <td>1.531303e+09</td>\n",
       "      <td>2.539823e+09</td>\n",
       "    </tr>\n",
       "    <tr>\n",
       "      <th rowspan=\"3\" valign=\"top\">RS</th>\n",
       "      <th>IDH</th>\n",
       "      <td>6.860000e-01</td>\n",
       "      <td>5.380000e-01</td>\n",
       "      <td>6.120000e-01</td>\n",
       "    </tr>\n",
       "    <tr>\n",
       "      <th>População</th>\n",
       "      <td>4.877820e+05</td>\n",
       "      <td>3.510420e+05</td>\n",
       "      <td>8.823910e+05</td>\n",
       "    </tr>\n",
       "    <tr>\n",
       "      <th>PIB</th>\n",
       "      <td>2.805094e+09</td>\n",
       "      <td>1.716979e+09</td>\n",
       "      <td>2.271103e+09</td>\n",
       "    </tr>\n",
       "  </tbody>\n",
       "</table>\n",
       "</div>"
      ],
      "text/plain": [
       "                       Capital       Litoral     Fronteira\n",
       "Estado Métricas                                           \n",
       "PR     IDH        8.560000e-01  5.060000e-01  8.060000e-01\n",
       "       População  3.757910e+05  8.773120e+05  7.690620e+05\n",
       "       PIB        2.181807e+09  1.531303e+09  2.539823e+09\n",
       "RS     IDH        6.860000e-01  5.380000e-01  6.120000e-01\n",
       "       População  4.877820e+05  3.510420e+05  8.823910e+05\n",
       "       PIB        2.805094e+09  1.716979e+09  2.271103e+09"
      ]
     },
     "execution_count": 10,
     "metadata": {},
     "output_type": "execute_result"
    }
   ],
   "source": [
    "outside = ['PR', 'PR', 'PR', 'RS', 'RS', 'RS']\n",
    "inside = ['IDH', 'População', 'PIB','IDH', 'População', 'PIB']\n",
    "mult_index2 = list(zip(outside, inside))\n",
    "mult_index2 = pd.MultiIndex.from_tuples(mult_index2)\n",
    "IDHs0 = np.random.randint(500, 900, 3) / 1000\n",
    "pop0 = np.random.randint(300000, 1000000, 3)\n",
    "PIB0 = np.random.randint(1000000000, 3000000000, 3)\n",
    "IDHs1 = np.random.randint(500, 900, 3) / 1000\n",
    "pop1 = np.random.randint(300000, 1000000, 3)\n",
    "PIB1 = np.random.randint(1000000000, 3000000000, 3)\n",
    "dados = np.concatenate((IDHs0, pop0, PIB0, IDHs1, pop1, PIB1)).reshape(6,3)\n",
    "pesquisa = pd.DataFrame(dados, mult_index2, ['Capital', 'Litoral', 'Fronteira'])\n",
    "pesquisa.index.names = ['Estado', 'Métricas']\n",
    "pesquisa"
   ]
  },
  {
   "cell_type": "code",
   "execution_count": 12,
   "id": "89228569-2807-4e17-ac82-8eb798f449d8",
   "metadata": {},
   "outputs": [
    {
     "data": {
      "text/plain": [
       "Estado  Métricas \n",
       "PR      IDH          8.560000e-01\n",
       "        População    3.757910e+05\n",
       "        PIB          2.181807e+09\n",
       "RS      IDH          6.860000e-01\n",
       "        População    4.877820e+05\n",
       "        PIB          2.805094e+09\n",
       "Name: Capital, dtype: float64"
      ]
     },
     "execution_count": 12,
     "metadata": {},
     "output_type": "execute_result"
    }
   ],
   "source": [
    "pesquisa['Capital']"
   ]
  },
  {
   "cell_type": "markdown",
   "id": "ace1bab8-701f-4dff-82e1-5735ab4b800b",
   "metadata": {},
   "source": [
    "Exibe as métricas das capitais."
   ]
  },
  {
   "cell_type": "code",
   "execution_count": 13,
   "id": "9d0d5787-80f3-48a1-8c17-3614e8e91359",
   "metadata": {},
   "outputs": [
    {
     "data": {
      "text/html": [
       "<div>\n",
       "<style scoped>\n",
       "    .dataframe tbody tr th:only-of-type {\n",
       "        vertical-align: middle;\n",
       "    }\n",
       "\n",
       "    .dataframe tbody tr th {\n",
       "        vertical-align: top;\n",
       "    }\n",
       "\n",
       "    .dataframe thead th {\n",
       "        text-align: right;\n",
       "    }\n",
       "</style>\n",
       "<table border=\"1\" class=\"dataframe\">\n",
       "  <thead>\n",
       "    <tr style=\"text-align: right;\">\n",
       "      <th></th>\n",
       "      <th>Capital</th>\n",
       "      <th>Litoral</th>\n",
       "      <th>Fronteira</th>\n",
       "    </tr>\n",
       "    <tr>\n",
       "      <th>Métricas</th>\n",
       "      <th></th>\n",
       "      <th></th>\n",
       "      <th></th>\n",
       "    </tr>\n",
       "  </thead>\n",
       "  <tbody>\n",
       "    <tr>\n",
       "      <th>IDH</th>\n",
       "      <td>8.560000e-01</td>\n",
       "      <td>5.060000e-01</td>\n",
       "      <td>8.060000e-01</td>\n",
       "    </tr>\n",
       "    <tr>\n",
       "      <th>População</th>\n",
       "      <td>3.757910e+05</td>\n",
       "      <td>8.773120e+05</td>\n",
       "      <td>7.690620e+05</td>\n",
       "    </tr>\n",
       "    <tr>\n",
       "      <th>PIB</th>\n",
       "      <td>2.181807e+09</td>\n",
       "      <td>1.531303e+09</td>\n",
       "      <td>2.539823e+09</td>\n",
       "    </tr>\n",
       "  </tbody>\n",
       "</table>\n",
       "</div>"
      ],
      "text/plain": [
       "                Capital       Litoral     Fronteira\n",
       "Métricas                                           \n",
       "IDH        8.560000e-01  5.060000e-01  8.060000e-01\n",
       "População  3.757910e+05  8.773120e+05  7.690620e+05\n",
       "PIB        2.181807e+09  1.531303e+09  2.539823e+09"
      ]
     },
     "execution_count": 13,
     "metadata": {},
     "output_type": "execute_result"
    }
   ],
   "source": [
    "pesquisa.loc['PR']"
   ]
  },
  {
   "cell_type": "markdown",
   "id": "80857294-3f30-4f14-b73b-b841e0f3d16e",
   "metadata": {},
   "source": [
    "Exibe as métricas das diferentes regiões e cidades do Paraná."
   ]
  },
  {
   "cell_type": "code",
   "execution_count": 14,
   "id": "8a0dbcda-47d1-4f87-82bd-01c40d262a33",
   "metadata": {},
   "outputs": [
    {
     "data": {
      "text/plain": [
       "Capital      0.686\n",
       "Litoral      0.538\n",
       "Fronteira    0.612\n",
       "Name: IDH, dtype: float64"
      ]
     },
     "execution_count": 14,
     "metadata": {},
     "output_type": "execute_result"
    }
   ],
   "source": [
    "pesquisa.loc['RS'].loc['IDH']"
   ]
  },
  {
   "cell_type": "markdown",
   "id": "cc119384-c4e3-449d-acab-6ae6c9043c6f",
   "metadata": {},
   "source": [
    "Exibe a linha de IDH do Rio Grande do Sul."
   ]
  },
  {
   "cell_type": "code",
   "execution_count": 15,
   "id": "95099de5-530b-44a3-b9c1-2c9a147b8b43",
   "metadata": {},
   "outputs": [
    {
     "data": {
      "text/html": [
       "<div>\n",
       "<style scoped>\n",
       "    .dataframe tbody tr th:only-of-type {\n",
       "        vertical-align: middle;\n",
       "    }\n",
       "\n",
       "    .dataframe tbody tr th {\n",
       "        vertical-align: top;\n",
       "    }\n",
       "\n",
       "    .dataframe thead th {\n",
       "        text-align: right;\n",
       "    }\n",
       "</style>\n",
       "<table border=\"1\" class=\"dataframe\">\n",
       "  <thead>\n",
       "    <tr style=\"text-align: right;\">\n",
       "      <th></th>\n",
       "      <th>Capital</th>\n",
       "      <th>Litoral</th>\n",
       "      <th>Fronteira</th>\n",
       "    </tr>\n",
       "    <tr>\n",
       "      <th>Métricas</th>\n",
       "      <th></th>\n",
       "      <th></th>\n",
       "      <th></th>\n",
       "    </tr>\n",
       "  </thead>\n",
       "  <tbody>\n",
       "    <tr>\n",
       "      <th>IDH</th>\n",
       "      <td>6.860000e-01</td>\n",
       "      <td>5.380000e-01</td>\n",
       "      <td>6.120000e-01</td>\n",
       "    </tr>\n",
       "    <tr>\n",
       "      <th>População</th>\n",
       "      <td>4.877820e+05</td>\n",
       "      <td>3.510420e+05</td>\n",
       "      <td>8.823910e+05</td>\n",
       "    </tr>\n",
       "    <tr>\n",
       "      <th>PIB</th>\n",
       "      <td>2.805094e+09</td>\n",
       "      <td>1.716979e+09</td>\n",
       "      <td>2.271103e+09</td>\n",
       "    </tr>\n",
       "  </tbody>\n",
       "</table>\n",
       "</div>"
      ],
      "text/plain": [
       "                Capital       Litoral     Fronteira\n",
       "Métricas                                           \n",
       "IDH        6.860000e-01  5.380000e-01  6.120000e-01\n",
       "População  4.877820e+05  3.510420e+05  8.823910e+05\n",
       "PIB        2.805094e+09  1.716979e+09  2.271103e+09"
      ]
     },
     "execution_count": 15,
     "metadata": {},
     "output_type": "execute_result"
    }
   ],
   "source": [
    "pesquisa.xs('RS')"
   ]
  },
  {
   "cell_type": "code",
   "execution_count": 16,
   "id": "e97e4155-cbe2-4e25-8802-b7c6fb017f9f",
   "metadata": {},
   "outputs": [
    {
     "data": {
      "text/html": [
       "<div>\n",
       "<style scoped>\n",
       "    .dataframe tbody tr th:only-of-type {\n",
       "        vertical-align: middle;\n",
       "    }\n",
       "\n",
       "    .dataframe tbody tr th {\n",
       "        vertical-align: top;\n",
       "    }\n",
       "\n",
       "    .dataframe thead th {\n",
       "        text-align: right;\n",
       "    }\n",
       "</style>\n",
       "<table border=\"1\" class=\"dataframe\">\n",
       "  <thead>\n",
       "    <tr style=\"text-align: right;\">\n",
       "      <th></th>\n",
       "      <th>Capital</th>\n",
       "      <th>Litoral</th>\n",
       "      <th>Fronteira</th>\n",
       "    </tr>\n",
       "    <tr>\n",
       "      <th>Estado</th>\n",
       "      <th></th>\n",
       "      <th></th>\n",
       "      <th></th>\n",
       "    </tr>\n",
       "  </thead>\n",
       "  <tbody>\n",
       "    <tr>\n",
       "      <th>PR</th>\n",
       "      <td>375791.0</td>\n",
       "      <td>877312.0</td>\n",
       "      <td>769062.0</td>\n",
       "    </tr>\n",
       "    <tr>\n",
       "      <th>RS</th>\n",
       "      <td>487782.0</td>\n",
       "      <td>351042.0</td>\n",
       "      <td>882391.0</td>\n",
       "    </tr>\n",
       "  </tbody>\n",
       "</table>\n",
       "</div>"
      ],
      "text/plain": [
       "         Capital   Litoral  Fronteira\n",
       "Estado                               \n",
       "PR      375791.0  877312.0   769062.0\n",
       "RS      487782.0  351042.0   882391.0"
      ]
     },
     "execution_count": 16,
     "metadata": {},
     "output_type": "execute_result"
    }
   ],
   "source": [
    "pesquisa.xs('População', level='Métricas')"
   ]
  },
  {
   "cell_type": "markdown",
   "id": "ee52b931-3d2a-4a4a-ab4d-df1a9e06894b",
   "metadata": {},
   "source": [
    "Recorta as populações de ambos os estados."
   ]
  },
  {
   "cell_type": "markdown",
   "id": "320ec971-60a6-4bac-94e5-4c2d4e6c9c1a",
   "metadata": {},
   "source": [
    "# Dados Ausentes"
   ]
  },
  {
   "cell_type": "code",
   "execution_count": 23,
   "id": "c3a0da50-6ea7-4095-9307-87d4df714c76",
   "metadata": {},
   "outputs": [
    {
     "data": {
      "text/html": [
       "<div>\n",
       "<style scoped>\n",
       "    .dataframe tbody tr th:only-of-type {\n",
       "        vertical-align: middle;\n",
       "    }\n",
       "\n",
       "    .dataframe tbody tr th {\n",
       "        vertical-align: top;\n",
       "    }\n",
       "\n",
       "    .dataframe thead th {\n",
       "        text-align: right;\n",
       "    }\n",
       "</style>\n",
       "<table border=\"1\" class=\"dataframe\">\n",
       "  <thead>\n",
       "    <tr style=\"text-align: right;\">\n",
       "      <th></th>\n",
       "      <th>CocaCola</th>\n",
       "      <th>Água</th>\n",
       "      <th>Pepsi</th>\n",
       "      <th>Fanta</th>\n",
       "      <th>CocaZero</th>\n",
       "    </tr>\n",
       "    <tr>\n",
       "      <th>Unidade</th>\n",
       "      <th></th>\n",
       "      <th></th>\n",
       "      <th></th>\n",
       "      <th></th>\n",
       "      <th></th>\n",
       "    </tr>\n",
       "  </thead>\n",
       "  <tbody>\n",
       "    <tr>\n",
       "      <th>1</th>\n",
       "      <td>1.55</td>\n",
       "      <td>1.79</td>\n",
       "      <td>0.39</td>\n",
       "      <td>1.38</td>\n",
       "      <td>0.76</td>\n",
       "    </tr>\n",
       "    <tr>\n",
       "      <th>2</th>\n",
       "      <td>1.03</td>\n",
       "      <td>1.28</td>\n",
       "      <td>0.75</td>\n",
       "      <td>1.49</td>\n",
       "      <td>1.51</td>\n",
       "    </tr>\n",
       "    <tr>\n",
       "      <th>3</th>\n",
       "      <td>0.05</td>\n",
       "      <td>1.41</td>\n",
       "      <td>0.45</td>\n",
       "      <td>1.01</td>\n",
       "      <td>1.20</td>\n",
       "    </tr>\n",
       "    <tr>\n",
       "      <th>4</th>\n",
       "      <td>1.69</td>\n",
       "      <td>0.44</td>\n",
       "      <td>0.36</td>\n",
       "      <td>1.20</td>\n",
       "      <td>0.24</td>\n",
       "    </tr>\n",
       "  </tbody>\n",
       "</table>\n",
       "</div>"
      ],
      "text/plain": [
       "         CocaCola  Água  Pepsi  Fanta  CocaZero\n",
       "Unidade                                        \n",
       "1            1.55  1.79   0.39   1.38      0.76\n",
       "2            1.03  1.28   0.75   1.49      1.51\n",
       "3            0.05  1.41   0.45   1.01      1.20\n",
       "4            1.69  0.44   0.36   1.20      0.24"
      ]
     },
     "execution_count": 23,
     "metadata": {},
     "output_type": "execute_result"
    }
   ],
   "source": [
    "dados = np.random.randint(0, 200, 20).reshape(4,5) / 100\n",
    "unidade = np.arange(1, 5)\n",
    "refris = 'CocaCola Água Pepsi Fanta CocaZero'.split()\n",
    "\n",
    "gas_no_refri = pd.DataFrame(dados, unidade, refris)\n",
    "gas_no_refri.index.names = ['Unidade']\n",
    "gas_no_refri"
   ]
  },
  {
   "cell_type": "code",
   "execution_count": 25,
   "id": "a2b6eaa4-15de-4a04-b50b-5c85f56c5b1b",
   "metadata": {},
   "outputs": [
    {
     "data": {
      "text/html": [
       "<div>\n",
       "<style scoped>\n",
       "    .dataframe tbody tr th:only-of-type {\n",
       "        vertical-align: middle;\n",
       "    }\n",
       "\n",
       "    .dataframe tbody tr th {\n",
       "        vertical-align: top;\n",
       "    }\n",
       "\n",
       "    .dataframe thead th {\n",
       "        text-align: right;\n",
       "    }\n",
       "</style>\n",
       "<table border=\"1\" class=\"dataframe\">\n",
       "  <thead>\n",
       "    <tr style=\"text-align: right;\">\n",
       "      <th></th>\n",
       "      <th>CocaCola</th>\n",
       "      <th>Água</th>\n",
       "      <th>Pepsi</th>\n",
       "      <th>Fanta</th>\n",
       "      <th>CocaZero</th>\n",
       "    </tr>\n",
       "    <tr>\n",
       "      <th>Unidade</th>\n",
       "      <th></th>\n",
       "      <th></th>\n",
       "      <th></th>\n",
       "      <th></th>\n",
       "      <th></th>\n",
       "    </tr>\n",
       "  </thead>\n",
       "  <tbody>\n",
       "    <tr>\n",
       "      <th>1</th>\n",
       "      <td>1.55</td>\n",
       "      <td>1.79</td>\n",
       "      <td>0.39</td>\n",
       "      <td>1.38</td>\n",
       "      <td>0.76</td>\n",
       "    </tr>\n",
       "    <tr>\n",
       "      <th>2</th>\n",
       "      <td>NaN</td>\n",
       "      <td>1.28</td>\n",
       "      <td>0.75</td>\n",
       "      <td>1.49</td>\n",
       "      <td>1.51</td>\n",
       "    </tr>\n",
       "    <tr>\n",
       "      <th>3</th>\n",
       "      <td>0.05</td>\n",
       "      <td>NaN</td>\n",
       "      <td>0.45</td>\n",
       "      <td>NaN</td>\n",
       "      <td>1.20</td>\n",
       "    </tr>\n",
       "    <tr>\n",
       "      <th>4</th>\n",
       "      <td>NaN</td>\n",
       "      <td>0.44</td>\n",
       "      <td>0.36</td>\n",
       "      <td>NaN</td>\n",
       "      <td>0.24</td>\n",
       "    </tr>\n",
       "  </tbody>\n",
       "</table>\n",
       "</div>"
      ],
      "text/plain": [
       "         CocaCola  Água  Pepsi  Fanta  CocaZero\n",
       "Unidade                                        \n",
       "1            1.55  1.79   0.39   1.38      0.76\n",
       "2             NaN  1.28   0.75   1.49      1.51\n",
       "3            0.05   NaN   0.45    NaN      1.20\n",
       "4             NaN  0.44   0.36    NaN      0.24"
      ]
     },
     "execution_count": 25,
     "metadata": {},
     "output_type": "execute_result"
    }
   ],
   "source": [
    "for i in range(0, 5):\n",
    "    l = np.random.randint(0, 4)\n",
    "    c = np.random.randint(0, 5)\n",
    "    gas_no_refri.iloc[l, c] = np.nan\n",
    "gas_no_refri"
   ]
  },
  {
   "cell_type": "markdown",
   "id": "65907501-4f7d-4f60-b443-d0d95e386838",
   "metadata": {},
   "source": [
    "Um Data Frame que contém a quantidade em gramas de gás carbônico dentro de uma unidade de refrigerante. Algumas medidas foram falhas, ficaram com valor nulo, por qualquer motivo (como uma falha de sensor)."
   ]
  },
  {
   "cell_type": "markdown",
   "id": "0840582f-d5c4-40b6-b725-1211712544ee",
   "metadata": {},
   "source": [
    "### dropna"
   ]
  },
  {
   "cell_type": "markdown",
   "id": "d94ab169-0b80-4ee6-b361-0d47acc9b8d0",
   "metadata": {},
   "source": [
    "O primeiro método que pode ser usado para lidar com os valores nulos é o dropna, que exclui linhas ou colunas com uma certa quantidade de valores nulos."
   ]
  },
  {
   "cell_type": "code",
   "execution_count": 26,
   "id": "bec30a96-e259-4c8d-8b5a-c5c2d8ddead2",
   "metadata": {},
   "outputs": [
    {
     "data": {
      "text/html": [
       "<div>\n",
       "<style scoped>\n",
       "    .dataframe tbody tr th:only-of-type {\n",
       "        vertical-align: middle;\n",
       "    }\n",
       "\n",
       "    .dataframe tbody tr th {\n",
       "        vertical-align: top;\n",
       "    }\n",
       "\n",
       "    .dataframe thead th {\n",
       "        text-align: right;\n",
       "    }\n",
       "</style>\n",
       "<table border=\"1\" class=\"dataframe\">\n",
       "  <thead>\n",
       "    <tr style=\"text-align: right;\">\n",
       "      <th></th>\n",
       "      <th>CocaCola</th>\n",
       "      <th>Água</th>\n",
       "      <th>Pepsi</th>\n",
       "      <th>Fanta</th>\n",
       "      <th>CocaZero</th>\n",
       "    </tr>\n",
       "    <tr>\n",
       "      <th>Unidade</th>\n",
       "      <th></th>\n",
       "      <th></th>\n",
       "      <th></th>\n",
       "      <th></th>\n",
       "      <th></th>\n",
       "    </tr>\n",
       "  </thead>\n",
       "  <tbody>\n",
       "    <tr>\n",
       "      <th>1</th>\n",
       "      <td>1.55</td>\n",
       "      <td>1.79</td>\n",
       "      <td>0.39</td>\n",
       "      <td>1.38</td>\n",
       "      <td>0.76</td>\n",
       "    </tr>\n",
       "  </tbody>\n",
       "</table>\n",
       "</div>"
      ],
      "text/plain": [
       "         CocaCola  Água  Pepsi  Fanta  CocaZero\n",
       "Unidade                                        \n",
       "1            1.55  1.79   0.39   1.38      0.76"
      ]
     },
     "execution_count": 26,
     "metadata": {},
     "output_type": "execute_result"
    }
   ],
   "source": [
    "gas_no_refri.dropna()"
   ]
  },
  {
   "cell_type": "code",
   "execution_count": 27,
   "id": "62d0a1cf-f8c7-4357-a844-fd1a8c3ea90c",
   "metadata": {},
   "outputs": [
    {
     "data": {
      "text/html": [
       "<div>\n",
       "<style scoped>\n",
       "    .dataframe tbody tr th:only-of-type {\n",
       "        vertical-align: middle;\n",
       "    }\n",
       "\n",
       "    .dataframe tbody tr th {\n",
       "        vertical-align: top;\n",
       "    }\n",
       "\n",
       "    .dataframe thead th {\n",
       "        text-align: right;\n",
       "    }\n",
       "</style>\n",
       "<table border=\"1\" class=\"dataframe\">\n",
       "  <thead>\n",
       "    <tr style=\"text-align: right;\">\n",
       "      <th></th>\n",
       "      <th>Pepsi</th>\n",
       "      <th>CocaZero</th>\n",
       "    </tr>\n",
       "    <tr>\n",
       "      <th>Unidade</th>\n",
       "      <th></th>\n",
       "      <th></th>\n",
       "    </tr>\n",
       "  </thead>\n",
       "  <tbody>\n",
       "    <tr>\n",
       "      <th>1</th>\n",
       "      <td>0.39</td>\n",
       "      <td>0.76</td>\n",
       "    </tr>\n",
       "    <tr>\n",
       "      <th>2</th>\n",
       "      <td>0.75</td>\n",
       "      <td>1.51</td>\n",
       "    </tr>\n",
       "    <tr>\n",
       "      <th>3</th>\n",
       "      <td>0.45</td>\n",
       "      <td>1.20</td>\n",
       "    </tr>\n",
       "    <tr>\n",
       "      <th>4</th>\n",
       "      <td>0.36</td>\n",
       "      <td>0.24</td>\n",
       "    </tr>\n",
       "  </tbody>\n",
       "</table>\n",
       "</div>"
      ],
      "text/plain": [
       "         Pepsi  CocaZero\n",
       "Unidade                 \n",
       "1         0.39      0.76\n",
       "2         0.75      1.51\n",
       "3         0.45      1.20\n",
       "4         0.36      0.24"
      ]
     },
     "execution_count": 27,
     "metadata": {},
     "output_type": "execute_result"
    }
   ],
   "source": [
    "gas_no_refri.dropna(axis=1)"
   ]
  },
  {
   "cell_type": "code",
   "execution_count": 34,
   "id": "be7a2191-9862-4ebc-b3fc-86fa64199679",
   "metadata": {},
   "outputs": [
    {
     "data": {
      "text/html": [
       "<div>\n",
       "<style scoped>\n",
       "    .dataframe tbody tr th:only-of-type {\n",
       "        vertical-align: middle;\n",
       "    }\n",
       "\n",
       "    .dataframe tbody tr th {\n",
       "        vertical-align: top;\n",
       "    }\n",
       "\n",
       "    .dataframe thead th {\n",
       "        text-align: right;\n",
       "    }\n",
       "</style>\n",
       "<table border=\"1\" class=\"dataframe\">\n",
       "  <thead>\n",
       "    <tr style=\"text-align: right;\">\n",
       "      <th></th>\n",
       "      <th>CocaCola</th>\n",
       "      <th>Água</th>\n",
       "      <th>Pepsi</th>\n",
       "      <th>Fanta</th>\n",
       "      <th>CocaZero</th>\n",
       "    </tr>\n",
       "    <tr>\n",
       "      <th>Unidade</th>\n",
       "      <th></th>\n",
       "      <th></th>\n",
       "      <th></th>\n",
       "      <th></th>\n",
       "      <th></th>\n",
       "    </tr>\n",
       "  </thead>\n",
       "  <tbody>\n",
       "    <tr>\n",
       "      <th>1</th>\n",
       "      <td>1.55</td>\n",
       "      <td>1.79</td>\n",
       "      <td>0.39</td>\n",
       "      <td>1.38</td>\n",
       "      <td>0.76</td>\n",
       "    </tr>\n",
       "    <tr>\n",
       "      <th>2</th>\n",
       "      <td>NaN</td>\n",
       "      <td>1.28</td>\n",
       "      <td>0.75</td>\n",
       "      <td>1.49</td>\n",
       "      <td>1.51</td>\n",
       "    </tr>\n",
       "  </tbody>\n",
       "</table>\n",
       "</div>"
      ],
      "text/plain": [
       "         CocaCola  Água  Pepsi  Fanta  CocaZero\n",
       "Unidade                                        \n",
       "1            1.55  1.79   0.39   1.38      0.76\n",
       "2             NaN  1.28   0.75   1.49      1.51"
      ]
     },
     "execution_count": 34,
     "metadata": {},
     "output_type": "execute_result"
    }
   ],
   "source": [
    "gas_no_refri.dropna(thresh=4)"
   ]
  },
  {
   "cell_type": "markdown",
   "id": "69de3141-65ce-4ae4-8a49-5128f3025473",
   "metadata": {},
   "source": [
    "O parâmetro thresh define a quantidade mínima de valores não nulos que uma linhas ou coluna deve ter para ser mantida."
   ]
  },
  {
   "cell_type": "markdown",
   "id": "698bceea-3d87-4e27-859a-eca59e361540",
   "metadata": {},
   "source": [
    "OBS: repare que nenhuma das alterações foi feita no DF original, pois o parâmetro inplace não foi definido como True."
   ]
  },
  {
   "cell_type": "markdown",
   "id": "055d049c-a197-4fae-b9c2-c0dd1b2ddbfe",
   "metadata": {},
   "source": [
    "### fillna"
   ]
  },
  {
   "cell_type": "markdown",
   "id": "51e970be-568f-4afb-80ef-d98f676b7b2b",
   "metadata": {},
   "source": [
    "Outro método que pode ser usado para lidar com os valores nulos de um DF é o fillna que, diferente do dropna, não exclui linhas ou colunas, mas preenche os valores nulos com algum outro."
   ]
  },
  {
   "cell_type": "code",
   "execution_count": 35,
   "id": "df9fdd04-2d9c-499d-af00-6ff304bcd740",
   "metadata": {},
   "outputs": [
    {
     "data": {
      "text/html": [
       "<div>\n",
       "<style scoped>\n",
       "    .dataframe tbody tr th:only-of-type {\n",
       "        vertical-align: middle;\n",
       "    }\n",
       "\n",
       "    .dataframe tbody tr th {\n",
       "        vertical-align: top;\n",
       "    }\n",
       "\n",
       "    .dataframe thead th {\n",
       "        text-align: right;\n",
       "    }\n",
       "</style>\n",
       "<table border=\"1\" class=\"dataframe\">\n",
       "  <thead>\n",
       "    <tr style=\"text-align: right;\">\n",
       "      <th></th>\n",
       "      <th>CocaCola</th>\n",
       "      <th>Água</th>\n",
       "      <th>Pepsi</th>\n",
       "      <th>Fanta</th>\n",
       "      <th>CocaZero</th>\n",
       "    </tr>\n",
       "    <tr>\n",
       "      <th>Unidade</th>\n",
       "      <th></th>\n",
       "      <th></th>\n",
       "      <th></th>\n",
       "      <th></th>\n",
       "      <th></th>\n",
       "    </tr>\n",
       "  </thead>\n",
       "  <tbody>\n",
       "    <tr>\n",
       "      <th>1</th>\n",
       "      <td>1.55</td>\n",
       "      <td>1.79</td>\n",
       "      <td>0.39</td>\n",
       "      <td>1.38</td>\n",
       "      <td>0.76</td>\n",
       "    </tr>\n",
       "    <tr>\n",
       "      <th>2</th>\n",
       "      <td>read fail</td>\n",
       "      <td>1.28</td>\n",
       "      <td>0.75</td>\n",
       "      <td>1.49</td>\n",
       "      <td>1.51</td>\n",
       "    </tr>\n",
       "    <tr>\n",
       "      <th>3</th>\n",
       "      <td>0.05</td>\n",
       "      <td>read fail</td>\n",
       "      <td>0.45</td>\n",
       "      <td>read fail</td>\n",
       "      <td>1.20</td>\n",
       "    </tr>\n",
       "    <tr>\n",
       "      <th>4</th>\n",
       "      <td>read fail</td>\n",
       "      <td>0.44</td>\n",
       "      <td>0.36</td>\n",
       "      <td>read fail</td>\n",
       "      <td>0.24</td>\n",
       "    </tr>\n",
       "  </tbody>\n",
       "</table>\n",
       "</div>"
      ],
      "text/plain": [
       "          CocaCola       Água  Pepsi      Fanta  CocaZero\n",
       "Unidade                                                  \n",
       "1             1.55       1.79   0.39       1.38      0.76\n",
       "2        read fail       1.28   0.75       1.49      1.51\n",
       "3             0.05  read fail   0.45  read fail      1.20\n",
       "4        read fail       0.44   0.36  read fail      0.24"
      ]
     },
     "execution_count": 35,
     "metadata": {},
     "output_type": "execute_result"
    }
   ],
   "source": [
    "gas_no_refri.fillna(value='read fail')"
   ]
  },
  {
   "cell_type": "code",
   "execution_count": 41,
   "id": "e665d963-d3b6-4f09-8493-9d13f21ae90e",
   "metadata": {},
   "outputs": [
    {
     "data": {
      "text/plain": [
       "Unidade\n",
       "1    1.55\n",
       "2    0.80\n",
       "3    0.05\n",
       "4    0.80\n",
       "Name: CocaCola, dtype: float64"
      ]
     },
     "execution_count": 41,
     "metadata": {},
     "output_type": "execute_result"
    }
   ],
   "source": [
    "gas_no_refri['CocaCola'].fillna(value=gas_no_refri['CocaCola'].mean())"
   ]
  },
  {
   "cell_type": "markdown",
   "id": "1005598b-d29f-456f-8c43-69563eaba8a1",
   "metadata": {},
   "source": [
    "Aqui, os valores nulos da coluna CocaCola foram substituidos pela média dos valores da coluna."
   ]
  },
  {
   "cell_type": "code",
   "execution_count": 38,
   "id": "5480afcc-186d-4b2f-85bb-9145cbfc735a",
   "metadata": {},
   "outputs": [
    {
     "name": "stderr",
     "output_type": "stream",
     "text": [
      "/tmp/ipykernel_4967/3764643869.py:1: FutureWarning: DataFrame.fillna with 'method' is deprecated and will raise in a future version. Use obj.ffill() or obj.bfill() instead.\n",
      "  gas_no_refri.fillna(method='ffill')\n"
     ]
    },
    {
     "data": {
      "text/html": [
       "<div>\n",
       "<style scoped>\n",
       "    .dataframe tbody tr th:only-of-type {\n",
       "        vertical-align: middle;\n",
       "    }\n",
       "\n",
       "    .dataframe tbody tr th {\n",
       "        vertical-align: top;\n",
       "    }\n",
       "\n",
       "    .dataframe thead th {\n",
       "        text-align: right;\n",
       "    }\n",
       "</style>\n",
       "<table border=\"1\" class=\"dataframe\">\n",
       "  <thead>\n",
       "    <tr style=\"text-align: right;\">\n",
       "      <th></th>\n",
       "      <th>CocaCola</th>\n",
       "      <th>Água</th>\n",
       "      <th>Pepsi</th>\n",
       "      <th>Fanta</th>\n",
       "      <th>CocaZero</th>\n",
       "    </tr>\n",
       "    <tr>\n",
       "      <th>Unidade</th>\n",
       "      <th></th>\n",
       "      <th></th>\n",
       "      <th></th>\n",
       "      <th></th>\n",
       "      <th></th>\n",
       "    </tr>\n",
       "  </thead>\n",
       "  <tbody>\n",
       "    <tr>\n",
       "      <th>1</th>\n",
       "      <td>1.55</td>\n",
       "      <td>1.79</td>\n",
       "      <td>0.39</td>\n",
       "      <td>1.38</td>\n",
       "      <td>0.76</td>\n",
       "    </tr>\n",
       "    <tr>\n",
       "      <th>2</th>\n",
       "      <td>1.55</td>\n",
       "      <td>1.28</td>\n",
       "      <td>0.75</td>\n",
       "      <td>1.49</td>\n",
       "      <td>1.51</td>\n",
       "    </tr>\n",
       "    <tr>\n",
       "      <th>3</th>\n",
       "      <td>0.05</td>\n",
       "      <td>1.28</td>\n",
       "      <td>0.45</td>\n",
       "      <td>1.49</td>\n",
       "      <td>1.20</td>\n",
       "    </tr>\n",
       "    <tr>\n",
       "      <th>4</th>\n",
       "      <td>0.05</td>\n",
       "      <td>0.44</td>\n",
       "      <td>0.36</td>\n",
       "      <td>1.49</td>\n",
       "      <td>0.24</td>\n",
       "    </tr>\n",
       "  </tbody>\n",
       "</table>\n",
       "</div>"
      ],
      "text/plain": [
       "         CocaCola  Água  Pepsi  Fanta  CocaZero\n",
       "Unidade                                        \n",
       "1            1.55  1.79   0.39   1.38      0.76\n",
       "2            1.55  1.28   0.75   1.49      1.51\n",
       "3            0.05  1.28   0.45   1.49      1.20\n",
       "4            0.05  0.44   0.36   1.49      0.24"
      ]
     },
     "execution_count": 38,
     "metadata": {},
     "output_type": "execute_result"
    }
   ],
   "source": [
    "gas_no_refri.fillna(method='ffill')"
   ]
  },
  {
   "cell_type": "markdown",
   "id": "c414aef7-16b7-454f-89cc-7ac6752099e8",
   "metadata": {},
   "source": [
    "O parâmetro method permite que você escolha um algoritmo de preechimento já implementado. Neste caso, foi usado o ffill (forward fill), que simplesmente preenche o valor nulo com o último valor lido na coluna."
   ]
  },
  {
   "cell_type": "code",
   "execution_count": 40,
   "id": "ad7e0d1d-3bd1-4dbc-a85b-942a414508c0",
   "metadata": {},
   "outputs": [
    {
     "name": "stderr",
     "output_type": "stream",
     "text": [
      "/tmp/ipykernel_4967/3764643869.py:1: FutureWarning: DataFrame.fillna with 'method' is deprecated and will raise in a future version. Use obj.ffill() or obj.bfill() instead.\n",
      "  gas_no_refri.fillna(method='ffill')\n"
     ]
    },
    {
     "data": {
      "text/html": [
       "<div>\n",
       "<style scoped>\n",
       "    .dataframe tbody tr th:only-of-type {\n",
       "        vertical-align: middle;\n",
       "    }\n",
       "\n",
       "    .dataframe tbody tr th {\n",
       "        vertical-align: top;\n",
       "    }\n",
       "\n",
       "    .dataframe thead th {\n",
       "        text-align: right;\n",
       "    }\n",
       "</style>\n",
       "<table border=\"1\" class=\"dataframe\">\n",
       "  <thead>\n",
       "    <tr style=\"text-align: right;\">\n",
       "      <th></th>\n",
       "      <th>CocaCola</th>\n",
       "      <th>Água</th>\n",
       "      <th>Pepsi</th>\n",
       "      <th>Fanta</th>\n",
       "      <th>CocaZero</th>\n",
       "    </tr>\n",
       "    <tr>\n",
       "      <th>Unidade</th>\n",
       "      <th></th>\n",
       "      <th></th>\n",
       "      <th></th>\n",
       "      <th></th>\n",
       "      <th></th>\n",
       "    </tr>\n",
       "  </thead>\n",
       "  <tbody>\n",
       "    <tr>\n",
       "      <th>1</th>\n",
       "      <td>1.55</td>\n",
       "      <td>1.79</td>\n",
       "      <td>0.39</td>\n",
       "      <td>1.38</td>\n",
       "      <td>0.76</td>\n",
       "    </tr>\n",
       "    <tr>\n",
       "      <th>2</th>\n",
       "      <td>1.55</td>\n",
       "      <td>1.28</td>\n",
       "      <td>0.75</td>\n",
       "      <td>1.49</td>\n",
       "      <td>1.51</td>\n",
       "    </tr>\n",
       "    <tr>\n",
       "      <th>3</th>\n",
       "      <td>0.05</td>\n",
       "      <td>1.28</td>\n",
       "      <td>0.45</td>\n",
       "      <td>1.49</td>\n",
       "      <td>1.20</td>\n",
       "    </tr>\n",
       "    <tr>\n",
       "      <th>4</th>\n",
       "      <td>0.05</td>\n",
       "      <td>0.44</td>\n",
       "      <td>0.36</td>\n",
       "      <td>1.49</td>\n",
       "      <td>0.24</td>\n",
       "    </tr>\n",
       "  </tbody>\n",
       "</table>\n",
       "</div>"
      ],
      "text/plain": [
       "         CocaCola  Água  Pepsi  Fanta  CocaZero\n",
       "Unidade                                        \n",
       "1            1.55  1.79   0.39   1.38      0.76\n",
       "2            1.55  1.28   0.75   1.49      1.51\n",
       "3            0.05  1.28   0.45   1.49      1.20\n",
       "4            0.05  0.44   0.36   1.49      0.24"
      ]
     },
     "execution_count": 40,
     "metadata": {},
     "output_type": "execute_result"
    }
   ],
   "source": [
    "gas_no_refri.fillna(method='ffill')"
   ]
  },
  {
   "cell_type": "markdown",
   "id": "4ca2b228-08a9-4055-bdcb-f3170e84746c",
   "metadata": {},
   "source": [
    "# Group By"
   ]
  },
  {
   "cell_type": "markdown",
   "id": "85f4317b-4cee-4abb-bb5d-bf1ffb35f6de",
   "metadata": {},
   "source": [
    "Método que permite a execução de operações em colunas em relação a um grupo (formado a partir de uma coluna)."
   ]
  },
  {
   "cell_type": "code",
   "execution_count": 60,
   "id": "b9e8f30e-9893-4fcb-ab44-f02e7252b93a",
   "metadata": {},
   "outputs": [
    {
     "data": {
      "text/html": [
       "<div>\n",
       "<style scoped>\n",
       "    .dataframe tbody tr th:only-of-type {\n",
       "        vertical-align: middle;\n",
       "    }\n",
       "\n",
       "    .dataframe tbody tr th {\n",
       "        vertical-align: top;\n",
       "    }\n",
       "\n",
       "    .dataframe thead th {\n",
       "        text-align: right;\n",
       "    }\n",
       "</style>\n",
       "<table border=\"1\" class=\"dataframe\">\n",
       "  <thead>\n",
       "    <tr style=\"text-align: right;\">\n",
       "      <th></th>\n",
       "      <th>goals</th>\n",
       "      <th>xG</th>\n",
       "      <th>assistis</th>\n",
       "      <th>pre-assists</th>\n",
       "      <th>start</th>\n",
       "    </tr>\n",
       "    <tr>\n",
       "      <th>player</th>\n",
       "      <th></th>\n",
       "      <th></th>\n",
       "      <th></th>\n",
       "      <th></th>\n",
       "      <th></th>\n",
       "    </tr>\n",
       "  </thead>\n",
       "  <tbody>\n",
       "    <tr>\n",
       "      <th>Salah</th>\n",
       "      <td>9</td>\n",
       "      <td>8.6</td>\n",
       "      <td>7</td>\n",
       "      <td>12</td>\n",
       "      <td>from bench</td>\n",
       "    </tr>\n",
       "    <tr>\n",
       "      <th>KDB</th>\n",
       "      <td>1</td>\n",
       "      <td>8.2</td>\n",
       "      <td>4</td>\n",
       "      <td>11</td>\n",
       "      <td>started</td>\n",
       "    </tr>\n",
       "    <tr>\n",
       "      <th>KDB</th>\n",
       "      <td>5</td>\n",
       "      <td>8.4</td>\n",
       "      <td>5</td>\n",
       "      <td>2</td>\n",
       "      <td>from bench</td>\n",
       "    </tr>\n",
       "    <tr>\n",
       "      <th>Salah</th>\n",
       "      <td>0</td>\n",
       "      <td>6.7</td>\n",
       "      <td>1</td>\n",
       "      <td>11</td>\n",
       "      <td>started</td>\n",
       "    </tr>\n",
       "    <tr>\n",
       "      <th>KDB</th>\n",
       "      <td>9</td>\n",
       "      <td>4.7</td>\n",
       "      <td>7</td>\n",
       "      <td>0</td>\n",
       "      <td>started</td>\n",
       "    </tr>\n",
       "  </tbody>\n",
       "</table>\n",
       "</div>"
      ],
      "text/plain": [
       "        goals   xG  assistis  pre-assists       start\n",
       "player                                               \n",
       "Salah       9  8.6         7           12  from bench\n",
       "KDB         1  8.2         4           11     started\n",
       "KDB         5  8.4         5            2  from bench\n",
       "Salah       0  6.7         1           11     started\n",
       "KDB         9  4.7         7            0     started"
      ]
     },
     "execution_count": 60,
     "metadata": {},
     "output_type": "execute_result"
    }
   ],
   "source": [
    "goals = np.random.randint(0, 10, 5)\n",
    "xG = np.random.randint(0, 100, 5) / 10\n",
    "assists = np.random.randint(0, 8, 5)\n",
    "pre_assists = np.random.randint(0, 15, 5)\n",
    "start_point = ['from bench', 'started', 'from bench', 'started', 'started']\n",
    "\n",
    "stats = [list(row) for row in zip(goals, xG, assists, pre_assists, start_point)]\n",
    "players = 'Salah KDB KDB Salah KDB'.split()\n",
    "\n",
    "player_stats = pd.DataFrame(stats, players, 'goals xG assistis pre-assists start'.split())\n",
    "player_stats.index.names = ['player']\n",
    "\n",
    "player_stats"
   ]
  },
  {
   "cell_type": "code",
   "execution_count": 61,
   "id": "4cede1a6-ab06-470c-921d-44876a54649d",
   "metadata": {},
   "outputs": [
    {
     "data": {
      "text/html": [
       "<div>\n",
       "<style scoped>\n",
       "    .dataframe tbody tr th:only-of-type {\n",
       "        vertical-align: middle;\n",
       "    }\n",
       "\n",
       "    .dataframe tbody tr th {\n",
       "        vertical-align: top;\n",
       "    }\n",
       "\n",
       "    .dataframe thead th {\n",
       "        text-align: right;\n",
       "    }\n",
       "</style>\n",
       "<table border=\"1\" class=\"dataframe\">\n",
       "  <thead>\n",
       "    <tr style=\"text-align: right;\">\n",
       "      <th></th>\n",
       "      <th>player</th>\n",
       "      <th>goals</th>\n",
       "      <th>xG</th>\n",
       "      <th>assistis</th>\n",
       "      <th>pre-assists</th>\n",
       "      <th>start</th>\n",
       "    </tr>\n",
       "  </thead>\n",
       "  <tbody>\n",
       "    <tr>\n",
       "      <th>0</th>\n",
       "      <td>Salah</td>\n",
       "      <td>9</td>\n",
       "      <td>8.6</td>\n",
       "      <td>7</td>\n",
       "      <td>12</td>\n",
       "      <td>from bench</td>\n",
       "    </tr>\n",
       "    <tr>\n",
       "      <th>1</th>\n",
       "      <td>KDB</td>\n",
       "      <td>1</td>\n",
       "      <td>8.2</td>\n",
       "      <td>4</td>\n",
       "      <td>11</td>\n",
       "      <td>started</td>\n",
       "    </tr>\n",
       "    <tr>\n",
       "      <th>2</th>\n",
       "      <td>KDB</td>\n",
       "      <td>5</td>\n",
       "      <td>8.4</td>\n",
       "      <td>5</td>\n",
       "      <td>2</td>\n",
       "      <td>from bench</td>\n",
       "    </tr>\n",
       "    <tr>\n",
       "      <th>3</th>\n",
       "      <td>Salah</td>\n",
       "      <td>0</td>\n",
       "      <td>6.7</td>\n",
       "      <td>1</td>\n",
       "      <td>11</td>\n",
       "      <td>started</td>\n",
       "    </tr>\n",
       "    <tr>\n",
       "      <th>4</th>\n",
       "      <td>KDB</td>\n",
       "      <td>9</td>\n",
       "      <td>4.7</td>\n",
       "      <td>7</td>\n",
       "      <td>0</td>\n",
       "      <td>started</td>\n",
       "    </tr>\n",
       "  </tbody>\n",
       "</table>\n",
       "</div>"
      ],
      "text/plain": [
       "  player  goals   xG  assistis  pre-assists       start\n",
       "0  Salah      9  8.6         7           12  from bench\n",
       "1    KDB      1  8.2         4           11     started\n",
       "2    KDB      5  8.4         5            2  from bench\n",
       "3  Salah      0  6.7         1           11     started\n",
       "4    KDB      9  4.7         7            0     started"
      ]
     },
     "execution_count": 61,
     "metadata": {},
     "output_type": "execute_result"
    }
   ],
   "source": [
    "player_stats.reset_index()"
   ]
  },
  {
   "cell_type": "code",
   "execution_count": 62,
   "id": "b0d77bb5-50d3-44e9-b7f8-74c32881479a",
   "metadata": {},
   "outputs": [
    {
     "data": {
      "text/plain": [
       "<pandas.core.groupby.generic.DataFrameGroupBy object at 0x7fe07a6fac50>"
      ]
     },
     "execution_count": 62,
     "metadata": {},
     "output_type": "execute_result"
    }
   ],
   "source": [
    "player_group = player_stats.groupby('player')\n",
    "player_group"
   ]
  },
  {
   "cell_type": "markdown",
   "id": "d6e922a0-f2d8-4a94-a4bc-9dc7ebd9ed47",
   "metadata": {},
   "source": [
    "Foi criado um objeto de grupo com os valores da coluna player."
   ]
  },
  {
   "cell_type": "code",
   "execution_count": 64,
   "id": "199ba7a2-b05b-46a9-a5bf-0fb5588e939b",
   "metadata": {},
   "outputs": [
    {
     "data": {
      "text/html": [
       "<div>\n",
       "<style scoped>\n",
       "    .dataframe tbody tr th:only-of-type {\n",
       "        vertical-align: middle;\n",
       "    }\n",
       "\n",
       "    .dataframe tbody tr th {\n",
       "        vertical-align: top;\n",
       "    }\n",
       "\n",
       "    .dataframe thead th {\n",
       "        text-align: right;\n",
       "    }\n",
       "</style>\n",
       "<table border=\"1\" class=\"dataframe\">\n",
       "  <thead>\n",
       "    <tr style=\"text-align: right;\">\n",
       "      <th></th>\n",
       "      <th>goals</th>\n",
       "      <th>xG</th>\n",
       "      <th>assistis</th>\n",
       "      <th>pre-assists</th>\n",
       "    </tr>\n",
       "    <tr>\n",
       "      <th>player</th>\n",
       "      <th></th>\n",
       "      <th></th>\n",
       "      <th></th>\n",
       "      <th></th>\n",
       "    </tr>\n",
       "  </thead>\n",
       "  <tbody>\n",
       "    <tr>\n",
       "      <th>KDB</th>\n",
       "      <td>15</td>\n",
       "      <td>21.3</td>\n",
       "      <td>16</td>\n",
       "      <td>13</td>\n",
       "    </tr>\n",
       "    <tr>\n",
       "      <th>Salah</th>\n",
       "      <td>9</td>\n",
       "      <td>15.3</td>\n",
       "      <td>8</td>\n",
       "      <td>23</td>\n",
       "    </tr>\n",
       "  </tbody>\n",
       "</table>\n",
       "</div>"
      ],
      "text/plain": [
       "        goals    xG  assistis  pre-assists\n",
       "player                                    \n",
       "KDB        15  21.3        16           13\n",
       "Salah       9  15.3         8           23"
      ]
     },
     "execution_count": 64,
     "metadata": {},
     "output_type": "execute_result"
    }
   ],
   "source": [
    "player_group.sum(numeric_only=True)"
   ]
  },
  {
   "cell_type": "markdown",
   "id": "87213b6e-5ee7-4ff8-b8c7-7f306cd19c1d",
   "metadata": {},
   "source": [
    "Um novo Data Frame foi criado, em que a coluna agrupada virou o índice e todas os valores numéricos de outras colunas foram somados de acordo com o valor da coluna agrupada da mesma linha."
   ]
  },
  {
   "cell_type": "markdown",
   "id": "d1028ac4-4af8-4de3-8576-2293b2444c0f",
   "metadata": {},
   "source": [
    "O default do parâmetro numeric_only é False, ou seja, a coluna de strings teria seus valores concatenados, o que geralmente não se quer."
   ]
  },
  {
   "cell_type": "code",
   "execution_count": 65,
   "id": "60238dd1-fdb9-48cc-afa2-ca689107d739",
   "metadata": {},
   "outputs": [
    {
     "data": {
      "text/html": [
       "<div>\n",
       "<style scoped>\n",
       "    .dataframe tbody tr th:only-of-type {\n",
       "        vertical-align: middle;\n",
       "    }\n",
       "\n",
       "    .dataframe tbody tr th {\n",
       "        vertical-align: top;\n",
       "    }\n",
       "\n",
       "    .dataframe thead tr th {\n",
       "        text-align: left;\n",
       "    }\n",
       "\n",
       "    .dataframe thead tr:last-of-type th {\n",
       "        text-align: right;\n",
       "    }\n",
       "</style>\n",
       "<table border=\"1\" class=\"dataframe\">\n",
       "  <thead>\n",
       "    <tr>\n",
       "      <th></th>\n",
       "      <th colspan=\"8\" halign=\"left\">goals</th>\n",
       "      <th colspan=\"2\" halign=\"left\">xG</th>\n",
       "      <th>...</th>\n",
       "      <th colspan=\"2\" halign=\"left\">assistis</th>\n",
       "      <th colspan=\"8\" halign=\"left\">pre-assists</th>\n",
       "    </tr>\n",
       "    <tr>\n",
       "      <th></th>\n",
       "      <th>count</th>\n",
       "      <th>mean</th>\n",
       "      <th>std</th>\n",
       "      <th>min</th>\n",
       "      <th>25%</th>\n",
       "      <th>50%</th>\n",
       "      <th>75%</th>\n",
       "      <th>max</th>\n",
       "      <th>count</th>\n",
       "      <th>mean</th>\n",
       "      <th>...</th>\n",
       "      <th>75%</th>\n",
       "      <th>max</th>\n",
       "      <th>count</th>\n",
       "      <th>mean</th>\n",
       "      <th>std</th>\n",
       "      <th>min</th>\n",
       "      <th>25%</th>\n",
       "      <th>50%</th>\n",
       "      <th>75%</th>\n",
       "      <th>max</th>\n",
       "    </tr>\n",
       "    <tr>\n",
       "      <th>player</th>\n",
       "      <th></th>\n",
       "      <th></th>\n",
       "      <th></th>\n",
       "      <th></th>\n",
       "      <th></th>\n",
       "      <th></th>\n",
       "      <th></th>\n",
       "      <th></th>\n",
       "      <th></th>\n",
       "      <th></th>\n",
       "      <th></th>\n",
       "      <th></th>\n",
       "      <th></th>\n",
       "      <th></th>\n",
       "      <th></th>\n",
       "      <th></th>\n",
       "      <th></th>\n",
       "      <th></th>\n",
       "      <th></th>\n",
       "      <th></th>\n",
       "      <th></th>\n",
       "    </tr>\n",
       "  </thead>\n",
       "  <tbody>\n",
       "    <tr>\n",
       "      <th>KDB</th>\n",
       "      <td>3.0</td>\n",
       "      <td>5.0</td>\n",
       "      <td>4.000000</td>\n",
       "      <td>1.0</td>\n",
       "      <td>3.00</td>\n",
       "      <td>5.0</td>\n",
       "      <td>7.00</td>\n",
       "      <td>9.0</td>\n",
       "      <td>3.0</td>\n",
       "      <td>7.10</td>\n",
       "      <td>...</td>\n",
       "      <td>6.0</td>\n",
       "      <td>7.0</td>\n",
       "      <td>3.0</td>\n",
       "      <td>4.333333</td>\n",
       "      <td>5.859465</td>\n",
       "      <td>0.0</td>\n",
       "      <td>1.00</td>\n",
       "      <td>2.0</td>\n",
       "      <td>6.50</td>\n",
       "      <td>11.0</td>\n",
       "    </tr>\n",
       "    <tr>\n",
       "      <th>Salah</th>\n",
       "      <td>2.0</td>\n",
       "      <td>4.5</td>\n",
       "      <td>6.363961</td>\n",
       "      <td>0.0</td>\n",
       "      <td>2.25</td>\n",
       "      <td>4.5</td>\n",
       "      <td>6.75</td>\n",
       "      <td>9.0</td>\n",
       "      <td>2.0</td>\n",
       "      <td>7.65</td>\n",
       "      <td>...</td>\n",
       "      <td>5.5</td>\n",
       "      <td>7.0</td>\n",
       "      <td>2.0</td>\n",
       "      <td>11.500000</td>\n",
       "      <td>0.707107</td>\n",
       "      <td>11.0</td>\n",
       "      <td>11.25</td>\n",
       "      <td>11.5</td>\n",
       "      <td>11.75</td>\n",
       "      <td>12.0</td>\n",
       "    </tr>\n",
       "  </tbody>\n",
       "</table>\n",
       "<p>2 rows × 32 columns</p>\n",
       "</div>"
      ],
      "text/plain": [
       "       goals                                              xG        ...  \\\n",
       "       count mean       std  min   25%  50%   75%  max count  mean  ...   \n",
       "player                                                              ...   \n",
       "KDB      3.0  5.0  4.000000  1.0  3.00  5.0  7.00  9.0   3.0  7.10  ...   \n",
       "Salah    2.0  4.5  6.363961  0.0  2.25  4.5  6.75  9.0   2.0  7.65  ...   \n",
       "\n",
       "       assistis      pre-assists                                          \\\n",
       "            75%  max       count       mean       std   min    25%   50%   \n",
       "player                                                                     \n",
       "KDB         6.0  7.0         3.0   4.333333  5.859465   0.0   1.00   2.0   \n",
       "Salah       5.5  7.0         2.0  11.500000  0.707107  11.0  11.25  11.5   \n",
       "\n",
       "                     \n",
       "          75%   max  \n",
       "player               \n",
       "KDB      6.50  11.0  \n",
       "Salah   11.75  12.0  \n",
       "\n",
       "[2 rows x 32 columns]"
      ]
     },
     "execution_count": 65,
     "metadata": {},
     "output_type": "execute_result"
    }
   ],
   "source": [
    "player_group.describe()"
   ]
  },
  {
   "cell_type": "markdown",
   "id": "cbc9c6c6-9dba-461e-a886-547de157c8c5",
   "metadata": {},
   "source": [
    "O método describe faz uma análise estatísca dos dados de cada índice."
   ]
  },
  {
   "cell_type": "code",
   "execution_count": 66,
   "id": "58a0cd78-0c15-4ecc-8028-6130e81689cd",
   "metadata": {},
   "outputs": [
    {
     "data": {
      "text/html": [
       "<div>\n",
       "<style scoped>\n",
       "    .dataframe tbody tr th:only-of-type {\n",
       "        vertical-align: middle;\n",
       "    }\n",
       "\n",
       "    .dataframe tbody tr th {\n",
       "        vertical-align: top;\n",
       "    }\n",
       "\n",
       "    .dataframe thead th {\n",
       "        text-align: right;\n",
       "    }\n",
       "</style>\n",
       "<table border=\"1\" class=\"dataframe\">\n",
       "  <thead>\n",
       "    <tr style=\"text-align: right;\">\n",
       "      <th></th>\n",
       "      <th>count</th>\n",
       "      <th>mean</th>\n",
       "      <th>std</th>\n",
       "      <th>min</th>\n",
       "      <th>25%</th>\n",
       "      <th>50%</th>\n",
       "      <th>75%</th>\n",
       "      <th>max</th>\n",
       "    </tr>\n",
       "    <tr>\n",
       "      <th>player</th>\n",
       "      <th></th>\n",
       "      <th></th>\n",
       "      <th></th>\n",
       "      <th></th>\n",
       "      <th></th>\n",
       "      <th></th>\n",
       "      <th></th>\n",
       "      <th></th>\n",
       "    </tr>\n",
       "  </thead>\n",
       "  <tbody>\n",
       "    <tr>\n",
       "      <th>KDB</th>\n",
       "      <td>3.0</td>\n",
       "      <td>5.0</td>\n",
       "      <td>4.000000</td>\n",
       "      <td>1.0</td>\n",
       "      <td>3.00</td>\n",
       "      <td>5.0</td>\n",
       "      <td>7.00</td>\n",
       "      <td>9.0</td>\n",
       "    </tr>\n",
       "    <tr>\n",
       "      <th>Salah</th>\n",
       "      <td>2.0</td>\n",
       "      <td>4.5</td>\n",
       "      <td>6.363961</td>\n",
       "      <td>0.0</td>\n",
       "      <td>2.25</td>\n",
       "      <td>4.5</td>\n",
       "      <td>6.75</td>\n",
       "      <td>9.0</td>\n",
       "    </tr>\n",
       "  </tbody>\n",
       "</table>\n",
       "</div>"
      ],
      "text/plain": [
       "        count  mean       std  min   25%  50%   75%  max\n",
       "player                                                  \n",
       "KDB       3.0   5.0  4.000000  1.0  3.00  5.0  7.00  9.0\n",
       "Salah     2.0   4.5  6.363961  0.0  2.25  4.5  6.75  9.0"
      ]
     },
     "execution_count": 66,
     "metadata": {},
     "output_type": "execute_result"
    }
   ],
   "source": [
    "player_group['goals'].describe()"
   ]
  },
  {
   "cell_type": "markdown",
   "id": "fbae6e1e-6a2c-4c81-a54b-46147e91acf1",
   "metadata": {},
   "source": [
    "É possível aplicar métodos de Group By em colunas específicas do grupo."
   ]
  },
  {
   "cell_type": "code",
   "execution_count": 67,
   "id": "32e2cf82-6036-4f21-ad30-11c9223929b8",
   "metadata": {},
   "outputs": [
    {
     "data": {
      "text/plain": [
       "player\n",
       "KDB      7.10\n",
       "Salah    7.65\n",
       "Name: xG, dtype: float64"
      ]
     },
     "execution_count": 67,
     "metadata": {},
     "output_type": "execute_result"
    }
   ],
   "source": [
    "player_group['xG'].mean()"
   ]
  },
  {
   "cell_type": "markdown",
   "id": "7f283ea5-3e16-4f9e-9b28-e6e8878eac1d",
   "metadata": {},
   "source": [
    "Média de expected goals por jogador."
   ]
  },
  {
   "cell_type": "markdown",
   "id": "25ba0cc0-72f8-4520-8410-2e333c768900",
   "metadata": {},
   "source": [
    "# Concatenar, mesclar e juntar"
   ]
  },
  {
   "cell_type": "markdown",
   "id": "edc9b15d-766a-4e40-809b-34e654261047",
   "metadata": {},
   "source": [
    "Há 3 essas 3 formas de unir Data Frames."
   ]
  },
  {
   "cell_type": "code",
   "execution_count": 71,
   "id": "60bcfb86-3770-422f-b8f5-c97b56c8a634",
   "metadata": {},
   "outputs": [
    {
     "data": {
      "text/html": [
       "<div>\n",
       "<style scoped>\n",
       "    .dataframe tbody tr th:only-of-type {\n",
       "        vertical-align: middle;\n",
       "    }\n",
       "\n",
       "    .dataframe tbody tr th {\n",
       "        vertical-align: top;\n",
       "    }\n",
       "\n",
       "    .dataframe thead th {\n",
       "        text-align: right;\n",
       "    }\n",
       "</style>\n",
       "<table border=\"1\" class=\"dataframe\">\n",
       "  <thead>\n",
       "    <tr style=\"text-align: right;\">\n",
       "      <th></th>\n",
       "      <th>gols</th>\n",
       "      <th>expulsoes</th>\n",
       "      <th>km percorridos</th>\n",
       "      <th>jogadores convocados</th>\n",
       "    </tr>\n",
       "  </thead>\n",
       "  <tbody>\n",
       "    <tr>\n",
       "      <th>Brasileirao</th>\n",
       "      <td>458</td>\n",
       "      <td>50</td>\n",
       "      <td>52844</td>\n",
       "      <td>11</td>\n",
       "    </tr>\n",
       "    <tr>\n",
       "      <th>Bundesliga</th>\n",
       "      <td>724</td>\n",
       "      <td>34</td>\n",
       "      <td>59846</td>\n",
       "      <td>36</td>\n",
       "    </tr>\n",
       "    <tr>\n",
       "      <th>Erendivise</th>\n",
       "      <td>550</td>\n",
       "      <td>36</td>\n",
       "      <td>61078</td>\n",
       "      <td>32</td>\n",
       "    </tr>\n",
       "  </tbody>\n",
       "</table>\n",
       "</div>"
      ],
      "text/plain": [
       "             gols  expulsoes  km percorridos  jogadores convocados\n",
       "Brasileirao   458         50           52844                    11\n",
       "Bundesliga    724         34           59846                    36\n",
       "Erendivise    550         36           61078                    32"
      ]
     },
     "execution_count": 71,
     "metadata": {},
     "output_type": "execute_result"
    }
   ],
   "source": [
    "linhas0 = ['Brasileirao', 'Bundesliga', 'Erendivise']\n",
    "linhas1 = ['Premier League', 'La Liga', 'Primera Divison']\n",
    "linhas2 = ['Ligue One', 'Serie A', 'Primeira Liga']\n",
    "colunas = ['gols', 'expulsoes', 'km percorridos', 'jogadores convocados']\n",
    "league_data0 = [list(row) for row in zip(np.random.randint(400, 760, 3), np.random.randint(30, 95, 3), np.random.randint(50000, 64000, 3), np.random.randint(0, 40, 3))]\n",
    "league_data1 = [list(row) for row in zip(np.random.randint(400, 760, 3), np.random.randint(30, 95, 3), np.random.randint(50000, 64000, 3), np.random.randint(0, 40, 3))]\n",
    "league_data2 = [list(row) for row in zip(np.random.randint(400, 760, 3), np.random.randint(30, 95, 3), np.random.randint(50000, 64000, 3), np.random.randint(0, 40, 3))]\n",
    "\n",
    "ld0 = pd.DataFrame(league_data0, linhas0, colunas)\n",
    "ld1 = pd.DataFrame(league_data1, linhas1, colunas)\n",
    "ld2 = pd.DataFrame(league_data2, linhas2, colunas)\n",
    "ld0"
   ]
  },
  {
   "cell_type": "code",
   "execution_count": 72,
   "id": "b98e4acc-a3ec-4a93-8c6e-76def4cc9a00",
   "metadata": {},
   "outputs": [
    {
     "data": {
      "text/html": [
       "<div>\n",
       "<style scoped>\n",
       "    .dataframe tbody tr th:only-of-type {\n",
       "        vertical-align: middle;\n",
       "    }\n",
       "\n",
       "    .dataframe tbody tr th {\n",
       "        vertical-align: top;\n",
       "    }\n",
       "\n",
       "    .dataframe thead th {\n",
       "        text-align: right;\n",
       "    }\n",
       "</style>\n",
       "<table border=\"1\" class=\"dataframe\">\n",
       "  <thead>\n",
       "    <tr style=\"text-align: right;\">\n",
       "      <th></th>\n",
       "      <th>gols</th>\n",
       "      <th>expulsoes</th>\n",
       "      <th>km percorridos</th>\n",
       "      <th>jogadores convocados</th>\n",
       "    </tr>\n",
       "  </thead>\n",
       "  <tbody>\n",
       "    <tr>\n",
       "      <th>Premier League</th>\n",
       "      <td>415</td>\n",
       "      <td>72</td>\n",
       "      <td>51554</td>\n",
       "      <td>8</td>\n",
       "    </tr>\n",
       "    <tr>\n",
       "      <th>La Liga</th>\n",
       "      <td>596</td>\n",
       "      <td>81</td>\n",
       "      <td>52303</td>\n",
       "      <td>16</td>\n",
       "    </tr>\n",
       "    <tr>\n",
       "      <th>Primera Divison</th>\n",
       "      <td>644</td>\n",
       "      <td>88</td>\n",
       "      <td>55534</td>\n",
       "      <td>15</td>\n",
       "    </tr>\n",
       "  </tbody>\n",
       "</table>\n",
       "</div>"
      ],
      "text/plain": [
       "                 gols  expulsoes  km percorridos  jogadores convocados\n",
       "Premier League    415         72           51554                     8\n",
       "La Liga           596         81           52303                    16\n",
       "Primera Divison   644         88           55534                    15"
      ]
     },
     "execution_count": 72,
     "metadata": {},
     "output_type": "execute_result"
    }
   ],
   "source": [
    "ld1"
   ]
  },
  {
   "cell_type": "code",
   "execution_count": 73,
   "id": "5a3192a8-4002-40ab-806f-804a4cbdef54",
   "metadata": {},
   "outputs": [
    {
     "data": {
      "text/html": [
       "<div>\n",
       "<style scoped>\n",
       "    .dataframe tbody tr th:only-of-type {\n",
       "        vertical-align: middle;\n",
       "    }\n",
       "\n",
       "    .dataframe tbody tr th {\n",
       "        vertical-align: top;\n",
       "    }\n",
       "\n",
       "    .dataframe thead th {\n",
       "        text-align: right;\n",
       "    }\n",
       "</style>\n",
       "<table border=\"1\" class=\"dataframe\">\n",
       "  <thead>\n",
       "    <tr style=\"text-align: right;\">\n",
       "      <th></th>\n",
       "      <th>gols</th>\n",
       "      <th>expulsoes</th>\n",
       "      <th>km percorridos</th>\n",
       "      <th>jogadores convocados</th>\n",
       "    </tr>\n",
       "  </thead>\n",
       "  <tbody>\n",
       "    <tr>\n",
       "      <th>Ligue One</th>\n",
       "      <td>524</td>\n",
       "      <td>84</td>\n",
       "      <td>56874</td>\n",
       "      <td>14</td>\n",
       "    </tr>\n",
       "    <tr>\n",
       "      <th>Serie A</th>\n",
       "      <td>708</td>\n",
       "      <td>34</td>\n",
       "      <td>63703</td>\n",
       "      <td>4</td>\n",
       "    </tr>\n",
       "    <tr>\n",
       "      <th>Primeira Liga</th>\n",
       "      <td>757</td>\n",
       "      <td>72</td>\n",
       "      <td>57571</td>\n",
       "      <td>19</td>\n",
       "    </tr>\n",
       "  </tbody>\n",
       "</table>\n",
       "</div>"
      ],
      "text/plain": [
       "               gols  expulsoes  km percorridos  jogadores convocados\n",
       "Ligue One       524         84           56874                    14\n",
       "Serie A         708         34           63703                     4\n",
       "Primeira Liga   757         72           57571                    19"
      ]
     },
     "execution_count": 73,
     "metadata": {},
     "output_type": "execute_result"
    }
   ],
   "source": [
    "ld2"
   ]
  },
  {
   "cell_type": "markdown",
   "id": "fab13c31-25f8-45f4-8f00-41103af0819a",
   "metadata": {},
   "source": [
    "### Concat"
   ]
  },
  {
   "cell_type": "markdown",
   "id": "4a5957b9-2938-4aec-8f6c-2e39f038d6c6",
   "metadata": {},
   "source": [
    "Método de concatenação."
   ]
  },
  {
   "cell_type": "markdown",
   "id": "e7fc2d1a-283f-4f00-9e0c-502db13a0abd",
   "metadata": {},
   "source": [
    "Método de união mais simples, apenas cola os Data Frames um no outro em ordem."
   ]
  },
  {
   "cell_type": "code",
   "execution_count": 74,
   "id": "7b2ea9be-0dd1-46dd-8148-7ab5d665def2",
   "metadata": {},
   "outputs": [
    {
     "data": {
      "text/html": [
       "<div>\n",
       "<style scoped>\n",
       "    .dataframe tbody tr th:only-of-type {\n",
       "        vertical-align: middle;\n",
       "    }\n",
       "\n",
       "    .dataframe tbody tr th {\n",
       "        vertical-align: top;\n",
       "    }\n",
       "\n",
       "    .dataframe thead th {\n",
       "        text-align: right;\n",
       "    }\n",
       "</style>\n",
       "<table border=\"1\" class=\"dataframe\">\n",
       "  <thead>\n",
       "    <tr style=\"text-align: right;\">\n",
       "      <th></th>\n",
       "      <th>gols</th>\n",
       "      <th>expulsoes</th>\n",
       "      <th>km percorridos</th>\n",
       "      <th>jogadores convocados</th>\n",
       "    </tr>\n",
       "  </thead>\n",
       "  <tbody>\n",
       "    <tr>\n",
       "      <th>Brasileirao</th>\n",
       "      <td>458</td>\n",
       "      <td>50</td>\n",
       "      <td>52844</td>\n",
       "      <td>11</td>\n",
       "    </tr>\n",
       "    <tr>\n",
       "      <th>Bundesliga</th>\n",
       "      <td>724</td>\n",
       "      <td>34</td>\n",
       "      <td>59846</td>\n",
       "      <td>36</td>\n",
       "    </tr>\n",
       "    <tr>\n",
       "      <th>Erendivise</th>\n",
       "      <td>550</td>\n",
       "      <td>36</td>\n",
       "      <td>61078</td>\n",
       "      <td>32</td>\n",
       "    </tr>\n",
       "    <tr>\n",
       "      <th>Premier League</th>\n",
       "      <td>415</td>\n",
       "      <td>72</td>\n",
       "      <td>51554</td>\n",
       "      <td>8</td>\n",
       "    </tr>\n",
       "    <tr>\n",
       "      <th>La Liga</th>\n",
       "      <td>596</td>\n",
       "      <td>81</td>\n",
       "      <td>52303</td>\n",
       "      <td>16</td>\n",
       "    </tr>\n",
       "    <tr>\n",
       "      <th>Primera Divison</th>\n",
       "      <td>644</td>\n",
       "      <td>88</td>\n",
       "      <td>55534</td>\n",
       "      <td>15</td>\n",
       "    </tr>\n",
       "    <tr>\n",
       "      <th>Ligue One</th>\n",
       "      <td>524</td>\n",
       "      <td>84</td>\n",
       "      <td>56874</td>\n",
       "      <td>14</td>\n",
       "    </tr>\n",
       "    <tr>\n",
       "      <th>Serie A</th>\n",
       "      <td>708</td>\n",
       "      <td>34</td>\n",
       "      <td>63703</td>\n",
       "      <td>4</td>\n",
       "    </tr>\n",
       "    <tr>\n",
       "      <th>Primeira Liga</th>\n",
       "      <td>757</td>\n",
       "      <td>72</td>\n",
       "      <td>57571</td>\n",
       "      <td>19</td>\n",
       "    </tr>\n",
       "  </tbody>\n",
       "</table>\n",
       "</div>"
      ],
      "text/plain": [
       "                 gols  expulsoes  km percorridos  jogadores convocados\n",
       "Brasileirao       458         50           52844                    11\n",
       "Bundesliga        724         34           59846                    36\n",
       "Erendivise        550         36           61078                    32\n",
       "Premier League    415         72           51554                     8\n",
       "La Liga           596         81           52303                    16\n",
       "Primera Divison   644         88           55534                    15\n",
       "Ligue One         524         84           56874                    14\n",
       "Serie A           708         34           63703                     4\n",
       "Primeira Liga     757         72           57571                    19"
      ]
     },
     "execution_count": 74,
     "metadata": {},
     "output_type": "execute_result"
    }
   ],
   "source": [
    "pd.concat([ld0, ld1, ld2])"
   ]
  },
  {
   "cell_type": "markdown",
   "id": "8f6d822a-aff4-417f-989b-98cde8dbd16b",
   "metadata": {},
   "source": [
    "A concatenação ocorre por padrão através das linhas, ou seja, função procura colunas em comum entre as linhas e as encaixa."
   ]
  },
  {
   "cell_type": "code",
   "execution_count": 76,
   "id": "d97f583f-c859-4d7b-b69a-53e155499cbf",
   "metadata": {},
   "outputs": [
    {
     "data": {
      "text/html": [
       "<div>\n",
       "<style scoped>\n",
       "    .dataframe tbody tr th:only-of-type {\n",
       "        vertical-align: middle;\n",
       "    }\n",
       "\n",
       "    .dataframe tbody tr th {\n",
       "        vertical-align: top;\n",
       "    }\n",
       "\n",
       "    .dataframe thead th {\n",
       "        text-align: right;\n",
       "    }\n",
       "</style>\n",
       "<table border=\"1\" class=\"dataframe\">\n",
       "  <thead>\n",
       "    <tr style=\"text-align: right;\">\n",
       "      <th></th>\n",
       "      <th>gols</th>\n",
       "      <th>expulsoes</th>\n",
       "      <th>km percorridos</th>\n",
       "      <th>jogadores convocados</th>\n",
       "      <th>gols</th>\n",
       "      <th>expulsoes</th>\n",
       "      <th>km percorridos</th>\n",
       "      <th>jogadores convocados</th>\n",
       "      <th>gols</th>\n",
       "      <th>expulsoes</th>\n",
       "      <th>km percorridos</th>\n",
       "      <th>jogadores convocados</th>\n",
       "    </tr>\n",
       "  </thead>\n",
       "  <tbody>\n",
       "    <tr>\n",
       "      <th>Brasileirao</th>\n",
       "      <td>458.0</td>\n",
       "      <td>50.0</td>\n",
       "      <td>52844.0</td>\n",
       "      <td>11.0</td>\n",
       "      <td>NaN</td>\n",
       "      <td>NaN</td>\n",
       "      <td>NaN</td>\n",
       "      <td>NaN</td>\n",
       "      <td>NaN</td>\n",
       "      <td>NaN</td>\n",
       "      <td>NaN</td>\n",
       "      <td>NaN</td>\n",
       "    </tr>\n",
       "    <tr>\n",
       "      <th>Bundesliga</th>\n",
       "      <td>724.0</td>\n",
       "      <td>34.0</td>\n",
       "      <td>59846.0</td>\n",
       "      <td>36.0</td>\n",
       "      <td>NaN</td>\n",
       "      <td>NaN</td>\n",
       "      <td>NaN</td>\n",
       "      <td>NaN</td>\n",
       "      <td>NaN</td>\n",
       "      <td>NaN</td>\n",
       "      <td>NaN</td>\n",
       "      <td>NaN</td>\n",
       "    </tr>\n",
       "    <tr>\n",
       "      <th>Erendivise</th>\n",
       "      <td>550.0</td>\n",
       "      <td>36.0</td>\n",
       "      <td>61078.0</td>\n",
       "      <td>32.0</td>\n",
       "      <td>NaN</td>\n",
       "      <td>NaN</td>\n",
       "      <td>NaN</td>\n",
       "      <td>NaN</td>\n",
       "      <td>NaN</td>\n",
       "      <td>NaN</td>\n",
       "      <td>NaN</td>\n",
       "      <td>NaN</td>\n",
       "    </tr>\n",
       "    <tr>\n",
       "      <th>Premier League</th>\n",
       "      <td>NaN</td>\n",
       "      <td>NaN</td>\n",
       "      <td>NaN</td>\n",
       "      <td>NaN</td>\n",
       "      <td>415.0</td>\n",
       "      <td>72.0</td>\n",
       "      <td>51554.0</td>\n",
       "      <td>8.0</td>\n",
       "      <td>NaN</td>\n",
       "      <td>NaN</td>\n",
       "      <td>NaN</td>\n",
       "      <td>NaN</td>\n",
       "    </tr>\n",
       "    <tr>\n",
       "      <th>La Liga</th>\n",
       "      <td>NaN</td>\n",
       "      <td>NaN</td>\n",
       "      <td>NaN</td>\n",
       "      <td>NaN</td>\n",
       "      <td>596.0</td>\n",
       "      <td>81.0</td>\n",
       "      <td>52303.0</td>\n",
       "      <td>16.0</td>\n",
       "      <td>NaN</td>\n",
       "      <td>NaN</td>\n",
       "      <td>NaN</td>\n",
       "      <td>NaN</td>\n",
       "    </tr>\n",
       "    <tr>\n",
       "      <th>Primera Divison</th>\n",
       "      <td>NaN</td>\n",
       "      <td>NaN</td>\n",
       "      <td>NaN</td>\n",
       "      <td>NaN</td>\n",
       "      <td>644.0</td>\n",
       "      <td>88.0</td>\n",
       "      <td>55534.0</td>\n",
       "      <td>15.0</td>\n",
       "      <td>NaN</td>\n",
       "      <td>NaN</td>\n",
       "      <td>NaN</td>\n",
       "      <td>NaN</td>\n",
       "    </tr>\n",
       "    <tr>\n",
       "      <th>Ligue One</th>\n",
       "      <td>NaN</td>\n",
       "      <td>NaN</td>\n",
       "      <td>NaN</td>\n",
       "      <td>NaN</td>\n",
       "      <td>NaN</td>\n",
       "      <td>NaN</td>\n",
       "      <td>NaN</td>\n",
       "      <td>NaN</td>\n",
       "      <td>524.0</td>\n",
       "      <td>84.0</td>\n",
       "      <td>56874.0</td>\n",
       "      <td>14.0</td>\n",
       "    </tr>\n",
       "    <tr>\n",
       "      <th>Serie A</th>\n",
       "      <td>NaN</td>\n",
       "      <td>NaN</td>\n",
       "      <td>NaN</td>\n",
       "      <td>NaN</td>\n",
       "      <td>NaN</td>\n",
       "      <td>NaN</td>\n",
       "      <td>NaN</td>\n",
       "      <td>NaN</td>\n",
       "      <td>708.0</td>\n",
       "      <td>34.0</td>\n",
       "      <td>63703.0</td>\n",
       "      <td>4.0</td>\n",
       "    </tr>\n",
       "    <tr>\n",
       "      <th>Primeira Liga</th>\n",
       "      <td>NaN</td>\n",
       "      <td>NaN</td>\n",
       "      <td>NaN</td>\n",
       "      <td>NaN</td>\n",
       "      <td>NaN</td>\n",
       "      <td>NaN</td>\n",
       "      <td>NaN</td>\n",
       "      <td>NaN</td>\n",
       "      <td>757.0</td>\n",
       "      <td>72.0</td>\n",
       "      <td>57571.0</td>\n",
       "      <td>19.0</td>\n",
       "    </tr>\n",
       "  </tbody>\n",
       "</table>\n",
       "</div>"
      ],
      "text/plain": [
       "                  gols  expulsoes  km percorridos  jogadores convocados  \\\n",
       "Brasileirao      458.0       50.0         52844.0                  11.0   \n",
       "Bundesliga       724.0       34.0         59846.0                  36.0   \n",
       "Erendivise       550.0       36.0         61078.0                  32.0   \n",
       "Premier League     NaN        NaN             NaN                   NaN   \n",
       "La Liga            NaN        NaN             NaN                   NaN   \n",
       "Primera Divison    NaN        NaN             NaN                   NaN   \n",
       "Ligue One          NaN        NaN             NaN                   NaN   \n",
       "Serie A            NaN        NaN             NaN                   NaN   \n",
       "Primeira Liga      NaN        NaN             NaN                   NaN   \n",
       "\n",
       "                  gols  expulsoes  km percorridos  jogadores convocados  \\\n",
       "Brasileirao        NaN        NaN             NaN                   NaN   \n",
       "Bundesliga         NaN        NaN             NaN                   NaN   \n",
       "Erendivise         NaN        NaN             NaN                   NaN   \n",
       "Premier League   415.0       72.0         51554.0                   8.0   \n",
       "La Liga          596.0       81.0         52303.0                  16.0   \n",
       "Primera Divison  644.0       88.0         55534.0                  15.0   \n",
       "Ligue One          NaN        NaN             NaN                   NaN   \n",
       "Serie A            NaN        NaN             NaN                   NaN   \n",
       "Primeira Liga      NaN        NaN             NaN                   NaN   \n",
       "\n",
       "                  gols  expulsoes  km percorridos  jogadores convocados  \n",
       "Brasileirao        NaN        NaN             NaN                   NaN  \n",
       "Bundesliga         NaN        NaN             NaN                   NaN  \n",
       "Erendivise         NaN        NaN             NaN                   NaN  \n",
       "Premier League     NaN        NaN             NaN                   NaN  \n",
       "La Liga            NaN        NaN             NaN                   NaN  \n",
       "Primera Divison    NaN        NaN             NaN                   NaN  \n",
       "Ligue One        524.0       84.0         56874.0                  14.0  \n",
       "Serie A          708.0       34.0         63703.0                   4.0  \n",
       "Primeira Liga    757.0       72.0         57571.0                  19.0  "
      ]
     },
     "execution_count": 76,
     "metadata": {},
     "output_type": "execute_result"
    }
   ],
   "source": [
    "pd.concat([ld0, ld1, ld2], axis=1)"
   ]
  },
  {
   "cell_type": "markdown",
   "id": "574e0e3d-1ab9-4a3c-b038-5a65b9c245b6",
   "metadata": {},
   "source": [
    "Aqui a concatenação ocorreu com base nas colunas, ou seja, procurou-se índices em comum entre as colunas e, como não havia nenhuma, todas as linhas ficaram com valores nulos nos slots que se referiam ao seu respectivo valor numa coluna de outro DF."
   ]
  },
  {
   "cell_type": "markdown",
   "id": "04d8c711-2a77-4a33-bd87-5fffc8beebcb",
   "metadata": {},
   "source": [
    "#### Contra-exemplo com concat"
   ]
  },
  {
   "cell_type": "code",
   "execution_count": 77,
   "id": "309968b3-6ac6-4204-8de5-35e506ae5102",
   "metadata": {},
   "outputs": [
    {
     "data": {
      "text/html": [
       "<div>\n",
       "<style scoped>\n",
       "    .dataframe tbody tr th:only-of-type {\n",
       "        vertical-align: middle;\n",
       "    }\n",
       "\n",
       "    .dataframe tbody tr th {\n",
       "        vertical-align: top;\n",
       "    }\n",
       "\n",
       "    .dataframe thead th {\n",
       "        text-align: right;\n",
       "    }\n",
       "</style>\n",
       "<table border=\"1\" class=\"dataframe\">\n",
       "  <thead>\n",
       "    <tr style=\"text-align: right;\">\n",
       "      <th></th>\n",
       "      <th>vitorias</th>\n",
       "      <th>derrotas</th>\n",
       "      <th>empates</th>\n",
       "      <th>saldo de gols</th>\n",
       "    </tr>\n",
       "  </thead>\n",
       "  <tbody>\n",
       "    <tr>\n",
       "      <th>Internacional</th>\n",
       "      <td>45</td>\n",
       "      <td>12</td>\n",
       "      <td>12</td>\n",
       "      <td>28</td>\n",
       "    </tr>\n",
       "    <tr>\n",
       "      <th>Palmeiras</th>\n",
       "      <td>41</td>\n",
       "      <td>14</td>\n",
       "      <td>12</td>\n",
       "      <td>25</td>\n",
       "    </tr>\n",
       "    <tr>\n",
       "      <th>Corinthians</th>\n",
       "      <td>43</td>\n",
       "      <td>12</td>\n",
       "      <td>12</td>\n",
       "      <td>11</td>\n",
       "    </tr>\n",
       "  </tbody>\n",
       "</table>\n",
       "</div>"
      ],
      "text/plain": [
       "               vitorias  derrotas  empates  saldo de gols\n",
       "Internacional        45        12       12             28\n",
       "Palmeiras            41        14       12             25\n",
       "Corinthians          43        12       12             11"
      ]
     },
     "execution_count": 77,
     "metadata": {},
     "output_type": "execute_result"
    }
   ],
   "source": [
    "colunas0 = ['vitorias', 'derrotas', 'empates', 'saldo de gols']\n",
    "colunas1 = ['xG', 'xA', 'gols marcados', 'tamanho do elenco']\n",
    "colunas2 = ['titulos', 'media de publico', 'divida (em *10⁶)', 'receita']\n",
    "linhas = ['Internacional', 'Palmeiras', 'Corinthians']\n",
    "\n",
    "dados0 = [list(row) for row in zip(np.random.randint(35, 50, 3), np.random.randint(10, 15, 3), np.random.randint(10, 15, 3), np.random.randint(0, 40, 3))]\n",
    "dados1 = [list(row) for row in zip(np.random.randint(800, 1400, 3) / 10, np.random.randint(300, 500, 3) / 10, np.random.randint(80, 140, 3), np.random.randint(0, 33, 3))]\n",
    "dados2 = [list(row) for row in zip(np.random.randint(0, 4, 3), np.random.randint(20000, 60000, 3), np.random.randint(100, 500, 3), np.random.randint(400, 1000, 3))]\n",
    "\n",
    "clube_stats0 = pd.DataFrame(dados0, linhas, colunas0)\n",
    "clube_stats1 = pd.DataFrame(dados1, linhas, colunas1)\n",
    "clube_stats2 = pd.DataFrame(dados2, linhas, colunas2)\n",
    "clube_stats0"
   ]
  },
  {
   "cell_type": "code",
   "execution_count": 78,
   "id": "8590f5a1-cffd-48ad-90bc-d95b5d67aa76",
   "metadata": {},
   "outputs": [
    {
     "data": {
      "text/html": [
       "<div>\n",
       "<style scoped>\n",
       "    .dataframe tbody tr th:only-of-type {\n",
       "        vertical-align: middle;\n",
       "    }\n",
       "\n",
       "    .dataframe tbody tr th {\n",
       "        vertical-align: top;\n",
       "    }\n",
       "\n",
       "    .dataframe thead th {\n",
       "        text-align: right;\n",
       "    }\n",
       "</style>\n",
       "<table border=\"1\" class=\"dataframe\">\n",
       "  <thead>\n",
       "    <tr style=\"text-align: right;\">\n",
       "      <th></th>\n",
       "      <th>xG</th>\n",
       "      <th>xA</th>\n",
       "      <th>gols marcados</th>\n",
       "      <th>tamanho do elenco</th>\n",
       "    </tr>\n",
       "  </thead>\n",
       "  <tbody>\n",
       "    <tr>\n",
       "      <th>Internacional</th>\n",
       "      <td>101.5</td>\n",
       "      <td>47.0</td>\n",
       "      <td>128</td>\n",
       "      <td>16</td>\n",
       "    </tr>\n",
       "    <tr>\n",
       "      <th>Palmeiras</th>\n",
       "      <td>94.1</td>\n",
       "      <td>44.9</td>\n",
       "      <td>117</td>\n",
       "      <td>31</td>\n",
       "    </tr>\n",
       "    <tr>\n",
       "      <th>Corinthians</th>\n",
       "      <td>110.4</td>\n",
       "      <td>35.6</td>\n",
       "      <td>83</td>\n",
       "      <td>25</td>\n",
       "    </tr>\n",
       "  </tbody>\n",
       "</table>\n",
       "</div>"
      ],
      "text/plain": [
       "                  xG    xA  gols marcados  tamanho do elenco\n",
       "Internacional  101.5  47.0            128                 16\n",
       "Palmeiras       94.1  44.9            117                 31\n",
       "Corinthians    110.4  35.6             83                 25"
      ]
     },
     "execution_count": 78,
     "metadata": {},
     "output_type": "execute_result"
    }
   ],
   "source": [
    "clube_stats1"
   ]
  },
  {
   "cell_type": "code",
   "execution_count": 79,
   "id": "c197e039-7b57-4a62-a317-fa4a02637a32",
   "metadata": {},
   "outputs": [
    {
     "data": {
      "text/html": [
       "<div>\n",
       "<style scoped>\n",
       "    .dataframe tbody tr th:only-of-type {\n",
       "        vertical-align: middle;\n",
       "    }\n",
       "\n",
       "    .dataframe tbody tr th {\n",
       "        vertical-align: top;\n",
       "    }\n",
       "\n",
       "    .dataframe thead th {\n",
       "        text-align: right;\n",
       "    }\n",
       "</style>\n",
       "<table border=\"1\" class=\"dataframe\">\n",
       "  <thead>\n",
       "    <tr style=\"text-align: right;\">\n",
       "      <th></th>\n",
       "      <th>titulos</th>\n",
       "      <th>media de publico</th>\n",
       "      <th>divida (em *10⁶)</th>\n",
       "      <th>receita</th>\n",
       "    </tr>\n",
       "  </thead>\n",
       "  <tbody>\n",
       "    <tr>\n",
       "      <th>Internacional</th>\n",
       "      <td>1</td>\n",
       "      <td>26058</td>\n",
       "      <td>214</td>\n",
       "      <td>463</td>\n",
       "    </tr>\n",
       "    <tr>\n",
       "      <th>Palmeiras</th>\n",
       "      <td>1</td>\n",
       "      <td>57473</td>\n",
       "      <td>165</td>\n",
       "      <td>868</td>\n",
       "    </tr>\n",
       "    <tr>\n",
       "      <th>Corinthians</th>\n",
       "      <td>2</td>\n",
       "      <td>54973</td>\n",
       "      <td>447</td>\n",
       "      <td>647</td>\n",
       "    </tr>\n",
       "  </tbody>\n",
       "</table>\n",
       "</div>"
      ],
      "text/plain": [
       "               titulos  media de publico  divida (em *10⁶)  receita\n",
       "Internacional        1             26058               214      463\n",
       "Palmeiras            1             57473               165      868\n",
       "Corinthians          2             54973               447      647"
      ]
     },
     "execution_count": 79,
     "metadata": {},
     "output_type": "execute_result"
    }
   ],
   "source": [
    "clube_stats2"
   ]
  },
  {
   "cell_type": "code",
   "execution_count": 80,
   "id": "a9e6650f-4564-4047-84a8-9335d78f1d80",
   "metadata": {},
   "outputs": [
    {
     "data": {
      "text/html": [
       "<div>\n",
       "<style scoped>\n",
       "    .dataframe tbody tr th:only-of-type {\n",
       "        vertical-align: middle;\n",
       "    }\n",
       "\n",
       "    .dataframe tbody tr th {\n",
       "        vertical-align: top;\n",
       "    }\n",
       "\n",
       "    .dataframe thead th {\n",
       "        text-align: right;\n",
       "    }\n",
       "</style>\n",
       "<table border=\"1\" class=\"dataframe\">\n",
       "  <thead>\n",
       "    <tr style=\"text-align: right;\">\n",
       "      <th></th>\n",
       "      <th>vitorias</th>\n",
       "      <th>derrotas</th>\n",
       "      <th>empates</th>\n",
       "      <th>saldo de gols</th>\n",
       "      <th>xG</th>\n",
       "      <th>xA</th>\n",
       "      <th>gols marcados</th>\n",
       "      <th>tamanho do elenco</th>\n",
       "      <th>titulos</th>\n",
       "      <th>media de publico</th>\n",
       "      <th>divida (em *10⁶)</th>\n",
       "      <th>receita</th>\n",
       "    </tr>\n",
       "  </thead>\n",
       "  <tbody>\n",
       "    <tr>\n",
       "      <th>Internacional</th>\n",
       "      <td>45.0</td>\n",
       "      <td>12.0</td>\n",
       "      <td>12.0</td>\n",
       "      <td>28.0</td>\n",
       "      <td>NaN</td>\n",
       "      <td>NaN</td>\n",
       "      <td>NaN</td>\n",
       "      <td>NaN</td>\n",
       "      <td>NaN</td>\n",
       "      <td>NaN</td>\n",
       "      <td>NaN</td>\n",
       "      <td>NaN</td>\n",
       "    </tr>\n",
       "    <tr>\n",
       "      <th>Palmeiras</th>\n",
       "      <td>41.0</td>\n",
       "      <td>14.0</td>\n",
       "      <td>12.0</td>\n",
       "      <td>25.0</td>\n",
       "      <td>NaN</td>\n",
       "      <td>NaN</td>\n",
       "      <td>NaN</td>\n",
       "      <td>NaN</td>\n",
       "      <td>NaN</td>\n",
       "      <td>NaN</td>\n",
       "      <td>NaN</td>\n",
       "      <td>NaN</td>\n",
       "    </tr>\n",
       "    <tr>\n",
       "      <th>Corinthians</th>\n",
       "      <td>43.0</td>\n",
       "      <td>12.0</td>\n",
       "      <td>12.0</td>\n",
       "      <td>11.0</td>\n",
       "      <td>NaN</td>\n",
       "      <td>NaN</td>\n",
       "      <td>NaN</td>\n",
       "      <td>NaN</td>\n",
       "      <td>NaN</td>\n",
       "      <td>NaN</td>\n",
       "      <td>NaN</td>\n",
       "      <td>NaN</td>\n",
       "    </tr>\n",
       "    <tr>\n",
       "      <th>Internacional</th>\n",
       "      <td>NaN</td>\n",
       "      <td>NaN</td>\n",
       "      <td>NaN</td>\n",
       "      <td>NaN</td>\n",
       "      <td>101.5</td>\n",
       "      <td>47.0</td>\n",
       "      <td>128.0</td>\n",
       "      <td>16.0</td>\n",
       "      <td>NaN</td>\n",
       "      <td>NaN</td>\n",
       "      <td>NaN</td>\n",
       "      <td>NaN</td>\n",
       "    </tr>\n",
       "    <tr>\n",
       "      <th>Palmeiras</th>\n",
       "      <td>NaN</td>\n",
       "      <td>NaN</td>\n",
       "      <td>NaN</td>\n",
       "      <td>NaN</td>\n",
       "      <td>94.1</td>\n",
       "      <td>44.9</td>\n",
       "      <td>117.0</td>\n",
       "      <td>31.0</td>\n",
       "      <td>NaN</td>\n",
       "      <td>NaN</td>\n",
       "      <td>NaN</td>\n",
       "      <td>NaN</td>\n",
       "    </tr>\n",
       "    <tr>\n",
       "      <th>Corinthians</th>\n",
       "      <td>NaN</td>\n",
       "      <td>NaN</td>\n",
       "      <td>NaN</td>\n",
       "      <td>NaN</td>\n",
       "      <td>110.4</td>\n",
       "      <td>35.6</td>\n",
       "      <td>83.0</td>\n",
       "      <td>25.0</td>\n",
       "      <td>NaN</td>\n",
       "      <td>NaN</td>\n",
       "      <td>NaN</td>\n",
       "      <td>NaN</td>\n",
       "    </tr>\n",
       "    <tr>\n",
       "      <th>Internacional</th>\n",
       "      <td>NaN</td>\n",
       "      <td>NaN</td>\n",
       "      <td>NaN</td>\n",
       "      <td>NaN</td>\n",
       "      <td>NaN</td>\n",
       "      <td>NaN</td>\n",
       "      <td>NaN</td>\n",
       "      <td>NaN</td>\n",
       "      <td>1.0</td>\n",
       "      <td>26058.0</td>\n",
       "      <td>214.0</td>\n",
       "      <td>463.0</td>\n",
       "    </tr>\n",
       "    <tr>\n",
       "      <th>Palmeiras</th>\n",
       "      <td>NaN</td>\n",
       "      <td>NaN</td>\n",
       "      <td>NaN</td>\n",
       "      <td>NaN</td>\n",
       "      <td>NaN</td>\n",
       "      <td>NaN</td>\n",
       "      <td>NaN</td>\n",
       "      <td>NaN</td>\n",
       "      <td>1.0</td>\n",
       "      <td>57473.0</td>\n",
       "      <td>165.0</td>\n",
       "      <td>868.0</td>\n",
       "    </tr>\n",
       "    <tr>\n",
       "      <th>Corinthians</th>\n",
       "      <td>NaN</td>\n",
       "      <td>NaN</td>\n",
       "      <td>NaN</td>\n",
       "      <td>NaN</td>\n",
       "      <td>NaN</td>\n",
       "      <td>NaN</td>\n",
       "      <td>NaN</td>\n",
       "      <td>NaN</td>\n",
       "      <td>2.0</td>\n",
       "      <td>54973.0</td>\n",
       "      <td>447.0</td>\n",
       "      <td>647.0</td>\n",
       "    </tr>\n",
       "  </tbody>\n",
       "</table>\n",
       "</div>"
      ],
      "text/plain": [
       "               vitorias  derrotas  empates  saldo de gols     xG    xA  \\\n",
       "Internacional      45.0      12.0     12.0           28.0    NaN   NaN   \n",
       "Palmeiras          41.0      14.0     12.0           25.0    NaN   NaN   \n",
       "Corinthians        43.0      12.0     12.0           11.0    NaN   NaN   \n",
       "Internacional       NaN       NaN      NaN            NaN  101.5  47.0   \n",
       "Palmeiras           NaN       NaN      NaN            NaN   94.1  44.9   \n",
       "Corinthians         NaN       NaN      NaN            NaN  110.4  35.6   \n",
       "Internacional       NaN       NaN      NaN            NaN    NaN   NaN   \n",
       "Palmeiras           NaN       NaN      NaN            NaN    NaN   NaN   \n",
       "Corinthians         NaN       NaN      NaN            NaN    NaN   NaN   \n",
       "\n",
       "               gols marcados  tamanho do elenco  titulos  media de publico  \\\n",
       "Internacional            NaN                NaN      NaN               NaN   \n",
       "Palmeiras                NaN                NaN      NaN               NaN   \n",
       "Corinthians              NaN                NaN      NaN               NaN   \n",
       "Internacional          128.0               16.0      NaN               NaN   \n",
       "Palmeiras              117.0               31.0      NaN               NaN   \n",
       "Corinthians             83.0               25.0      NaN               NaN   \n",
       "Internacional            NaN                NaN      1.0           26058.0   \n",
       "Palmeiras                NaN                NaN      1.0           57473.0   \n",
       "Corinthians              NaN                NaN      2.0           54973.0   \n",
       "\n",
       "               divida (em *10⁶)  receita  \n",
       "Internacional               NaN      NaN  \n",
       "Palmeiras                   NaN      NaN  \n",
       "Corinthians                 NaN      NaN  \n",
       "Internacional               NaN      NaN  \n",
       "Palmeiras                   NaN      NaN  \n",
       "Corinthians                 NaN      NaN  \n",
       "Internacional             214.0    463.0  \n",
       "Palmeiras                 165.0    868.0  \n",
       "Corinthians               447.0    647.0  "
      ]
     },
     "execution_count": 80,
     "metadata": {},
     "output_type": "execute_result"
    }
   ],
   "source": [
    "pd.concat([clube_stats0, clube_stats1, clube_stats2])"
   ]
  },
  {
   "cell_type": "markdown",
   "id": "46c958b3-a083-40ad-945a-4b68c24a0604",
   "metadata": {},
   "source": [
    "Aqui aconteceu o mesmo que com a concatenação por colunas do exemplo anterior, mas dessa vez por linhas. A função procurou colunas em comum entre os DFs e não encontrou, por isso as linhas ficaram com valores nulos nas colunas que vieram de outros DFs."
   ]
  },
  {
   "cell_type": "code",
   "execution_count": 82,
   "id": "f1093dcc-4243-4eb2-ac70-77d9ffed887e",
   "metadata": {},
   "outputs": [
    {
     "data": {
      "text/html": [
       "<div>\n",
       "<style scoped>\n",
       "    .dataframe tbody tr th:only-of-type {\n",
       "        vertical-align: middle;\n",
       "    }\n",
       "\n",
       "    .dataframe tbody tr th {\n",
       "        vertical-align: top;\n",
       "    }\n",
       "\n",
       "    .dataframe thead th {\n",
       "        text-align: right;\n",
       "    }\n",
       "</style>\n",
       "<table border=\"1\" class=\"dataframe\">\n",
       "  <thead>\n",
       "    <tr style=\"text-align: right;\">\n",
       "      <th></th>\n",
       "      <th>vitorias</th>\n",
       "      <th>derrotas</th>\n",
       "      <th>empates</th>\n",
       "      <th>saldo de gols</th>\n",
       "      <th>xG</th>\n",
       "      <th>xA</th>\n",
       "      <th>gols marcados</th>\n",
       "      <th>tamanho do elenco</th>\n",
       "      <th>titulos</th>\n",
       "      <th>media de publico</th>\n",
       "      <th>divida (em *10⁶)</th>\n",
       "      <th>receita</th>\n",
       "    </tr>\n",
       "  </thead>\n",
       "  <tbody>\n",
       "    <tr>\n",
       "      <th>Internacional</th>\n",
       "      <td>45</td>\n",
       "      <td>12</td>\n",
       "      <td>12</td>\n",
       "      <td>28</td>\n",
       "      <td>101.5</td>\n",
       "      <td>47.0</td>\n",
       "      <td>128</td>\n",
       "      <td>16</td>\n",
       "      <td>1</td>\n",
       "      <td>26058</td>\n",
       "      <td>214</td>\n",
       "      <td>463</td>\n",
       "    </tr>\n",
       "    <tr>\n",
       "      <th>Palmeiras</th>\n",
       "      <td>41</td>\n",
       "      <td>14</td>\n",
       "      <td>12</td>\n",
       "      <td>25</td>\n",
       "      <td>94.1</td>\n",
       "      <td>44.9</td>\n",
       "      <td>117</td>\n",
       "      <td>31</td>\n",
       "      <td>1</td>\n",
       "      <td>57473</td>\n",
       "      <td>165</td>\n",
       "      <td>868</td>\n",
       "    </tr>\n",
       "    <tr>\n",
       "      <th>Corinthians</th>\n",
       "      <td>43</td>\n",
       "      <td>12</td>\n",
       "      <td>12</td>\n",
       "      <td>11</td>\n",
       "      <td>110.4</td>\n",
       "      <td>35.6</td>\n",
       "      <td>83</td>\n",
       "      <td>25</td>\n",
       "      <td>2</td>\n",
       "      <td>54973</td>\n",
       "      <td>447</td>\n",
       "      <td>647</td>\n",
       "    </tr>\n",
       "  </tbody>\n",
       "</table>\n",
       "</div>"
      ],
      "text/plain": [
       "               vitorias  derrotas  empates  saldo de gols     xG    xA  \\\n",
       "Internacional        45        12       12             28  101.5  47.0   \n",
       "Palmeiras            41        14       12             25   94.1  44.9   \n",
       "Corinthians          43        12       12             11  110.4  35.6   \n",
       "\n",
       "               gols marcados  tamanho do elenco  titulos  media de publico  \\\n",
       "Internacional            128                 16        1             26058   \n",
       "Palmeiras                117                 31        1             57473   \n",
       "Corinthians               83                 25        2             54973   \n",
       "\n",
       "               divida (em *10⁶)  receita  \n",
       "Internacional               214      463  \n",
       "Palmeiras                   165      868  \n",
       "Corinthians                 447      647  "
      ]
     },
     "execution_count": 82,
     "metadata": {},
     "output_type": "execute_result"
    }
   ],
   "source": [
    "pd.concat([clube_stats0, clube_stats1, clube_stats2], axis=1)"
   ]
  },
  {
   "cell_type": "markdown",
   "id": "34ffbef6-bcdd-455b-9360-d7f9b7b3586b",
   "metadata": {},
   "source": [
    "Aqui a concatenção ocorreu pelas colunas, com a função procurando linhas em comum entre elas, e encontrou."
   ]
  },
  {
   "cell_type": "markdown",
   "id": "def8eb90-2fae-4bf3-b5e5-9f4c409e5822",
   "metadata": {},
   "source": [
    "### Merge"
   ]
  },
  {
   "cell_type": "markdown",
   "id": "465ff3f7-2462-415f-b5cd-20863ea6c6a6",
   "metadata": {},
   "source": [
    "Mesclagem é um método que permite a combinação de DFs com base em semelhanças entre colunas ou linhas."
   ]
  },
  {
   "cell_type": "code",
   "execution_count": 105,
   "id": "caa6fc71-c2c6-4125-b6a4-c053f9fb5aef",
   "metadata": {},
   "outputs": [
    {
     "data": {
      "text/html": [
       "<div>\n",
       "<style scoped>\n",
       "    .dataframe tbody tr th:only-of-type {\n",
       "        vertical-align: middle;\n",
       "    }\n",
       "\n",
       "    .dataframe tbody tr th {\n",
       "        vertical-align: top;\n",
       "    }\n",
       "\n",
       "    .dataframe thead th {\n",
       "        text-align: right;\n",
       "    }\n",
       "</style>\n",
       "<table border=\"1\" class=\"dataframe\">\n",
       "  <thead>\n",
       "    <tr style=\"text-align: right;\">\n",
       "      <th></th>\n",
       "      <th>A</th>\n",
       "      <th>B</th>\n",
       "      <th>key</th>\n",
       "    </tr>\n",
       "  </thead>\n",
       "  <tbody>\n",
       "    <tr>\n",
       "      <th>0</th>\n",
       "      <td>A0</td>\n",
       "      <td>B0</td>\n",
       "      <td>K0</td>\n",
       "    </tr>\n",
       "    <tr>\n",
       "      <th>1</th>\n",
       "      <td>A1</td>\n",
       "      <td>B1</td>\n",
       "      <td>K1</td>\n",
       "    </tr>\n",
       "    <tr>\n",
       "      <th>2</th>\n",
       "      <td>A2</td>\n",
       "      <td>B2</td>\n",
       "      <td>K2</td>\n",
       "    </tr>\n",
       "    <tr>\n",
       "      <th>3</th>\n",
       "      <td>A3</td>\n",
       "      <td>B3</td>\n",
       "      <td>K3</td>\n",
       "    </tr>\n",
       "  </tbody>\n",
       "</table>\n",
       "</div>"
      ],
      "text/plain": [
       "    A   B key\n",
       "0  A0  B0  K0\n",
       "1  A1  B1  K1\n",
       "2  A2  B2  K2\n",
       "3  A3  B3  K3"
      ]
     },
     "execution_count": 105,
     "metadata": {},
     "output_type": "execute_result"
    }
   ],
   "source": [
    "coluna0 = 'A B key'.split()\n",
    "coluna1 = 'C D key'.split()\n",
    "df0 = pd.DataFrame([list(row) for row in zip('A0 A1 A2 A3'.split(), 'B0 B1 B2 B3'.split(), 'K0 K1 K2 K3'.split())], columns=coluna0)\n",
    "df1 = pd.DataFrame([list(row) for row in zip('C0 C1 C2 C3'.split(), 'D0 D1 D2 D3'.split(), 'K0 K1 K2 K3'.split())], columns=coluna1)\n",
    "df0"
   ]
  },
  {
   "cell_type": "code",
   "execution_count": 106,
   "id": "85e03e9f-573e-4945-9b74-2177d0914ea1",
   "metadata": {},
   "outputs": [
    {
     "data": {
      "text/html": [
       "<div>\n",
       "<style scoped>\n",
       "    .dataframe tbody tr th:only-of-type {\n",
       "        vertical-align: middle;\n",
       "    }\n",
       "\n",
       "    .dataframe tbody tr th {\n",
       "        vertical-align: top;\n",
       "    }\n",
       "\n",
       "    .dataframe thead th {\n",
       "        text-align: right;\n",
       "    }\n",
       "</style>\n",
       "<table border=\"1\" class=\"dataframe\">\n",
       "  <thead>\n",
       "    <tr style=\"text-align: right;\">\n",
       "      <th></th>\n",
       "      <th>C</th>\n",
       "      <th>D</th>\n",
       "      <th>key</th>\n",
       "    </tr>\n",
       "  </thead>\n",
       "  <tbody>\n",
       "    <tr>\n",
       "      <th>0</th>\n",
       "      <td>C0</td>\n",
       "      <td>D0</td>\n",
       "      <td>K0</td>\n",
       "    </tr>\n",
       "    <tr>\n",
       "      <th>1</th>\n",
       "      <td>C1</td>\n",
       "      <td>D1</td>\n",
       "      <td>K1</td>\n",
       "    </tr>\n",
       "    <tr>\n",
       "      <th>2</th>\n",
       "      <td>C2</td>\n",
       "      <td>D2</td>\n",
       "      <td>K2</td>\n",
       "    </tr>\n",
       "    <tr>\n",
       "      <th>3</th>\n",
       "      <td>C3</td>\n",
       "      <td>D3</td>\n",
       "      <td>K3</td>\n",
       "    </tr>\n",
       "  </tbody>\n",
       "</table>\n",
       "</div>"
      ],
      "text/plain": [
       "    C   D key\n",
       "0  C0  D0  K0\n",
       "1  C1  D1  K1\n",
       "2  C2  D2  K2\n",
       "3  C3  D3  K3"
      ]
     },
     "execution_count": 106,
     "metadata": {},
     "output_type": "execute_result"
    }
   ],
   "source": [
    "df1"
   ]
  },
  {
   "cell_type": "code",
   "execution_count": 107,
   "id": "7191c6c8-80ba-4cdc-bdf1-2d65b55a4c79",
   "metadata": {},
   "outputs": [
    {
     "data": {
      "text/html": [
       "<div>\n",
       "<style scoped>\n",
       "    .dataframe tbody tr th:only-of-type {\n",
       "        vertical-align: middle;\n",
       "    }\n",
       "\n",
       "    .dataframe tbody tr th {\n",
       "        vertical-align: top;\n",
       "    }\n",
       "\n",
       "    .dataframe thead th {\n",
       "        text-align: right;\n",
       "    }\n",
       "</style>\n",
       "<table border=\"1\" class=\"dataframe\">\n",
       "  <thead>\n",
       "    <tr style=\"text-align: right;\">\n",
       "      <th></th>\n",
       "      <th>A</th>\n",
       "      <th>B</th>\n",
       "      <th>key</th>\n",
       "      <th>C</th>\n",
       "      <th>D</th>\n",
       "    </tr>\n",
       "  </thead>\n",
       "  <tbody>\n",
       "    <tr>\n",
       "      <th>0</th>\n",
       "      <td>A0</td>\n",
       "      <td>B0</td>\n",
       "      <td>K0</td>\n",
       "      <td>C0</td>\n",
       "      <td>D0</td>\n",
       "    </tr>\n",
       "    <tr>\n",
       "      <th>1</th>\n",
       "      <td>A1</td>\n",
       "      <td>B1</td>\n",
       "      <td>K1</td>\n",
       "      <td>C1</td>\n",
       "      <td>D1</td>\n",
       "    </tr>\n",
       "    <tr>\n",
       "      <th>2</th>\n",
       "      <td>A2</td>\n",
       "      <td>B2</td>\n",
       "      <td>K2</td>\n",
       "      <td>C2</td>\n",
       "      <td>D2</td>\n",
       "    </tr>\n",
       "    <tr>\n",
       "      <th>3</th>\n",
       "      <td>A3</td>\n",
       "      <td>B3</td>\n",
       "      <td>K3</td>\n",
       "      <td>C3</td>\n",
       "      <td>D3</td>\n",
       "    </tr>\n",
       "  </tbody>\n",
       "</table>\n",
       "</div>"
      ],
      "text/plain": [
       "    A   B key   C   D\n",
       "0  A0  B0  K0  C0  D0\n",
       "1  A1  B1  K1  C1  D1\n",
       "2  A2  B2  K2  C2  D2\n",
       "3  A3  B3  K3  C3  D3"
      ]
     },
     "execution_count": 107,
     "metadata": {},
     "output_type": "execute_result"
    }
   ],
   "source": [
    "pd.merge(df0, df1, how='inner', on='key')"
   ]
  },
  {
   "cell_type": "markdown",
   "id": "f9eb7023-b9b6-475b-aa85-fec12926bfa1",
   "metadata": {},
   "source": [
    "df0 é passado como o DF da esquerda, df1 como o da direita."
   ]
  },
  {
   "cell_type": "markdown",
   "id": "388d79ef-9c32-4b63-a644-8efbe18e14a6",
   "metadata": {},
   "source": [
    "O parâmetro how determina como se dará o processamento da coluna em comum entre os DFs, com o valor 'inner' ele pega a intersecção entre elas."
   ]
  },
  {
   "cell_type": "markdown",
   "id": "0c9d3b47-988f-4ba1-9960-8d55c4080b1b",
   "metadata": {},
   "source": [
    "O parâmetro on determina em qual coluna será feita a intersecção."
   ]
  },
  {
   "cell_type": "code",
   "execution_count": 108,
   "id": "7a52c018-6394-4925-a716-81e4fe8f67b8",
   "metadata": {},
   "outputs": [
    {
     "data": {
      "text/html": [
       "<div>\n",
       "<style scoped>\n",
       "    .dataframe tbody tr th:only-of-type {\n",
       "        vertical-align: middle;\n",
       "    }\n",
       "\n",
       "    .dataframe tbody tr th {\n",
       "        vertical-align: top;\n",
       "    }\n",
       "\n",
       "    .dataframe thead th {\n",
       "        text-align: right;\n",
       "    }\n",
       "</style>\n",
       "<table border=\"1\" class=\"dataframe\">\n",
       "  <thead>\n",
       "    <tr style=\"text-align: right;\">\n",
       "      <th></th>\n",
       "      <th>A</th>\n",
       "      <th>B</th>\n",
       "      <th>key1</th>\n",
       "      <th>key2</th>\n",
       "    </tr>\n",
       "  </thead>\n",
       "  <tbody>\n",
       "    <tr>\n",
       "      <th>0</th>\n",
       "      <td>A0</td>\n",
       "      <td>B0</td>\n",
       "      <td>K0</td>\n",
       "      <td>K0</td>\n",
       "    </tr>\n",
       "    <tr>\n",
       "      <th>1</th>\n",
       "      <td>A1</td>\n",
       "      <td>B1</td>\n",
       "      <td>K0</td>\n",
       "      <td>K1</td>\n",
       "    </tr>\n",
       "    <tr>\n",
       "      <th>2</th>\n",
       "      <td>A2</td>\n",
       "      <td>B2</td>\n",
       "      <td>K1</td>\n",
       "      <td>K0</td>\n",
       "    </tr>\n",
       "    <tr>\n",
       "      <th>3</th>\n",
       "      <td>A3</td>\n",
       "      <td>B3</td>\n",
       "      <td>K2</td>\n",
       "      <td>K1</td>\n",
       "    </tr>\n",
       "  </tbody>\n",
       "</table>\n",
       "</div>"
      ],
      "text/plain": [
       "    A   B key1 key2\n",
       "0  A0  B0   K0   K0\n",
       "1  A1  B1   K0   K1\n",
       "2  A2  B2   K1   K0\n",
       "3  A3  B3   K2   K1"
      ]
     },
     "execution_count": 108,
     "metadata": {},
     "output_type": "execute_result"
    }
   ],
   "source": [
    "coluna0 = 'A B key1 key2'.split()\n",
    "coluna1 = 'C D key1 key2'.split()\n",
    "df0 = pd.DataFrame([list(row) for row in zip('A0 A1 A2 A3'.split(), 'B0 B1 B2 B3'.split(), 'K0 K0 K1 K2'.split(), 'K0 K1 K0 K1'.split())], columns=coluna0)\n",
    "df1 = pd.DataFrame([list(row) for row in zip('C0 C1 C2 C3'.split(), 'D0 D1 D2 D3'.split(), 'K0 K1 K1 K2'.split(), 'K0 K0 K0 K0'.split())], columns=coluna1)\n",
    "df0"
   ]
  },
  {
   "cell_type": "code",
   "execution_count": 109,
   "id": "a8f92e1f-c722-4fde-a2f6-a5565ea37739",
   "metadata": {},
   "outputs": [
    {
     "data": {
      "text/html": [
       "<div>\n",
       "<style scoped>\n",
       "    .dataframe tbody tr th:only-of-type {\n",
       "        vertical-align: middle;\n",
       "    }\n",
       "\n",
       "    .dataframe tbody tr th {\n",
       "        vertical-align: top;\n",
       "    }\n",
       "\n",
       "    .dataframe thead th {\n",
       "        text-align: right;\n",
       "    }\n",
       "</style>\n",
       "<table border=\"1\" class=\"dataframe\">\n",
       "  <thead>\n",
       "    <tr style=\"text-align: right;\">\n",
       "      <th></th>\n",
       "      <th>C</th>\n",
       "      <th>D</th>\n",
       "      <th>key1</th>\n",
       "      <th>key2</th>\n",
       "    </tr>\n",
       "  </thead>\n",
       "  <tbody>\n",
       "    <tr>\n",
       "      <th>0</th>\n",
       "      <td>C0</td>\n",
       "      <td>D0</td>\n",
       "      <td>K0</td>\n",
       "      <td>K0</td>\n",
       "    </tr>\n",
       "    <tr>\n",
       "      <th>1</th>\n",
       "      <td>C1</td>\n",
       "      <td>D1</td>\n",
       "      <td>K1</td>\n",
       "      <td>K0</td>\n",
       "    </tr>\n",
       "    <tr>\n",
       "      <th>2</th>\n",
       "      <td>C2</td>\n",
       "      <td>D2</td>\n",
       "      <td>K1</td>\n",
       "      <td>K0</td>\n",
       "    </tr>\n",
       "    <tr>\n",
       "      <th>3</th>\n",
       "      <td>C3</td>\n",
       "      <td>D3</td>\n",
       "      <td>K2</td>\n",
       "      <td>K0</td>\n",
       "    </tr>\n",
       "  </tbody>\n",
       "</table>\n",
       "</div>"
      ],
      "text/plain": [
       "    C   D key1 key2\n",
       "0  C0  D0   K0   K0\n",
       "1  C1  D1   K1   K0\n",
       "2  C2  D2   K1   K0\n",
       "3  C3  D3   K2   K0"
      ]
     },
     "execution_count": 109,
     "metadata": {},
     "output_type": "execute_result"
    }
   ],
   "source": [
    "df1"
   ]
  },
  {
   "cell_type": "code",
   "execution_count": 110,
   "id": "e0b92066-8af0-41eb-95cb-b8deabb2a0a6",
   "metadata": {},
   "outputs": [
    {
     "data": {
      "text/html": [
       "<div>\n",
       "<style scoped>\n",
       "    .dataframe tbody tr th:only-of-type {\n",
       "        vertical-align: middle;\n",
       "    }\n",
       "\n",
       "    .dataframe tbody tr th {\n",
       "        vertical-align: top;\n",
       "    }\n",
       "\n",
       "    .dataframe thead th {\n",
       "        text-align: right;\n",
       "    }\n",
       "</style>\n",
       "<table border=\"1\" class=\"dataframe\">\n",
       "  <thead>\n",
       "    <tr style=\"text-align: right;\">\n",
       "      <th></th>\n",
       "      <th>A</th>\n",
       "      <th>B</th>\n",
       "      <th>key1</th>\n",
       "      <th>key2</th>\n",
       "      <th>C</th>\n",
       "      <th>D</th>\n",
       "    </tr>\n",
       "  </thead>\n",
       "  <tbody>\n",
       "    <tr>\n",
       "      <th>0</th>\n",
       "      <td>A0</td>\n",
       "      <td>B0</td>\n",
       "      <td>K0</td>\n",
       "      <td>K0</td>\n",
       "      <td>C0</td>\n",
       "      <td>D0</td>\n",
       "    </tr>\n",
       "    <tr>\n",
       "      <th>1</th>\n",
       "      <td>A2</td>\n",
       "      <td>B2</td>\n",
       "      <td>K1</td>\n",
       "      <td>K0</td>\n",
       "      <td>C1</td>\n",
       "      <td>D1</td>\n",
       "    </tr>\n",
       "    <tr>\n",
       "      <th>2</th>\n",
       "      <td>A2</td>\n",
       "      <td>B2</td>\n",
       "      <td>K1</td>\n",
       "      <td>K0</td>\n",
       "      <td>C2</td>\n",
       "      <td>D2</td>\n",
       "    </tr>\n",
       "  </tbody>\n",
       "</table>\n",
       "</div>"
      ],
      "text/plain": [
       "    A   B key1 key2   C   D\n",
       "0  A0  B0   K0   K0  C0  D0\n",
       "1  A2  B2   K1   K0  C1  D1\n",
       "2  A2  B2   K1   K0  C2  D2"
      ]
     },
     "execution_count": 110,
     "metadata": {},
     "output_type": "execute_result"
    }
   ],
   "source": [
    "pd.merge(df0, df1, on=['key1', 'key2'])"
   ]
  },
  {
   "cell_type": "markdown",
   "id": "a642571f-2c09-44c8-a6b4-c89096f337e9",
   "metadata": {},
   "source": [
    "A intersecção aqui teve que levar em conta 2 colunas. Então foram mantidas as linhas de df0 e df1 tal qual a secção da linha em key1 e key2 têm os mesmos valores na mesma ordem."
   ]
  },
  {
   "cell_type": "markdown",
   "id": "d86e664c-f64b-4f56-a5da-ae856370404b",
   "metadata": {},
   "source": [
    "### Join"
   ]
  },
  {
   "cell_type": "markdown",
   "id": "19b14e7d-c593-41ff-9c65-2ee40b9497ed",
   "metadata": {},
   "source": [
    "Faz a junção de Data Frames com índices potencialmente diferentes, preenchendo os slots onde não há valor para a linha naquela coluna com NaN."
   ]
  },
  {
   "cell_type": "code",
   "execution_count": 112,
   "id": "62d3dadb-da24-4f09-b521-9f482abeb7fa",
   "metadata": {},
   "outputs": [
    {
     "data": {
      "text/html": [
       "<div>\n",
       "<style scoped>\n",
       "    .dataframe tbody tr th:only-of-type {\n",
       "        vertical-align: middle;\n",
       "    }\n",
       "\n",
       "    .dataframe tbody tr th {\n",
       "        vertical-align: top;\n",
       "    }\n",
       "\n",
       "    .dataframe thead th {\n",
       "        text-align: right;\n",
       "    }\n",
       "</style>\n",
       "<table border=\"1\" class=\"dataframe\">\n",
       "  <thead>\n",
       "    <tr style=\"text-align: right;\">\n",
       "      <th></th>\n",
       "      <th>A</th>\n",
       "      <th>B</th>\n",
       "    </tr>\n",
       "  </thead>\n",
       "  <tbody>\n",
       "    <tr>\n",
       "      <th>K0</th>\n",
       "      <td>A0</td>\n",
       "      <td>B0</td>\n",
       "    </tr>\n",
       "    <tr>\n",
       "      <th>K1</th>\n",
       "      <td>A1</td>\n",
       "      <td>B1</td>\n",
       "    </tr>\n",
       "    <tr>\n",
       "      <th>K2</th>\n",
       "      <td>A2</td>\n",
       "      <td>B2</td>\n",
       "    </tr>\n",
       "  </tbody>\n",
       "</table>\n",
       "</div>"
      ],
      "text/plain": [
       "     A   B\n",
       "K0  A0  B0\n",
       "K1  A1  B1\n",
       "K2  A2  B2"
      ]
     },
     "execution_count": 112,
     "metadata": {},
     "output_type": "execute_result"
    }
   ],
   "source": [
    "coluna0 = 'A B'.split()\n",
    "coluna1 = 'C D'.split()\n",
    "indice0 = 'K0 K1 K2'.split()\n",
    "indice1 = 'K0 K2 K3'.split()\n",
    "\n",
    "df0 = pd.DataFrame([list(row) for row in zip('A0 A1 A2'.split(), 'B0 B1 B2'.split())], indice0, coluna0)\n",
    "df1 = pd.DataFrame([list(row) for row in zip('C0 C1 C2'.split(), 'D0 D1 D2'.split())], indice1, coluna1)\n",
    "df0"
   ]
  },
  {
   "cell_type": "code",
   "execution_count": 113,
   "id": "7c38c53c-5333-4647-a1d3-352ca1673dab",
   "metadata": {},
   "outputs": [
    {
     "data": {
      "text/html": [
       "<div>\n",
       "<style scoped>\n",
       "    .dataframe tbody tr th:only-of-type {\n",
       "        vertical-align: middle;\n",
       "    }\n",
       "\n",
       "    .dataframe tbody tr th {\n",
       "        vertical-align: top;\n",
       "    }\n",
       "\n",
       "    .dataframe thead th {\n",
       "        text-align: right;\n",
       "    }\n",
       "</style>\n",
       "<table border=\"1\" class=\"dataframe\">\n",
       "  <thead>\n",
       "    <tr style=\"text-align: right;\">\n",
       "      <th></th>\n",
       "      <th>C</th>\n",
       "      <th>D</th>\n",
       "    </tr>\n",
       "  </thead>\n",
       "  <tbody>\n",
       "    <tr>\n",
       "      <th>K0</th>\n",
       "      <td>C0</td>\n",
       "      <td>D0</td>\n",
       "    </tr>\n",
       "    <tr>\n",
       "      <th>K2</th>\n",
       "      <td>C1</td>\n",
       "      <td>D1</td>\n",
       "    </tr>\n",
       "    <tr>\n",
       "      <th>K3</th>\n",
       "      <td>C2</td>\n",
       "      <td>D2</td>\n",
       "    </tr>\n",
       "  </tbody>\n",
       "</table>\n",
       "</div>"
      ],
      "text/plain": [
       "     C   D\n",
       "K0  C0  D0\n",
       "K2  C1  D1\n",
       "K3  C2  D2"
      ]
     },
     "execution_count": 113,
     "metadata": {},
     "output_type": "execute_result"
    }
   ],
   "source": [
    "df1"
   ]
  },
  {
   "cell_type": "code",
   "execution_count": 114,
   "id": "dfbd3d7e-79fc-4534-8b6e-4d04f62fa638",
   "metadata": {},
   "outputs": [
    {
     "data": {
      "text/html": [
       "<div>\n",
       "<style scoped>\n",
       "    .dataframe tbody tr th:only-of-type {\n",
       "        vertical-align: middle;\n",
       "    }\n",
       "\n",
       "    .dataframe tbody tr th {\n",
       "        vertical-align: top;\n",
       "    }\n",
       "\n",
       "    .dataframe thead th {\n",
       "        text-align: right;\n",
       "    }\n",
       "</style>\n",
       "<table border=\"1\" class=\"dataframe\">\n",
       "  <thead>\n",
       "    <tr style=\"text-align: right;\">\n",
       "      <th></th>\n",
       "      <th>A</th>\n",
       "      <th>B</th>\n",
       "      <th>C</th>\n",
       "      <th>D</th>\n",
       "    </tr>\n",
       "  </thead>\n",
       "  <tbody>\n",
       "    <tr>\n",
       "      <th>K0</th>\n",
       "      <td>A0</td>\n",
       "      <td>B0</td>\n",
       "      <td>C0</td>\n",
       "      <td>D0</td>\n",
       "    </tr>\n",
       "    <tr>\n",
       "      <th>K1</th>\n",
       "      <td>A1</td>\n",
       "      <td>B1</td>\n",
       "      <td>NaN</td>\n",
       "      <td>NaN</td>\n",
       "    </tr>\n",
       "    <tr>\n",
       "      <th>K2</th>\n",
       "      <td>A2</td>\n",
       "      <td>B2</td>\n",
       "      <td>C1</td>\n",
       "      <td>D1</td>\n",
       "    </tr>\n",
       "  </tbody>\n",
       "</table>\n",
       "</div>"
      ],
      "text/plain": [
       "     A   B    C    D\n",
       "K0  A0  B0   C0   D0\n",
       "K1  A1  B1  NaN  NaN\n",
       "K2  A2  B2   C1   D1"
      ]
     },
     "execution_count": 114,
     "metadata": {},
     "output_type": "execute_result"
    }
   ],
   "source": [
    "df0.join(df1)"
   ]
  },
  {
   "cell_type": "markdown",
   "id": "2a1f471e-91a1-4aa3-b3a5-85b980b5a5b3",
   "metadata": {},
   "source": [
    "A junção ocorreu mantendo apenas os índices comuns aos 2 DFs e, quando não havia correspondente na coluna, o valor foi preenchido com NaN."
   ]
  },
  {
   "cell_type": "code",
   "execution_count": 115,
   "id": "ecd7bc83-d264-4b79-90df-facd113a86b2",
   "metadata": {},
   "outputs": [
    {
     "data": {
      "text/html": [
       "<div>\n",
       "<style scoped>\n",
       "    .dataframe tbody tr th:only-of-type {\n",
       "        vertical-align: middle;\n",
       "    }\n",
       "\n",
       "    .dataframe tbody tr th {\n",
       "        vertical-align: top;\n",
       "    }\n",
       "\n",
       "    .dataframe thead th {\n",
       "        text-align: right;\n",
       "    }\n",
       "</style>\n",
       "<table border=\"1\" class=\"dataframe\">\n",
       "  <thead>\n",
       "    <tr style=\"text-align: right;\">\n",
       "      <th></th>\n",
       "      <th>A</th>\n",
       "      <th>B</th>\n",
       "      <th>C</th>\n",
       "      <th>D</th>\n",
       "    </tr>\n",
       "  </thead>\n",
       "  <tbody>\n",
       "    <tr>\n",
       "      <th>K0</th>\n",
       "      <td>A0</td>\n",
       "      <td>B0</td>\n",
       "      <td>C0</td>\n",
       "      <td>D0</td>\n",
       "    </tr>\n",
       "    <tr>\n",
       "      <th>K1</th>\n",
       "      <td>A1</td>\n",
       "      <td>B1</td>\n",
       "      <td>NaN</td>\n",
       "      <td>NaN</td>\n",
       "    </tr>\n",
       "    <tr>\n",
       "      <th>K2</th>\n",
       "      <td>A2</td>\n",
       "      <td>B2</td>\n",
       "      <td>C1</td>\n",
       "      <td>D1</td>\n",
       "    </tr>\n",
       "    <tr>\n",
       "      <th>K3</th>\n",
       "      <td>NaN</td>\n",
       "      <td>NaN</td>\n",
       "      <td>C2</td>\n",
       "      <td>D2</td>\n",
       "    </tr>\n",
       "  </tbody>\n",
       "</table>\n",
       "</div>"
      ],
      "text/plain": [
       "      A    B    C    D\n",
       "K0   A0   B0   C0   D0\n",
       "K1   A1   B1  NaN  NaN\n",
       "K2   A2   B2   C1   D1\n",
       "K3  NaN  NaN   C2   D2"
      ]
     },
     "execution_count": 115,
     "metadata": {},
     "output_type": "execute_result"
    }
   ],
   "source": [
    "df0.join(df1, how='outer')"
   ]
  },
  {
   "cell_type": "markdown",
   "id": "9a556cc1-b5e0-4eee-8430-2e017b0f2e7e",
   "metadata": {},
   "source": [
    "Com o parâmetro how (que por padrão tem valor 'inner') for alterado para 'outer', ocorre a união dos índices em vez da intersecção."
   ]
  },
  {
   "cell_type": "markdown",
   "id": "5f4fb954-d16d-4b7d-a79e-6b9cd09a1fe5",
   "metadata": {},
   "source": [
    "# Operações com Data Frames"
   ]
  },
  {
   "cell_type": "code",
   "execution_count": 2,
   "id": "5b694dc8-a43a-4bd6-8cd9-db7647776e20",
   "metadata": {},
   "outputs": [
    {
     "data": {
      "text/html": [
       "<div>\n",
       "<style scoped>\n",
       "    .dataframe tbody tr th:only-of-type {\n",
       "        vertical-align: middle;\n",
       "    }\n",
       "\n",
       "    .dataframe tbody tr th {\n",
       "        vertical-align: top;\n",
       "    }\n",
       "\n",
       "    .dataframe thead th {\n",
       "        text-align: right;\n",
       "    }\n",
       "</style>\n",
       "<table border=\"1\" class=\"dataframe\">\n",
       "  <thead>\n",
       "    <tr style=\"text-align: right;\">\n",
       "      <th></th>\n",
       "      <th>Modelo</th>\n",
       "      <th>Tamanho</th>\n",
       "      <th>Destino</th>\n",
       "    </tr>\n",
       "  </thead>\n",
       "  <tbody>\n",
       "    <tr>\n",
       "      <th>0</th>\n",
       "      <td>Premium</td>\n",
       "      <td>3</td>\n",
       "      <td>MG</td>\n",
       "    </tr>\n",
       "    <tr>\n",
       "      <th>1</th>\n",
       "      <td>Premium</td>\n",
       "      <td>2</td>\n",
       "      <td>MG</td>\n",
       "    </tr>\n",
       "    <tr>\n",
       "      <th>2</th>\n",
       "      <td>Comum</td>\n",
       "      <td>4</td>\n",
       "      <td>SP</td>\n",
       "    </tr>\n",
       "    <tr>\n",
       "      <th>3</th>\n",
       "      <td>Plus</td>\n",
       "      <td>2</td>\n",
       "      <td>RJ</td>\n",
       "    </tr>\n",
       "  </tbody>\n",
       "</table>\n",
       "</div>"
      ],
      "text/plain": [
       "    Modelo  Tamanho Destino\n",
       "0  Premium        3      MG\n",
       "1  Premium        2      MG\n",
       "2    Comum        4      SP\n",
       "3     Plus        2      RJ"
      ]
     },
     "execution_count": 2,
     "metadata": {},
     "output_type": "execute_result"
    }
   ],
   "source": [
    "colunas = ['Modelo', 'Tamanho', 'Destino']\n",
    "modelos = ['Premium', 'Premium', 'Comum', 'Plus']\n",
    "tamanho = [3,2,4,2]\n",
    "destino = ['MG', 'MG', 'SP', 'RJ']\n",
    "dados = [list(row) for row in zip(modelos, tamanho, destino)]\n",
    "peças = pd.DataFrame(dados, columns=colunas)\n",
    "peças"
   ]
  },
  {
   "cell_type": "markdown",
   "id": "b823ec32-e5bf-40b3-850b-7ba5043edfd9",
   "metadata": {},
   "source": [
    "### Valores únicos"
   ]
  },
  {
   "cell_type": "code",
   "execution_count": 3,
   "id": "d82dde6e-805f-4aa8-846a-45b11149e974",
   "metadata": {},
   "outputs": [
    {
     "data": {
      "text/plain": [
       "array([3, 2, 4])"
      ]
     },
     "execution_count": 3,
     "metadata": {},
     "output_type": "execute_result"
    }
   ],
   "source": [
    "peças['Tamanho'].unique()"
   ]
  },
  {
   "cell_type": "code",
   "execution_count": 4,
   "id": "ca85162f-8f22-4279-bb2d-86a64c845fae",
   "metadata": {},
   "outputs": [
    {
     "data": {
      "text/plain": [
       "array(['Premium', 'Comum', 'Plus'], dtype=object)"
      ]
     },
     "execution_count": 4,
     "metadata": {},
     "output_type": "execute_result"
    }
   ],
   "source": [
    "peças['Modelo'].unique()"
   ]
  },
  {
   "cell_type": "markdown",
   "id": "a2cf1973-a7d2-4ed7-ba58-80acc9bbac4b",
   "metadata": {},
   "source": [
    "Ou seja, método unique retorna um array com os valores únicos (sem as repetições) da coluna especificada."
   ]
  },
  {
   "cell_type": "code",
   "execution_count": 5,
   "id": "0d83218f-cf1a-43c9-b653-bdf6aa4d9d3f",
   "metadata": {},
   "outputs": [
    {
     "data": {
      "text/plain": [
       "3"
      ]
     },
     "execution_count": 5,
     "metadata": {},
     "output_type": "execute_result"
    }
   ],
   "source": [
    "peças['Destino'].nunique()"
   ]
  },
  {
   "cell_type": "markdown",
   "id": "0f3f9685-2131-45ed-90b9-0c4b337e61fd",
   "metadata": {},
   "source": [
    "Método nunique retorna o número de valores únicos na coluna."
   ]
  },
  {
   "cell_type": "code",
   "execution_count": 7,
   "id": "dffd592a-016c-483a-8719-89f8d2003008",
   "metadata": {},
   "outputs": [
    {
     "data": {
      "text/plain": [
       "Tamanho\n",
       "2    2\n",
       "3    1\n",
       "4    1\n",
       "Name: count, dtype: int64"
      ]
     },
     "execution_count": 7,
     "metadata": {},
     "output_type": "execute_result"
    }
   ],
   "source": [
    "peças['Tamanho'].value_counts()"
   ]
  },
  {
   "cell_type": "markdown",
   "id": "4c2d9bbc-3a71-47a6-8821-a0bb77101cf1",
   "metadata": {},
   "source": [
    "Método value_counts é uma junção do unique com o nunique. Retorna os valores únicos ao lado do número de vezes em que se repetem."
   ]
  },
  {
   "cell_type": "markdown",
   "id": "fec16167-28dc-431f-9dab-0334503cee31",
   "metadata": {},
   "source": [
    "### Aplicando funções"
   ]
  },
  {
   "cell_type": "markdown",
   "id": "c1d62baa-d377-46ce-9ad8-76d5c2d595b4",
   "metadata": {},
   "source": [
    "Método apply permite a aplicação de funções em cada elementos de uma linha ou coluna do DF."
   ]
  },
  {
   "cell_type": "code",
   "execution_count": 9,
   "id": "efb30689-99ce-48d1-964d-b603a5c2286d",
   "metadata": {
    "scrolled": true
   },
   "outputs": [
    {
     "data": {
      "text/plain": [
       "0    5.196152\n",
       "1    2.828427\n",
       "2    8.000000\n",
       "3    2.828427\n",
       "Name: Tamanho, dtype: float64"
      ]
     },
     "execution_count": 9,
     "metadata": {},
     "output_type": "execute_result"
    }
   ],
   "source": [
    "def times_sqrt(x):\n",
    "    return x*(x**0.5)\n",
    "peças['Tamanho'].apply(times_sqrt)"
   ]
  },
  {
   "cell_type": "code",
   "execution_count": 12,
   "id": "119dd7aa-c54f-465f-bd70-5a8fe4542fd8",
   "metadata": {},
   "outputs": [
    {
     "data": {
      "text/plain": [
       "0    7\n",
       "1    7\n",
       "2    5\n",
       "3    4\n",
       "Name: Modelo, dtype: int64"
      ]
     },
     "execution_count": 12,
     "metadata": {},
     "output_type": "execute_result"
    }
   ],
   "source": [
    "peças['Modelo'].apply(len) #retorna o tamanho das strings na coluna Modelo"
   ]
  },
  {
   "cell_type": "code",
   "execution_count": 16,
   "id": "72e0d168-9f10-4275-abe5-9d2b2fca5782",
   "metadata": {},
   "outputs": [
    {
     "data": {
      "text/plain": [
       "0    1.732051\n",
       "1    1.414214\n",
       "2    2.000000\n",
       "3    1.414214\n",
       "Name: Tamanho, dtype: float64"
      ]
     },
     "execution_count": 16,
     "metadata": {},
     "output_type": "execute_result"
    }
   ],
   "source": [
    "peças['Tamanho'].apply(lambda x: x**0.5) #aplica a função lambda que retorna a raiz quadrada de cada elemento na coluna Tamanho"
   ]
  },
  {
   "cell_type": "markdown",
   "id": "d423114c-4860-4b6a-89fb-a3c49bf87503",
   "metadata": {},
   "source": [
    "### Método del"
   ]
  },
  {
   "cell_type": "markdown",
   "id": "952d3a21-ebe2-4d44-b9f1-40ad6043aecf",
   "metadata": {},
   "source": [
    "Além do dropna, já mostrado acima, há também o método del para deletar colunas."
   ]
  },
  {
   "cell_type": "code",
   "execution_count": 17,
   "id": "2cff530c-623f-4c3c-a3ea-d81a83e5030b",
   "metadata": {},
   "outputs": [
    {
     "data": {
      "text/html": [
       "<div>\n",
       "<style scoped>\n",
       "    .dataframe tbody tr th:only-of-type {\n",
       "        vertical-align: middle;\n",
       "    }\n",
       "\n",
       "    .dataframe tbody tr th {\n",
       "        vertical-align: top;\n",
       "    }\n",
       "\n",
       "    .dataframe thead th {\n",
       "        text-align: right;\n",
       "    }\n",
       "</style>\n",
       "<table border=\"1\" class=\"dataframe\">\n",
       "  <thead>\n",
       "    <tr style=\"text-align: right;\">\n",
       "      <th></th>\n",
       "      <th>Modelo</th>\n",
       "      <th>Tamanho</th>\n",
       "    </tr>\n",
       "  </thead>\n",
       "  <tbody>\n",
       "    <tr>\n",
       "      <th>0</th>\n",
       "      <td>Premium</td>\n",
       "      <td>3</td>\n",
       "    </tr>\n",
       "    <tr>\n",
       "      <th>1</th>\n",
       "      <td>Premium</td>\n",
       "      <td>2</td>\n",
       "    </tr>\n",
       "    <tr>\n",
       "      <th>2</th>\n",
       "      <td>Comum</td>\n",
       "      <td>4</td>\n",
       "    </tr>\n",
       "    <tr>\n",
       "      <th>3</th>\n",
       "      <td>Plus</td>\n",
       "      <td>2</td>\n",
       "    </tr>\n",
       "  </tbody>\n",
       "</table>\n",
       "</div>"
      ],
      "text/plain": [
       "    Modelo  Tamanho\n",
       "0  Premium        3\n",
       "1  Premium        2\n",
       "2    Comum        4\n",
       "3     Plus        2"
      ]
     },
     "execution_count": 17,
     "metadata": {},
     "output_type": "execute_result"
    }
   ],
   "source": [
    "del peças['Destino']\n",
    "peças"
   ]
  },
  {
   "cell_type": "markdown",
   "id": "34abe6e3-74df-4b1c-89d4-106f07b5347d",
   "metadata": {},
   "source": [
    "### Atributos de índice e coluna"
   ]
  },
  {
   "cell_type": "code",
   "execution_count": 21,
   "id": "9a3f30e4-5eac-49de-83b5-247618889d7a",
   "metadata": {},
   "outputs": [
    {
     "data": {
      "text/plain": [
       "Index(['Modelo', 'Tamanho'], dtype='object')"
      ]
     },
     "execution_count": 21,
     "metadata": {},
     "output_type": "execute_result"
    }
   ],
   "source": [
    "peças.columns"
   ]
  },
  {
   "cell_type": "code",
   "execution_count": 22,
   "id": "2e84068e-5f2e-4baf-a965-d4b445ce1854",
   "metadata": {},
   "outputs": [
    {
     "data": {
      "text/plain": [
       "RangeIndex(start=0, stop=4, step=1)"
      ]
     },
     "execution_count": 22,
     "metadata": {},
     "output_type": "execute_result"
    }
   ],
   "source": [
    "peças.index"
   ]
  },
  {
   "cell_type": "markdown",
   "id": "f2b6defb-f6fa-4c88-9884-1ab867e661c1",
   "metadata": {},
   "source": [
    "### Ordenação"
   ]
  },
  {
   "cell_type": "code",
   "execution_count": 24,
   "id": "b2e3a846-6fa0-413b-82dc-28906ac76862",
   "metadata": {},
   "outputs": [
    {
     "data": {
      "text/html": [
       "<div>\n",
       "<style scoped>\n",
       "    .dataframe tbody tr th:only-of-type {\n",
       "        vertical-align: middle;\n",
       "    }\n",
       "\n",
       "    .dataframe tbody tr th {\n",
       "        vertical-align: top;\n",
       "    }\n",
       "\n",
       "    .dataframe thead th {\n",
       "        text-align: right;\n",
       "    }\n",
       "</style>\n",
       "<table border=\"1\" class=\"dataframe\">\n",
       "  <thead>\n",
       "    <tr style=\"text-align: right;\">\n",
       "      <th></th>\n",
       "      <th>Modelo</th>\n",
       "      <th>Tamanho</th>\n",
       "    </tr>\n",
       "  </thead>\n",
       "  <tbody>\n",
       "    <tr>\n",
       "      <th>1</th>\n",
       "      <td>Premium</td>\n",
       "      <td>2</td>\n",
       "    </tr>\n",
       "    <tr>\n",
       "      <th>3</th>\n",
       "      <td>Plus</td>\n",
       "      <td>2</td>\n",
       "    </tr>\n",
       "    <tr>\n",
       "      <th>0</th>\n",
       "      <td>Premium</td>\n",
       "      <td>3</td>\n",
       "    </tr>\n",
       "    <tr>\n",
       "      <th>2</th>\n",
       "      <td>Comum</td>\n",
       "      <td>4</td>\n",
       "    </tr>\n",
       "  </tbody>\n",
       "</table>\n",
       "</div>"
      ],
      "text/plain": [
       "    Modelo  Tamanho\n",
       "1  Premium        2\n",
       "3     Plus        2\n",
       "0  Premium        3\n",
       "2    Comum        4"
      ]
     },
     "execution_count": 24,
     "metadata": {},
     "output_type": "execute_result"
    }
   ],
   "source": [
    "peças.sort_values(by='Tamanho', inplace=True)\n",
    "peças"
   ]
  },
  {
   "cell_type": "markdown",
   "id": "9dca7281-1b9e-4aef-a053-64e1486af640",
   "metadata": {},
   "source": [
    "Ordenou as linhas de tal forma a obter uma ordem crescente na coluna Tamanho."
   ]
  },
  {
   "cell_type": "markdown",
   "id": "c5fa48e5-4538-4a4e-8493-b1000321bc74",
   "metadata": {},
   "source": [
    "### Identificando valores nulos"
   ]
  },
  {
   "cell_type": "code",
   "execution_count": 25,
   "id": "12a8f264-3139-4358-a09a-2ba3f8988d3a",
   "metadata": {},
   "outputs": [
    {
     "data": {
      "text/html": [
       "<div>\n",
       "<style scoped>\n",
       "    .dataframe tbody tr th:only-of-type {\n",
       "        vertical-align: middle;\n",
       "    }\n",
       "\n",
       "    .dataframe tbody tr th {\n",
       "        vertical-align: top;\n",
       "    }\n",
       "\n",
       "    .dataframe thead th {\n",
       "        text-align: right;\n",
       "    }\n",
       "</style>\n",
       "<table border=\"1\" class=\"dataframe\">\n",
       "  <thead>\n",
       "    <tr style=\"text-align: right;\">\n",
       "      <th></th>\n",
       "      <th>Modelo</th>\n",
       "      <th>Tamanho</th>\n",
       "    </tr>\n",
       "  </thead>\n",
       "  <tbody>\n",
       "    <tr>\n",
       "      <th>1</th>\n",
       "      <td>False</td>\n",
       "      <td>False</td>\n",
       "    </tr>\n",
       "    <tr>\n",
       "      <th>3</th>\n",
       "      <td>False</td>\n",
       "      <td>False</td>\n",
       "    </tr>\n",
       "    <tr>\n",
       "      <th>0</th>\n",
       "      <td>False</td>\n",
       "      <td>False</td>\n",
       "    </tr>\n",
       "    <tr>\n",
       "      <th>2</th>\n",
       "      <td>False</td>\n",
       "      <td>False</td>\n",
       "    </tr>\n",
       "  </tbody>\n",
       "</table>\n",
       "</div>"
      ],
      "text/plain": [
       "   Modelo  Tamanho\n",
       "1   False    False\n",
       "3   False    False\n",
       "0   False    False\n",
       "2   False    False"
      ]
     },
     "execution_count": 25,
     "metadata": {},
     "output_type": "execute_result"
    }
   ],
   "source": [
    "peças.isnull()"
   ]
  },
  {
   "cell_type": "code",
   "execution_count": 28,
   "id": "3d41bf09-a39b-4512-a6ae-01296bbfa1cb",
   "metadata": {},
   "outputs": [
    {
     "data": {
      "text/html": [
       "<div>\n",
       "<style scoped>\n",
       "    .dataframe tbody tr th:only-of-type {\n",
       "        vertical-align: middle;\n",
       "    }\n",
       "\n",
       "    .dataframe tbody tr th {\n",
       "        vertical-align: top;\n",
       "    }\n",
       "\n",
       "    .dataframe thead th {\n",
       "        text-align: right;\n",
       "    }\n",
       "</style>\n",
       "<table border=\"1\" class=\"dataframe\">\n",
       "  <thead>\n",
       "    <tr style=\"text-align: right;\">\n",
       "      <th></th>\n",
       "      <th>Modelo</th>\n",
       "      <th>Tamanho</th>\n",
       "    </tr>\n",
       "  </thead>\n",
       "  <tbody>\n",
       "    <tr>\n",
       "      <th>1</th>\n",
       "      <td>NaN</td>\n",
       "      <td>NaN</td>\n",
       "    </tr>\n",
       "    <tr>\n",
       "      <th>3</th>\n",
       "      <td>NaN</td>\n",
       "      <td>NaN</td>\n",
       "    </tr>\n",
       "    <tr>\n",
       "      <th>0</th>\n",
       "      <td>NaN</td>\n",
       "      <td>NaN</td>\n",
       "    </tr>\n",
       "    <tr>\n",
       "      <th>2</th>\n",
       "      <td>NaN</td>\n",
       "      <td>NaN</td>\n",
       "    </tr>\n",
       "  </tbody>\n",
       "</table>\n",
       "</div>"
      ],
      "text/plain": [
       "  Modelo  Tamanho\n",
       "1    NaN      NaN\n",
       "3    NaN      NaN\n",
       "0    NaN      NaN\n",
       "2    NaN      NaN"
      ]
     },
     "execution_count": 28,
     "metadata": {},
     "output_type": "execute_result"
    }
   ],
   "source": [
    "peças[peças.isnull()] #pode ser usado para seleção condicional"
   ]
  },
  {
   "cell_type": "markdown",
   "id": "f7ce28cf-961b-40fd-8cdd-ad22ba2793f9",
   "metadata": {},
   "source": [
    "### Pivot Table"
   ]
  },
  {
   "cell_type": "markdown",
   "id": "8b4c5ef6-f201-495d-b2e0-1898556151e4",
   "metadata": {},
   "source": [
    "Método usado para reestruturar o Data Frame (mudar a disposição dos dados entre linhas e colunas)."
   ]
  },
  {
   "cell_type": "code",
   "execution_count": 40,
   "id": "1c76d100-a5b2-4f4f-a8fa-145857fe2b71",
   "metadata": {
    "scrolled": true
   },
   "outputs": [
    {
     "data": {
      "text/html": [
       "<div>\n",
       "<style scoped>\n",
       "    .dataframe tbody tr th:only-of-type {\n",
       "        vertical-align: middle;\n",
       "    }\n",
       "\n",
       "    .dataframe tbody tr th {\n",
       "        vertical-align: top;\n",
       "    }\n",
       "\n",
       "    .dataframe thead th {\n",
       "        text-align: right;\n",
       "    }\n",
       "</style>\n",
       "<table border=\"1\" class=\"dataframe\">\n",
       "  <thead>\n",
       "    <tr style=\"text-align: right;\">\n",
       "      <th></th>\n",
       "      <th>jogador</th>\n",
       "      <th>tipo</th>\n",
       "      <th>minuto</th>\n",
       "      <th>probabilidade</th>\n",
       "    </tr>\n",
       "  </thead>\n",
       "  <tbody>\n",
       "    <tr>\n",
       "      <th>0</th>\n",
       "      <td>Salah</td>\n",
       "      <td>gol</td>\n",
       "      <td>4</td>\n",
       "      <td>0.05</td>\n",
       "    </tr>\n",
       "    <tr>\n",
       "      <th>1</th>\n",
       "      <td>Bernardo</td>\n",
       "      <td>gol</td>\n",
       "      <td>16</td>\n",
       "      <td>0.10</td>\n",
       "    </tr>\n",
       "    <tr>\n",
       "      <th>2</th>\n",
       "      <td>Bernardo</td>\n",
       "      <td>falta</td>\n",
       "      <td>19</td>\n",
       "      <td>0.40</td>\n",
       "    </tr>\n",
       "    <tr>\n",
       "      <th>3</th>\n",
       "      <td>Salah</td>\n",
       "      <td>assistencia</td>\n",
       "      <td>67</td>\n",
       "      <td>0.05</td>\n",
       "    </tr>\n",
       "    <tr>\n",
       "      <th>4</th>\n",
       "      <td>Bernardo</td>\n",
       "      <td>assistencia</td>\n",
       "      <td>78</td>\n",
       "      <td>0.10</td>\n",
       "    </tr>\n",
       "    <tr>\n",
       "      <th>5</th>\n",
       "      <td>Salah</td>\n",
       "      <td>falta</td>\n",
       "      <td>84</td>\n",
       "      <td>0.40</td>\n",
       "    </tr>\n",
       "  </tbody>\n",
       "</table>\n",
       "</div>"
      ],
      "text/plain": [
       "    jogador         tipo  minuto  probabilidade\n",
       "0     Salah          gol       4           0.05\n",
       "1  Bernardo          gol      16           0.10\n",
       "2  Bernardo        falta      19           0.40\n",
       "3     Salah  assistencia      67           0.05\n",
       "4  Bernardo  assistencia      78           0.10\n",
       "5     Salah        falta      84           0.40"
      ]
     },
     "execution_count": 40,
     "metadata": {},
     "output_type": "execute_result"
    }
   ],
   "source": [
    "colunas = ['jogador', 'tipo', 'minuto', 'probabilidade']\n",
    "jogadores = ['Salah', 'Bernardo', 'Bernardo', 'Salah', 'Bernardo', 'Salah']\n",
    "tipo = ['gol', 'gol', 'falta', 'assistencia', 'assistencia', 'falta']\n",
    "minuto = [4, 16, 19, 67, 78, 84]\n",
    "prob = [0.05, 0.1, 0.4, 0.05, 0.1, 0.4]\n",
    "dados = [list(row) for row in zip(jogadores, tipo, minuto, prob)]\n",
    "match_evnts = pd.DataFrame(dados, columns=colunas)\n",
    "match_evnts"
   ]
  },
  {
   "cell_type": "code",
   "execution_count": 41,
   "id": "5c07dbb4-ec7c-46ed-ba8e-81d3e65cbb48",
   "metadata": {},
   "outputs": [
    {
     "data": {
      "text/html": [
       "<div>\n",
       "<style scoped>\n",
       "    .dataframe tbody tr th:only-of-type {\n",
       "        vertical-align: middle;\n",
       "    }\n",
       "\n",
       "    .dataframe tbody tr th {\n",
       "        vertical-align: top;\n",
       "    }\n",
       "\n",
       "    .dataframe thead th {\n",
       "        text-align: right;\n",
       "    }\n",
       "</style>\n",
       "<table border=\"1\" class=\"dataframe\">\n",
       "  <thead>\n",
       "    <tr style=\"text-align: right;\">\n",
       "      <th></th>\n",
       "      <th>probabilidade</th>\n",
       "      <th>0.05</th>\n",
       "      <th>0.10</th>\n",
       "      <th>0.40</th>\n",
       "    </tr>\n",
       "    <tr>\n",
       "      <th>jogador</th>\n",
       "      <th>tipo</th>\n",
       "      <th></th>\n",
       "      <th></th>\n",
       "      <th></th>\n",
       "    </tr>\n",
       "  </thead>\n",
       "  <tbody>\n",
       "    <tr>\n",
       "      <th rowspan=\"3\" valign=\"top\">Bernardo</th>\n",
       "      <th>assistencia</th>\n",
       "      <td>NaN</td>\n",
       "      <td>78.0</td>\n",
       "      <td>NaN</td>\n",
       "    </tr>\n",
       "    <tr>\n",
       "      <th>falta</th>\n",
       "      <td>NaN</td>\n",
       "      <td>NaN</td>\n",
       "      <td>19.0</td>\n",
       "    </tr>\n",
       "    <tr>\n",
       "      <th>gol</th>\n",
       "      <td>NaN</td>\n",
       "      <td>16.0</td>\n",
       "      <td>NaN</td>\n",
       "    </tr>\n",
       "    <tr>\n",
       "      <th rowspan=\"3\" valign=\"top\">Salah</th>\n",
       "      <th>assistencia</th>\n",
       "      <td>67.0</td>\n",
       "      <td>NaN</td>\n",
       "      <td>NaN</td>\n",
       "    </tr>\n",
       "    <tr>\n",
       "      <th>falta</th>\n",
       "      <td>NaN</td>\n",
       "      <td>NaN</td>\n",
       "      <td>84.0</td>\n",
       "    </tr>\n",
       "    <tr>\n",
       "      <th>gol</th>\n",
       "      <td>4.0</td>\n",
       "      <td>NaN</td>\n",
       "      <td>NaN</td>\n",
       "    </tr>\n",
       "  </tbody>\n",
       "</table>\n",
       "</div>"
      ],
      "text/plain": [
       "probabilidade         0.05  0.10  0.40\n",
       "jogador  tipo                         \n",
       "Bernardo assistencia   NaN  78.0   NaN\n",
       "         falta         NaN   NaN  19.0\n",
       "         gol           NaN  16.0   NaN\n",
       "Salah    assistencia  67.0   NaN   NaN\n",
       "         falta         NaN   NaN  84.0\n",
       "         gol           4.0   NaN   NaN"
      ]
     },
     "execution_count": 41,
     "metadata": {},
     "output_type": "execute_result"
    }
   ],
   "source": [
    "match_evnts.pivot_table(values='minuto', index=['jogador', 'tipo'], columns='probabilidade')"
   ]
  },
  {
   "cell_type": "markdown",
   "id": "37f54edf-061b-4c45-8412-534d95809f84",
   "metadata": {},
   "source": [
    "O Data Frame foi reestruturado mudando-se a função de linhas, colunas e valores do original."
   ]
  },
  {
   "cell_type": "markdown",
   "id": "d12b15b3-abd5-45c8-ae04-3140c384f40b",
   "metadata": {},
   "source": [
    "# Entrada e saída de dados"
   ]
  },
  {
   "cell_type": "markdown",
   "id": "7e61922c-b830-437f-9c1f-cc0a6a235f53",
   "metadata": {},
   "source": [
    "### CSV (comma separated values)"
   ]
  },
  {
   "cell_type": "code",
   "execution_count": 34,
   "id": "0c98197a-8622-443b-82ea-1c85668e43c4",
   "metadata": {},
   "outputs": [
    {
     "data": {
      "text/html": [
       "<div>\n",
       "<style scoped>\n",
       "    .dataframe tbody tr th:only-of-type {\n",
       "        vertical-align: middle;\n",
       "    }\n",
       "\n",
       "    .dataframe tbody tr th {\n",
       "        vertical-align: top;\n",
       "    }\n",
       "\n",
       "    .dataframe thead th {\n",
       "        text-align: right;\n",
       "    }\n",
       "</style>\n",
       "<table border=\"1\" class=\"dataframe\">\n",
       "  <thead>\n",
       "    <tr style=\"text-align: right;\">\n",
       "      <th></th>\n",
       "      <th>a</th>\n",
       "      <th>b</th>\n",
       "      <th>c</th>\n",
       "      <th>d</th>\n",
       "    </tr>\n",
       "  </thead>\n",
       "  <tbody>\n",
       "    <tr>\n",
       "      <th>0</th>\n",
       "      <td>0</td>\n",
       "      <td>1</td>\n",
       "      <td>2</td>\n",
       "      <td>3</td>\n",
       "    </tr>\n",
       "    <tr>\n",
       "      <th>1</th>\n",
       "      <td>4</td>\n",
       "      <td>5</td>\n",
       "      <td>6</td>\n",
       "      <td>7</td>\n",
       "    </tr>\n",
       "    <tr>\n",
       "      <th>2</th>\n",
       "      <td>8</td>\n",
       "      <td>9</td>\n",
       "      <td>10</td>\n",
       "      <td>11</td>\n",
       "    </tr>\n",
       "    <tr>\n",
       "      <th>3</th>\n",
       "      <td>12</td>\n",
       "      <td>13</td>\n",
       "      <td>14</td>\n",
       "      <td>15</td>\n",
       "    </tr>\n",
       "  </tbody>\n",
       "</table>\n",
       "</div>"
      ],
      "text/plain": [
       "    a   b   c   d\n",
       "0   0   1   2   3\n",
       "1   4   5   6   7\n",
       "2   8   9  10  11\n",
       "3  12  13  14  15"
      ]
     },
     "execution_count": 34,
     "metadata": {},
     "output_type": "execute_result"
    }
   ],
   "source": [
    "df = pd.read_csv('exemplo.txt')\n",
    "df"
   ]
  },
  {
   "cell_type": "markdown",
   "id": "188f35cf-602a-42ae-a4d4-1a7df1827f78",
   "metadata": {},
   "source": [
    "O método read_csv leu o arquivo em texto e, baseado no delimitador padrão (vírgula), montou um Data Frame"
   ]
  },
  {
   "cell_type": "code",
   "execution_count": 35,
   "id": "f431f508-08ad-48cd-8e34-55c84bd7c998",
   "metadata": {},
   "outputs": [
    {
     "data": {
      "text/html": [
       "<div>\n",
       "<style scoped>\n",
       "    .dataframe tbody tr th:only-of-type {\n",
       "        vertical-align: middle;\n",
       "    }\n",
       "\n",
       "    .dataframe tbody tr th {\n",
       "        vertical-align: top;\n",
       "    }\n",
       "\n",
       "    .dataframe thead th {\n",
       "        text-align: right;\n",
       "    }\n",
       "</style>\n",
       "<table border=\"1\" class=\"dataframe\">\n",
       "  <thead>\n",
       "    <tr style=\"text-align: right;\">\n",
       "      <th></th>\n",
       "      <th>a</th>\n",
       "      <th>b</th>\n",
       "      <th>c</th>\n",
       "      <th>d</th>\n",
       "    </tr>\n",
       "  </thead>\n",
       "  <tbody>\n",
       "    <tr>\n",
       "      <th>0</th>\n",
       "      <td>1</td>\n",
       "      <td>2</td>\n",
       "      <td>3</td>\n",
       "      <td>4</td>\n",
       "    </tr>\n",
       "    <tr>\n",
       "      <th>1</th>\n",
       "      <td>5</td>\n",
       "      <td>6</td>\n",
       "      <td>7</td>\n",
       "      <td>8</td>\n",
       "    </tr>\n",
       "    <tr>\n",
       "      <th>2</th>\n",
       "      <td>9</td>\n",
       "      <td>10</td>\n",
       "      <td>11</td>\n",
       "      <td>12</td>\n",
       "    </tr>\n",
       "    <tr>\n",
       "      <th>3</th>\n",
       "      <td>13</td>\n",
       "      <td>14</td>\n",
       "      <td>15</td>\n",
       "      <td>16</td>\n",
       "    </tr>\n",
       "  </tbody>\n",
       "</table>\n",
       "</div>"
      ],
      "text/plain": [
       "    a   b   c   d\n",
       "0   1   2   3   4\n",
       "1   5   6   7   8\n",
       "2   9  10  11  12\n",
       "3  13  14  15  16"
      ]
     },
     "execution_count": 35,
     "metadata": {},
     "output_type": "execute_result"
    }
   ],
   "source": [
    "df += 1\n",
    "df"
   ]
  },
  {
   "cell_type": "code",
   "execution_count": 36,
   "id": "2b0f4ca7-ea79-4255-9064-f2ad20d522d4",
   "metadata": {},
   "outputs": [],
   "source": [
    "df.to_csv('exemplo1.txt')"
   ]
  },
  {
   "cell_type": "markdown",
   "id": "1e243f6d-1f7b-494b-81f3-fd77ffc38fdb",
   "metadata": {},
   "source": [
    "Após fazer as operações no DF, o método to_csv permite a criação de um arquivo csv."
   ]
  },
  {
   "cell_type": "markdown",
   "id": "5e987fed-da05-4ece-abe5-cfdd16223519",
   "metadata": {},
   "source": [
    "### xlsx (arquivos Excel)"
   ]
  },
  {
   "cell_type": "code",
   "execution_count": 41,
   "id": "0b3bfa06-2efd-4e46-baf3-9b00e07630a9",
   "metadata": {},
   "outputs": [
    {
     "data": {
      "text/html": [
       "<div>\n",
       "<style scoped>\n",
       "    .dataframe tbody tr th:only-of-type {\n",
       "        vertical-align: middle;\n",
       "    }\n",
       "\n",
       "    .dataframe tbody tr th {\n",
       "        vertical-align: top;\n",
       "    }\n",
       "\n",
       "    .dataframe thead th {\n",
       "        text-align: right;\n",
       "    }\n",
       "</style>\n",
       "<table border=\"1\" class=\"dataframe\">\n",
       "  <thead>\n",
       "    <tr style=\"text-align: right;\">\n",
       "      <th></th>\n",
       "      <th>a</th>\n",
       "      <th>b</th>\n",
       "      <th>c</th>\n",
       "      <th>d</th>\n",
       "    </tr>\n",
       "  </thead>\n",
       "  <tbody>\n",
       "    <tr>\n",
       "      <th>0</th>\n",
       "      <td>0</td>\n",
       "      <td>1</td>\n",
       "      <td>2</td>\n",
       "      <td>3</td>\n",
       "    </tr>\n",
       "    <tr>\n",
       "      <th>1</th>\n",
       "      <td>4</td>\n",
       "      <td>5</td>\n",
       "      <td>6</td>\n",
       "      <td>7</td>\n",
       "    </tr>\n",
       "    <tr>\n",
       "      <th>2</th>\n",
       "      <td>8</td>\n",
       "      <td>9</td>\n",
       "      <td>10</td>\n",
       "      <td>11</td>\n",
       "    </tr>\n",
       "    <tr>\n",
       "      <th>3</th>\n",
       "      <td>12</td>\n",
       "      <td>13</td>\n",
       "      <td>14</td>\n",
       "      <td>15</td>\n",
       "    </tr>\n",
       "  </tbody>\n",
       "</table>\n",
       "</div>"
      ],
      "text/plain": [
       "    a   b   c   d\n",
       "0   0   1   2   3\n",
       "1   4   5   6   7\n",
       "2   8   9  10  11\n",
       "3  12  13  14  15"
      ]
     },
     "execution_count": 41,
     "metadata": {},
     "output_type": "execute_result"
    }
   ],
   "source": [
    "df = pd.read_excel('exemplo_xl.xlsx')\n",
    "df"
   ]
  },
  {
   "cell_type": "markdown",
   "id": "76819ba5-2594-4db8-ab19-502497f8034d",
   "metadata": {},
   "source": [
    "O método read_excel converteu os dados da tabela de excel para um Data Frame."
   ]
  },
  {
   "cell_type": "code",
   "execution_count": 42,
   "id": "061cff37-ee2d-4a6d-acc7-99cadf428931",
   "metadata": {},
   "outputs": [
    {
     "data": {
      "text/html": [
       "<div>\n",
       "<style scoped>\n",
       "    .dataframe tbody tr th:only-of-type {\n",
       "        vertical-align: middle;\n",
       "    }\n",
       "\n",
       "    .dataframe tbody tr th {\n",
       "        vertical-align: top;\n",
       "    }\n",
       "\n",
       "    .dataframe thead th {\n",
       "        text-align: right;\n",
       "    }\n",
       "</style>\n",
       "<table border=\"1\" class=\"dataframe\">\n",
       "  <thead>\n",
       "    <tr style=\"text-align: right;\">\n",
       "      <th></th>\n",
       "      <th>a</th>\n",
       "      <th>b</th>\n",
       "      <th>c</th>\n",
       "      <th>d</th>\n",
       "    </tr>\n",
       "  </thead>\n",
       "  <tbody>\n",
       "    <tr>\n",
       "      <th>0</th>\n",
       "      <td>0</td>\n",
       "      <td>NaN</td>\n",
       "      <td>2</td>\n",
       "      <td>NaN</td>\n",
       "    </tr>\n",
       "    <tr>\n",
       "      <th>1</th>\n",
       "      <td>4</td>\n",
       "      <td>NaN</td>\n",
       "      <td>6</td>\n",
       "      <td>NaN</td>\n",
       "    </tr>\n",
       "    <tr>\n",
       "      <th>2</th>\n",
       "      <td>8</td>\n",
       "      <td>NaN</td>\n",
       "      <td>10</td>\n",
       "      <td>NaN</td>\n",
       "    </tr>\n",
       "    <tr>\n",
       "      <th>3</th>\n",
       "      <td>12</td>\n",
       "      <td>NaN</td>\n",
       "      <td>14</td>\n",
       "      <td>NaN</td>\n",
       "    </tr>\n",
       "  </tbody>\n",
       "</table>\n",
       "</div>"
      ],
      "text/plain": [
       "    a   b   c   d\n",
       "0   0 NaN   2 NaN\n",
       "1   4 NaN   6 NaN\n",
       "2   8 NaN  10 NaN\n",
       "3  12 NaN  14 NaN"
      ]
     },
     "execution_count": 42,
     "metadata": {},
     "output_type": "execute_result"
    }
   ],
   "source": [
    "df = df[df % 2 == 0]\n",
    "df"
   ]
  },
  {
   "cell_type": "code",
   "execution_count": 43,
   "id": "f4b652ef-3454-4efc-84d7-349f3d24e2b5",
   "metadata": {},
   "outputs": [],
   "source": [
    "df.to_excel('exemplo_xl1.xlsx')"
   ]
  },
  {
   "cell_type": "markdown",
   "id": "ad5b52ab-071f-4159-90cc-f032b4901715",
   "metadata": {},
   "source": [
    "Após feitas as operações com o DF, é possível salvar o DF como arquivo xlsx."
   ]
  },
  {
   "cell_type": "markdown",
   "id": "24ea10b1-74f4-4d20-812e-51bf1392e42d",
   "metadata": {},
   "source": [
    "### HTML"
   ]
  },
  {
   "cell_type": "code",
   "execution_count": 66,
   "id": "c4fcb6ef-b7a6-4776-ad7a-e35ea664a7d9",
   "metadata": {},
   "outputs": [
    {
     "data": {
      "text/plain": [
       "[                         Bank NameBank       CityCity StateSt  CertCert  \\\n",
       " 0                        Citizens Bank       Sac City      IA      8758   \n",
       " 1             Heartland Tri-State Bank        Elkhart      KS     25851   \n",
       " 2                  First Republic Bank  San Francisco      CA     59017   \n",
       " 3                       Signature Bank       New York      NY     57053   \n",
       " 4                  Silicon Valley Bank    Santa Clara      CA     24735   \n",
       " ..                                 ...            ...     ...       ...   \n",
       " 563                 Superior Bank, FSB       Hinsdale      IL     32646   \n",
       " 564                Malta National Bank          Malta      OH      6629   \n",
       " 565    First Alliance Bank & Trust Co.     Manchester      NH     34264   \n",
       " 566  National State Bank of Metropolis     Metropolis      IL      3815   \n",
       " 567                   Bank of Honolulu       Honolulu      HI     21029   \n",
       " \n",
       "                  Acquiring InstitutionAI Closing DateClosing  FundFund  \n",
       " 0              Iowa Trust & Savings Bank    November 3, 2023     10545  \n",
       " 1                 Dream First Bank, N.A.       July 28, 2023     10544  \n",
       " 2              JPMorgan Chase Bank, N.A.         May 1, 2023     10543  \n",
       " 3                    Flagstar Bank, N.A.      March 12, 2023     10540  \n",
       " 4    First–Citizens Bank & Trust Company      March 10, 2023     10539  \n",
       " ..                                   ...                 ...       ...  \n",
       " 563                Superior Federal, FSB       July 27, 2001      6004  \n",
       " 564                    North Valley Bank         May 3, 2001      4648  \n",
       " 565  Southern New Hampshire Bank & Trust    February 2, 2001      4647  \n",
       " 566              Banterra Bank of Marion   December 14, 2000      4646  \n",
       " 567                   Bank of the Orient    October 13, 2000      4645  \n",
       " \n",
       " [568 rows x 7 columns]]"
      ]
     },
     "execution_count": 66,
     "metadata": {},
     "output_type": "execute_result"
    }
   ],
   "source": [
    "df = pd.read_html('https://www.fdic.gov/resources/resolutions/bank-failures/failed-bank-list/')\n",
    "df"
   ]
  },
  {
   "cell_type": "code",
   "execution_count": 67,
   "id": "3ee98be0-5e3e-4098-9020-afc9130bf63b",
   "metadata": {},
   "outputs": [
    {
     "data": {
      "text/plain": [
       "list"
      ]
     },
     "execution_count": 67,
     "metadata": {},
     "output_type": "execute_result"
    }
   ],
   "source": [
    "type(df)"
   ]
  },
  {
   "cell_type": "code",
   "execution_count": 68,
   "id": "4cb8a1be-2aee-4724-9e90-6185794668c5",
   "metadata": {},
   "outputs": [
    {
     "data": {
      "text/html": [
       "<div>\n",
       "<style scoped>\n",
       "    .dataframe tbody tr th:only-of-type {\n",
       "        vertical-align: middle;\n",
       "    }\n",
       "\n",
       "    .dataframe tbody tr th {\n",
       "        vertical-align: top;\n",
       "    }\n",
       "\n",
       "    .dataframe thead th {\n",
       "        text-align: right;\n",
       "    }\n",
       "</style>\n",
       "<table border=\"1\" class=\"dataframe\">\n",
       "  <thead>\n",
       "    <tr style=\"text-align: right;\">\n",
       "      <th></th>\n",
       "      <th>Bank NameBank</th>\n",
       "      <th>CityCity</th>\n",
       "      <th>StateSt</th>\n",
       "      <th>CertCert</th>\n",
       "      <th>Acquiring InstitutionAI</th>\n",
       "      <th>Closing DateClosing</th>\n",
       "      <th>FundFund</th>\n",
       "    </tr>\n",
       "  </thead>\n",
       "  <tbody>\n",
       "    <tr>\n",
       "      <th>0</th>\n",
       "      <td>Citizens Bank</td>\n",
       "      <td>Sac City</td>\n",
       "      <td>IA</td>\n",
       "      <td>8758</td>\n",
       "      <td>Iowa Trust &amp; Savings Bank</td>\n",
       "      <td>November 3, 2023</td>\n",
       "      <td>10545</td>\n",
       "    </tr>\n",
       "    <tr>\n",
       "      <th>1</th>\n",
       "      <td>Heartland Tri-State Bank</td>\n",
       "      <td>Elkhart</td>\n",
       "      <td>KS</td>\n",
       "      <td>25851</td>\n",
       "      <td>Dream First Bank, N.A.</td>\n",
       "      <td>July 28, 2023</td>\n",
       "      <td>10544</td>\n",
       "    </tr>\n",
       "    <tr>\n",
       "      <th>2</th>\n",
       "      <td>First Republic Bank</td>\n",
       "      <td>San Francisco</td>\n",
       "      <td>CA</td>\n",
       "      <td>59017</td>\n",
       "      <td>JPMorgan Chase Bank, N.A.</td>\n",
       "      <td>May 1, 2023</td>\n",
       "      <td>10543</td>\n",
       "    </tr>\n",
       "    <tr>\n",
       "      <th>3</th>\n",
       "      <td>Signature Bank</td>\n",
       "      <td>New York</td>\n",
       "      <td>NY</td>\n",
       "      <td>57053</td>\n",
       "      <td>Flagstar Bank, N.A.</td>\n",
       "      <td>March 12, 2023</td>\n",
       "      <td>10540</td>\n",
       "    </tr>\n",
       "    <tr>\n",
       "      <th>4</th>\n",
       "      <td>Silicon Valley Bank</td>\n",
       "      <td>Santa Clara</td>\n",
       "      <td>CA</td>\n",
       "      <td>24735</td>\n",
       "      <td>First–Citizens Bank &amp; Trust Company</td>\n",
       "      <td>March 10, 2023</td>\n",
       "      <td>10539</td>\n",
       "    </tr>\n",
       "    <tr>\n",
       "      <th>...</th>\n",
       "      <td>...</td>\n",
       "      <td>...</td>\n",
       "      <td>...</td>\n",
       "      <td>...</td>\n",
       "      <td>...</td>\n",
       "      <td>...</td>\n",
       "      <td>...</td>\n",
       "    </tr>\n",
       "    <tr>\n",
       "      <th>563</th>\n",
       "      <td>Superior Bank, FSB</td>\n",
       "      <td>Hinsdale</td>\n",
       "      <td>IL</td>\n",
       "      <td>32646</td>\n",
       "      <td>Superior Federal, FSB</td>\n",
       "      <td>July 27, 2001</td>\n",
       "      <td>6004</td>\n",
       "    </tr>\n",
       "    <tr>\n",
       "      <th>564</th>\n",
       "      <td>Malta National Bank</td>\n",
       "      <td>Malta</td>\n",
       "      <td>OH</td>\n",
       "      <td>6629</td>\n",
       "      <td>North Valley Bank</td>\n",
       "      <td>May 3, 2001</td>\n",
       "      <td>4648</td>\n",
       "    </tr>\n",
       "    <tr>\n",
       "      <th>565</th>\n",
       "      <td>First Alliance Bank &amp; Trust Co.</td>\n",
       "      <td>Manchester</td>\n",
       "      <td>NH</td>\n",
       "      <td>34264</td>\n",
       "      <td>Southern New Hampshire Bank &amp; Trust</td>\n",
       "      <td>February 2, 2001</td>\n",
       "      <td>4647</td>\n",
       "    </tr>\n",
       "    <tr>\n",
       "      <th>566</th>\n",
       "      <td>National State Bank of Metropolis</td>\n",
       "      <td>Metropolis</td>\n",
       "      <td>IL</td>\n",
       "      <td>3815</td>\n",
       "      <td>Banterra Bank of Marion</td>\n",
       "      <td>December 14, 2000</td>\n",
       "      <td>4646</td>\n",
       "    </tr>\n",
       "    <tr>\n",
       "      <th>567</th>\n",
       "      <td>Bank of Honolulu</td>\n",
       "      <td>Honolulu</td>\n",
       "      <td>HI</td>\n",
       "      <td>21029</td>\n",
       "      <td>Bank of the Orient</td>\n",
       "      <td>October 13, 2000</td>\n",
       "      <td>4645</td>\n",
       "    </tr>\n",
       "  </tbody>\n",
       "</table>\n",
       "<p>568 rows × 7 columns</p>\n",
       "</div>"
      ],
      "text/plain": [
       "                         Bank NameBank       CityCity StateSt  CertCert  \\\n",
       "0                        Citizens Bank       Sac City      IA      8758   \n",
       "1             Heartland Tri-State Bank        Elkhart      KS     25851   \n",
       "2                  First Republic Bank  San Francisco      CA     59017   \n",
       "3                       Signature Bank       New York      NY     57053   \n",
       "4                  Silicon Valley Bank    Santa Clara      CA     24735   \n",
       "..                                 ...            ...     ...       ...   \n",
       "563                 Superior Bank, FSB       Hinsdale      IL     32646   \n",
       "564                Malta National Bank          Malta      OH      6629   \n",
       "565    First Alliance Bank & Trust Co.     Manchester      NH     34264   \n",
       "566  National State Bank of Metropolis     Metropolis      IL      3815   \n",
       "567                   Bank of Honolulu       Honolulu      HI     21029   \n",
       "\n",
       "                 Acquiring InstitutionAI Closing DateClosing  FundFund  \n",
       "0              Iowa Trust & Savings Bank    November 3, 2023     10545  \n",
       "1                 Dream First Bank, N.A.       July 28, 2023     10544  \n",
       "2              JPMorgan Chase Bank, N.A.         May 1, 2023     10543  \n",
       "3                    Flagstar Bank, N.A.      March 12, 2023     10540  \n",
       "4    First–Citizens Bank & Trust Company      March 10, 2023     10539  \n",
       "..                                   ...                 ...       ...  \n",
       "563                Superior Federal, FSB       July 27, 2001      6004  \n",
       "564                    North Valley Bank         May 3, 2001      4648  \n",
       "565  Southern New Hampshire Bank & Trust    February 2, 2001      4647  \n",
       "566              Banterra Bank of Marion   December 14, 2000      4646  \n",
       "567                   Bank of the Orient    October 13, 2000      4645  \n",
       "\n",
       "[568 rows x 7 columns]"
      ]
     },
     "execution_count": 68,
     "metadata": {},
     "output_type": "execute_result"
    }
   ],
   "source": [
    "df[0]"
   ]
  },
  {
   "cell_type": "markdown",
   "id": "f254a386-1d6f-4e07-b094-a9690382f4f2",
   "metadata": {},
   "source": [
    "Ou seja, o arquivo gerado pelo método read_html é uma lista com Data Frames, com cada um representando um elementos encontrado na url passada."
   ]
  },
  {
   "cell_type": "code",
   "execution_count": 69,
   "id": "c1b696d3-3b8b-4fb2-ac14-1bc06d8559a4",
   "metadata": {},
   "outputs": [
    {
     "data": {
      "text/plain": [
       "31660.663732394365"
      ]
     },
     "execution_count": 69,
     "metadata": {},
     "output_type": "execute_result"
    }
   ],
   "source": [
    "df[0]['CertCert'].mean()"
   ]
  },
  {
   "cell_type": "markdown",
   "id": "2897b473-1fdb-4dff-a4d7-a5756fd286c2",
   "metadata": {},
   "source": [
    "É possível trabalhar com os dados da tabela do site dentro do DF, nesse caso foi encontrada a média dos valores de Cert."
   ]
  },
  {
   "cell_type": "markdown",
   "id": "111b07f7-2235-49a8-8158-be09486020fe",
   "metadata": {},
   "source": [
    "# Bônus: método corr"
   ]
  },
  {
   "cell_type": "markdown",
   "id": "0365a389-5047-4e92-90ca-a0a678fe5957",
   "metadata": {},
   "source": [
    "Uma maneira simples de calcular a correlação entre 2 Series é com o método corr da Pandas."
   ]
  },
  {
   "cell_type": "code",
   "execution_count": 3,
   "id": "f387a5a2-fd76-4286-91ca-b362c5100cf3",
   "metadata": {},
   "outputs": [
    {
     "data": {
      "text/html": [
       "<div>\n",
       "<style scoped>\n",
       "    .dataframe tbody tr th:only-of-type {\n",
       "        vertical-align: middle;\n",
       "    }\n",
       "\n",
       "    .dataframe tbody tr th {\n",
       "        vertical-align: top;\n",
       "    }\n",
       "\n",
       "    .dataframe thead th {\n",
       "        text-align: right;\n",
       "    }\n",
       "</style>\n",
       "<table border=\"1\" class=\"dataframe\">\n",
       "  <thead>\n",
       "    <tr style=\"text-align: right;\">\n",
       "      <th></th>\n",
       "      <th>A</th>\n",
       "      <th>B</th>\n",
       "      <th>C</th>\n",
       "      <th>D</th>\n",
       "    </tr>\n",
       "  </thead>\n",
       "  <tbody>\n",
       "    <tr>\n",
       "      <th>0</th>\n",
       "      <td>0.23</td>\n",
       "      <td>5.85</td>\n",
       "      <td>6.68</td>\n",
       "      <td>3.09</td>\n",
       "    </tr>\n",
       "    <tr>\n",
       "      <th>1</th>\n",
       "      <td>9.28</td>\n",
       "      <td>4.21</td>\n",
       "      <td>2.35</td>\n",
       "      <td>0.34</td>\n",
       "    </tr>\n",
       "    <tr>\n",
       "      <th>2</th>\n",
       "      <td>0.44</td>\n",
       "      <td>4.72</td>\n",
       "      <td>6.87</td>\n",
       "      <td>0.81</td>\n",
       "    </tr>\n",
       "    <tr>\n",
       "      <th>3</th>\n",
       "      <td>4.78</td>\n",
       "      <td>5.90</td>\n",
       "      <td>6.70</td>\n",
       "      <td>3.36</td>\n",
       "    </tr>\n",
       "    <tr>\n",
       "      <th>4</th>\n",
       "      <td>0.88</td>\n",
       "      <td>2.72</td>\n",
       "      <td>1.25</td>\n",
       "      <td>7.62</td>\n",
       "    </tr>\n",
       "    <tr>\n",
       "      <th>...</th>\n",
       "      <td>...</td>\n",
       "      <td>...</td>\n",
       "      <td>...</td>\n",
       "      <td>...</td>\n",
       "    </tr>\n",
       "    <tr>\n",
       "      <th>495</th>\n",
       "      <td>1.41</td>\n",
       "      <td>4.39</td>\n",
       "      <td>0.76</td>\n",
       "      <td>0.63</td>\n",
       "    </tr>\n",
       "    <tr>\n",
       "      <th>496</th>\n",
       "      <td>0.06</td>\n",
       "      <td>0.63</td>\n",
       "      <td>6.83</td>\n",
       "      <td>8.00</td>\n",
       "    </tr>\n",
       "    <tr>\n",
       "      <th>497</th>\n",
       "      <td>9.62</td>\n",
       "      <td>6.90</td>\n",
       "      <td>2.41</td>\n",
       "      <td>7.63</td>\n",
       "    </tr>\n",
       "    <tr>\n",
       "      <th>498</th>\n",
       "      <td>8.28</td>\n",
       "      <td>3.58</td>\n",
       "      <td>3.54</td>\n",
       "      <td>1.89</td>\n",
       "    </tr>\n",
       "    <tr>\n",
       "      <th>499</th>\n",
       "      <td>2.63</td>\n",
       "      <td>4.13</td>\n",
       "      <td>0.75</td>\n",
       "      <td>1.32</td>\n",
       "    </tr>\n",
       "  </tbody>\n",
       "</table>\n",
       "<p>500 rows × 4 columns</p>\n",
       "</div>"
      ],
      "text/plain": [
       "        A     B     C     D\n",
       "0    0.23  5.85  6.68  3.09\n",
       "1    9.28  4.21  2.35  0.34\n",
       "2    0.44  4.72  6.87  0.81\n",
       "3    4.78  5.90  6.70  3.36\n",
       "4    0.88  2.72  1.25  7.62\n",
       "..    ...   ...   ...   ...\n",
       "495  1.41  4.39  0.76  0.63\n",
       "496  0.06  0.63  6.83  8.00\n",
       "497  9.62  6.90  2.41  7.63\n",
       "498  8.28  3.58  3.54  1.89\n",
       "499  2.63  4.13  0.75  1.32\n",
       "\n",
       "[500 rows x 4 columns]"
      ]
     },
     "execution_count": 3,
     "metadata": {},
     "output_type": "execute_result"
    }
   ],
   "source": [
    "colunas = 'A B C D'.split()\n",
    "dados = np.random.randint(0, 1000, 2000).reshape(500, 4) / 100\n",
    "df = pd.DataFrame(dados, columns=colunas)\n",
    "df"
   ]
  },
  {
   "cell_type": "code",
   "execution_count": 4,
   "id": "714ea7b5-eab1-4b0f-9581-48f42da4cfea",
   "metadata": {},
   "outputs": [
    {
     "data": {
      "text/html": [
       "<div>\n",
       "<style scoped>\n",
       "    .dataframe tbody tr th:only-of-type {\n",
       "        vertical-align: middle;\n",
       "    }\n",
       "\n",
       "    .dataframe tbody tr th {\n",
       "        vertical-align: top;\n",
       "    }\n",
       "\n",
       "    .dataframe thead th {\n",
       "        text-align: right;\n",
       "    }\n",
       "</style>\n",
       "<table border=\"1\" class=\"dataframe\">\n",
       "  <thead>\n",
       "    <tr style=\"text-align: right;\">\n",
       "      <th></th>\n",
       "      <th>B</th>\n",
       "      <th>D</th>\n",
       "    </tr>\n",
       "  </thead>\n",
       "  <tbody>\n",
       "    <tr>\n",
       "      <th>B</th>\n",
       "      <td>1.00000</td>\n",
       "      <td>-0.02689</td>\n",
       "    </tr>\n",
       "    <tr>\n",
       "      <th>D</th>\n",
       "      <td>-0.02689</td>\n",
       "      <td>1.00000</td>\n",
       "    </tr>\n",
       "  </tbody>\n",
       "</table>\n",
       "</div>"
      ],
      "text/plain": [
       "         B        D\n",
       "B  1.00000 -0.02689\n",
       "D -0.02689  1.00000"
      ]
     },
     "execution_count": 4,
     "metadata": {},
     "output_type": "execute_result"
    }
   ],
   "source": [
    "df[['B', 'D']].corr()"
   ]
  },
  {
   "cell_type": "markdown",
   "id": "1f63b329-e8f2-44dd-9878-da8a45079a67",
   "metadata": {},
   "source": [
    "Coeficiente de Correlação (por padrão é o de Pearson) entre os dados das colunas B e D."
   ]
  },
  {
   "cell_type": "code",
   "execution_count": 7,
   "id": "2c78ae4f-3102-4ba0-8910-6a84738b5682",
   "metadata": {},
   "outputs": [
    {
     "data": {
      "text/html": [
       "<div>\n",
       "<style scoped>\n",
       "    .dataframe tbody tr th:only-of-type {\n",
       "        vertical-align: middle;\n",
       "    }\n",
       "\n",
       "    .dataframe tbody tr th {\n",
       "        vertical-align: top;\n",
       "    }\n",
       "\n",
       "    .dataframe thead th {\n",
       "        text-align: right;\n",
       "    }\n",
       "</style>\n",
       "<table border=\"1\" class=\"dataframe\">\n",
       "  <thead>\n",
       "    <tr style=\"text-align: right;\">\n",
       "      <th></th>\n",
       "      <th>A</th>\n",
       "      <th>C</th>\n",
       "      <th>D</th>\n",
       "    </tr>\n",
       "  </thead>\n",
       "  <tbody>\n",
       "    <tr>\n",
       "      <th>A</th>\n",
       "      <td>1.000000</td>\n",
       "      <td>0.066185</td>\n",
       "      <td>0.019956</td>\n",
       "    </tr>\n",
       "    <tr>\n",
       "      <th>C</th>\n",
       "      <td>0.066185</td>\n",
       "      <td>1.000000</td>\n",
       "      <td>0.020542</td>\n",
       "    </tr>\n",
       "    <tr>\n",
       "      <th>D</th>\n",
       "      <td>0.019956</td>\n",
       "      <td>0.020542</td>\n",
       "      <td>1.000000</td>\n",
       "    </tr>\n",
       "  </tbody>\n",
       "</table>\n",
       "</div>"
      ],
      "text/plain": [
       "          A         C         D\n",
       "A  1.000000  0.066185  0.019956\n",
       "C  0.066185  1.000000  0.020542\n",
       "D  0.019956  0.020542  1.000000"
      ]
     },
     "execution_count": 7,
     "metadata": {},
     "output_type": "execute_result"
    }
   ],
   "source": [
    "df[['A', 'C', 'D']].corr(method='kendall')"
   ]
  },
  {
   "cell_type": "markdown",
   "id": "6bce9db2-ce57-4c57-85f5-e5eba2ae48be",
   "metadata": {},
   "source": [
    "Matriz de correlação entre os dados das colunas A,C e D com os coeficientes de Kendall."
   ]
  },
  {
   "cell_type": "code",
   "execution_count": null,
   "id": "20871465-6e55-4077-8e93-26480250f27a",
   "metadata": {},
   "outputs": [],
   "source": []
  }
 ],
 "metadata": {
  "kernelspec": {
   "display_name": "Python 3 (ipykernel)",
   "language": "python",
   "name": "python3"
  },
  "language_info": {
   "codemirror_mode": {
    "name": "ipython",
    "version": 3
   },
   "file_extension": ".py",
   "mimetype": "text/x-python",
   "name": "python",
   "nbconvert_exporter": "python",
   "pygments_lexer": "ipython3",
   "version": "3.11.5"
  }
 },
 "nbformat": 4,
 "nbformat_minor": 5
}
