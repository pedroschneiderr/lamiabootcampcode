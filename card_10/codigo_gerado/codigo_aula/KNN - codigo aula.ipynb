{
 "cells": [
  {
   "cell_type": "markdown",
   "id": "46a3d165-284f-431a-9170-61db98bb3ccc",
   "metadata": {},
   "source": [
    "# Objetivo"
   ]
  },
  {
   "cell_type": "markdown",
   "id": "d724ce7f-1e1a-4769-8663-2823b30c7b68",
   "metadata": {},
   "source": [
    "Prever a avaliação média de um filme baseado na popularidade dos 10 filmes mais próximos (em termos de gênero e popularidade)."
   ]
  },
  {
   "cell_type": "markdown",
   "id": "497b9ba3-efd9-4b24-b5cf-934258168a14",
   "metadata": {},
   "source": [
    "## Preparando os datasets"
   ]
  },
  {
   "cell_type": "markdown",
   "id": "d2c97992-2a28-4a2e-a802-8e0ceba8d5fc",
   "metadata": {},
   "source": [
    "### Data Frame de avaliações"
   ]
  },
  {
   "cell_type": "code",
   "execution_count": 1,
   "id": "5a4704a2-ffef-4a33-b839-278c15930cb9",
   "metadata": {},
   "outputs": [
    {
     "data": {
      "text/html": [
       "<div>\n",
       "<style scoped>\n",
       "    .dataframe tbody tr th:only-of-type {\n",
       "        vertical-align: middle;\n",
       "    }\n",
       "\n",
       "    .dataframe tbody tr th {\n",
       "        vertical-align: top;\n",
       "    }\n",
       "\n",
       "    .dataframe thead th {\n",
       "        text-align: right;\n",
       "    }\n",
       "</style>\n",
       "<table border=\"1\" class=\"dataframe\">\n",
       "  <thead>\n",
       "    <tr style=\"text-align: right;\">\n",
       "      <th></th>\n",
       "      <th>user_id</th>\n",
       "      <th>movie_id</th>\n",
       "      <th>rating</th>\n",
       "    </tr>\n",
       "  </thead>\n",
       "  <tbody>\n",
       "    <tr>\n",
       "      <th>0</th>\n",
       "      <td>0</td>\n",
       "      <td>50</td>\n",
       "      <td>5</td>\n",
       "    </tr>\n",
       "    <tr>\n",
       "      <th>1</th>\n",
       "      <td>0</td>\n",
       "      <td>172</td>\n",
       "      <td>5</td>\n",
       "    </tr>\n",
       "    <tr>\n",
       "      <th>2</th>\n",
       "      <td>0</td>\n",
       "      <td>133</td>\n",
       "      <td>1</td>\n",
       "    </tr>\n",
       "    <tr>\n",
       "      <th>3</th>\n",
       "      <td>196</td>\n",
       "      <td>242</td>\n",
       "      <td>3</td>\n",
       "    </tr>\n",
       "    <tr>\n",
       "      <th>4</th>\n",
       "      <td>186</td>\n",
       "      <td>302</td>\n",
       "      <td>3</td>\n",
       "    </tr>\n",
       "  </tbody>\n",
       "</table>\n",
       "</div>"
      ],
      "text/plain": [
       "   user_id  movie_id  rating\n",
       "0        0        50       5\n",
       "1        0       172       5\n",
       "2        0       133       1\n",
       "3      196       242       3\n",
       "4      186       302       3"
      ]
     },
     "execution_count": 1,
     "metadata": {},
     "output_type": "execute_result"
    }
   ],
   "source": [
    "import pandas as pd\n",
    "r_cols = ['user_id', 'movie_id', 'rating'] #colunas que serão usadas no Data Frame\n",
    "ratings = pd.read_csv('../../dependencias/arquivos_de_codigo/u.data', sep='\\t', names=r_cols, usecols=range(3))\n",
    "#define um DF a partir do csv u.data, tomando o separador com um tab e as colunas como sendo as 3 primeiras da tabela csv\n",
    "ratings.head()"
   ]
  },
  {
   "cell_type": "markdown",
   "id": "ae07d8a3-5953-4823-b469-74c6c63af917",
   "metadata": {},
   "source": [
    "Como estamos interessados nas avaliações dos filmes, vamos agregar as informações da coluna 'rating' e agrupar por filme (movie_id):"
   ]
  },
  {
   "cell_type": "code",
   "execution_count": 2,
   "id": "7b16284f-4db1-4917-a321-1de1895ff6cb",
   "metadata": {},
   "outputs": [
    {
     "data": {
      "text/html": [
       "<div>\n",
       "<style scoped>\n",
       "    .dataframe tbody tr th:only-of-type {\n",
       "        vertical-align: middle;\n",
       "    }\n",
       "\n",
       "    .dataframe tbody tr th {\n",
       "        vertical-align: top;\n",
       "    }\n",
       "\n",
       "    .dataframe thead tr th {\n",
       "        text-align: left;\n",
       "    }\n",
       "\n",
       "    .dataframe thead tr:last-of-type th {\n",
       "        text-align: right;\n",
       "    }\n",
       "</style>\n",
       "<table border=\"1\" class=\"dataframe\">\n",
       "  <thead>\n",
       "    <tr>\n",
       "      <th></th>\n",
       "      <th colspan=\"2\" halign=\"left\">rating</th>\n",
       "    </tr>\n",
       "    <tr>\n",
       "      <th></th>\n",
       "      <th>size</th>\n",
       "      <th>mean</th>\n",
       "    </tr>\n",
       "    <tr>\n",
       "      <th>movie_id</th>\n",
       "      <th></th>\n",
       "      <th></th>\n",
       "    </tr>\n",
       "  </thead>\n",
       "  <tbody>\n",
       "    <tr>\n",
       "      <th>1</th>\n",
       "      <td>452</td>\n",
       "      <td>3.878319</td>\n",
       "    </tr>\n",
       "    <tr>\n",
       "      <th>2</th>\n",
       "      <td>131</td>\n",
       "      <td>3.206107</td>\n",
       "    </tr>\n",
       "    <tr>\n",
       "      <th>3</th>\n",
       "      <td>90</td>\n",
       "      <td>3.033333</td>\n",
       "    </tr>\n",
       "    <tr>\n",
       "      <th>4</th>\n",
       "      <td>209</td>\n",
       "      <td>3.550239</td>\n",
       "    </tr>\n",
       "    <tr>\n",
       "      <th>5</th>\n",
       "      <td>86</td>\n",
       "      <td>3.302326</td>\n",
       "    </tr>\n",
       "  </tbody>\n",
       "</table>\n",
       "</div>"
      ],
      "text/plain": [
       "         rating          \n",
       "           size      mean\n",
       "movie_id                 \n",
       "1           452  3.878319\n",
       "2           131  3.206107\n",
       "3            90  3.033333\n",
       "4           209  3.550239\n",
       "5            86  3.302326"
      ]
     },
     "execution_count": 2,
     "metadata": {},
     "output_type": "execute_result"
    }
   ],
   "source": [
    "import numpy as np\n",
    "\n",
    "movieProperties = ratings.groupby('movie_id').agg({'rating':[np.size, 'mean']})\n",
    "#usa multiindex para criar \"subcolunas\" com o total e a media das avaliações por movie_id, informações que serão usadas depois\n",
    "movieProperties.head()"
   ]
  },
  {
   "cell_type": "markdown",
   "id": "8cc74e60-e0b9-4924-aa67-6844cf6bf4e7",
   "metadata": {},
   "source": [
    "O valor absoluto de avaliações (linhas da coluna \"size\") não são tão úteis para medir popularidade, já que esta é uma qualidade de proporção. Portanto, é necessário normalizar esses valores."
   ]
  },
  {
   "cell_type": "code",
   "execution_count": 3,
   "id": "d645b9dc-802f-48f7-8a32-29912618d1bc",
   "metadata": {},
   "outputs": [
    {
     "data": {
      "text/html": [
       "<div>\n",
       "<style scoped>\n",
       "    .dataframe tbody tr th:only-of-type {\n",
       "        vertical-align: middle;\n",
       "    }\n",
       "\n",
       "    .dataframe tbody tr th {\n",
       "        vertical-align: top;\n",
       "    }\n",
       "\n",
       "    .dataframe thead th {\n",
       "        text-align: right;\n",
       "    }\n",
       "</style>\n",
       "<table border=\"1\" class=\"dataframe\">\n",
       "  <thead>\n",
       "    <tr style=\"text-align: right;\">\n",
       "      <th></th>\n",
       "      <th>size</th>\n",
       "    </tr>\n",
       "    <tr>\n",
       "      <th>movie_id</th>\n",
       "      <th></th>\n",
       "    </tr>\n",
       "  </thead>\n",
       "  <tbody>\n",
       "    <tr>\n",
       "      <th>1</th>\n",
       "      <td>0.773585</td>\n",
       "    </tr>\n",
       "    <tr>\n",
       "      <th>2</th>\n",
       "      <td>0.222985</td>\n",
       "    </tr>\n",
       "    <tr>\n",
       "      <th>3</th>\n",
       "      <td>0.152659</td>\n",
       "    </tr>\n",
       "    <tr>\n",
       "      <th>4</th>\n",
       "      <td>0.356775</td>\n",
       "    </tr>\n",
       "    <tr>\n",
       "      <th>5</th>\n",
       "      <td>0.145798</td>\n",
       "    </tr>\n",
       "  </tbody>\n",
       "</table>\n",
       "</div>"
      ],
      "text/plain": [
       "              size\n",
       "movie_id          \n",
       "1         0.773585\n",
       "2         0.222985\n",
       "3         0.152659\n",
       "4         0.356775\n",
       "5         0.145798"
      ]
     },
     "execution_count": 3,
     "metadata": {},
     "output_type": "execute_result"
    }
   ],
   "source": [
    "movieNumRatings = pd.DataFrame(movieProperties['rating']['size'])\n",
    "#separa o número total de avaliações de cada filme (cada movie_id) num DF\n",
    "movieNormalizedNumRatings = movieNumRatings.apply(lambda x: (x - np.min(x))/(np.max(x) - np.min(x)))\n",
    "#aplica a função lambda na coluna de 'size' de movieNumRatings\n",
    "#normaliza a partir da amplitude do dataset (filme mais avaliado - menos avaliado)\n",
    "#gera floats de 0 a 1, quanto mais próximo de 0, menos popular, e quanto mais próximo de 1, mais popular\n",
    "movieNormalizedNumRatings.head()"
   ]
  },
  {
   "cell_type": "markdown",
   "id": "c5fb0d50-e85d-432c-b9a3-3524dbdde81e",
   "metadata": {},
   "source": [
    "Para se estimar a avaliação do filme, será necessário comparar seus gêneros e popularidade com todos os outros para calcular a distância. Para isso, será útil a criação de um dicionário contendo essas informações filme por filme, o que é feito no bloco de código abaixo:"
   ]
  },
  {
   "cell_type": "code",
   "execution_count": 4,
   "id": "2f44b477-c11a-40e2-8a50-816506fc1849",
   "metadata": {},
   "outputs": [],
   "source": [
    "movieDict = {}\n",
    "with open(r'../../dependencias/arquivos_de_codigo/u.item', encoding='ISO-8859-1') as f:\n",
    "    for line in f:\n",
    "        fields = line.rstrip('\\n').split('|')\n",
    "        #separa os campos de cada registro por '|' e remove o trailing character de nova linha\n",
    "        movieID = int(fields[0])\n",
    "        #a ID do filme é a primeira secção do registro\n",
    "        name = fields[1]\n",
    "        #o nome é a segunda\n",
    "        genres = fields[5:25]\n",
    "        #os há 19 campos de 0s e 1s que indicam se um filme faz parte ou não do gênero referente aquele campo\n",
    "        genres = map(int, genres) #converte os 0s e 1s, que vem em formato de string, para inteiro\n",
    "        #movieDict[movieID] = (name, np.array(list(genres)), movieNormalizedNumRatings.loc[movieID].get('size'), movieProperties.loc[movieID].rating.get('mean'))\n",
    "        movieDict[movieID] = (name, np.array(list(genres)), movieNormalizedNumRatings.loc[movieID].get('size'), movieProperties.loc[movieID].rating.get('mean'))\n",
    "        #cria uma tupla como item de movieDict, com o nome, gêneros, popularidade, e a nota média das avaliações"
   ]
  },
  {
   "cell_type": "markdown",
   "id": "ee6084c9-fbe5-4e64-bb6f-642b75440bec",
   "metadata": {},
   "source": [
    "Agora que temos as informações sobre filme, seus generos e sua popularidade (número de avaliações normalizado) facilmente acessíveis e relacionáveis em um dicionário, podemos escrever uma função para calcular a distância entre dois filmes (itens de movieDict) baseando-se em seus gêneros e popularidade:"
   ]
  },
  {
   "cell_type": "code",
   "execution_count": 5,
   "id": "5aac4b3a-c551-4ed9-be1a-5d2daca1305d",
   "metadata": {},
   "outputs": [
    {
     "data": {
      "text/plain": [
       "0.8004574042309892"
      ]
     },
     "execution_count": 5,
     "metadata": {},
     "output_type": "execute_result"
    }
   ],
   "source": [
    "from scipy import spatial #pacote com funções para calculos espaciais com diferentes estruturas dados\n",
    "\n",
    "def ComputeDistance(a, b): #a e b são itens do dicionario movieDict\n",
    "    genresA = a[1] #campo 1 da tupla é o array com as flags de gênero do filme\n",
    "    genresB = b[1]\n",
    "    genreDistance = spatial.distance.cosine(genresA, genresB)\n",
    "    #calcula o cosseno entre os vetores genresA e genresB. Como possuem apenas valores não negativos, o resultado é entre 0 e 1\n",
    "    #quanto mais proximo de 0, mais proximos de paralelos são os vetores, e quanto mais proximo de 1, mais proximos de ortogonais\n",
    "    #portanto, quanto menor, mais parecidos e menor a distancia entre os generos dos filmes\n",
    "    popularityA = a[2] #campo 2 da tupla é o da popularidade (número de avaliações normalizado)\n",
    "    popularityB = b[2]\n",
    "    popularityDistance = abs(popularityA - popularityB) #a distancia entre as popularidades será apenas a diferença algébrica entre elas\n",
    "    return genreDistance + popularityDistance #a distancia total entre dois filmes será a soma das distancias de genero e popularidade\n",
    "    #quanto maior essa soma, mais distantes são os filmes\n",
    "\n",
    "ComputeDistance(movieDict[2], movieDict[4]) #testando a função "
   ]
  },
  {
   "cell_type": "code",
   "execution_count": 6,
   "id": "e5307084-16a0-4a54-9c0e-665ada19ba18",
   "metadata": {},
   "outputs": [
    {
     "name": "stdout",
     "output_type": "stream",
     "text": [
      "('GoldenEye (1995)', array([0, 1, 1, 0, 0, 0, 0, 0, 0, 0, 0, 0, 0, 0, 0, 0, 1, 0, 0]), 0.22298456260720412, 3.2061068702290076)\n",
      "('Get Shorty (1995)', array([0, 1, 0, 0, 0, 1, 0, 0, 1, 0, 0, 0, 0, 0, 0, 0, 0, 0, 0]), 0.3567753001715266, 3.550239234449761)\n"
     ]
    }
   ],
   "source": [
    "print(movieDict[2])\n",
    "print(movieDict[4])"
   ]
  },
  {
   "cell_type": "markdown",
   "id": "e956c7d7-3b23-4cc6-9cb6-6e6d7c2d2b05",
   "metadata": {},
   "source": [
    "A função ComputeDistance retornou um valor que indica que os filmes são consideravelmente diferentes.\n",
    "E, de fato, um é de ação, e o outro é de comédia. Além disso, o filme 4 é aproximadametne 13 pp mais popular."
   ]
  },
  {
   "cell_type": "markdown",
   "id": "a132223c-1238-4f9c-8e01-35cb37d2afaf",
   "metadata": {},
   "source": [
    "Agora, podendo calcular a distância entre os filmes, podemos capturar os 10 filmes mais próximos de um filme teste, e prever sua nota média calculando a média das avaliações desses 10 filmes."
   ]
  },
  {
   "cell_type": "code",
   "execution_count": 7,
   "id": "eee6209f-1b3b-49ef-8039-8221094efd04",
   "metadata": {},
   "outputs": [
    {
     "name": "stdout",
     "output_type": "stream",
     "text": [
      "Liar Liar (1997) 3.156701030927835\n",
      "Aladdin (1992) 3.8127853881278537\n",
      "Willy Wonka and the Chocolate Factory (1971) 3.6319018404907975\n",
      "Monty Python and the Holy Grail (1974) 4.0664556962025316\n",
      "Full Monty, The (1997) 3.926984126984127\n",
      "George of the Jungle (1997) 2.685185185185185\n",
      "Beavis and Butt-head Do America (1996) 2.7884615384615383\n",
      "Birdcage, The (1996) 3.4436860068259385\n",
      "Home Alone (1990) 3.0875912408759123\n",
      "Aladdin and the King of Thieves (1996) 2.8461538461538463\n"
     ]
    }
   ],
   "source": [
    "import operator #biblioteca com a função itemgetter, que será usada para acessar uma informação numa tupla\n",
    "\n",
    "def getNeighbors(movieID, K): #retorna uma lista com as IDs dos K filmes mais próximos do filme de ID movieID\n",
    "    distances = []\n",
    "    for movie in movieDict: #itera por todos os itens de movieDict para calcular a distancia do filme com todos os outros\n",
    "        if (movie != movieID): #verificar se o filme da iteração não é o de referência, comparando as IDs (que são as chaves do dict)\n",
    "            dist = ComputeDistance(movieDict[movieID], movieDict[movie]) #calcula a distancia entre os filmes\n",
    "            distances.append((movie, dist)) #adiciona a distancia e o ID do filme para o qual é essa distancia, em uma tupla\n",
    "    distances.sort(key=operator.itemgetter(1))\n",
    "    #parametro key recebe uma função a ser aplicada em cada elemento da lista e o valor retornado ser a referencia para a ordenação\n",
    "    #a chamada itemgetter(x) gera uma função que sempre pega o elemento de index x do objeto passado como argumento\n",
    "    #no fim, essa linha ordena a lista de distancias crescentemente pelo parâmetro de distancia de cada tupla\n",
    "    neighbors = []\n",
    "    for x in range(K): #adiciona à lista neighbors a ID dos K filmes de menor distancia\n",
    "        neighbors.append(distances[x][0])\n",
    "    return neighbors #retorna a lista com os K vizinhos mais proximos do filme de ID movieID\n",
    "\n",
    "#testando usando o filme Toy Story de referência:\n",
    "K = 10\n",
    "avgRating = 0\n",
    "neighbors = getNeighbors(1, K)\n",
    "for neighbor in neighbors:\n",
    "    avgRating += movieDict[neighbor][3] / K #calcula a media das notas dos vizinhos, que será a previsao para a media de Toy Story\n",
    "    print(f'{movieDict[neighbor][0]} {movieDict[neighbor][3]}') #imprime o nome do vizinho com sua nota média"
   ]
  },
  {
   "cell_type": "markdown",
   "id": "e1bc6dbd-bf8c-4d08-badd-1aa026b8e579",
   "metadata": {},
   "source": [
    "Toy Story é um filme infantil, de comédia e popular, o que também pode ser dito desses 10 filmes."
   ]
  },
  {
   "cell_type": "code",
   "execution_count": 8,
   "id": "3a8ea7ab-8cb8-4ae2-b0c1-7457ba88b40a",
   "metadata": {},
   "outputs": [
    {
     "name": "stdout",
     "output_type": "stream",
     "text": [
      "Predição da nota média de Toy Story: 3.344590590023556\n",
      "A nota, de fato: 3.8783185840707963\n",
      "Erro relativo de: 13.761839892147897%\n"
     ]
    }
   ],
   "source": [
    "print(f'Predição da nota média de Toy Story: {avgRating}\\nA nota, de fato: {movieDict[1][3]}')\n",
    "print(f'Erro relativo de: {100 * (abs(avgRating - movieDict[1][3])/movieDict[1][3])}%')"
   ]
  },
  {
   "cell_type": "markdown",
   "id": "01e6be9e-335f-4536-a057-f0f49cd99adc",
   "metadata": {},
   "source": [
    "Como podemos ver, a predição foi próxima do valor real, com um erro pouco maior que 10%."
   ]
  },
  {
   "cell_type": "markdown",
   "id": "0c1ef4b1-e84d-4a0a-bd22-5a1fe414818e",
   "metadata": {},
   "source": [
    "## Activity"
   ]
  },
  {
   "cell_type": "markdown",
   "id": "21d1007a-e442-4185-8a89-543ef68aaf90",
   "metadata": {},
   "source": [
    "Our choice of 10 for K was arbitrary - what effect do different K values have on the results?\n",
    "\n",
    "Our distance metric was also somewhat arbitrary - we just took the cosine distance between the genres and added it to the difference between the normalized popularity scores. Can you improve on that?"
   ]
  },
  {
   "cell_type": "code",
   "execution_count": null,
   "id": "97e66991-c553-47db-967d-8188b2a0dad9",
   "metadata": {},
   "outputs": [],
   "source": [
    "\n"
   ]
  }
 ],
 "metadata": {
  "kernelspec": {
   "display_name": "Python 3 (ipykernel)",
   "language": "python",
   "name": "python3"
  },
  "language_info": {
   "codemirror_mode": {
    "name": "ipython",
    "version": 3
   },
   "file_extension": ".py",
   "mimetype": "text/x-python",
   "name": "python",
   "nbconvert_exporter": "python",
   "pygments_lexer": "ipython3",
   "version": "3.11.5"
  }
 },
 "nbformat": 4,
 "nbformat_minor": 5
}
