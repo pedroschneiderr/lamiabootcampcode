{
 "cells": [
  {
   "cell_type": "markdown",
   "id": "a33e6623-0369-4426-80fb-b355566c72e1",
   "metadata": {},
   "source": [
    "# Objetivo"
   ]
  },
  {
   "cell_type": "markdown",
   "id": "0d4b6e16-c5c7-4bd2-bc9c-63fc2c407ba2",
   "metadata": {},
   "source": [
    "Usar o método de K-Fold Cross Validation para treinar um modelo que prevê a espécie de uma flor íris baseando-se nas medidas de suas pétalas de séptalas."
   ]
  },
  {
   "cell_type": "markdown",
   "id": "7f49303c-2d6e-4b27-b4d7-372f1ffb4c6d",
   "metadata": {},
   "source": [
    "# Código"
   ]
  },
  {
   "cell_type": "code",
   "execution_count": 1,
   "id": "b8b82197-8088-4efd-9c2b-77451f1b89be",
   "metadata": {},
   "outputs": [],
   "source": [
    "import numpy as np\n",
    "from sklearn.model_selection import train_test_split #função que faz a partição do conjunto de dados em conjuntos de treino e teste\n",
    "from sklearn.model_selection import cross_val_score #função que realiza a K-Fold Cross validation\n",
    "from sklearn import datasets #importa os datasets padrões do sklearn para aprendizado\n",
    "from sklearn import svm #pacote que cria modelos do tipo Support Vector Machine\n",
    "\n",
    "iris = datasets.load_iris() #carrega o dataset das flores"
   ]
  },
  {
   "cell_type": "markdown",
   "id": "beea90db-18c7-449e-8b29-fbffb0eab6ca",
   "metadata": {},
   "source": [
    "É possível fazer uma única separação de conjuntos de dados para treino e teste através da train_test_split:"
   ]
  },
  {
   "cell_type": "code",
   "execution_count": 11,
   "id": "6fb876ec-c8de-47cc-9318-b13c78c68e18",
   "metadata": {},
   "outputs": [
    {
     "data": {
      "text/plain": [
       "0.9666666666666667"
      ]
     },
     "execution_count": 11,
     "metadata": {},
     "output_type": "execute_result"
    }
   ],
   "source": [
    "X_train, X_test, y_train, y_test = train_test_split(iris.data, iris.target, test_size=0.4, random_state=0)\n",
    "#iris.data contem as medidas das flores\n",
    "#X_train contem 60% dos dados de iris.data, X_test contém 40%, como especificado no parâmetro test_size\n",
    "#iris.target contem as classificações corretas para cada flor em iris.data\n",
    "#y_train contem 60% dos dados de iris.data, y_test contém 40%\n",
    "#random_state garante que os dados são separados sempre do mesmo jeito, garantindo reprodutibilidade resultados\n",
    "\n",
    "clf = svm.SVC(kernel=\"linear\", C=1).fit(X_train, y_train)\n",
    "#svc é uma implementação do svm \n",
    "#o kernel é o conjunto de funções matemáticas usadas pelo modelo na definição dos hiperplanos e classificação dos dados\n",
    "#C é o parâmetro de regularização, quanto maior ele é menor é a margem dos hiperplanos e mais enviesada é a classificação, quanto menor ele é maior é a margem e maior é a variância das classificações\n",
    "#método fit encaixa (treina) o modelo nos dados de treino passados\n",
    "\n",
    "clf.score(X_test, y_test) #método score testa a acurácia do modelo com os dados de teste passados\n",
    "#o modelo clf tenta prever a classificação dos elementos de X_test e o y_test são as classificações (respostas) corretas"
   ]
  },
  {
   "cell_type": "markdown",
   "id": "2a1fa0ff-01aa-402a-af86-ee5e2edd5a73",
   "metadata": {},
   "source": [
    "O método score retornou uma acurácia de ~96% para o modelo clf"
   ]
  },
  {
   "cell_type": "markdown",
   "id": "f4a80672-f5f0-47ab-ba07-13217980d0d2",
   "metadata": {},
   "source": [
    "Agora, vamos tentar criar um modelo com o mesmo objetivo, mas usando K-Fold Cross Validation:"
   ]
  },
  {
   "cell_type": "code",
   "execution_count": 10,
   "id": "6c89391d-2647-4263-a028-ab944779f042",
   "metadata": {},
   "outputs": [
    {
     "name": "stdout",
     "output_type": "stream",
     "text": [
      "[0.96666667 1.         0.96666667 0.96666667 1.        ]\n",
      "0.9800000000000001\n"
     ]
    }
   ],
   "source": [
    "clf2 = svm.SVC(kernel=\"linear\", C=1)\n",
    "scores = cross_val_score(clf2, iris.data, iris.target, cv=5)\n",
    "#clf2 é o modelo SVM que será treinado\n",
    "#o parâmetro cv determina o número de partições dos dados de data e target\n",
    "#o modelo será treinado com 5 combinações diferentes de partições e testado com 5 partições diferentes também\n",
    "print(scores)\n",
    "print(scores.mean()) #a média dos scores de cada teste é a acurácia final do nosso modelo"
   ]
  },
  {
   "cell_type": "markdown",
   "id": "6a8e0f41-7e87-47f1-85e9-31896bb9be1c",
   "metadata": {},
   "source": [
    "Ou seja, o modelo treinado com a K-Fold Cross Validation se mostrou mais preciso que o treinado apenas com 1 divisão de dados treino/teste."
   ]
  },
  {
   "cell_type": "markdown",
   "id": "a0e545a7-1da6-42b8-99df-0fab31c6f355",
   "metadata": {},
   "source": [
    "Agora vamos tentar aumentar essa precisão utilizado um kernel (conjunto de funções matemáticas) mais sofisiticado para determinar os hiperplanos. Usaremos o kernel polinomial:"
   ]
  },
  {
   "cell_type": "code",
   "execution_count": 18,
   "id": "91d36632-241e-43cf-8eef-459a994654b7",
   "metadata": {},
   "outputs": [
    {
     "name": "stdout",
     "output_type": "stream",
     "text": [
      "[0.96666667 1.         0.96666667 0.96666667 1.        ]\n",
      "0.9800000000000001\n"
     ]
    }
   ],
   "source": [
    "clf3 = svm.SVC(kernel=\"poly\", C=1)\n",
    "scores2 = cross_val_score(clf3, iris.data, iris.target, cv=5)\n",
    "print(scores2)\n",
    "print(scores2.mean())"
   ]
  },
  {
   "cell_type": "markdown",
   "id": "9d7acb13-148e-4933-ba20-cfc5f1d7e44d",
   "metadata": {},
   "source": [
    "Não houve mudança, ou seja, utilizamos um modelo mais complexo e não obtivemos vantagem. Possivelmente houve aumento na variância e diminuição no viés de forma equilibrada."
   ]
  },
  {
   "cell_type": "code",
   "execution_count": null,
   "id": "9cdbb908-c9ef-4b28-a7dd-93c831ded652",
   "metadata": {},
   "outputs": [],
   "source": []
  }
 ],
 "metadata": {
  "kernelspec": {
   "display_name": "Python 3 (ipykernel)",
   "language": "python",
   "name": "python3"
  },
  "language_info": {
   "codemirror_mode": {
    "name": "ipython",
    "version": 3
   },
   "file_extension": ".py",
   "mimetype": "text/x-python",
   "name": "python",
   "nbconvert_exporter": "python",
   "pygments_lexer": "ipython3",
   "version": "3.11.5"
  }
 },
 "nbformat": 4,
 "nbformat_minor": 5
}
