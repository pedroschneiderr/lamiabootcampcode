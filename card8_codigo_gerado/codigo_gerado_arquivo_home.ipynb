{
 "cells": [
  {
   "cell_type": "markdown",
   "id": "b666ae88-33f8-4c36-ae13-5b863fcbce8c",
   "metadata": {},
   "source": [
    "# Importando a Beutiful Soup e fazendo manipulações básicas no arquivo home.html"
   ]
  },
  {
   "cell_type": "code",
   "execution_count": 1,
   "id": "0f18e91f-5d12-404c-aa19-0a4708da94e3",
   "metadata": {},
   "outputs": [],
   "source": [
    "from bs4 import BeautifulSoup #importa a biblioteca Beautiful Soup da pasta bs4"
   ]
  },
  {
   "cell_type": "code",
   "execution_count": 2,
   "id": "6846ae81-1b46-4c83-837a-b2c9ea2047f8",
   "metadata": {},
   "outputs": [
    {
     "name": "stdout",
     "output_type": "stream",
     "text": [
      "<!DOCTYPE html>\n",
      "<html lang=\"en\">\n",
      " <head>\n",
      "  <meta charset=\"utf-8\"/>\n",
      "  <meta content=\"width=device-width, initial-scale=1, shrink-to-fit=no\" name=\"viewport\"/>\n",
      "  <link crossorigin=\"anonymous\" href=\"https://stackpath.bootstrapcdn.com/bootstrap/4.5.2/css/bootstrap.min.css\" integrity=\"sha384-JcKb8q3iqJ61gNV9KGb8thSsNjpSL0n8PARn9HuZOnIxN0hoP+VmmDGMN5t9UJ0Z\" rel=\"stylesheet\"/>\n",
      "  <title>\n",
      "   My Courses\n",
      "  </title>\n",
      " </head>\n",
      " <body>\n",
      "  <h1>\n",
      "   Hello, Start Learning!\n",
      "  </h1>\n",
      "  <div class=\"card\" id=\"card-python-for-beginners\">\n",
      "   <div class=\"card-header\">\n",
      "    Python\n",
      "   </div>\n",
      "   <div class=\"card-body\">\n",
      "    <h5 class=\"card-title\">\n",
      "     Python for beginners\n",
      "    </h5>\n",
      "    <p class=\"card-text\">\n",
      "     If you are new to Python, this is the course that you should buy!\n",
      "    </p>\n",
      "    <a class=\"btn btn-primary\" href=\"#\">\n",
      "     Start for 20$\n",
      "    </a>\n",
      "   </div>\n",
      "  </div>\n",
      "  <div class=\"card\" id=\"card-python-web-development\">\n",
      "   <div class=\"card-header\">\n",
      "    Python\n",
      "   </div>\n",
      "   <div class=\"card-body\">\n",
      "    <h5 class=\"card-title\">\n",
      "     Python Web Development\n",
      "    </h5>\n",
      "    <p class=\"card-text\">\n",
      "     If you feel enough confident with python, you are ready to learn how to create your own website!\n",
      "    </p>\n",
      "    <a class=\"btn btn-primary\" href=\"#\">\n",
      "     Start for 50$\n",
      "    </a>\n",
      "   </div>\n",
      "  </div>\n",
      "  <div class=\"card\" id=\"card-python-machine-learning\">\n",
      "   <div class=\"card-header\">\n",
      "    Python\n",
      "   </div>\n",
      "   <div class=\"card-body\">\n",
      "    <h5 class=\"card-title\">\n",
      "     Python Machine Learning\n",
      "    </h5>\n",
      "    <p class=\"card-text\">\n",
      "     Become a Python Machine Learning master!\n",
      "    </p>\n",
      "    <a class=\"btn btn-primary\" href=\"#\">\n",
      "     Start for 100$\n",
      "    </a>\n",
      "   </div>\n",
      "  </div>\n",
      " </body>\n",
      "</html>\n",
      "\n"
     ]
    }
   ],
   "source": [
    "with open('home.html', 'r') as html_file:\n",
    "    #abre um bloco de código com o arquivo home.html aberto no modo leitura (determinado pelo argumento 'r')\n",
    "    content = html_file.read() #lê o arquivo html e liga o conteudo à variável content\n",
    "    soup = BeautifulSoup(content, 'lxml') #cria uma instância do tipo Beautiful Soup com o conteudo de content parseado pelo método lxml\n",
    "    print(soup.prettify()) #método que retorna uma versão mais legível do conteudo da instancia soup"
   ]
  },
  {
   "cell_type": "code",
   "execution_count": 3,
   "id": "92e76c6f-df15-469c-9ef3-cdedcb225831",
   "metadata": {},
   "outputs": [
    {
     "name": "stdout",
     "output_type": "stream",
     "text": [
      "<!DOCTYPE html>\n",
      "<html lang=\"en\">\n",
      " <head>\n",
      "  <meta charset=\"utf-8\"/>\n",
      "  <meta content=\"width=device-width, initial-scale=1, shrink-to-fit=no\" name=\"viewport\"/>\n",
      "  <link crossorigin=\"anonymous\" href=\"https://stackpath.bootstrapcdn.com/bootstrap/4.5.2/css/bootstrap.min.css\" integrity=\"sha384-JcKb8q3iqJ61gNV9KGb8thSsNjpSL0n8PARn9HuZOnIxN0hoP+VmmDGMN5t9UJ0Z\" rel=\"stylesheet\"/>\n",
      "  <title>\n",
      "   My Courses\n",
      "  </title>\n",
      " </head>\n",
      " <body>\n",
      "  <h1>\n",
      "   Hello, Start Learning!\n",
      "  </h1>\n",
      "  <div class=\"card\" id=\"card-python-for-beginners\">\n",
      "   <div class=\"card-header\">\n",
      "    Python\n",
      "   </div>\n",
      "   <div class=\"card-body\">\n",
      "    <h5 class=\"card-title\">\n",
      "     Python for beginners\n",
      "    </h5>\n",
      "    <p class=\"card-text\">\n",
      "     If you are new to Python, this is the course that you should buy!\n",
      "    </p>\n",
      "    <a class=\"btn btn-primary\" href=\"#\">\n",
      "     Start for 20$\n",
      "    </a>\n",
      "   </div>\n",
      "  </div>\n",
      "  <div class=\"card\" id=\"card-python-web-development\">\n",
      "   <div class=\"card-header\">\n",
      "    Python\n",
      "   </div>\n",
      "   <div class=\"card-body\">\n",
      "    <h5 class=\"card-title\">\n",
      "     Python Web Development\n",
      "    </h5>\n",
      "    <p class=\"card-text\">\n",
      "     If you feel enough confident with python, you are ready to learn how to create your own website!\n",
      "    </p>\n",
      "    <a class=\"btn btn-primary\" href=\"#\">\n",
      "     Start for 50$\n",
      "    </a>\n",
      "   </div>\n",
      "  </div>\n",
      "  <div class=\"card\" id=\"card-python-machine-learning\">\n",
      "   <div class=\"card-header\">\n",
      "    Python\n",
      "   </div>\n",
      "   <div class=\"card-body\">\n",
      "    <h5 class=\"card-title\">\n",
      "     Python Machine Learning\n",
      "    </h5>\n",
      "    <p class=\"card-text\">\n",
      "     Become a Python Machine Learning master!\n",
      "    </p>\n",
      "    <a class=\"btn btn-primary\" href=\"#\">\n",
      "     Start for 100$\n",
      "    </a>\n",
      "   </div>\n",
      "  </div>\n",
      " </body>\n",
      "</html>\n",
      "\n"
     ]
    }
   ],
   "source": [
    "print(soup.prettify()) #método que retorna uma versão mais legível do conteudo da instancia soup"
   ]
  },
  {
   "cell_type": "code",
   "execution_count": 4,
   "id": "2f30e27c-4053-4106-bf66-8cda0529fa36",
   "metadata": {},
   "outputs": [
    {
     "data": {
      "text/plain": [
       "<h5 class=\"card-title\">Python for beginners</h5>"
      ]
     },
     "execution_count": 4,
     "metadata": {},
     "output_type": "execute_result"
    }
   ],
   "source": [
    "tags_h5 = soup.find('h5') #metodo que encontra e retorna o primeiro elemento de tag h5 na instancia soup\n",
    "tags_h5"
   ]
  },
  {
   "cell_type": "code",
   "execution_count": 5,
   "id": "424ec1be-7845-4e12-82ef-e344d4be15aa",
   "metadata": {},
   "outputs": [
    {
     "data": {
      "text/plain": [
       "[<h5 class=\"card-title\">Python for beginners</h5>,\n",
       " <h5 class=\"card-title\">Python Web Development</h5>,\n",
       " <h5 class=\"card-title\">Python Machine Learning</h5>]"
      ]
     },
     "execution_count": 5,
     "metadata": {},
     "output_type": "execute_result"
    }
   ],
   "source": [
    "all_tags_h5 = soup.find_all('h5') #metodo que encontra e retorna todos os elementos de tag h5 na instancia soup em forma de list\n",
    "all_tags_h5"
   ]
  },
  {
   "cell_type": "code",
   "execution_count": 6,
   "id": "4075887c-22b0-48ef-b06a-48cfb27250a0",
   "metadata": {},
   "outputs": [
    {
     "name": "stdout",
     "output_type": "stream",
     "text": [
      "Python for beginners\n",
      "Python Web Development\n",
      "Python Machine Learning\n"
     ]
    }
   ],
   "source": [
    "for tag in all_tags_h5: #itera sobre todas as tags na lista\n",
    "    print(tag.text) #retorna e imprime o conteudo de texto da tag"
   ]
  },
  {
   "cell_type": "markdown",
   "id": "495f1b81-0b87-407d-9b14-9e41adde6e25",
   "metadata": {},
   "source": [
    "# Encontrando e imprimindo o nome e o preço dos cursos em uma sentença personlizada"
   ]
  },
  {
   "cell_type": "code",
   "execution_count": 7,
   "id": "389f208f-4652-4db3-8341-f5457cb2a365",
   "metadata": {},
   "outputs": [
    {
     "data": {
      "text/plain": [
       "[<div class=\"card\" id=\"card-python-for-beginners\">\n",
       " <div class=\"card-header\">\n",
       "             Python\n",
       "          </div>\n",
       " <div class=\"card-body\">\n",
       " <h5 class=\"card-title\">Python for beginners</h5>\n",
       " <p class=\"card-text\">If you are new to Python, this is the course that you should buy!</p>\n",
       " <a class=\"btn btn-primary\" href=\"#\">Start for 20$</a>\n",
       " </div>\n",
       " </div>,\n",
       " <div class=\"card\" id=\"card-python-web-development\">\n",
       " <div class=\"card-header\">\n",
       "             Python\n",
       "          </div>\n",
       " <div class=\"card-body\">\n",
       " <h5 class=\"card-title\">Python Web Development</h5>\n",
       " <p class=\"card-text\">If you feel enough confident with python, you are ready to learn how to create your own website!</p>\n",
       " <a class=\"btn btn-primary\" href=\"#\">Start for 50$</a>\n",
       " </div>\n",
       " </div>,\n",
       " <div class=\"card\" id=\"card-python-machine-learning\">\n",
       " <div class=\"card-header\">\n",
       "             Python\n",
       "          </div>\n",
       " <div class=\"card-body\">\n",
       " <h5 class=\"card-title\">Python Machine Learning</h5>\n",
       " <p class=\"card-text\">Become a Python Machine Learning master!</p>\n",
       " <a class=\"btn btn-primary\" href=\"#\">Start for 100$</a>\n",
       " </div>\n",
       " </div>]"
      ]
     },
     "execution_count": 7,
     "metadata": {},
     "output_type": "execute_result"
    }
   ],
   "source": [
    "course_cards = soup.find_all('div', class_ = 'card') #cria uma lista com todos os elementos div de classe \"card\"\n",
    "course_cards"
   ]
  },
  {
   "cell_type": "code",
   "execution_count": 8,
   "id": "6ebbb210-5584-447b-97f0-37280af69f44",
   "metadata": {},
   "outputs": [
    {
     "name": "stdout",
     "output_type": "stream",
     "text": [
      "Python for beginners costs 20$\n",
      "Python Web Development costs 50$\n",
      "Python Machine Learning costs 100$\n"
     ]
    }
   ],
   "source": [
    "for card in course_cards:\n",
    "    course_name = card.h5.text #seleciona o elemento de tag h5 no div em card\n",
    "    course_price = card.a.text.split(' ')[-1]\n",
    "    #a ultima linha seleciona o texto no elemento de tag \"a\" dentro de card, o particiona por espaços em branco e seleciona o último elemento do particionamento, que é o valor do preço\n",
    "    print(f'{course_name} costs {course_price}') #usa uma fstring para imprimir a sentença formatada"
   ]
  },
  {
   "cell_type": "code",
   "execution_count": null,
   "id": "2ba34552-77e8-4e52-9220-3747d46dfa20",
   "metadata": {},
   "outputs": [],
   "source": []
  }
 ],
 "metadata": {
  "kernelspec": {
   "display_name": "Python 3 (ipykernel)",
   "language": "python",
   "name": "python3"
  },
  "language_info": {
   "codemirror_mode": {
    "name": "ipython",
    "version": 3
   },
   "file_extension": ".py",
   "mimetype": "text/x-python",
   "name": "python",
   "nbconvert_exporter": "python",
   "pygments_lexer": "ipython3",
   "version": "3.11.5"
  }
 },
 "nbformat": 4,
 "nbformat_minor": 5
}
